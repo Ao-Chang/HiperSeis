{
 "cells": [
  {
   "cell_type": "markdown",
   "metadata": {},
   "source": [
    "# Produce PDF report of network stations showing RF waveforms"
   ]
  },
  {
   "cell_type": "code",
   "execution_count": null,
   "metadata": {},
   "outputs": [],
   "source": [
    "# Imports\n",
    "import os\n",
    "# from collections import defaultdict\n",
    "\n",
    "import numpy as np\n",
    "import rf\n",
    "import rf.imaging"
   ]
  },
  {
   "cell_type": "code",
   "execution_count": null,
   "metadata": {},
   "outputs": [],
   "source": [
    "import importlib\n",
    "import seismic.receiver_fn.rf_util as rf_util\n",
    "import seismic.receiver_fn.rf_plot_utils as rf_plot_utils\n",
    "import seismic.receiver_fn.rf_stacking as rf_stacking"
   ]
  },
  {
   "cell_type": "code",
   "execution_count": null,
   "metadata": {},
   "outputs": [],
   "source": [
    "# importlib.reload(rf_plot_utils)\n",
    "# importlib.reload(rf_util)"
   ]
  },
  {
   "cell_type": "code",
   "execution_count": null,
   "metadata": {},
   "outputs": [],
   "source": [
    "from matplotlib.backends.backend_pdf import PdfPages\n",
    "import matplotlib.pyplot as plt"
   ]
  },
  {
   "cell_type": "markdown",
   "metadata": {},
   "source": [
    "## Read source file"
   ]
  },
  {
   "cell_type": "code",
   "execution_count": null,
   "metadata": {},
   "outputs": [],
   "source": [
    "rf_type = 'ZRT_td'"
   ]
  },
  {
   "cell_type": "code",
   "execution_count": null,
   "metadata": {},
   "outputs": [],
   "source": [
    "network = 'OA'\n",
    "# network = '7X'"
   ]
  },
  {
   "cell_type": "code",
   "execution_count": null,
   "metadata": {},
   "outputs": [],
   "source": [
    "src_file = r\"..\\DATA\\OA_rfs_20170911T000036-20181128T230620_{}_rev9_qual.h5\".format(rf_type)\n",
    "# src_file = r\"..\\DATA\\7X_rfs_20090616T034200-20110401T231849_{}_rev1_qual.h5\".format(rf_type)"
   ]
  },
  {
   "cell_type": "code",
   "execution_count": null,
   "metadata": {},
   "outputs": [],
   "source": [
    "data_all = rf_util.read_h5_rf(src_file)"
   ]
  },
  {
   "cell_type": "code",
   "execution_count": null,
   "metadata": {},
   "outputs": [],
   "source": [
    "# data_all[0].stats"
   ]
  },
  {
   "cell_type": "markdown",
   "metadata": {},
   "source": [
    "## Convert to hierarchical dictionary format"
   ]
  },
  {
   "cell_type": "code",
   "execution_count": null,
   "metadata": {},
   "outputs": [],
   "source": [
    "data_dict = rf_util.rf_to_dict(data_all)"
   ]
  },
  {
   "cell_type": "markdown",
   "metadata": {},
   "source": [
    "## Load event mask files if available"
   ]
  },
  {
   "cell_type": "code",
   "execution_count": null,
   "metadata": {},
   "outputs": [],
   "source": [
    "event_mask_path = r\"C:\\software\\hiperseis\\seismic\\receiver_fn\\DATA\\event_mask\""
   ]
  },
  {
   "cell_type": "code",
   "execution_count": null,
   "metadata": {},
   "outputs": [],
   "source": [
    "event_mask_dict = None\n",
    "if event_mask_path is not None:\n",
    "    import re\n",
    "    mask_files = os.listdir(event_mask_path)\n",
    "    mask_files = [f for f in mask_files if os.path.isfile(os.path.join(event_mask_path, f))]\n",
    "#     print(mask_files)\n",
    "    pattern = \"([A-Za-z0-9\\.]{5,})_event_mask\\.txt\"\n",
    "    pattern = re.compile(pattern)\n",
    "    event_mask_dict = dict()\n",
    "    for f in mask_files:\n",
    "        match_result = pattern.match(f)\n",
    "        if not match_result:\n",
    "            continue\n",
    "        code = match_result[1]\n",
    "#         print(code)\n",
    "        with open(os.path.join(event_mask_path, f), 'r') as f:\n",
    "            events = f.readlines()\n",
    "            events = [e.strip() for e in events]\n",
    "            event_mask_dict[code] = events\n",
    "        # end with\n",
    "    # end for\n",
    "# end if"
   ]
  },
  {
   "cell_type": "markdown",
   "metadata": {},
   "source": [
    "## Plot a few items interactively to check data"
   ]
  },
  {
   "cell_type": "code",
   "execution_count": null,
   "metadata": {},
   "outputs": [],
   "source": [
    "i = 0\n",
    "for st, station_db in data_dict.items():\n",
    "    i += 1\n",
    "    if i > 3:\n",
    "        break\n",
    "    channel = rf_util.choose_rf_source_channel(rf_type, station_db)\n",
    "    channel_data = station_db[channel]\n",
    "    full_code = '.'.join([network, st, channel])\n",
    "\n",
    "    t_channel = list(channel)\n",
    "    t_channel[-1] = 'T'\n",
    "    t_channel = ''.join(t_channel)\n",
    "\n",
    "    if event_mask_dict and full_code in event_mask_dict:\n",
    "        # Select events from external source\n",
    "        event_mask = event_mask_dict[full_code]\n",
    "        rf_stream = rf.RFStream([tr for tr in channel_data if tr.stats.event_id in event_mask]).sort(['back_azimuth'])\n",
    "    else:\n",
    "        rf_util.label_rf_quality_simple_amplitude(rf_type, channel_data)\n",
    "        rf_stream = rf.RFStream([tr for tr in channel_data if tr.stats.predicted_quality == 'a']).sort(['back_azimuth'])\n",
    "    # end if\n",
    "\n",
    "    # Find matching HHT channel data\n",
    "    events = [tr.stats.event_id for tr in rf_stream]\n",
    "    transverse_data = station_db[t_channel]\n",
    "    t_stream = rf.RFStream([tr for tr in transverse_data if tr.stats.event_id in events]).sort(['back_azimuth'])\n",
    "\n",
    "    # Plot to notebook\n",
    "    fig = rf_plot_utils.plot_rf_wheel([rf_stream, t_stream], layout=(1,2))\n",
    "    plt.show()\n",
    "    \n",
    "    fig = rf_plot_utils.plot_rf_stack(rf_stream)\n",
    "    plt.show()\n",
    "    \n",
    "    fig = rf_plot_utils.plot_rf_stack(t_stream)\n",
    "    plt.show()"
   ]
  },
  {
   "cell_type": "markdown",
   "metadata": {},
   "source": [
    "## Plot all data to PDF file"
   ]
  },
  {
   "cell_type": "code",
   "execution_count": null,
   "metadata": {},
   "outputs": [],
   "source": [
    "with PdfPages('{}_RF_summary_handpicked.pdf'.format(network)) as pdf:\n",
    "    plt.rc('text', usetex=False)  # Would like to use Tex, but lack desktop PC privileges to update packages to what is required\n",
    "    for st, station_db in data_dict.items():\n",
    "        # Choose RF channel\n",
    "        channel = rf_util.choose_rf_source_channel(rf_type, station_db)\n",
    "        channel_data = station_db[channel]\n",
    "        full_code = '.'.join([network, st, channel])\n",
    "\n",
    "        t_channel = list(channel)\n",
    "        t_channel[-1] = 'T'\n",
    "        t_channel = ''.join(t_channel)\n",
    "\n",
    "        if event_mask_dict and full_code in event_mask_dict:\n",
    "            # Select events from external source\n",
    "            event_mask = event_mask_dict[full_code]\n",
    "            rf_stream = rf.RFStream([tr for tr in channel_data if tr.stats.event_id in event_mask]).sort(['back_azimuth'])\n",
    "        else:\n",
    "            # Label and filter quality\n",
    "            rf_util.label_rf_quality_simple_amplitude(rf_type, channel_data)\n",
    "            rf_stream = rf.RFStream([tr for tr in channel_data if tr.stats.predicted_quality == 'a']).sort(['back_azimuth'])\n",
    "        # end if\n",
    "        if not rf_stream:\n",
    "            continue\n",
    "\n",
    "        # Find matching HHT channel data\n",
    "        events = [tr.stats.event_id for tr in rf_stream]\n",
    "        transverse_data = station_db[t_channel]\n",
    "        t_stream = rf.RFStream([tr for tr in transverse_data if tr.stats.event_id in events]).sort(['back_azimuth'])\n",
    "        if not t_stream:\n",
    "            continue\n",
    "\n",
    "        # Plot pinwheel of primary and transverse components\n",
    "        fig = rf_plot_utils.plot_rf_wheel([rf_stream, t_stream], fontscaling=0.8)\n",
    "        fig.set_size_inches(8.27, 11.69)\n",
    "        plt.tight_layout()\n",
    "        plt.subplots_adjust(hspace=0.15, top=0.95, bottom=0.15)\n",
    "        ax = fig.gca()\n",
    "        fig.text(-0.32, -0.32, \"\\n\".join(rf_stream[0].stats.processing), fontsize=6, transform=ax.transAxes)\n",
    "        pdf.savefig(dpi=300, papertype = 'a4', orientation = 'portrait')\n",
    "        plt.close()\n",
    "\n",
    "        # Plot RF stack of primary component\n",
    "        fig = rf_plot_utils.plot_rf_stack(rf_stream)\n",
    "        fig.set_size_inches(8.27, 11.69)\n",
    "        fig.suptitle(\"Channel {}\".format(rf_stream[0].stats.channel))\n",
    "        pdf.savefig(dpi=300, papertype = 'a4', orientation = 'portrait')\n",
    "        plt.close()\n",
    "\n",
    "        # Plot RF stack of transverse component\n",
    "        fig = rf_plot_utils.plot_rf_stack(t_stream)\n",
    "        fig.set_size_inches(8.27, 11.69)\n",
    "        fig.suptitle(\"Channel {}\".format(t_stream[0].stats.channel))\n",
    "        pdf.savefig(dpi=300, papertype = 'a4', orientation = 'portrait')\n",
    "        plt.close()\n",
    "    # end for\n",
    "# end with"
   ]
  },
  {
   "cell_type": "code",
   "execution_count": null,
   "metadata": {},
   "outputs": [],
   "source": []
  }
 ],
 "metadata": {
  "kernelspec": {
   "display_name": "Python 3",
   "language": "python",
   "name": "python3"
  },
  "language_info": {
   "codemirror_mode": {
    "name": "ipython",
    "version": 3
   },
   "file_extension": ".py",
   "mimetype": "text/x-python",
   "name": "python",
   "nbconvert_exporter": "python",
   "pygments_lexer": "ipython3",
   "version": "3.6.7"
  }
 },
 "nbformat": 4,
 "nbformat_minor": 4
}
