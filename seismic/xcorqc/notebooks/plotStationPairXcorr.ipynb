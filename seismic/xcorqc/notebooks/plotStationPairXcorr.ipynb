{
 "cells": [
  {
   "cell_type": "code",
   "execution_count": null,
   "metadata": {},
   "outputs": [],
   "source": [
    "import os\n",
    "import sys"
   ]
  },
  {
   "cell_type": "code",
   "execution_count": null,
   "metadata": {},
   "outputs": [],
   "source": [
    "import numpy as np\n",
    "import scipy\n",
    "import matplotlib.dates\n",
    "import matplotlib.pyplot as plt\n",
    "from collections import defaultdict\n",
    "import datetime\n",
    "import dateutil\n",
    "from dateutil import rrule"
   ]
  },
  {
   "cell_type": "code",
   "execution_count": null,
   "metadata": {},
   "outputs": [],
   "source": [
    "package_root = os.path.abspath('../../..')\n",
    "if package_root not in sys.path:\n",
    "    sys.path.append(package_root)\n",
    "from seismic.ASDFdatabase import FederatedASDFDataSet"
   ]
  },
  {
   "cell_type": "code",
   "execution_count": null,
   "metadata": {},
   "outputs": [],
   "source": [
    "import obspy\n",
    "from analytic_plot_utils import distance\n",
    "from netCDF4 import Dataset as NCDataset"
   ]
  },
  {
   "cell_type": "code",
   "execution_count": null,
   "metadata": {},
   "outputs": [],
   "source": [
    "# Imports for plotting\n",
    "from textwrap import wrap\n",
    "from scipy import signal\n",
    "from matplotlib.backends.backend_pdf import PdfPages\n",
    "from xcorr_station_clock_analysis import plotXcorrFile"
   ]
  },
  {
   "cell_type": "code",
   "execution_count": null,
   "metadata": {
    "scrolled": false
   },
   "outputs": [],
   "source": [
    "TIME_WINDOW = 300 # +/-\n",
    "# TIME_WINDOW = 120 # +/-\n",
    "# SNR_THRESHOLD = 10\n",
    "SNR_THRESHOLD = 6\n",
    "\n",
    "ds = FederatedASDFDataSet.FederatedASDFDataSet(\"/g/data/ha3/Passive/SHARED_DATA/Index/asdf_files.txt\")\n",
    "\n",
    "SRC_FILES = [\"/g/data/ha3/am7399/shared/xcorr/AU/ARMA_CMSA/AU.ARMA.AU.CMSA.nc\",\n",
    "             \"/g/data/ha3/am7399/shared/xcorr/AU/KAKA_MTN/AU.KAKA.AU.MTN.nc\",\n",
    "             \"/g/data/ha3/am7399/shared/xcorr/AU/MEEK_MORW/AU.MEEK.AU.MORW.nc\",\n",
    "             \"/g/data/ha3/am7399/shared/xcorr/AU/MOO_TOO/AU.MOO.AU.TOO.nc\",\n",
    "             \"/g/data/ha3/am7399/shared/xcorr/AU/MUN_NWAO/AU.MUN.AU.NWAO.nc\",\n",
    "             \"/g/data/ha3/am7399/shared/xcorr/AU/RKGY_NWAO/AU.RKGY.AU.NWAO.nc\",\n",
    "             \"/g/data/ha3/am7399/shared/xcorr/AU/HTT_STKA/AU.HTT.AU.STKA.nc\",\n",
    "             \"/g/data/ha3/am7399/shared/xcorr/AU/RMQ_EIDS/AU.RMQ.AU.EIDS.nc\",\n",
    "             \"/g/data/ha3/am7399/shared/xcorr/AU/YNG_CNB/AU.YNG.AU.CNB.nc\",\n",
    "             \"/g/data/ha3/am7399/shared/xcorr/AU/WC1_WC2/AU.WC1.AU.WC2.nc\"]\n",
    "# SRC_FILES = [\"/g/data/ha3/am7399/shared/xcorr/AU/YNG_CNB/AU.YNG.AU.CNB.nc\",\n",
    "#              \"/g/data/ha3/am7399/shared/xcorr/AU/WC1_WC2/AU.WC1.AU.WC2.nc\"]\n",
    "# SRC_FILES = [\"/g/data/ha3/am7399/shared/xcorr/AU/KAKA_MTN/AU.KAKA.AU.MTN.nc\"]\n",
    "# SRC_FILES = [\"/g/data/ha3/am7399/shared/xcorr/AU/MUN_NWAO/AU.MUN.AU.NWAO.nc\"]\n",
    "# SRC_FILES = [\"/g/data/ha3/am7399/shared/xcorr/AU/KAKA_MTN/AU.KAKA.AU.MTN.nc\",\n",
    "#              \"/g/data/ha3/am7399/shared/xcorr/AU/MUN_NWAO/AU.MUN.AU.NWAO.nc\"]\n",
    "\n",
    "save_plots = False\n",
    "underlay_rcf_xcorr = False\n",
    "for src_file in SRC_FILES:\n",
    "    if save_plots:\n",
    "        basename, _ = os.path.splitext(src_file)\n",
    "        png_file = basename + \".png\"\n",
    "        plotXcorrFile(src_file, ds, TIME_WINDOW, SNR_THRESHOLD, png_file=png_file, show=False,\n",
    "                      underlay_rcf_xcorr=underlay_rcf_xcorr)\n",
    "    else:\n",
    "        plotXcorrFile(src_file, ds, TIME_WINDOW, SNR_THRESHOLD, underlay_rcf_xcorr=underlay_rcf_xcorr)\n"
   ]
  },
  {
   "cell_type": "code",
   "execution_count": null,
   "metadata": {},
   "outputs": [],
   "source": []
  }
 ],
 "metadata": {
  "kernelspec": {
   "display_name": "Python 2",
   "language": "python",
   "name": "python2"
  },
  "language_info": {
   "codemirror_mode": {
    "name": "ipython",
    "version": 2
   },
   "file_extension": ".py",
   "mimetype": "text/x-python",
   "name": "python",
   "nbconvert_exporter": "python",
   "pygments_lexer": "ipython2",
   "version": "2.7.11"
  }
 },
 "nbformat": 4,
 "nbformat_minor": 2
}
