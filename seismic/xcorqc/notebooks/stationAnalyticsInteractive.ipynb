{
 "cells": [
  {
   "cell_type": "code",
   "execution_count": null,
   "metadata": {},
   "outputs": [],
   "source": [
    "%matplotlib inline\n",
    "\n",
    "import sys, os, math\n",
    "import numpy as np\n",
    "import scipy\n",
    "import glob\n",
    "from collections import defaultdict\n",
    "#import datetime\n",
    "#import matplotlib as mpl\n",
    "#matplotlib.use('TkAgg', force=True)\n",
    "import matplotlib.pyplot as plt\n",
    "#assert matplotlib.get_backend() == 'TkAgg'"
   ]
  },
  {
   "cell_type": "code",
   "execution_count": null,
   "metadata": {},
   "outputs": [],
   "source": [
    "from mpl_toolkits.basemap import Basemap\n",
    "from descartes import PolygonPatch\n",
    "from shapely.geometry import Polygon\n",
    "from matplotlib.patches import Ellipse\n",
    "\n",
    "from netCDF4 import Dataset as NCDataset\n",
    "from obspy.core import Stream, UTCDateTime\n",
    "#assert matplotlib.get_backend() == 'TkAgg', matplotlib.get_backend()"
   ]
  },
  {
   "cell_type": "code",
   "execution_count": null,
   "metadata": {},
   "outputs": [],
   "source": [
    "package_root = os.path.abspath('../../..')\n",
    "if package_root not in sys.path:\n",
    "    sys.path.append(package_root)\n",
    "from seismic.xcorqc.correlator import Dataset\n",
    "\n",
    "#import matplotlib.dates as mdates\n",
    "from textwrap import wrap\n",
    "import gc\n",
    "#assert matplotlib.get_backend() == 'TkAgg', matplotlib.get_backend()"
   ]
  },
  {
   "cell_type": "code",
   "execution_count": null,
   "metadata": {},
   "outputs": [],
   "source": [
    "from analytic_plot_utils import distance, drawBBox"
   ]
  },
  {
   "cell_type": "code",
   "execution_count": null,
   "metadata": {},
   "outputs": [],
   "source": [
    "#assert matplotlib.get_backend() == 'TkAgg', matplotlib.get_backend()"
   ]
  },
  {
   "cell_type": "code",
   "execution_count": null,
   "metadata": {},
   "outputs": [],
   "source": [
    "import ipdb"
   ]
  },
  {
   "cell_type": "code",
   "execution_count": null,
   "metadata": {},
   "outputs": [],
   "source": [
    "CORR_PATH = '/g/data/ha3/rakib/xcorTest/7G/'"
   ]
  },
  {
   "cell_type": "code",
   "execution_count": null,
   "metadata": {},
   "outputs": [],
   "source": [
    "ds = Dataset('/g/data/ha3/Passive/_ANU/7G(2013-2015)/ASDF/7G(2013-2015).h5')\n",
    "#ds = Dataset('/g/data/ha3/Passive/_ANU/7X(2009-2011)/ASDF/7X(2009-2011).h5')\n",
    "corrFiles = glob.glob(CORR_PATH + '/*.nc')"
   ]
  },
  {
   "cell_type": "code",
   "execution_count": null,
   "metadata": {},
   "outputs": [],
   "source": [
    "dir(ds)"
   ]
  },
  {
   "cell_type": "code",
   "execution_count": null,
   "metadata": {},
   "outputs": [],
   "source": [
    "ds.ds"
   ]
  },
  {
   "cell_type": "code",
   "execution_count": null,
   "metadata": {},
   "outputs": [],
   "source": [
    "ds.nchannel, ds.echannel, ds.zchannel"
   ]
  },
  {
   "cell_type": "code",
   "execution_count": null,
   "metadata": {},
   "outputs": [],
   "source": [
    "ds.stations_metadata"
   ]
  },
  {
   "cell_type": "code",
   "execution_count": null,
   "metadata": {},
   "outputs": [],
   "source": [
    "ds.stations_metadata.keys()"
   ]
  },
  {
   "cell_type": "code",
   "execution_count": null,
   "metadata": {},
   "outputs": [],
   "source": [
    "ds.stations_metadata['CQ40']"
   ]
  },
  {
   "cell_type": "code",
   "execution_count": null,
   "metadata": {},
   "outputs": [],
   "source": [
    "dir(ds.stations_metadata['CQ40'])"
   ]
  },
  {
   "cell_type": "code",
   "execution_count": null,
   "metadata": {},
   "outputs": [],
   "source": [
    "fig = plt.figure(figsize=(16,16))\n",
    "\n",
    "minLon = 1e32\n",
    "maxLon = -1e32\n",
    "minLat = 1e32\n",
    "maxLat = -1e32\n",
    "for s in ds.stations:\n",
    "    lon,lat = ds.stations_metadata[s].coordinates['longitude'], \\\n",
    "              ds.stations_metadata[s].coordinates['latitude']\n",
    "    \n",
    "    minLon = min(lon, minLon)\n",
    "    maxLon = max(lon, maxLon)\n",
    "    minLat = min(lat, minLat)\n",
    "    maxLat = max(lat, maxLat)\n",
    "# end for\n",
    "\n",
    "m = Basemap(width=800000,height=800000,projection='lcc',\n",
    "            resolution='l',lat_1=minLat,lat_2=maxLat,\n",
    "            lat_0=(minLat+maxLat)/2., lon_0=(minLon + maxLon)/2.)\n",
    "# draw coastlines.\n",
    "m.drawcoastlines()\n",
    "\n",
    "#draw grid\n",
    "parallels = np.linspace(np.floor(minLat)-5, np.ceil(maxLat)+5, \\\n",
    "                        int((np.ceil(maxLat)+5) - (np.floor(minLat)-5))+1)\n",
    "m.drawparallels(parallels,labels=[True,True,False,False])\n",
    "meridians = np.linspace(np.floor(minLon)-5, np.ceil(maxLon)+5, \\\n",
    "                        int((np.ceil(maxLon)+5) - (np.floor(minLon)-5))+1)\n",
    "m.drawmeridians(meridians,labels=[False,False,True,True])\n",
    "\n",
    "# plot stations\n",
    "for s in ds.stations:\n",
    "    lon,lat = ds.stations_metadata[s].coordinates['longitude'], \\\n",
    "              ds.stations_metadata[s].coordinates['latitude']\n",
    "\n",
    "    px,py = m(lon, lat)\n",
    "    pxl,pyl = m(lon+0.02, lat-0.1)\n",
    "    marker_size = 100\n",
    "    m.scatter(px, py, marker_size, marker='v', c='g', edgecolor='none')    \n",
    "    plt.annotate(s, xy=(pxl, pyl), fontsize=12)\n",
    "# end for\n",
    "\n",
    "for fn in corrFiles:\n",
    "    pair = os.path.basename(fn)\n",
    "    station = pair.split('.')[0]\n",
    "    if(station != 'CO46'): \n",
    "        continue\n",
    "    \n",
    "    nbrs = []\n",
    "    for nfn in corrFiles:\n",
    "        npair = os.path.basename(nfn)\n",
    "        nstation = npair.split('.')[0]\n",
    "        \n",
    "        if(nstation in station): \n",
    "            nbrs.append(npair.split('.')[1])\n",
    "    # end for\n",
    "    \n",
    "    lon,lat = ds.stations_metadata[station].coordinates['longitude'], \\\n",
    "              ds.stations_metadata[station].coordinates['latitude']    \n",
    "    e = Ellipse(m(lon, lat), 3e4, 3e4, color='red', ec='none', alpha=0.5)\n",
    "    fig.axes[0].add_artist(e)\n",
    "    \n",
    "    for nbr in nbrs:\n",
    "        if(nbr != 'CQ46'): \n",
    "            continue\n",
    "        lon,lat = ds.stations_metadata[nbr].coordinates['longitude'], \\\n",
    "                  ds.stations_metadata[nbr].coordinates['latitude']    \n",
    "        e = Ellipse(m(lon, lat), 2e4, 2e4, color='blue', ec='none', alpha=0.5)\n",
    "        fig.axes[0].add_artist(e)\n",
    "    # end for\n",
    "    \n",
    "    break\n",
    "# end for\n",
    "\n",
    "\n",
    "insetAx = fig.add_axes([0.75,0.75,0.125,0.125])\n",
    "mInset = Basemap(resolution='c', # c, l, i, h, f or None\n",
    "            ax=insetAx,\n",
    "            projection='merc',\n",
    "            lat_0=-20, lon_0=132,\n",
    "            llcrnrlon=110, llcrnrlat=-40, urcrnrlon=155, urcrnrlat=-10)\n",
    "#mInset.drawcoastlines()\n",
    "mInset.fillcontinents(color='lightgray')\n",
    "mInset.drawstates(color=\"grey\")\n",
    "\n",
    "drawBBox(minLon, minLat, maxLon, maxLat, mInset, fill='True', facecolor='k')\n",
    "\n",
    "print('centre: %lf, %lf'%(np.mean([minLon, maxLon]), np.mean([minLat, maxLat])))\n",
    "\n",
    "#assert matplotlib.get_backend() == 'TkAgg', matplotlib.get_backend()\n",
    "plt.legend()\n",
    "plt.show()"
   ]
  },
  {
   "cell_type": "code",
   "execution_count": null,
   "metadata": {},
   "outputs": [],
   "source": [
    "\n",
    "for fn in corrFiles:\n",
    "    fig, ax = plt.subplots(1, 2, figsize=(16,16))\n",
    "    pair = os.path.basename(fn)\n",
    "    station = pair.split('.')[0]\n",
    "    \n",
    "    #station = 'CO46'\n",
    "    \n",
    "    nbrs = []\n",
    "    for nfn in corrFiles:\n",
    "        npair = os.path.basename(nfn)\n",
    "        nstation = npair.split('.')[0]\n",
    "        \n",
    "        if(nstation in station): \n",
    "            nbrs.append(npair.split('.')[1])\n",
    "    # end for\n",
    "    \n",
    "   \n",
    "    fn = CORR_PATH + '/%s.%s.nc'%(station, nbrs[1])\n",
    "\n",
    "    d = NCDataset(fn, 'r')\n",
    "    \n",
    "    sTimes = d.variables['IntervalStartTimes'][:]\n",
    "    lag = d.variables['lag'][:]\n",
    "    xcorr = d.variables['xcorr'][:, :]\n",
    "    \n",
    "    #xcorr = np.ma.masked_array(xcorr, mask=xcorr==0)\n",
    "    \n",
    "    dlag = 12000\n",
    "    gx, gy = np.meshgrid(lag[lag.shape[0]/2-dlag:lag.shape[0]/2+dlag+1], sTimes)\n",
    "    \n",
    "   \n",
    "    labels=[]\n",
    "    for st in sTimes: \n",
    "        labels.append(UTCDateTime(st).strftime(\"%y-%m-%d\"))\n",
    "    \n",
    "    plt.pcolormesh(gx, gy, xcorr[:, lag.shape[0]/2-dlag:lag.shape[0]/2+dlag+1], \n",
    "                   cmap='RdBu', vmin=0, vmax=1)\n",
    "    plt.yticks(sTimes[::7], labels[::7])\n",
    "    \n",
    "    t = np.array(sTimes)\n",
    "    g = np.gradient(t)\n",
    "    indices = np.argwhere(g > (np.mean(g) + 2*np.std(g)))\n",
    "    \n",
    "    for i, idx in enumerate(indices[::2]):\n",
    "        bx = np.array([np.min(gx), np.max(gx), np.max(gx), np.min(gx), np.min(gx)])\n",
    "        by = np.array([sTimes[idx], sTimes[idx], sTimes[indices[i+1]], sTimes[indices[i+1]], sTimes[idx]])\n",
    "    \n",
    "        xy = zip(bx,by)\n",
    "        poly = Polygon(xy)\n",
    "        fig.axes[0].add_patch(PolygonPatch(poly, facecolor='white', ec='red'))\n",
    "    # end for\n",
    "    \n",
    "    plt.colorbar()\n",
    "    #fig.axes[0].get_xaxis().set_visible(False)\n",
    "    #fig.axes[0].get_yaxis().set_visible(False)    \n",
    "    #for spine in plt.gca().spines.values(): spine.set_visible(False)    \n",
    "    plt.show()\n",
    "    \n",
    "    plt.close()\n",
    "    plt.plot(gx[0, :], np.mean(xcorr[:, lag.shape[0]/2-dlag:lag.shape[0]/2+dlag+1], axis=0))\n",
    "    plt.show()\n",
    "    d.close()    \n",
    "    break\n",
    "# end for\n"
   ]
  },
  {
   "cell_type": "code",
   "execution_count": null,
   "metadata": {},
   "outputs": [],
   "source": [
    "ax = plt.subplot()\n",
    "\n",
    "t = np.array(sTimes)\n",
    "#t[50:] = t[50:]+1e6\n",
    "\n",
    "g = np.gradient(t)\n",
    "ax.plot(t)\n",
    "#ax.plot(scipy.signal.detrend(t))\n",
    "#ax.plot(g)\n",
    "\n",
    "indices = np.argwhere(g > (np.mean(g) + 2*np.std(g)))\n",
    "\n",
    "print t[indices]\n",
    "\n",
    "print indices[::2]\n",
    "\n",
    "#ax.plot(np.gradient(sTimes))"
   ]
  },
  {
   "cell_type": "code",
   "execution_count": null,
   "metadata": {},
   "outputs": [],
   "source": [
    "fig, (ax1, ax2) = plt.subplots(2,1)\n",
    "\n",
    "fig.set_size_inches(10, 10)\n",
    "for fn in corrFiles:\n",
    "    pair = os.path.basename(fn)\n",
    "    station = pair.split('.')[0]\n",
    "    \n",
    "    station = 'CO46'\n",
    "\n",
    "    nbrs = []\n",
    "    for nfn in corrFiles:\n",
    "        npair = os.path.basename(nfn)\n",
    "        nstation = npair.split('.')[0]\n",
    "        \n",
    "        if(nstation in station): nbrs.append(npair.split('.')[1])\n",
    "    # end for\n",
    "    \n",
    "    fn = CORR_PATH+'/%s.%s.nc'%(station, nbrs[1])\n",
    "    print fn \n",
    "    d = NCDataset(fn, 'r')\n",
    "    \n",
    "    sTimes = d.variables['IntervalStartTimes'][:]\n",
    "    lag = d.variables['lag'][:]\n",
    "    xcorr = d.variables['xcorr'][:, :]\n",
    "    \n",
    "    xcorr = np.ma.masked_array(xcorr, mask=xcorr==0)\n",
    "        \n",
    "    xcorr = xcorr[:, lag.shape[0]/2-600:lag.shape[0]/2+601]\n",
    "    lag = lag[lag.shape[0]/2-600:lag.shape[0]/2+601]\n",
    "\n",
    "    print np.min(xcorr), np.max(xcorr)\n",
    "    \n",
    "    maxCorrLags = np.zeros_like(sTimes)\n",
    "    for i in range(len(sTimes)):\n",
    "        if(np.ma.is_masked(xcorr[i, :])):\n",
    "            maxCorrLags[i] = -999\n",
    "        else:\n",
    "            maxCorrLags[i] = lag[np.argmax(xcorr[i, :])]\n",
    "    # end for\n",
    "    \n",
    "    ax1.plot(sTimes[maxCorrLags!=-999], maxCorrLags[maxCorrLags!=-999])\n",
    "    \n",
    "    ax1.set_ylim(-60, 60)\n",
    "    \n",
    "    ax2.hist(maxCorrLags[maxCorrLags!=-999], bins=len(sTimes), edgecolor='none')\n",
    "    \n",
    "    print gx.shape\n",
    "    print xcorr.shape\n",
    "    \n",
    "    plt.savefig('./b.png', dpi=300)\n",
    "    d.close()    \n",
    "    break\n",
    "# end for"
   ]
  }
 ],
 "metadata": {
  "kernelspec": {
   "display_name": "Python 2",
   "language": "python",
   "name": "python2"
  },
  "language_info": {
   "codemirror_mode": {
    "name": "ipython",
    "version": 2
   },
   "file_extension": ".py",
   "mimetype": "text/x-python",
   "name": "python",
   "nbconvert_exporter": "python",
   "pygments_lexer": "ipython2",
   "version": "2.7.11"
  }
 },
 "nbformat": 4,
 "nbformat_minor": 2
}
