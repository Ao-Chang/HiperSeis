{
 "cells": [
  {
   "cell_type": "code",
   "execution_count": null,
   "metadata": {},
   "outputs": [],
   "source": [
    "import os\n",
    "import sys\n",
    "import numpy as np\n",
    "import pandas as pd\n",
    "pd.set_option('display.max_rows', 200)\n",
    "pd.set_option('display.max_columns', None)\n",
    "pd.set_option('display.max_colwidth', -1)\n",
    "pd.set_option('display.width', 240)"
   ]
  },
  {
   "cell_type": "code",
   "execution_count": null,
   "metadata": {},
   "outputs": [],
   "source": [
    "import matplotlib\n",
    "import matplotlib.pyplot as plt\n",
    "matplotlib.rcParams['figure.figsize'] = (16.0, 9.0)"
   ]
  },
  {
   "cell_type": "code",
   "execution_count": null,
   "metadata": {},
   "outputs": [],
   "source": [
    "# Progress bar helper to indicate that slow tasks have not stalled\n",
    "from tqdm.auto import tqdm"
   ]
  },
  {
   "cell_type": "code",
   "execution_count": null,
   "metadata": {},
   "outputs": [],
   "source": [
    "PICKS_PATH = r\"C:\\data_cache\\Picks\\20190219\\ensemble.p.txt\"\n",
    "#PICKS_PATH = r\"C:\\data_cache\\Picks\\20190219\\ensemble_small.p.txt\"\n",
    "dtype = {'#eventID': object,\n",
    "    'originTimestamp': np.float64,\n",
    "    'mag':                    np.float64,\n",
    "    'originLon':              np.float64,\n",
    "    'originLat':              np.float64,\n",
    "    'originDepthKm':          np.float64,\n",
    "    'net':                     object,\n",
    "    'sta':                     object,\n",
    "    'cha':                     object,\n",
    "    'pickTimestamp':          np.float64,\n",
    "    'phase':                   object,\n",
    "    'stationLon':             np.float64,\n",
    "    'stationLat':             np.float64,\n",
    "    'az':                     np.float64,\n",
    "    'baz':                    np.float64,\n",
    "    'distance':               np.float64,\n",
    "    'ttResidual':             np.float64,\n",
    "    'snr':                    np.float64,\n",
    "    'qualityMeasureCWT':      np.float64,\n",
    "    'domFreq':                np.float64,\n",
    "    'qualityMeasureSlope':    np.float64,\n",
    "    'bandIndex':              np.int64,\n",
    "    'nSigma':                 np.int64}"
   ]
  },
  {
   "cell_type": "code",
   "execution_count": null,
   "metadata": {},
   "outputs": [],
   "source": [
    "df_picks = pd.read_csv(PICKS_PATH, ' ', header=0, dtype=dtype)"
   ]
  },
  {
   "cell_type": "code",
   "execution_count": null,
   "metadata": {},
   "outputs": [],
   "source": [
    "# Remove unused columns for readability\n",
    "df_picks = df_picks[['#eventID', 'originTimestamp', 'mag', 'originLon', 'originLat', 'originDepthKm', 'net', 'sta', 'cha', 'pickTimestamp', 'phase', \n",
    "                     'stationLon', 'stationLat', 'az', 'baz', 'distance', 'ttResidual', 'snr', 'qualityMeasureCWT', 'qualityMeasureSlope', 'nSigma']]"
   ]
  },
  {
   "cell_type": "code",
   "execution_count": null,
   "metadata": {},
   "outputs": [],
   "source": [
    "REF_NET = 'IR'\n",
    "REF_STN = 'WRAB'\n",
    "REF = {'net': [REF_NET], 'sta': [REF_STN]}\n",
    "#REF = {'net': ['AU'], 'sta': ['WR0']}"
   ]
  },
  {
   "cell_type": "code",
   "execution_count": null,
   "metadata": {},
   "outputs": [],
   "source": [
    "# STN_LIST = ['MA01', 'MA42', 'MA43']\n",
    "# TARGET_NET = '7X'\n",
    "STN_LIST = ['WR1', 'WR2']\n",
    "TARGET_NET = 'AU'\n",
    "TARGET_STNS = {'net': [TARGET_NET]*len(STN_LIST), 'sta': [s for s in STN_LIST]}"
   ]
  },
  {
   "cell_type": "markdown",
   "metadata": {},
   "source": [
    "## Filter to desired ref and target networks"
   ]
  },
  {
   "cell_type": "code",
   "execution_count": null,
   "metadata": {},
   "outputs": [],
   "source": [
    "mask_ref = df_picks[list(REF)].isin(REF).all(axis=1)\n",
    "np.any(mask_ref)"
   ]
  },
  {
   "cell_type": "code",
   "execution_count": null,
   "metadata": {},
   "outputs": [],
   "source": [
    "mask_targ = df_picks[list(TARGET_STNS)].isin(TARGET_STNS).all(axis=1)\n",
    "np.any(mask_targ)"
   ]
  },
  {
   "cell_type": "code",
   "execution_count": null,
   "metadata": {},
   "outputs": [],
   "source": [
    "mask = mask_ref | mask_targ\n",
    "np.any(mask)"
   ]
  },
  {
   "cell_type": "code",
   "execution_count": null,
   "metadata": {},
   "outputs": [],
   "source": [
    "df_filt = df_picks.loc[mask]"
   ]
  },
  {
   "cell_type": "code",
   "execution_count": null,
   "metadata": {},
   "outputs": [],
   "source": [
    "len(df_filt)"
   ]
  },
  {
   "cell_type": "markdown",
   "metadata": {},
   "source": [
    "## Filter to teleseismic events"
   ]
  },
  {
   "cell_type": "code",
   "execution_count": null,
   "metadata": {},
   "outputs": [],
   "source": [
    "# Column heading for the angular distance (degrees) between event and station\n",
    "ANG_DIST = 'distance'"
   ]
  },
  {
   "cell_type": "code",
   "execution_count": null,
   "metadata": {},
   "outputs": [],
   "source": [
    "mask = (df_filt[ANG_DIST] >= 30.0) & (df_filt[ANG_DIST] <= 90.0)"
   ]
  },
  {
   "cell_type": "code",
   "execution_count": null,
   "metadata": {},
   "outputs": [],
   "source": [
    "df_ts = df_filt.loc[mask]"
   ]
  },
  {
   "cell_type": "code",
   "execution_count": null,
   "metadata": {},
   "outputs": [],
   "source": [
    "len(df_ts)"
   ]
  },
  {
   "cell_type": "markdown",
   "metadata": {},
   "source": [
    "## Filter to constrained quality metrics"
   ]
  },
  {
   "cell_type": "code",
   "execution_count": null,
   "metadata": {},
   "outputs": [],
   "source": [
    "mask_cwt = (df_ts['qualityMeasureCWT'] >= 0) & (df_ts['qualityMeasureCWT'] <= 10)\n",
    "mask_slope = (df_ts['qualityMeasureSlope'] >= 0) & (df_ts['qualityMeasureSlope'] <= 2)\n",
    "mask_sigma = (df_ts['nSigma'] >= 6)\n",
    "# Make sure we DON'T filter out the reference station, which may have zero quality values\n",
    "mask_ref = df_ts[list(REF)].isin(REF).all(axis=1)\n",
    "quality_mask = (mask_cwt & mask_slope & mask_sigma) | mask_ref"
   ]
  },
  {
   "cell_type": "code",
   "execution_count": null,
   "metadata": {},
   "outputs": [],
   "source": [
    "assert np.sum(quality_mask) > 100, 'Not enough points left after quality filtering'\n",
    "df_ts = df_ts[quality_mask]\n",
    "len(df_ts)"
   ]
  },
  {
   "cell_type": "code",
   "execution_count": null,
   "metadata": {},
   "outputs": [],
   "source": [
    "def display_styled_table(df):\n",
    "    # Display table with blocks of same event ID highlighted\n",
    "    df['lastEventID'] = df['#eventID'].shift(1)\n",
    "    df['lastEventID'].iloc[0] = df['#eventID'].iloc[0]\n",
    "    cols = ['#ffffff', '#e0e0ff']\n",
    "    def block_highlighter(r):\n",
    "        if r['lastEventID'] != r['#eventID']:\n",
    "            block_highlighter.current_col = (block_highlighter.current_col + 1) % len(cols)\n",
    "        return ['background-color: ' + cols[block_highlighter.current_col]]*len(r)\n",
    "    block_highlighter.current_col = 0\n",
    "    return df.style.apply(block_highlighter, axis=1)"
   ]
  },
  {
   "cell_type": "code",
   "execution_count": null,
   "metadata": {},
   "outputs": [],
   "source": [
    "# display_styled_table(df_ts[0:200])"
   ]
  },
  {
   "cell_type": "markdown",
   "metadata": {},
   "source": [
    "## For each event, create column for reference traveltime residual"
   ]
  },
  {
   "cell_type": "code",
   "execution_count": null,
   "metadata": {},
   "outputs": [],
   "source": [
    "# Create column for entire table first\n",
    "df_ts['ttResidualRef'] = np.nan"
   ]
  },
  {
   "cell_type": "code",
   "execution_count": null,
   "metadata": {},
   "outputs": [],
   "source": [
    "ref_duped = []\n",
    "pbar = tqdm(total=len(df_ts), ascii=True)\n",
    "# Priority order of channels\n",
    "channel_pref = ['BHZ_00', 'BHZ', 'BHZ_10', 'B?Z', 'S?Z', 'SHZ', '???', '?']\n",
    "for eventid, grp in df_ts.groupby('#eventID'):\n",
    "    pbar.update(len(grp))\n",
    "    ref_mask = (grp['net'] == REF['net'][0]) & (grp['sta'] == REF['sta'][0])\n",
    "    grp_ref = grp[ref_mask]\n",
    "    if grp_ref.empty:\n",
    "        continue\n",
    "    # Choose most favourable channel\n",
    "    cha = None\n",
    "    available_cha = grp_ref['cha'].values\n",
    "    for c in channel_pref:\n",
    "        if c in available_cha:\n",
    "            cha = c\n",
    "            break\n",
    "    # We must find a channel\n",
    "    assert cha is not None\n",
    "    cha_mask = (grp_ref['cha'] == cha)\n",
    "    grp_cha = grp_ref[cha_mask]\n",
    "    tt_ref_series = grp_cha['ttResidual'].unique()\n",
    "    if len(tt_ref_series) > 1:\n",
    "#         print(\"WARNING: Multiple reference times found for event {}\\n{},\"\n",
    "#               \" choosing smallest absolute residual\".format(eventid, grp_cha))\n",
    "        ref_duped.append(grp_ref)\n",
    "        # In this case, choose the first reference tt residual\n",
    "        grp_cha['absTTResidual'] = np.abs(grp_cha['ttResidual'].values)\n",
    "        grp_cha = grp_cha.sort_values('absTTResidual')\n",
    "        tt_ref_series = grp_cha['ttResidual'].unique()\n",
    "    ref_time = tt_ref_series[0]\n",
    "    df_ts.loc[grp.index, 'ttResidualRef'] = ref_time\n",
    "pbar.close()\n",
    "if ref_duped:\n",
    "    ref_duped_all = pd.concat(ref_duped)\n",
    "    ref_duped_all.to_csv(\"REF_ARRIVAL_DUPES.txt\", sep=' ', index=False)"
   ]
  },
  {
   "cell_type": "code",
   "execution_count": null,
   "metadata": {},
   "outputs": [],
   "source": [
    "# Quality check - each event should have only one unique reference tt residual\n",
    "assert np.all([len(df['ttResidualRef'].unique()) == 1 for e, df in df_ts.groupby('#eventID')])"
   ]
  },
  {
   "cell_type": "code",
   "execution_count": null,
   "metadata": {},
   "outputs": [],
   "source": [
    "df_ts['relTtResidual'] = df_ts['ttResidual'] - df_ts['ttResidualRef']"
   ]
  },
  {
   "cell_type": "code",
   "execution_count": null,
   "metadata": {},
   "outputs": [],
   "source": [
    "# Re-order columns\n",
    "df_ts = df_ts[['#eventID', 'originTimestamp', 'mag', 'originLon', 'originLat', 'originDepthKm', 'net', 'sta', 'cha', 'pickTimestamp', 'phase',\n",
    "               'stationLon', 'stationLat', 'az', 'baz', 'distance', 'snr', 'ttResidual', 'ttResidualRef', 'relTtResidual']]"
   ]
  },
  {
   "cell_type": "code",
   "execution_count": null,
   "metadata": {
    "scrolled": true
   },
   "outputs": [],
   "source": [
    "# display_styled_table(df_ts.iloc[0:200])"
   ]
  },
  {
   "cell_type": "code",
   "execution_count": null,
   "metadata": {},
   "outputs": [],
   "source": [
    "# Sort data by event origin time\n",
    "df_ts = df_ts.sort_values('originTimestamp')\n",
    "#display_styled_table(df_ts.iloc[0:500])"
   ]
  },
  {
   "cell_type": "code",
   "execution_count": null,
   "metadata": {},
   "outputs": [],
   "source": [
    "test_stn = STN_LIST[0]"
   ]
  },
  {
   "cell_type": "code",
   "execution_count": null,
   "metadata": {},
   "outputs": [],
   "source": [
    "df_sample = df_ts.loc[(df_ts['net'] == TARGET_NET) & (df_ts['sta'] == test_stn), ['#eventID', 'originTimestamp', 'net', 'sta', 'relTtResidual', 'snr']]\n",
    "# df_sample\n",
    "# display_styled_table(df_sample)"
   ]
  },
  {
   "cell_type": "code",
   "execution_count": null,
   "metadata": {},
   "outputs": [],
   "source": [
    "rel_tt = df_sample['relTtResidual']\n",
    "mask = ~rel_tt.isna().values\n",
    "df_nonnan = df_sample[mask]\n",
    "df_nonnan = df_nonnan.reset_index()\n",
    "# df_nonnan"
   ]
  },
  {
   "cell_type": "code",
   "execution_count": null,
   "metadata": {},
   "outputs": [],
   "source": [
    "len(df_nonnan)"
   ]
  },
  {
   "cell_type": "code",
   "execution_count": null,
   "metadata": {},
   "outputs": [],
   "source": [
    "# times = df_nonnan['originTimestamp'].values\n",
    "times = range(len(df_nonnan))\n",
    "vals = df_nonnan['relTtResidual'].values\n",
    "qual = df_nonnan['snr']\n",
    "if len(vals) > 0:\n",
    "    sc = plt.scatter(times, vals, c=qual, alpha=0.5, cmap='jet', s=100)\n",
    "    cb = plt.colorbar(sc)\n",
    "    cb.set_label('Signal to noise ratio')\n",
    "    plt.grid(color='#80808080', linestyle=':')\n",
    "    plt.xlabel('Sequence order')\n",
    "    plt.ylabel('Relative TT residual ({} relative to {})'.format(\".\".join([TARGET_NET ,test_stn]),\n",
    "                                                                 \".\".join([REF_NET, REF_STN])))\n",
    "#     plt.legend()\n",
    "None"
   ]
  },
  {
   "cell_type": "code",
   "execution_count": null,
   "metadata": {},
   "outputs": [],
   "source": [
    "#plt.hist(vals, bins=50, range=(-10,10))\n",
    "None"
   ]
  },
  {
   "cell_type": "code",
   "execution_count": null,
   "metadata": {},
   "outputs": [],
   "source": [
    "event_id = 'smi:local/42941r28'"
   ]
  },
  {
   "cell_type": "code",
   "execution_count": null,
   "metadata": {},
   "outputs": [],
   "source": [
    "df_event = df_filt[df_filt['#eventID'] == event_id]"
   ]
  },
  {
   "cell_type": "code",
   "execution_count": null,
   "metadata": {},
   "outputs": [],
   "source": [
    "from IPython.core.display import display, HTML\n",
    "display(HTML(\"<style>.container { width:90% !important; }</style>\"))\n",
    "display_styled_table(df_event)"
   ]
  },
  {
   "cell_type": "code",
   "execution_count": null,
   "metadata": {},
   "outputs": [],
   "source": [
    "pd.options.display.float_format = '{:.1f}'.format\n",
    "print(df_event[['#eventID', 'originTimestamp', 'mag', 'originLon', 'originLat', 'originDepthKm', 'net', 'sta', 'cha', \n",
    "                'pickTimestamp', 'phase', 'stationLon', 'stationLat', 'az', 'baz', 'distance', 'ttResidual', 'snr']])"
   ]
  },
  {
   "cell_type": "code",
   "execution_count": null,
   "metadata": {},
   "outputs": [],
   "source": []
  }
 ],
 "metadata": {
  "kernelspec": {
   "display_name": "Python 3",
   "language": "python",
   "name": "python3"
  },
  "language_info": {
   "codemirror_mode": {
    "name": "ipython",
    "version": 3
   },
   "file_extension": ".py",
   "mimetype": "text/x-python",
   "name": "python",
   "nbconvert_exporter": "python",
   "pygments_lexer": "ipython3",
   "version": "3.6.6"
  }
 },
 "nbformat": 4,
 "nbformat_minor": 2
}
