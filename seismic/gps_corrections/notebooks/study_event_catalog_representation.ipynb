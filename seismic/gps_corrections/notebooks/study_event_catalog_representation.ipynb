{
 "cells": [
  {
   "cell_type": "markdown",
   "metadata": {},
   "source": [
    "# Examine an event catalog and visualize representation of events from selected networks"
   ]
  },
  {
   "cell_type": "code",
   "execution_count": null,
   "metadata": {},
   "outputs": [],
   "source": [
    "import os\n",
    "import sys\n",
    "import math\n",
    "import numpy as np\n",
    "import pandas as pd\n",
    "pd.set_option('display.max_rows', 200)\n",
    "pd.set_option('display.max_columns', None)\n",
    "pd.set_option('display.max_colwidth', -1)\n",
    "pd.set_option('display.width', 240)"
   ]
  },
  {
   "cell_type": "code",
   "execution_count": null,
   "metadata": {},
   "outputs": [],
   "source": [
    "import datetime\n",
    "import matplotlib\n",
    "import matplotlib.pyplot as plt\n",
    "matplotlib.rcParams['figure.figsize'] = (16.0, 9.0)\n",
    "matplotlib.rcParams['figure.max_open_warning'] = 100"
   ]
  },
  {
   "cell_type": "code",
   "execution_count": null,
   "metadata": {},
   "outputs": [],
   "source": [
    "# Progress bar helper to indicate that slow tasks have not stalled\n",
    "from tqdm.auto import tqdm"
   ]
  },
  {
   "cell_type": "code",
   "execution_count": null,
   "metadata": {},
   "outputs": [],
   "source": [
    "import requests"
   ]
  },
  {
   "cell_type": "code",
   "execution_count": null,
   "metadata": {},
   "outputs": [],
   "source": [
    "from IPython.core.display import display, HTML\n",
    "display(HTML(\"<style>.container { width:90% !important; }</style>\"))"
   ]
  },
  {
   "cell_type": "code",
   "execution_count": null,
   "metadata": {},
   "outputs": [],
   "source": [
    "PICKS_PATH = r\"C:\\data_cache\\Picks\\20190219\\ensemble.p.txt\"\n",
    "#PICKS_PATH = r\"C:\\data_cache\\Picks\\20190219\\ensemble_small.p.txt\"\n",
    "dtype = {'#eventID': object,\n",
    "    'originTimestamp': np.float64,\n",
    "    'mag':                    np.float64,\n",
    "    'originLon':              np.float64,\n",
    "    'originLat':              np.float64,\n",
    "    'originDepthKm':          np.float64,\n",
    "    'net':                     object,\n",
    "    'sta':                     object,\n",
    "    'cha':                     object,\n",
    "    'pickTimestamp':          np.float64,\n",
    "    'phase':                   object,\n",
    "    'stationLon':             np.float64,\n",
    "    'stationLat':             np.float64,\n",
    "    'az':                     np.float64,\n",
    "    'baz':                    np.float64,\n",
    "    'distance':               np.float64,\n",
    "    'ttResidual':             np.float64,\n",
    "    'snr':                    np.float64,\n",
    "    'qualityMeasureCWT':      np.float64,\n",
    "    'domFreq':                np.float64,\n",
    "    'qualityMeasureSlope':    np.float64,\n",
    "    'bandIndex':              np.int64,\n",
    "    'nSigma':                 np.int64}"
   ]
  },
  {
   "cell_type": "code",
   "execution_count": null,
   "metadata": {},
   "outputs": [],
   "source": [
    "df_raw_picks = pd.read_csv(PICKS_PATH, ' ', header=0, dtype=dtype)\n",
    "len(df_raw_picks)"
   ]
  },
  {
   "cell_type": "code",
   "execution_count": null,
   "metadata": {},
   "outputs": [],
   "source": [
    "# Query time period for source dataset\n",
    "import obspy\n",
    "\n",
    "start_time = obspy.UTCDateTime(df_raw_picks['originTimestamp'].min())\n",
    "end_time = obspy.UTCDateTime(df_raw_picks['originTimestamp'].max())\n",
    "print((str(start_time), str(end_time)))"
   ]
  },
  {
   "cell_type": "code",
   "execution_count": null,
   "metadata": {},
   "outputs": [],
   "source": [
    "# Filter to just AU networks. The permanent AU station list here is based on FDSN web site http://www.fdsn.org/networks/detail/AU/\n",
    "AU_NET = 'AU'\n",
    "AU_NET_FILE = r\"C:\\data_cache\\Picks\\20190219\\irisws-fedcatalog_2019-03-05T01 27 47Z.txt\"\n",
    "au_net_df = pd.read_csv(AU_NET_FILE, header=0, sep='|')\n",
    "au_net_df.columns = [c.strip() for c in au_net_df.columns.tolist()]\n",
    "AU_PERM_STATIONS = au_net_df['Station'].unique()\n",
    "len(AU_PERM_STATIONS)"
   ]
  },
  {
   "cell_type": "markdown",
   "metadata": {},
   "source": [
    "## Determine record count per station and plot"
   ]
  },
  {
   "cell_type": "code",
   "execution_count": null,
   "metadata": {},
   "outputs": [],
   "source": [
    "# Count matching by station code even if the network code doesn't match, since some AU stations could appear under II or IR.\n",
    "# We're mainly interested in stations with low record count.\n",
    "record_count = {}\n",
    "df = df_raw_picks\n",
    "for sta in AU_PERM_STATIONS:\n",
    "    count = np.sum(df['sta'] == sta)\n",
    "    record_count[sta] = count"
   ]
  },
  {
   "cell_type": "code",
   "execution_count": null,
   "metadata": {},
   "outputs": [],
   "source": [
    "# record_count"
   ]
  },
  {
   "cell_type": "code",
   "execution_count": null,
   "metadata": {},
   "outputs": [],
   "source": [
    "# np.sum([int(v == 0) for k, v in record_count.items()])"
   ]
  },
  {
   "cell_type": "code",
   "execution_count": null,
   "metadata": {},
   "outputs": [],
   "source": [
    "df = pd.DataFrame({'sta': [k for k, v in record_count.items()], 'count': [v for k, v in record_count.items()]}, columns=['sta', 'count'])"
   ]
  },
  {
   "cell_type": "code",
   "execution_count": null,
   "metadata": {
    "scrolled": true
   },
   "outputs": [],
   "source": [
    "# df"
   ]
  },
  {
   "cell_type": "code",
   "execution_count": null,
   "metadata": {},
   "outputs": [],
   "source": [
    "def plotStationIncidence(df_, subplots=3, title=None, savefile=None):\n",
    "    plt.figure(figsize=(32,12))\n",
    "    chunk_size = int(math.ceil(len(df_)/float(subplots)))\n",
    "    xlim = df_['count'].max()\n",
    "    for i in range(subplots):\n",
    "        plt.subplot(1, subplots, i+1)\n",
    "        df_subplot = df_.iloc[i*chunk_size:(i+1)*chunk_size, :]\n",
    "        df_subplot = df_subplot.iloc[::-1]\n",
    "        plt.barh(df_subplot['sta'], df_subplot['count'])\n",
    "        plt.xlim((0, xlim))\n",
    "        plt.xticks(fontsize=16)\n",
    "        plt.yticks(fontsize=12)\n",
    "        plt.xlabel(\"Record Count\", fontsize=16)\n",
    "        if i == 0:\n",
    "            plt.ylabel(\"Station Code\", fontsize=16)\n",
    "        plt.gca().xaxis.grid(color=\"#80808080\", linestyle=\"--\")\n",
    "    if title is not None:\n",
    "        plt.suptitle(title, fontsize=20, y=0.92)\n",
    "    if savefile is not None:\n",
    "        plt.savefig(savefile, dpi=200)"
   ]
  },
  {
   "cell_type": "code",
   "execution_count": null,
   "metadata": {},
   "outputs": [],
   "source": [
    "df_count = df.sort_values('count', ascending=False)\n",
    "df_sta = df.sort_values('sta')"
   ]
  },
  {
   "cell_type": "code",
   "execution_count": null,
   "metadata": {
    "scrolled": false
   },
   "outputs": [],
   "source": [
    "plotStationIncidence(df_count, title=\"Sorted incidence of AU station records in ensemble.p.txt\", savefile='AU_station_incidence_pwave_event_ensemble_SORTED')"
   ]
  },
  {
   "cell_type": "code",
   "execution_count": null,
   "metadata": {},
   "outputs": [],
   "source": [
    "plotStationIncidence(df_sta, title=\"Alphabetic incidence of AU station records in ensemble.p.txt\", savefile='AU_station_incidence_pwave_event_ensemble_ALPHA')"
   ]
  },
  {
   "cell_type": "markdown",
   "metadata": {},
   "source": [
    "## Determine date range per station and plot"
   ]
  },
  {
   "cell_type": "code",
   "execution_count": null,
   "metadata": {},
   "outputs": [],
   "source": [
    "date_record = {}\n",
    "df = df_raw_picks\n",
    "for sta in AU_PERM_STATIONS:\n",
    "    mask_sta = (df['sta'] == sta)\n",
    "    min_date = df.loc[mask_sta, 'originTimestamp'].min()\n",
    "    max_date = df.loc[mask_sta, 'originTimestamp'].max()\n",
    "    if not np.isnan(min_date) and not np.isnan(max_date):\n",
    "        date_record[sta] = (min_date, max_date)"
   ]
  },
  {
   "cell_type": "code",
   "execution_count": null,
   "metadata": {},
   "outputs": [],
   "source": [
    "df_date = pd.DataFrame({'sta': [k for k, v in date_record.items()],\n",
    "                        'start_date': [v[0] for k, v in date_record.items()],\n",
    "                        'end_date': [v[1] for k, v in date_record.items()]},\n",
    "                       columns=['sta', 'start_date', 'end_date'])"
   ]
  },
  {
   "cell_type": "code",
   "execution_count": null,
   "metadata": {},
   "outputs": [],
   "source": [
    "len(df_date)"
   ]
  },
  {
   "cell_type": "code",
   "execution_count": null,
   "metadata": {},
   "outputs": [],
   "source": [
    "def pandasTimestampToPlottableDatetime(data):\n",
    "    return data.transform(datetime.datetime.utcfromtimestamp).astype('datetime64[D]')"
   ]
  },
  {
   "cell_type": "code",
   "execution_count": null,
   "metadata": {
    "scrolled": false
   },
   "outputs": [],
   "source": [
    "# Only plot stations that have valid dates\n",
    "df_plot = df_date[::-1]\n",
    "start = pandasTimestampToPlottableDatetime(df_plot['start_date']).values\n",
    "end = pandasTimestampToPlottableDatetime(df_plot['end_date']).values\n",
    "dur = (end - start)/np.timedelta64(1, 'D')\n",
    "\n",
    "plt.figure(figsize=(24, 32))\n",
    "plt.barh(df_plot['sta'], dur, left=start)\n",
    "time_formatter = matplotlib.dates.DateFormatter(\"%Y-%m-%d\")\n",
    "years = matplotlib.dates.YearLocator()   # every year\n",
    "months = matplotlib.dates.MonthLocator()  # every month\n",
    "plt.axes().xaxis.set_major_formatter(time_formatter)\n",
    "plt.axes().xaxis.set_major_locator(years)\n",
    "plt.axes().xaxis.set_minor_locator(months)\n",
    "plt.xlabel(\"Date range\", fontsize=16)\n",
    "plt.ylabel(\"Station Code\", fontsize=16)\n",
    "plt.gca().xaxis.grid(color=\"#80808080\", linestyle=\"--\")\n",
    "plt.gca().yaxis.grid(color=\"#80808020\", linestyle=\":\")\n",
    "plt.title(\"Record date ranges per station in ensemble.p.txt\", fontsize=20)\n",
    "time_range = (datetime.datetime.utcfromtimestamp(df_plot['start_date'].min()), datetime.datetime.utcfromtimestamp(df_plot['end_date'].max()))\n",
    "plt.text(0.01, 0.98, \"Start date: {}\".format(str(time_range[0])), transform=plt.gca().transAxes, fontsize=12)\n",
    "plt.text(0.01, 0.97, \"  End date: {}\".format(str(time_range[1])), transform=plt.gca().transAxes, fontsize=12)\n",
    "plt.xticks(fontsize=14, rotation=30, horizontalalignment='right')\n",
    "plt.savefig('AU_station_dates_pwave_event_ensemble.png', dpi=200)"
   ]
  },
  {
   "cell_type": "code",
   "execution_count": null,
   "metadata": {},
   "outputs": [],
   "source": []
  }
 ],
 "metadata": {
  "kernelspec": {
   "display_name": "Python 3",
   "language": "python",
   "name": "python3"
  },
  "language_info": {
   "codemirror_mode": {
    "name": "ipython",
    "version": 3
   },
   "file_extension": ".py",
   "mimetype": "text/x-python",
   "name": "python",
   "nbconvert_exporter": "python",
   "pygments_lexer": "ipython3",
   "version": "3.6.6"
  }
 },
 "nbformat": 4,
 "nbformat_minor": 2
}
