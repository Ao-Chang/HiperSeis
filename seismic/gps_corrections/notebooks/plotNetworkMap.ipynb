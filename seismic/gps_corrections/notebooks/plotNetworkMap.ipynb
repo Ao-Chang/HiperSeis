{
 "cells": [
  {
   "cell_type": "markdown",
   "metadata": {},
   "source": [
    "# Plot network location map based on ASDF database"
   ]
  },
  {
   "cell_type": "code",
   "execution_count": null,
   "metadata": {},
   "outputs": [],
   "source": [
    "import os\n",
    "import sys\n",
    "import datetime"
   ]
  },
  {
   "cell_type": "code",
   "execution_count": null,
   "metadata": {},
   "outputs": [],
   "source": [
    "import numpy as np\n",
    "import pandas as pd\n",
    "import matplotlib.pyplot as plt"
   ]
  },
  {
   "cell_type": "code",
   "execution_count": null,
   "metadata": {},
   "outputs": [],
   "source": [
    "package_root = os.path.abspath(os.path.abspath('../../..'))\n",
    "if package_root not in sys.path:\n",
    "    sys.path.append(package_root)\n",
    "from seismic.ASDFdatabase import FederatedASDFDataSet\n",
    "from seismic.xcorqc.analytic_plot_utils import drawBBox\n",
    "import obspy\n",
    "from obspy.geodetics import locations2degrees"
   ]
  },
  {
   "cell_type": "code",
   "execution_count": null,
   "metadata": {},
   "outputs": [],
   "source": [
    "from mpl_toolkits.basemap import Basemap\n",
    "# from descartes import PolygonPatch\n",
    "# from shapely.geometry import Polygon"
   ]
  },
  {
   "cell_type": "code",
   "execution_count": null,
   "metadata": {},
   "outputs": [],
   "source": [
    "ds = FederatedASDFDataSet.FederatedASDFDataSet(\"/g/data/ha3/Passive/SHARED_DATA/Index/asdf_files.txt\")"
   ]
  },
  {
   "cell_type": "code",
   "execution_count": null,
   "metadata": {},
   "outputs": [],
   "source": [
    "# def get_network_stations(df, netcode):\n",
    "#     \"\"\"\n",
    "#     Get the unique station codes belonging to a given network from a Pandas DataFrame\n",
    "\n",
    "#     :param df: Pandas dataframe\n",
    "#     :type df: pandas.DataFrame\n",
    "#     :param netcode: Network code for which station codes will be returned\n",
    "#     :type netcode: str\n",
    "#     :return: Sorted list of station code strings extracted from df\n",
    "#     :rtype: list(str)\n",
    "#     \"\"\"\n",
    "#     return sorted(df[df['net'] == netcode]['sta'].unique().tolist())"
   ]
  },
  {
   "cell_type": "code",
   "execution_count": null,
   "metadata": {},
   "outputs": [],
   "source": [
    "# def get_network_date_range(df, netcode):\n",
    "#     \"\"\"\n",
    "#     Get the date range of records in df for a given network code\n",
    "\n",
    "#     :param df: Pandas dataframe\n",
    "#     :type df: pandas.DataFrame\n",
    "#     :param netcode: Network code whose pick event dates min and max will be returned\n",
    "#     :type netcode: str\n",
    "#     :return: Min and max dates of picks for given network\n",
    "#     :rtype: tuple(obspy.UTCDateTime, obspy.UTCDateTime)\n",
    "#     \"\"\"\n",
    "#     mask = (df['net'] == netcode)\n",
    "#     df_net = df.loc[mask]\n",
    "#     min_date = df_net['start_time'].min()\n",
    "#     max_date = df_net['end_time'].max()\n",
    "#     return (obspy.UTCDateTime(min_date), obspy.UTCDateTime(max_date))"
   ]
  },
  {
   "cell_type": "code",
   "execution_count": null,
   "metadata": {},
   "outputs": [],
   "source": [
    "def get_network_mean_location(df, netcode):\n",
    "    \"\"\"\n",
    "    Get the mean station latitude and longitude coordinates for all stations in a given network.\n",
    "\n",
    "    :param df: Pandas dataframe\n",
    "    :type df: pandas.DataFrame\n",
    "    :param netcode: Network code for which mean coordinates will be returned\n",
    "    :type netcode: str\n",
    "    :return: Mean (latitude, longitude) coordinates of stations in the network\n",
    "    :rtype: tuple(float, float)\n",
    "    \"\"\"\n",
    "    mean_lat = df[df['net'] == netcode]['latitude'].mean()\n",
    "    mean_lon = df[df['net'] == netcode]['longitude'].mean()\n",
    "    return (mean_lat, mean_lon)"
   ]
  },
  {
   "cell_type": "code",
   "execution_count": null,
   "metadata": {},
   "outputs": [],
   "source": [
    "# Some select stations require custom date filters to remove events outside\n",
    "# the known valid date range of a network. Filter out network codes from earlier\n",
    "# periods which are not of interest.\n",
    "def applyCustomerDateFilter(df):\n",
    "    DATE_FILTER = (\n",
    "        ('7D', pd.Timestamp(datetime.datetime(2010, 1, 1))),\n",
    "        ('7G', pd.Timestamp(datetime.datetime(2010, 1, 1))),\n",
    "    )\n",
    "    before = len(df)\n",
    "    for net, min_date in DATE_FILTER:\n",
    "        date_mask = (df['net'] == net) & (df['start_time'] < min_date.timestamp())\n",
    "        df = df[~date_mask]\n",
    "    after = len(df)\n",
    "    print('Removed {} events due to known invalid timestamps'.format(before - after))\n",
    "    return df"
   ]
  },
  {
   "cell_type": "code",
   "execution_count": null,
   "metadata": {},
   "outputs": [],
   "source": [
    "# Get all nets and stations\n",
    "all_codes = [x for x in ds.local_net_sta_list()]"
   ]
  },
  {
   "cell_type": "code",
   "execution_count": null,
   "metadata": {},
   "outputs": [],
   "source": [
    "df_asdf = pd.DataFrame(np.array(all_codes), columns=['net', 'sta', 'start_time', 'end_time'])\n",
    "df_asdf[0:5]"
   ]
  },
  {
   "cell_type": "code",
   "execution_count": null,
   "metadata": {},
   "outputs": [],
   "source": [
    "df_asdf = applyCustomerDateFilter(df_asdf)"
   ]
  },
  {
   "cell_type": "code",
   "execution_count": null,
   "metadata": {},
   "outputs": [],
   "source": [
    "# 7* network deployments\n",
    "temp_deploys = sorted([n for n in df_asdf['net'].unique() if n[0] == '7'])\n",
    "temp_deploys"
   ]
  },
  {
   "cell_type": "code",
   "execution_count": null,
   "metadata": {},
   "outputs": [],
   "source": [
    "sta_coords = ds.unique_coordinates\n",
    "lat_lon = []\n",
    "for _, row in df_asdf.iterrows():\n",
    "    code = \".\".join([row['net'], row['sta']])\n",
    "    lat_lon.append(sta_coords[code])\n",
    "\n",
    "df_asdf['latitude'] = np.array(lat_lon)[:,1]\n",
    "df_asdf['longitude'] = np.array(lat_lon)[:,0]\n",
    "df_asdf[0:5]"
   ]
  },
  {
   "cell_type": "code",
   "execution_count": null,
   "metadata": {},
   "outputs": [],
   "source": [
    "# stations = get_network_stations(df_asdf, temp_deploys[0])"
   ]
  },
  {
   "cell_type": "code",
   "execution_count": null,
   "metadata": {},
   "outputs": [],
   "source": [
    "# get_network_date_range(df_asdf, temp_deploys[0])"
   ]
  },
  {
   "cell_type": "code",
   "execution_count": null,
   "metadata": {},
   "outputs": [],
   "source": [
    "def plot_basemap_stations(dest_map, labels, lat, lon, size=50, color='g'):\n",
    "    sc_handle = dest_map.scatter(lon, lat, size, latlon=True, marker='v', c=color, edgecolor='none', alpha=0.8)\n",
    "    for i, label in enumerate(labels):\n",
    "        plt.annotate(label, xy=dest_map(lon[i] + 0.02, lat[i] - 0.1), fontsize=10)\n",
    "    return sc_handle"
   ]
  },
  {
   "cell_type": "code",
   "execution_count": null,
   "metadata": {},
   "outputs": [],
   "source": [
    "def plot_basemap_networks(df, label_stations=True, title=None, show_inset=True, show_legend=True):\n",
    "\n",
    "    # AU lat/lon range\n",
    "    au_min_lat, au_max_lat = -40, -10\n",
    "    au_min_lon, au_max_lon = 110, 155\n",
    "    \n",
    "    min_lat, max_lat = df['latitude'].min(), df['latitude'].max()\n",
    "    min_lon, max_lon = df['longitude'].min(), df['longitude'].max()\n",
    "    assert min_lat >= au_min_lat\n",
    "    assert min_lon >= au_min_lon\n",
    "    assert max_lat <= au_max_lat\n",
    "    assert max_lon <= au_max_lon\n",
    "\n",
    "    # Plot stations of network\n",
    "    fig = plt.figure(figsize=(12, 12))\n",
    "\n",
    "    latlon_margin = max(0.8, max((max_lat - min_lat)/10, (max_lon - min_lon)/10))\n",
    "    m = Basemap(llcrnrlon=min_lon - latlon_margin, llcrnrlat=min_lat - latlon_margin,\n",
    "                urcrnrlon=max_lon + latlon_margin, urcrnrlat=max_lat + latlon_margin,\n",
    "                projection='lcc', resolution='i',\n",
    "                lat_1=min_lat, lat_2=max_lat,\n",
    "                lat_0=(min_lat + max_lat) * 0.5, lon_0=(min_lon + max_lon) * 0.5)\n",
    "\n",
    "    m.drawcoastlines(color='#a0a0a0', linewidth=2)\n",
    "    state_border_color = \"#9090ff\"\n",
    "    m.drawstates(color=state_border_color, linewidth=2, zorder=0)\n",
    "\n",
    "    #draw grid\n",
    "    parallels = np.linspace(np.floor(min_lat) - 5, np.ceil(max_lat) + 5, \\\n",
    "                            int((np.ceil(max_lat) + 5) - (np.floor(min_lat) - 5)) + 1)\n",
    "    m.drawparallels(parallels, labels=[True, True, False, False], color=\"#a0a0a0\")\n",
    "    meridians = np.linspace(np.floor(min_lon) - 5, np.ceil(max_lon) + 5, \\\n",
    "                            int((np.ceil(max_lon) + 5) - (np.floor(min_lon) - 5)) + 1)\n",
    "    m.drawmeridians(meridians, labels=[False, False, True, True], rotation=45, color=\"#a0a0a0\")\n",
    "    main_ax = fig.gca()\n",
    "\n",
    "    # plot stations\n",
    "    color_index = 0\n",
    "    legend_labels = []\n",
    "    handles = []\n",
    "    for net, df_net in df.groupby('net'):\n",
    "        colcode = \"C{}\".format(color_index)\n",
    "        legend_labels.append(net)\n",
    "        if label_stations:\n",
    "            labels = df_net['sta'].values\n",
    "        else:\n",
    "            labels = []\n",
    "        sc_h = plot_basemap_stations(m, labels, df_net['latitude'].values, \n",
    "                                     df_net['longitude'].values, color=colcode)\n",
    "        handles.append(sc_h)\n",
    "        color_index = (color_index + 1) % 10\n",
    "    if show_legend:\n",
    "        plt.legend(handles, legend_labels, title='Network code')\n",
    "\n",
    "    if title is not None:\n",
    "        plt.title(title, fontsize = 18, y=1.05)\n",
    "\n",
    "    # Draw inset of entire continent\n",
    "    if show_inset:\n",
    "        inset_ax = fig.add_axes([0.75, 0.77, 0.100, 0.100])\n",
    "        inset = Basemap(resolution='c', ax=inset_ax, projection='merc',\n",
    "                        lat_0=-20, lon_0=132,\n",
    "                        llcrnrlon=au_min_lon, llcrnrlat=au_min_lat,\n",
    "                        urcrnrlon=au_max_lon, urcrnrlat=au_max_lat)\n",
    "        inset.fillcontinents(color='lightgray')\n",
    "        inset.drawstates(color=state_border_color)\n",
    "        drawBBox(min_lon, min_lat, max_lon, max_lat, inset, fill='True', facecolor='#40404080',\n",
    "                 linestyle=':', edgecolor='#404040')\n",
    "\n",
    "    plt.sca(main_ax)"
   ]
  },
  {
   "cell_type": "code",
   "execution_count": null,
   "metadata": {},
   "outputs": [],
   "source": [
    "TARGET_NETS = {'net': temp_deploys}"
   ]
  },
  {
   "cell_type": "code",
   "execution_count": null,
   "metadata": {
    "scrolled": false
   },
   "outputs": [],
   "source": [
    "for target_net in TARGET_NETS['net']:\n",
    "    df_net = df_asdf.loc[df_asdf['net'] == target_net]\n",
    "    plot_basemap_networks(df_net, title=\"Deployment Name: {}\".format(target_net),\n",
    "                          show_legend=False)\n",
    "    start_time = df_net['start_time'].min()\n",
    "    end_time = df_net['end_time'].max()\n",
    "    plt.text(0.01, 0.01, \"Deployment date range: {} -- {}\".format(start_time, end_time),\n",
    "             transform=plt.gca().transAxes, fontsize=12)\n",
    "    plt.savefig('{}_map.png'.format(target_net), dpi=300)\n",
    "    plt.show()"
   ]
  },
  {
   "cell_type": "code",
   "execution_count": null,
   "metadata": {},
   "outputs": [],
   "source": [
    "target_mask = df_asdf[list(TARGET_NETS)].isin(TARGET_NETS).all(axis=1)\n",
    "df_target = df_asdf.loc[target_mask]"
   ]
  },
  {
   "cell_type": "code",
   "execution_count": null,
   "metadata": {
    "scrolled": false
   },
   "outputs": [],
   "source": [
    "plot_basemap_networks(df_target, title=\"Temporary Deployments\", show_inset=False, \n",
    "                      label_stations=False)\n",
    "plt.savefig(\"TEMP_deployments.png\", dpi=300)\n",
    "plt.show()"
   ]
  },
  {
   "cell_type": "code",
   "execution_count": null,
   "metadata": {},
   "outputs": [],
   "source": [
    "def find_nearest_time_overlapping(df, netcode, statcode, num=1):\n",
    "    # Find nearest num stations to netcode.statcode in df which are themselves\n",
    "    # not part of network netcode, and whose station dates overlap.\n",
    "    not_target_mask = (df['net'] != netcode)\n",
    "    target_mask = (df['net'] == netcode) & (df['sta'] == statcode)\n",
    "    target_lat, target_lon = df.loc[target_mask, ['latitude', 'longitude']].values[0]\n",
    "    start_time, end_time = df.loc[target_mask, ['start_time', 'end_time']].values[0]\n",
    "    time_mask = (df['start_time'] <= start_time) & (df['end_time'] >= end_time)\n",
    "    df_filt = df.loc[not_target_mask & time_mask]\n",
    "    if df_filt.empty:\n",
    "        return pd.DataFrame()\n",
    "    df_filt['distance'] = df_filt.apply(lambda r: locations2degrees(\n",
    "        target_lat, target_lon, r['latitude'], r['longitude']), axis=1)\n",
    "    df_sorted = df_filt.sort_values('distance')\n",
    "    return df_sorted.iloc[0:num]"
   ]
  },
  {
   "cell_type": "code",
   "execution_count": null,
   "metadata": {},
   "outputs": [],
   "source": [
    "find_nearest_time_overlapping(df_asdf, '7D', 'DC41', 10)"
   ]
  },
  {
   "cell_type": "code",
   "execution_count": null,
   "metadata": {
    "scrolled": false
   },
   "outputs": [],
   "source": [
    "for target_net in TARGET_NETS['net']:\n",
    "    df_net = df_asdf.loc[df_asdf['net'] == target_net]\n",
    "    nearest = []\n",
    "    for sta in df_net['sta']:\n",
    "        result = find_nearest_time_overlapping(df_asdf, target_net, sta, num=10)\n",
    "        if result.empty:\n",
    "            continue\n",
    "        nearest.append(result)\n",
    "    nearest = pd.concat(nearest).sort_values('distance')\n",
    "    nearest = nearest.loc[~nearest['net'].isin(temp_deploys)]\n",
    "    nearest.drop_duplicates(['net', 'sta'], inplace=True)\n",
    "#     display(nearest)\n",
    "    df_combined = pd.concat([df_net, nearest])\n",
    "#     display(df_combined)\n",
    "    plot_basemap_networks(df_combined, title=\"Deployment Name: {}\".format(target_net))\n",
    "    start_time = df_net['start_time'].min()\n",
    "    end_time = df_net['end_time'].max()\n",
    "    plt.text(0.01, 0.01, \"Deployment date range: {} -- {}\".format(start_time, end_time),\n",
    "             transform=plt.gca().transAxes, fontsize=12)\n",
    "    plt.savefig('{}_REF_neighbours.png'.format(target_net), dpi=300)\n",
    "    plt.show()"
   ]
  },
  {
   "cell_type": "code",
   "execution_count": null,
   "metadata": {},
   "outputs": [],
   "source": []
  }
 ],
 "metadata": {
  "kernelspec": {
   "display_name": "Python 2",
   "language": "python",
   "name": "python2"
  },
  "language_info": {
   "codemirror_mode": {
    "name": "ipython",
    "version": 2
   },
   "file_extension": ".py",
   "mimetype": "text/x-python",
   "name": "python",
   "nbconvert_exporter": "python",
   "pygments_lexer": "ipython2",
   "version": "2.7.11"
  }
 },
 "nbformat": 4,
 "nbformat_minor": 2
}
