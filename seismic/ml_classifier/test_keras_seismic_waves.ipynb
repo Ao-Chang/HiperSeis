{
 "cells": [
  {
   "cell_type": "code",
   "execution_count": null,
   "metadata": {},
   "outputs": [],
   "source": [
    "# $ conda env list\n",
    "# # conda environments:\n",
    "# #\n",
    "# base                  *  /g/data1a/ha3/fxz547/miniconda3\n",
    "# py37                     /g/data1a/ha3/fxz547/miniconda3/envs/py37\n",
    "\n",
    "\n",
    "# (base) fxz547@vdi-n11 /g/data1a/ha3/fxz547/Githubz/passive-seismic/seismic/ml_classifier (fei/py3aws)\n",
    "# $ conda activate py37"
   ]
  },
  {
   "cell_type": "code",
   "execution_count": 1,
   "metadata": {},
   "outputs": [
    {
     "name": "stderr",
     "output_type": "stream",
     "text": [
      "Using Theano backend.\n"
     ]
    }
   ],
   "source": [
    "from keras import backend"
   ]
  },
  {
   "cell_type": "code",
   "execution_count": 2,
   "metadata": {},
   "outputs": [],
   "source": [
    "import os\n",
    "from random import shuffle,seed\n",
    "\n",
    "def build_input_data(data_folder):\n",
    "    \"\"\"build a list of IDs and dictionary of labels\n",
    "    \"\"\"\n",
    "    files=os.listdir(data_folder)\n",
    "    IDs=[]\n",
    "    for fname in files:\n",
    "        if fname.endswith('.npy'):\n",
    "            IDs.append(fname.rstrip('.npy'))\n",
    "\n",
    "    labels={}\n",
    "    Sctr=0\n",
    "    Nctr=0\n",
    "    for ID in IDs:\n",
    "        if ID.endswith('_S'):\n",
    "            labels[ID]=0\n",
    "            Sctr+=1\n",
    "        else:\n",
    "            labels[ID]=1\n",
    "            Nctr+=1\n",
    "\n",
    "    seed(0)\n",
    "    shuffle(IDs)\n",
    "    trainLen=int(0.8*len(IDs))#use 80% of the data as training set\n",
    "    valLen=int(0.1*len(IDs))\n",
    "    partition={}\n",
    "    partition['train'],partition['val'],partition['test']=IDs[0:trainLen],IDs[trainLen:trainLen+valLen],IDs[trainLen+valLen:]\n",
    "\n",
    "\n",
    "    #create ID lists for S, N wave test cases\n",
    "\n",
    "    inv_labels=[[],[]]\n",
    "    for ID in partition['test']:\n",
    "        inv_labels[labels[ID]].append(ID)\n",
    "\n",
    "    print('dataset contains '+str(Sctr)+' S waves and '+str(Nctr)+' noise waveforms.')\n",
    "    print('training set contains '+str(len(partition['train']))+' waveforms and test set contains '+str(len(partition['test']))+' waveforms.')\n",
    "    \n",
    "    return partition\n",
    "\n"
   ]
  },
  {
   "cell_type": "code",
   "execution_count": 3,
   "metadata": {},
   "outputs": [
    {
     "name": "stdout",
     "output_type": "stream",
     "text": [
      "dataset contains 28499 S waves and 28505 noise waveforms.\n",
      "training set contains 45603 waveforms and test set contains 5701 waveforms.\n",
      "dict_keys(['train', 'val', 'test'])\n"
     ]
    }
   ],
   "source": [
    "wave_data_folder='/g/data/ha3/fxz547/seiswave_data_4ml'\n",
    "\n",
    "ds_parts=build_input_data(wave_data_folder)\n",
    "\n",
    "print (ds_parts.keys())"
   ]
  },
  {
   "cell_type": "code",
   "execution_count": 5,
   "metadata": {},
   "outputs": [],
   "source": []
  },
  {
   "cell_type": "code",
   "execution_count": 4,
   "metadata": {},
   "outputs": [
    {
     "name": "stdout",
     "output_type": "stream",
     "text": [
      "dataset contains 28499 S waves and 28505 noise waveforms.\n",
      "training set contains 45603 waveforms and test set contains 5701 waveforms.\n",
      "['30198_S', '3677_S', '21174_S', '17812_S', '1636_S', '24551_S', '27429_S', '11643_S', '25584_S', '22208_S']\n",
      "['1603_N', '25224_N', '3369_N', '16908_N', '22300_N', '33828_N', '19070_N', '26563_N', '11512_N', '19553_N']\n"
     ]
    }
   ],
   "source": [
    "import data\n",
    "\n",
    "SIDs=data.getIDs(0)\n",
    "NIDs=data.getIDs(1)\n",
    "\n",
    "print (SIDs[:10])\n",
    "print(NIDs[:10])"
   ]
  },
  {
   "cell_type": "code",
   "execution_count": 5,
   "metadata": {},
   "outputs": [],
   "source": [
    "import numpy as np\n",
    "npyfile = \"/g/data/ha3/fxz547/seiswave_data_4ml/3996_S.npy\"\n",
    "my_waved= np.load(npyfile)"
   ]
  },
  {
   "cell_type": "code",
   "execution_count": 6,
   "metadata": {},
   "outputs": [
    {
     "name": "stdout",
     "output_type": "stream",
     "text": [
      "<class 'numpy.ndarray'>\n"
     ]
    }
   ],
   "source": [
    "print (type(my_waved))"
   ]
  },
  {
   "cell_type": "code",
   "execution_count": 7,
   "metadata": {},
   "outputs": [],
   "source": [
    "import xarray as xar\n",
    "\n",
    "xa = xar.DataArray(my_waved, dims=['wamplitude'])\n"
   ]
  },
  {
   "cell_type": "code",
   "execution_count": 10,
   "metadata": {},
   "outputs": [
    {
     "data": {
      "text/plain": [
       "[<matplotlib.lines.Line2D at 0x7f8b8d2f8198>]"
      ]
     },
     "execution_count": 10,
     "metadata": {},
     "output_type": "execute_result"
    },
    {
     "data": {
      "image/png": "[encoded data removed]",
      "text/plain": [
       "<Figure size 432x288 with 1 Axes>"
      ]
     },
     "metadata": {
      "needs_background": "light"
     },
     "output_type": "display_data"
    }
   ],
   "source": [
    "xa.plot()"
   ]
  },
  {
   "cell_type": "code",
   "execution_count": 9,
   "metadata": {},
   "outputs": [
    {
     "data": {
      "text/plain": [
       "<xarray.DataArray (wamplitude: 6000)>\n",
       "array([ 0.      , -0.006568, -0.011815, ...,  0.011536,  0.006559,  0.      ])\n",
       "Dimensions without coordinates: wamplitude"
      ]
     },
     "execution_count": 9,
     "metadata": {},
     "output_type": "execute_result"
    }
   ],
   "source": [
    "xa"
   ]
  },
  {
   "cell_type": "code",
   "execution_count": null,
   "metadata": {},
   "outputs": [],
   "source": []
  },
  {
   "cell_type": "code",
   "execution_count": null,
   "metadata": {},
   "outputs": [],
   "source": []
  },
  {
   "cell_type": "markdown",
   "metadata": {},
   "source": [
    "# Predict Phase Using a Trained Model"
   ]
  },
  {
   "cell_type": "code",
   "execution_count": 11,
   "metadata": {},
   "outputs": [
    {
     "name": "stderr",
     "output_type": "stream",
     "text": [
      "/g/data1a/ha3/fxz547/Githubz/passive-seismic/seismic/ml_classifier/model.py:34: UserWarning: Update your `Model` call to the Keras 2 API: `Model(inputs=/input_1, outputs=Softmax.0)`\n",
      "  model = Model(input = inputs, output = dense5)\n",
      "/g/data1a/ha3/fxz547/miniconda3/envs/py37/lib/python3.7/site-packages/keras/utils/conv_utils.py:82: FutureWarning: Using a non-tuple sequence for multidimensional indexing is deprecated; use `arr[tuple(seq)]` instead of `arr[seq]`. In the future this will be interpreted as an array index, `arr[np.array(seq)]`, which will result either in an error or a different result.\n",
      "  return np.copy(kernel[slices])\n"
     ]
    },
    {
     "name": "stdout",
     "output_type": "stream",
     "text": [
      "[[ 0.81007814  0.18992187]]\n",
      "writing outfile correctS/30198_S.png\n",
      "[[ 0.00302994  0.99697006]]\n",
      "writing outfile correctN/1603_N.png\n"
     ]
    }
   ],
   "source": [
    "from model import shakenet\n",
    "#from data import *\n",
    "import data\n",
    "import os\n",
    "import matplotlib\n",
    "matplotlib.use('Agg')\n",
    "import obspy.core as oc\n",
    "\n",
    "model=shakenet(pretrained_weights='shakenet-model.hdf5')\n",
    "\n",
    "\n",
    "#dataDir='/g/data/ha3/rlt118/neural-datasets/categoriser-teleseismic/'\n",
    "dataDir= data.datafolder  #'/g/data/ha3/fxz547/seiswave_data_4ml'\n",
    "SIDs=data.getIDs(0)\n",
    "NIDs=data.getIDs(1)\n",
    "\n",
    "for ID in SIDs[:1]:\n",
    "    x=np.resize(np.load(os.path.join(dataDir,ID+'.npy')),(1,6002,1))\n",
    "    result=model.predict(x,batch_size=1)\n",
    "    \n",
    "    print (result)\n",
    "    \n",
    "    if np.argmax(result[0])==0:\n",
    "        outfname='correctS/'+ID+'.png'\n",
    "    else:\n",
    "        outfname='badS-N/'+ID+'.png'\n",
    "        \n",
    "    trc=oc.stream.read(os.path.join(dataDir,ID+'.pkl'),  format=\"PICKLE\")\n",
    "        \n",
    "    print(\"writing outfile\", outfname)\n",
    "    \n",
    "    trc.plot(outfile=outfname)\n",
    "\n",
    "for ID in NIDs[:1]:\n",
    "    x=np.resize(np.load(os.path.join(dataDir,ID+'.npy')),(1,6002,1))\n",
    "    result=model.predict(x,batch_size=1)\n",
    "    print (result)\n",
    "    \n",
    "    trc=oc.stream.read(os.path.join(dataDir,ID+'.pkl'), format=\"PICKLE\")\n",
    "    if np.argmax(result[0])==0:\n",
    "        outfname='badN-S/'+ID+'.png'\n",
    "    else:\n",
    "        outfname='correctN/'+ID+'.png'\n",
    "        \n",
    "    print(\"writing outfile\", outfname) \n",
    "    trc.plot(outfile=outfname)\n"
   ]
  },
  {
   "cell_type": "code",
   "execution_count": null,
   "metadata": {},
   "outputs": [],
   "source": []
  },
  {
   "cell_type": "code",
   "execution_count": null,
   "metadata": {},
   "outputs": [],
   "source": []
  }
 ],
 "metadata": {
  "kernelspec": {
   "display_name": "Python 3",
   "language": "python",
   "name": "python3"
  },
  "language_info": {
   "codemirror_mode": {
    "name": "ipython",
    "version": 3
   },
   "file_extension": ".py",
   "mimetype": "text/x-python",
   "name": "python",
   "nbconvert_exporter": "python",
   "pygments_lexer": "ipython3",
   "version": "3.7.3"
  }
 },
 "nbformat": 4,
 "nbformat_minor": 2
}
