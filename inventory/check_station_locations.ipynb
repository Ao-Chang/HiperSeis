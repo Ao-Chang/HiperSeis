{
 "cells": [
  {
   "cell_type": "code",
   "execution_count": null,
   "metadata": {},
   "outputs": [],
   "source": [
    "# Load station locations fro station metadata database and sanity check them against seismic events.\n",
    "%matplotlib inline\n",
    "%load_ext line_profiler"
   ]
  },
  {
   "cell_type": "code",
   "execution_count": null,
   "metadata": {},
   "outputs": [],
   "source": [
    "import os\n",
    "import sys\n",
    "sys.path.append(os.path.realpath('..'))\n",
    "from collections import defaultdict"
   ]
  },
  {
   "cell_type": "code",
   "execution_count": null,
   "metadata": {},
   "outputs": [],
   "source": [
    "import numpy as np\n",
    "import pandas as pd\n",
    "import matplotlib.pyplot as plt\n",
    "plt.rcParams[\"figure.figsize\"] = (10,10)"
   ]
  },
  {
   "cell_type": "code",
   "execution_count": null,
   "metadata": {},
   "outputs": [],
   "source": [
    "import obspy\n",
    "# This is a bit dodgy since it assumes sperical earth...\n",
    "from obspy.geodetics.base import locations2degrees"
   ]
  },
  {
   "cell_type": "code",
   "execution_count": null,
   "metadata": {},
   "outputs": [],
   "source": [
    "from tqdm.auto import tqdm"
   ]
  },
  {
   "cell_type": "code",
   "execution_count": null,
   "metadata": {},
   "outputs": [],
   "source": [
    "import random\n",
    "random.seed(20190118)"
   ]
  },
  {
   "cell_type": "code",
   "execution_count": null,
   "metadata": {},
   "outputs": [],
   "source": [
    "from dataio.catalogcsv import CatalogCSV"
   ]
  },
  {
   "cell_type": "code",
   "execution_count": null,
   "metadata": {},
   "outputs": [],
   "source": [
    "event_src_folder = r\"C:\\temp\\catalog\"\n",
    "inventory_src_file = r\"C:\\software\\passive-seismic\\inventory\\INVENTORY_20190116T144005.csv\"\n",
    "graphic_save_path = r\"C:\\temp\\catalog\""
   ]
  },
  {
   "cell_type": "code",
   "execution_count": null,
   "metadata": {
    "scrolled": true
   },
   "outputs": [],
   "source": [
    "# Load event catalog\n",
    "import pickle as pkl\n",
    "import dill\n",
    "pkl_file = os.path.join(event_src_folder, \"cat.pkl\")\n",
    "if os.path.exists(pkl_file):\n",
    "    with open(pkl_file, 'rb') as f:\n",
    "        cat = pkl.load(f)\n",
    "else:\n",
    "    cat = CatalogCSV(event_src_folder)\n",
    "    with open(pkl_file, 'wb') as f:\n",
    "        pkl.dump(cat, f, pkl.HIGHEST_PROTOCOL)"
   ]
  },
  {
   "cell_type": "code",
   "execution_count": null,
   "metadata": {},
   "outputs": [],
   "source": [
    "# Load station inventory\n",
    "inv = pd.read_csv(inventory_src_file, sep=',', keep_default_na=False,\n",
    "                  parse_dates=['StationStart','StationEnd','ChannelStart','ChannelEnd'])\n",
    "# Only using BHZ channels\n",
    "inv = inv[inv['ChannelCode'] == 'BHZ']"
   ]
  },
  {
   "cell_type": "code",
   "execution_count": null,
   "metadata": {},
   "outputs": [],
   "source": [
    "hour = np.timedelta64(1, 'h')"
   ]
  },
  {
   "cell_type": "code",
   "execution_count": null,
   "metadata": {},
   "outputs": [],
   "source": [
    "def processCatalog(cat, inv, num_stations=-1, distfunc=locations2degrees):\n",
    "    #import pdb\n",
    "    MAX_EVENT_SAMPLES = 100\n",
    "    compute_dist = lambda x: distfunc(x.Latitude, x.Longitude, epicenter[0], epicenter[1])\n",
    "    stations = [s for s in cat.station_dict.keys()]\n",
    "    if num_stations > 0:\n",
    "        stations = stations[0:num_stations]\n",
    "    agg_result = defaultdict(lambda: defaultdict(lambda: defaultdict(list)))\n",
    "    progress = tqdm(total=len(stations))\n",
    "    # Precompute full names\n",
    "    inv['FullCode'] = inv['NetworkCode'].map(str) + \".\" + inv['StationCode']\n",
    "    for stn in stations:\n",
    "        progress.update()\n",
    "        #pdb.set_trace()\n",
    "        df_st = inv[inv['StationCode'] == stn]\n",
    "        if df_st.empty:\n",
    "            continue\n",
    "        # Precompute some masks\n",
    "        stst = df_st['StationStart']\n",
    "        sten = df_st['StationEnd']\n",
    "        chst = df_st['ChannelStart']\n",
    "        chen = df_st['ChannelEnd']\n",
    "        stst_na = stst.isna().values\n",
    "        sten_na = sten.isna().values\n",
    "        chst_na = chst.isna().values\n",
    "        chen_na = chen.isna().values\n",
    "        station_events = cat.station_dict[stn]['P']\n",
    "        # Don't need to plot all events to detect distance error, a sampling of events will do.\n",
    "        num_samples = min(MAX_EVENT_SAMPLES, len(station_events))\n",
    "        for event_id, event_distance_deg in random.sample(station_events, num_samples):\n",
    "            event = cat.event_dict[event_id]\n",
    "            epicenter = event.preferred_origin.epicenter()\n",
    "            event_date = np.datetime64(event.preferred_origin.utctime)\n",
    "            event_window_end = event_date + hour\n",
    "            station_mask = stst_na | ((stst.values < event_date) & (sten_na | (sten.values > event_window_end)))\n",
    "            channel_mask = chst_na | ((chst.values < event_date) & (chen_na | (chen.values > event_window_end)))\n",
    "            df_event = df_st[station_mask & channel_mask]\n",
    "            if df_event.empty:\n",
    "                continue\n",
    "            computed_dist_deg = df_event.apply(compute_dist, axis=1)\n",
    "            for idx, dist in computed_dist_deg.iteritems():\n",
    "                full_code = df_event.loc[idx, \"FullCode\"]\n",
    "                agg_result[stn][full_code]['Distance'].append(event_distance_deg)\n",
    "                agg_result[stn][full_code]['ComputedDistance'].append(dist)\n",
    "    progress.close()\n",
    "    return agg_result"
   ]
  },
  {
   "cell_type": "code",
   "execution_count": null,
   "metadata": {},
   "outputs": [],
   "source": [
    "do_profile = False\n",
    "if do_profile:\n",
    "    %lprun -f processCatalog agg_result=processCatalog(cat, inv, 100)\n",
    "else:\n",
    "    import pickle as pkl\n",
    "    pkl_file = os.path.join(event_src_folder, \"distances.pkl\")\n",
    "    if os.path.exists(pkl_file):\n",
    "        with open(pkl_file, 'rb') as f:\n",
    "            agg_result = pkl.load(f)\n",
    "    else:\n",
    "        agg_result = processCatalog(cat, inv)\n",
    "        with open(pkl_file, 'wb') as f:\n",
    "            pkl.dump(agg_result, f, pkl.HIGHEST_PROTOCOL)"
   ]
  },
  {
   "cell_type": "code",
   "execution_count": null,
   "metadata": {},
   "outputs": [],
   "source": [
    "def plotStationDistances(stn, stn_data, savepath=None):\n",
    "    import itertools\n",
    "    import os\n",
    "    marker = itertools.cycle(('x', '1', '+', '2'))\n",
    "    xval = [v['Distance'] for v in stn_data.values()]\n",
    "    yval = [v['ComputedDistance'] for v in stn_data.values()]\n",
    "    [plt.plot(x, y, marker=next(marker), markersize=10, linestyle='', fillstyle=None) for x, y in zip(xval, yval)]\n",
    "    plt.axis('equal')\n",
    "    plt.title(stn, fontsize=16)\n",
    "    plt.legend(stn_data.keys(), fontsize=14)\n",
    "    plt.grid()\n",
    "    plt.gca().tick_params(axis='both', labelsize=14)\n",
    "    plt.xlabel('Distance (deg)', fontsize=14)\n",
    "    plt.ylabel('Computed Distance (deg)', fontsize=14)    \n",
    "    if savepath:\n",
    "        plt.savefig(os.path.join(savepath, stn + \".png\"), dpi=150)\n",
    "        plt.close()\n",
    "    else:\n",
    "        plt.show()"
   ]
  },
  {
   "cell_type": "code",
   "execution_count": null,
   "metadata": {
    "scrolled": false
   },
   "outputs": [],
   "source": [
    "# Dump images to files\n",
    "[plotStationDistances(stn, stn_data, graphic_save_path) for stn, stn_data in agg_result.items()]\n",
    "pass"
   ]
  },
  {
   "cell_type": "code",
   "execution_count": null,
   "metadata": {},
   "outputs": [],
   "source": []
  }
 ],
 "metadata": {
  "kernelspec": {
   "display_name": "Python 2",
   "language": "python",
   "name": "python2"
  },
  "language_info": {
   "codemirror_mode": {
    "name": "ipython",
    "version": 2
   },
   "file_extension": ".py",
   "mimetype": "text/x-python",
   "name": "python",
   "nbconvert_exporter": "python",
   "pygments_lexer": "ipython2",
   "version": "2.7.15"
  }
 },
 "nbformat": 4,
 "nbformat_minor": 2
}
