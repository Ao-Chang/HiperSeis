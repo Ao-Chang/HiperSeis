{
 "cells": [
  {
   "cell_type": "code",
   "execution_count": 1,
   "metadata": {},
   "outputs": [],
   "source": [
    "# Load station locations fro station metadata database and sanity check them against seismic events."
   ]
  },
  {
   "cell_type": "code",
   "execution_count": 2,
   "metadata": {},
   "outputs": [],
   "source": [
    "import os\n",
    "import sys\n",
    "sys.path.append(os.path.realpath('..'))"
   ]
  },
  {
   "cell_type": "code",
   "execution_count": 3,
   "metadata": {},
   "outputs": [],
   "source": [
    "import obspy\n",
    "from seismic.pick_harvester import utils"
   ]
  },
  {
   "cell_type": "code",
   "execution_count": 4,
   "metadata": {},
   "outputs": [],
   "source": [
    "event_src_folder = '/g/data/ha3/am7399/temp'"
   ]
  },
  {
   "cell_type": "code",
   "execution_count": 5,
   "metadata": {},
   "outputs": [
    {
     "name": "stdout",
     "output_type": "stream",
     "text": [
      "Reading /g/data/ha3/am7399/temp/CAT_small.csv\n"
     ]
    },
    {
     "data": {
      "application/vnd.jupyter.widget-view+json": {
       "model_id": "9df54c743f634ba3bb5153b867db1517",
       "version_major": 2,
       "version_minor": 0
      },
      "text/plain": [
       "HBox(children=(IntProgress(value=0, description='/g/data/ha3/am7399/temp/CAT_small.csv', max=1217604, style=Pr…"
      ]
     },
     "metadata": {},
     "output_type": "display_data"
    },
    {
     "name": "stdout",
     "output_type": "stream",
     "text": [
      "\n"
     ]
    }
   ],
   "source": [
    "cat = utils.CatalogCSV(event_src_folder)"
   ]
  },
  {
   "cell_type": "code",
   "execution_count": 6,
   "metadata": {},
   "outputs": [],
   "source": [
    "e0 = cat.event_dict[1]"
   ]
  },
  {
   "cell_type": "code",
   "execution_count": 7,
   "metadata": {},
   "outputs": [
    {
     "name": "stdout",
     "output_type": "stream",
     "text": [
      "ID: 1\n",
      "Preferred origin:\n",
      "  Time: 2005-09-16T07:28:39.001000Z\n",
      "  Location: (4.187, 126.933, 2.9)\n",
      "Preferred Magnitude:\n",
      "  Magnitude: 4.5 (mb)\n"
     ]
    }
   ],
   "source": [
    "print(e0)"
   ]
  },
  {
   "cell_type": "code",
   "execution_count": 8,
   "metadata": {},
   "outputs": [
    {
     "name": "stdout",
     "output_type": "stream",
     "text": [
      "Time: 2005-09-16T07:28:39.001000Z\n",
      "Location: (4.187, 126.933, 2.9)\n"
     ]
    }
   ],
   "source": [
    "print(e0.preferred_origin)"
   ]
  },
  {
   "cell_type": "code",
   "execution_count": 9,
   "metadata": {},
   "outputs": [],
   "source": [
    "origin = e0.preferred_origin"
   ]
  },
  {
   "cell_type": "code",
   "execution_count": 10,
   "metadata": {},
   "outputs": [
    {
     "name": "stdout",
     "output_type": "stream",
     "text": [
      ".FITZ (0, 0, 0), BHZ: P -> 2005-09-16T07:33:37.000000Z, 22.18\n",
      ".WR0 (0, 0, 0), BHZ: P -> 2005-09-16T07:34:06.000000Z, 25.13\n",
      ".KUM (0, 0, 0), BHZ: P -> 2005-09-16T07:35:02.000000Z, 26.22\n",
      ".MEEK (0, 0, 0), BHZ: P -> 2005-09-16T07:35:04.000000Z, 31.68\n",
      ".FORT (0, 0, 0), BHZ: P -> 2005-09-16T07:35:32.000000Z, 34.78\n",
      ".STKA (0, 0, 0), BHZ: P -> 2005-09-16T07:36:04.000000Z, 38.48\n",
      ".KSM (0, 0, 0), BHZ: Pn -> 2005-09-16T07:32:39.000000Z, 16.82\n",
      ".KAKA (0, 0, 0), BHZ: P -> 2005-09-16T07:33:04.000000Z, 17.66\n",
      ".FITZ (0, 0, 0), BHZ: P -> 2005-09-16T07:33:36.000000Z, 22.18\n",
      ".FITZ (0, 0, 0), BHZ: P -> 2005-09-16T07:33:35.000000Z, 22.18\n",
      ".WRAB (0, 0, 0), BHZ: P -> 2005-09-16T07:34:04.000000Z, 25.05\n",
      ".WRA (0, 0, 0), BHZ: P -> 2005-09-16T07:34:05.000000Z, 25.06\n",
      ".WRA (0, 0, 0), BHZ: S -> 2005-09-16T07:38:27.000000Z, 25.06\n",
      ".WB2 (0, 0, 0), BHZ: P -> 2005-09-16T07:34:05.000000Z, 25.06\n",
      ".FORT (0, 0, 0), BHZ: P -> 2005-09-16T07:35:31.000000Z, 34.78\n",
      ".KLBR (0, 0, 0), BHZ: P -> 2005-09-16T07:35:46.000000Z, 36.64\n",
      ".MUN (0, 0, 0), BHZ: P -> 2005-09-16T07:35:53.000000Z, 37.38\n",
      ".STKA (0, 0, 0), BHZ: P -> 2005-09-16T07:36:04.000000Z, 38.48\n",
      ".STKA (0, 0, 0), BHZ: P -> 2005-09-16T07:36:03.000000Z, 38.48\n",
      ".MKAR (0, 0, 0), BHZ: P -> 2005-09-16T07:38:28.000000Z, 57.3\n",
      ".MKAR (0, 0, 0), BHZ: P -> 2005-09-16T07:38:28.000000Z, 57.3\n",
      ".KURK (0, 0, 0), BHZ: P -> 2005-09-16T07:38:57.000000Z, 61.47\n",
      ".BVAR (0, 0, 0), BHZ: P -> 2005-09-16T07:39:33.000000Z, 67.05\n",
      ".BRVK (0, 0, 0), BHZ: P -> 2005-09-16T07:39:34.000000Z, 67.12\n",
      ".VNDA (0, 0, 0), BHZ: P -> 2005-09-16T07:41:09.000000Z, 83.85\n",
      ".MAW (0, 0, 0), BHZ: P -> 2005-09-16T07:41:13.000000Z, 84.25\n",
      ".ILAR (0, 0, 0), BHZ: P -> 2005-09-16T07:41:15.000000Z, 84.61\n",
      ".KMBO (0, 0, 0), BHZ: P -> 2005-09-16T07:41:40.000000Z, 89.76\n"
     ]
    }
   ],
   "source": [
    "[print(a) for a in origin.arrivals]\n",
    "None"
   ]
  },
  {
   "cell_type": "code",
   "execution_count": 11,
   "metadata": {},
   "outputs": [
    {
     "data": {
      "text/plain": [
       "[1, 4, 5, 9, 26, 35, 52, 55, 68, 69, 71, 93, 96, 100]"
      ]
     },
     "execution_count": 11,
     "metadata": {},
     "output_type": "execute_result"
    }
   ],
   "source": [
    "cat.station_dict['KUM']"
   ]
  },
  {
   "cell_type": "code",
   "execution_count": 13,
   "metadata": {},
   "outputs": [
    {
     "name": "stdout",
     "output_type": "stream",
     "text": [
      "['JOF', 'ESLA', 'GIM', 'PLCA', 'GWJ', 'MTUM', 'BKZ', 'MATI', 'WVT', 'OJC', 'MBWA', 'MRMT', 'MWC', 'SSE', 'CKFL', 'HARI', 'RSP', 'VILF', 'QSH', 'BRG', 'LHEM', 'LIO', 'GSC', 'INK', 'WTTA', 'BODT', 'JGN', 'ACCN', 'BNT', 'OSD', 'PYM', 'TOLF', 'IDID', 'RCP', 'GSM', 'RHK1', 'EMUR', 'HYA', 'BALST', 'AKTK', 'ITM', 'LFF', 'EDM', 'LIENZ', 'BOZ', 'BOD', 'CRE', 'GIVF', 'SUW', 'CMER', 'SPU', 'GOLH', 'SKDB', 'ANTO', 'HCY', 'JCW', 'OHO', 'SNX', 'GCIS', 'MEST', 'OHCM', 'KALG', 'DEG', 'JMIC', 'KSB', 'BUCH', 'MME1', 'FITZ', 'BLSP', 'MNK', 'VNDA', 'DIVS', 'ELAN', 'COPN', 'LPIG', 'VNA1', 'ISA', 'CGP', 'MPU', 'MFF', 'JSD', 'MNV', 'AJM', 'KULM', 'JMQS', 'KDZ', 'PRAF', 'TDS', 'WEIN', 'ASPA', 'BNJ', 'DOBS', 'SJMP', 'CPNY', 'IMP', 'PKI', 'DAV', 'SUMG', 'SMCO', 'APON', 'VNA2', 'MBAR', 'DMPH', 'SJG', 'JAVS', 'FFC', 'CSSN', 'CBKS', 'FUR', 'CII', 'QIS', 'VORD', 'JOGS', 'CGA2', 'MXZ', 'REVF', 'VLS', 'KOLS', 'SVE', 'RKT', 'LCBS', 'USP', 'MLS', 'YNBS', 'PGF', 'MCGN', 'BCK', 'VAE', 'WC4', 'BLCB', 'PAE', 'SCZP', 'HFA0', 'MTP', 'PYTN', 'TBI', 'EAU', 'AGRA', 'SAMG', 'WILN', 'MMB', 'QZH', 'TLCR', 'TCUT', 'HUIG', 'CMAH', 'ETOB', 'XOR', 'BESP', 'JHK', 'SSNN', 'KONT', 'WIM', 'QUIF', 'EHUE', 'SMY', 'CRES', 'KIS', 'TOD', 'DL2', 'KHZ', 'MIYJ', 'HRY', 'KIC', 'EBAD', 'BORA', 'GSPH', 'XMIS', 'EVO', 'ARU', 'BRNJ', 'TRWZ', 'MUKL', 'RMQ', 'EVIA', 'IMW', 'VAI', 'SIUC', 'SAOF', 'TYV', 'TTG', 'HARR', 'KNA', 'SIT', 'RBDL', 'KKB', 'BOB', 'HNTI', 'NNA', 'WILA', 'SNJE', 'YER', 'PLOU', 'JYS', 'HSP', 'IRK', 'SDPT', 'PSZ', 'NSHM', 'BBOO', 'BRTR', 'JHJ2', 'VOIR', 'CANT', 'BSY', 'VAM', 'YHNB', 'OBC', 'HIA', 'DBIC', 'ASAJ', 'KLR', 'LOD', 'VKA', 'HVU', 'KNZ', 'BSD', 'CHMT', 'RDF', 'SFI', 'HATJ', 'H2OWA', 'WTSB', 'LPAZ', 'LSZ', 'RPZ', 'IZAR', 'CCAN', 'PGD', 'CFR', 'UBT', 'NVRH', 'AYDN', 'LASF', 'JJT2', 'APPI', 'EJIF', 'EMOS', 'SEST', 'FRNY', 'NE18', 'PRNI', 'CLCH', 'POLP', 'WUAZ', 'CTT', 'ECK', 'DOG', 'CIT', 'KUDL', 'EAB', 'ASHO', 'MILA', 'REDW', 'MUGIO', 'LBTB', 'KOZT', 'MLSB', 'IZM', 'ETRT', 'MGAN', 'JAGN', 'SONM', 'HSA', 'SLKM', 'ELK', 'LIT', 'AFFS', 'WMQ', 'JFM', 'KEBM', 'CASY', 'CRM', 'NVAR', 'MA2', 'STV', 'FCH', 'BTOK', 'JWM', 'SANT', 'DGMT', 'GKP', 'SULZ', 'BCPH', 'JJH', 'VIPM', 'BNN', 'YUK', 'GDM', 'TOUF', 'KLBR', 'PVCC', 'RTO', 'AKH', 'SNG', 'URFA', 'TSOZ', 'EBER', 'STR', 'THZ', 'KWAJ', 'SPUT', 'MERS', 'JTH', 'MJAR', 'VOY', 'PUL', 'PLE', 'BHGR', 'YSS', 'RZN', 'VCR', 'MRLC', 'BLA', 'BUKP', 'BCG', 'SADO', 'VALF', 'IRIF', 'LARF', 'CTBH', 'TAYS', 'ETSF', 'LZH', 'WCZ', 'RRR', 'ELL', 'DPC', 'UALR', 'SPAK', 'VRI', 'ENPP', 'TCW', 'KARP', 'PMR', 'KCPM', 'ALFC', 'UDYN', 'AML', 'MELSS', 'PLONS', 'BUF', 'ZFRI', 'GENY', 'ZST', 'JAW', 'CRVS', 'ARQ', 'LDFC', 'PLD', 'ANMO', 'TRN', 'JAM', 'CVP', 'SML', 'MATF', 'BADI', 'CDF', 'EFAM', 'HAQS', 'KVT', 'CTAO', 'GTK', 'CORM', 'THEF', 'MVL', 'SRS', 'DZM', 'GIRL', 'ERK', 'PFO', 'KSU1', 'WLF1', 'FFD', 'ELN', 'KAC', 'BVA2', 'GQP', 'OSL', 'CFAA', 'SWZ', 'WATA', 'EMV', 'ARG', 'TVO', 'YAK', 'SFJD', 'ISP', 'LVI', 'KUM', 'YASR', 'HRT', 'GRAM', 'TEL3', 'KROS', 'PTH', 'SGKT', 'BNGL', 'MCJ', 'MANT', 'TWW', 'SVSK', 'GROS', 'BBS', 'ALLY', 'CONN', 'MOO', 'CNB', 'YAIG', 'LRAL', 'BOM', 'MET', 'MTSU', 'SNOW', 'CKHR', 'BUM', 'ATAB', 'HDW', 'ENH', 'HASLI', 'JHO', 'CABF', 'SZAC', 'VIVF', 'CCA1', 'SMRF', 'PCAB', 'MRZ', 'ESK', 'PNIG', 'STOK', 'BOLS', 'KWE', 'DMN', 'CMJ', 'GRSN', 'ECH', 'RPW', 'SNET', 'BLDU', 'JMJ', 'JGF', 'EVR', 'PCP', 'BER', 'MELF', 'WR0', 'ZON', 'CGW', 'ANN', 'BHD', 'EZN', 'SKR', 'LZG', 'BAD', 'VERF', 'RUND', 'GTA', 'IPIL', 'ECHA', 'SWS', 'EBG', 'PLDF', 'QLMT', 'SET', 'MSL', 'PET', 'LWH', 'KSP', 'CFTV', 'NOUC', 'MNTX', 'BERNI', 'RBK', 'SKI', 'LVV', 'ESAC', 'CHG', 'JTK', 'KBA', 'GNAR', 'JJG', 'MGG', 'MMA0', 'PRYS', 'PPT', 'CDAG', 'COLA', 'CALN', 'JIM2', 'VOS', 'EPF', 'CHRT', 'SDCO', 'JYN', 'SLM', 'REYF', 'LPG', 'LMR', 'SNZO', 'NSAL', 'LPK', 'PTRM', 'ULM', 'ORI', 'FWV', 'JHE', 'JMM', 'ABH', 'KMI', 'MKRJ', 'PAWZ', 'TUC', 'GUIM', 'WHFO', 'LSR', 'BTMT', 'CRQ2', 'SRU', 'PBA', 'JASL', 'JTO', 'DIGO', 'JMZ', 'JRY', 'SQTA', 'PII', 'JZK', 'TUIG', 'OG26', 'TIY', 'LLP', 'CART', 'WES', 'HLM1', 'BOAC', 'VISS', 'SART', 'ARTV', 'SLCN', 'SGMF', 'BALB', 'PCPH', 'KNT', 'JKE', 'AYVA', 'KHC', 'LAO', 'TBM', 'TRO', 'JNU', 'JAR', 'OTSS', 'MID', 'JKT', 'EPH', 'PHNC', 'DLF', 'ROB', 'FRF', 'FVM', 'UPC', 'GAZ', 'ARUZ', 'BHV', 'KKTK', 'QSPA', 'EMIJ', 'BORG', 'KMBL', 'STKA', 'DRV', 'UBR', 'FDF', 'AKL', 'TLL', 'WDC', 'TPP', 'MOR8', 'ISK', 'ZIMR', 'MUN', 'MDN', 'BUOR', 'KMTI', 'KAD', 'CAIG', 'STH', 'EALK', 'GUMT', 'LBL', 'FILF', 'ORIF', 'HLID', 'MGR', 'ECHF', 'FIAM', 'DBAS', 'MALT', 'MORW', 'VDL', 'LTHS', 'HINF', 'NIG', 'MVM', 'OPO', 'TAVF', 'KECS', 'PTEO', 'UMR', 'WBK', 'OWE', 'NDI', 'FENE', 'NWAO', 'CERT', 'FUSIO', 'IVA', 'STEIN', 'SIRT', 'MAW', 'PRK', 'URLA', 'SYO', 'BHJ', 'MTA', 'TSM', 'BLO', 'BDRM', 'CPUP', 'ARE', 'NAIG', 'MTE', 'BOURR', 'MYA', 'TTA', 'BVAR', 'TIR', 'GUMO', 'DGRG', 'PTK', 'SHL', 'ERTA', 'GRYON', 'PRD', 'SVW2', 'MTO2', 'LJU', 'BALP', 'FOO', 'SMOL', 'LTRZ', 'BMKR', 'KS15', 'TICN', 'KIZ', 'DLMT', 'MCMT', 'WTV', 'GPA', 'PAIG', 'ABSA', 'CIGN', 'PUZ', 'SNY', 'WPM1', 'LBRS', 'ELOJ', 'YNR', 'SWET', 'DIX', 'BSO4', 'CAM4', 'ELDT', 'KWP', 'ERBM', 'QRZ', 'SKTB', 'LAV9', 'WLF', 'OOW', 'AWI1', 'STHS', 'YLV', 'ABA1', 'NATX', 'CMA1', 'SLR', 'TRAV', 'ZOU', 'MRL', 'KZA', 'JGM', 'CTA', 'PMG', 'NVL', 'BDAS', 'SJS', 'SSV', 'PV10', 'MDT', 'EMAZ', 'FVI', 'SOI', 'AGO', 'NAH1', 'MOTA', 'SOP', 'NEW', 'KAHT', 'KARA', 'NBP', 'BBP', 'NNT', 'BISR', 'FOZ', 'TORNY', 'MOL', 'LIKS', 'KSR', 'GSTR', 'AKS', 'MAIT', 'GELF', 'PTOM', 'SEI', 'OBKA', 'RUE', 'FLWY', 'JCR', 'JMY', 'OXF', 'JKU', 'SRO', 'KOLL', 'CN2', 'HVD', 'PGC', 'ENIJ', 'ABRA', 'UTMT', 'GYA', 'SVST', 'BDFB', 'FNVD', 'STAV', 'TDH', 'MDJ', 'NEN', 'CCM', 'QVPH', 'CNP', 'FUG', 'GOR', 'BUS', 'LFRS', 'SSP1', 'CRAG', 'MOMJ', 'AWH', 'PAL', 'CLZ', 'PKSM', 'KTD', 'GEC2', 'EIBI', 'DAVOX', 'NVLJ', 'CAL', 'KIZT', 'KAMT', 'CODM', 'GVD', 'GOGA', 'FRNF', 'EALB', 'PAHR', 'MENF', 'VLA', 'SZH', 'URZ', 'MGCD', 'GRNR', 'TUWZ', 'KAF', 'BRD', 'OBN', 'HTR', 'SNB', 'MIB', 'PBEJ', 'SBD1', 'TRI', 'SDV', 'KARS', 'HYF', 'TBLG', 'EGD', 'TIRR', 'BIDO', 'BSO3', 'EGRO', 'KDAG', 'TIC', 'OKC', 'OKH', 'ECRI', 'ERMK', 'MPRI', 'TBKS', 'ROSC', 'TRQA', 'PPCY', 'DSB', 'HASS', 'HGH', 'AUQP', 'SIM', 'MIRN', 'MPAR', 'KTJJ', 'LABF', 'ESKT', 'NAY', 'OKGL', 'JIZS', 'BVA0', 'LVZ', 'JFU', 'YNG', 'MUD', 'JZO', 'QURS', 'MENT', 'MOF', 'CGMA', 'HRV', 'KBS', 'VANB', 'SAL', 'NZB', 'SBLS', 'BANOM', 'SKO', 'PVCP', 'NKC', 'TAOE', 'FKH', 'MDZ', 'PSN', 'JHJ', 'TPAW', 'MEV', 'HBAR', 'MUO', 'CMCH', 'WMOK', 'KSM', 'STOF', 'BOQS', 'SUE', 'ODD1', 'TKM2', 'EQES', 'CTKT', 'CSS', 'CEY', 'BATP', 'PVY', 'CUC', 'LKBD', 'GERES', 'CEYT', 'BRT', 'ORLT', 'CRAR', 'ARPS', 'DRE', 'AOS', 'JSB', 'HIZ', 'EADA', 'BUD', 'LBNH', 'EMIR', 'STW', 'ECOG', 'GCMT', 'CNGN', 'ERON', 'CLNS', 'WLS', 'VNA3', 'SBA', 'WET', 'KCP', 'NB2', 'BBLS', 'JAK', 'QLP', 'STU', 'KURK', 'VHO', 'OTO', 'RCBR', 'RGN', 'BR131', 'TIXI', 'KEV', 'IKL', 'PKS7', 'HHC', 'VRSR', 'NVS', 'BYBT', 'SMG', 'KKM', 'MTLF', 'SMF', 'MFT', 'VSL', 'PVMO', 'BBOR', 'JAI', 'WB2', 'EKS2', 'PAYG', 'BUC1', 'SCPH', 'BRYW', 'OSR', 'ESDC', 'MDRS', 'BERF', 'MCH1', 'JTU', 'TKTP', 'HALT', 'CAEH', 'BUTP', 'CNCH', 'JRA', 'NEM2', 'RORSS', 'JOW', 'CSNT', 'YMR', 'VALM', 'DIY', 'AUTN', 'ZEI', 'IDI', 'CADS', 'EDI', 'MSLP', 'CAF', 'KBI1', 'ETW', 'CMB', 'FELD', 'EBL', 'MOY', 'PECR', 'ILAR', 'JKO', 'GRUS', 'PMSA', 'BHB', 'EMIN', 'KDHN', 'SWN1', 'FLN', 'KGM', 'VAL', 'TDL', 'PLP', 'KHL', 'JRG', 'TAU', 'KZN', 'CTI', 'KSDI', 'JCH', 'PV01', 'JMB', 'MIDA', 'HLGC', 'LRV', 'TSZ', 'AVNT', 'PTQR', 'MSNY', 'LTX', 'LIC', 'VOR', 'TNS', 'SENIN', 'LOMF', 'TREC', 'LOS', 'VTS', 'LEF', 'TGY', 'KELT', 'NST', 'PRU', 'KAR1', 'ISAL', 'SIV', 'KIV', 'MCD', 'EFI', 'MEZF', 'VINC', 'SOH', 'CTU', 'KUZ', 'PMOR', 'VIS', 'KAMS', 'CGH1', 'PNT', 'BROR', 'RRI2', 'MGER', 'KALP', 'EJON', 'SGCP', 'EGRA', 'AVF', 'BOO', 'ECAB', 'AAK', 'WCB1', 'WRD', 'GRFL', 'CD2', 'SBF', 'HILS', 'FDAF', 'APAE', 'LDF', 'BSEG', 'SVB', 'HWUT', 'ETOS', 'WVL', 'COP', 'ALWS', 'LBZ', 'JAN', 'MKAR', 'CBIJ', 'MAJO', 'ARSA', 'CPD', 'RIV', 'MTTG', 'HEX', 'KRTS', 'GBL', 'LKD', 'PGB', 'AGG', 'ELZG', 'RRL', 'CAHU', 'DAVA', 'FNA', 'SWK', 'AKASG', 'CHGN', 'TERO', 'JIH', 'HENT', 'YFT', 'ARUT', 'JSG', 'EIDS', 'DAG', 'AHID', 'OTVZ', 'GUAR', 'LSA', 'LVC', 'YRE', 'QUA2', 'SALAN', 'RAO', 'LKWY', 'MZDA', 'TOS', 'AEU', 'AIGLE', 'SNCC', 'EZM', 'SAFT', 'VIEF', 'SNVI', 'CPCT', 'EMHD', 'ASF', 'TBG', 'SMDO', 'CCIG', 'XAVN', 'BDI', 'KBO', 'BOK', 'HNH', 'UNV', 'SONA', 'RES', 'GZT', 'JMOS', 'NIE', 'OUR', 'WVZ', 'XDE', 'WIMIS', 'MOA', 'PLG', 'LERZ', 'MUIF', 'SNART', 'ERUA', 'OFUJ', 'RDO', 'JIJ', 'FCC', 'HKR', 'URSC', 'DJES', 'YBH', 'SIND', 'XAN', 'ROBS', 'STS', 'WHN', 'DENT', 'MIV', 'ELOB', 'CRA', 'KKN', 'AFI', 'EIL', 'KOLN', 'FINES', 'LPL', 'USHA', 'JGT', 'CNZ', 'EGOM', 'MDU', 'CARF', 'TSUM', 'KIPM', 'AB31', 'MBW', 'TIA', 'MXC', 'PCBR', 'CPZ', 'NOA', 'HOQ', 'NSS', 'OJGS', 'BHPL', 'MBH', 'ECAL', 'PKS9', 'KLP', 'ARCES', 'MCK', 'BNI', 'OBR', 'POO', 'JKRS', 'DGAR', 'CMW', 'VOJS', 'MLR', 'BARS', 'GRR', 'SCR', 'ALN', 'MAK', 'MAIM', 'KAKA', 'ZAL', 'MOD', 'SFS', 'ABA', 'KUR', 'FORC', 'KDAK', 'PHWY', 'HTY', 'JMK', 'TEY', 'ENR', 'BEKR', 'BAIF', 'RWWY', 'INTR', 'LBG', 'PUYF', 'BBSR', 'MOS', 'GRN', 'KSH', 'DAVOS', 'APE', 'OFRI', 'LTZ', 'NKL', 'VLI', 'MORC', 'PKS8', 'HGN', 'WRA', 'EPON', 'UGL', 'ABTO', 'VLC', 'NACB', 'KYTH', 'LHO', 'MONE', 'LON', 'AYAN', 'TI2', 'JAG', 'EBH', 'JMP', 'TOO', 'SIW', 'ISCO', 'MTUR', 'JCZ', 'DOMB', 'BILL', 'MIR', 'DSZ', 'IMI', 'PKS6', 'AQU', 'SJPF', 'DRGR', 'MASH', 'MVH1', 'PARMO', 'KBRS', 'OD2', 'SSF', 'VAN', 'MURB', 'BAO', 'ISR', 'PQI', 'KSL', 'MABI', 'TVAN', 'BFO', 'SALF', 'RAC', 'DIM', 'SNPH', 'EBNR', 'ARMA', 'ECHE', 'RSC', 'HDH', 'MZLS', 'SARO', 'LATR', 'THR5', 'GUT', 'MDO', 'VMG', 'CSA1', 'BFZ', 'YRC', 'UCH', 'MEEK', 'LEON', 'DCN', 'CVJ', 'GRF', 'BHK', 'CHMS', 'SURF', 'QRN', 'OUZ', 'HRFI', 'MOX', 'ERZM', 'FORT', 'NJJJ', 'KTK1', 'FLACH', 'LUBP', 'VRAC', 'AAA', 'GLAT', 'BGF', 'BRVK', 'COEN', 'EDRB', 'GIMEL', 'JNT', 'BURAR', 'OSSF', 'PKT', 'PKSG', 'HAU', 'RKGY', 'ALT', 'JKY', 'TMUT', 'COBT', 'PVL', 'WCI', 'SOC', 'GSCL', 'HAWA', 'GUN', 'MMK', 'MOIG', 'SEY', 'BEST', 'JTJ', 'ATE', 'SAML', 'STV2', 'INCN', 'JMDO', 'CUYO', 'KPL', 'ULDT', 'KKAR', 'JKK2', 'BRANT', 'BUA', 'ELUQ', 'VYHS', 'GRG', 'PBRG', 'PVRL', 'TBH', 'NGP', 'NLU', 'CLL', 'EANR', 'WVOR', 'PGP', 'MMLI', 'GORS', 'IAS', 'KONO', 'MBDF', 'KAPI', 'ULC', 'NLW', 'NNZ', 'GDZ', 'VPS2', 'DCPH', 'SRO1', 'HAE', 'LPEF', 'IPM', 'NPS', 'GOLS', 'PAGZ', 'BLLM', 'FIN', 'NOQ', 'JSC', 'MACK', 'LLS', 'PTCC', 'ELIZ', 'ONI', 'DNZL', 'XRY', 'BBL', 'BAR', 'OCF', 'JTKR', 'EMMW', 'TBP', 'LANF', 'TATJ', 'BEO', 'CING', 'BRMO', 'MWZ', 'LOF', 'UPM', 'RTR', 'AQBJ', 'SKP1', 'NANT', 'EDR', 'JWT', 'YKW3', 'ROSF', 'VRHR', 'MARD', 'SNAA', 'BLJS', 'KAMZ', 'CAUP', 'PDKS', 'APA', 'EZAM', 'MA9', 'ULHL', 'NJ2', 'KKR', 'KRMB', 'RESF', 'DALT', 'JTT', 'WAR', 'PDAR', 'CASM', 'BUSP', 'KTR', 'DFRA', 'YOJ', 'RFI', 'KZIT', 'DAWY', 'JOD2', 'THE', 'CLDR', 'EARI', 'LBOS', 'NEGI', 'QIZ', 'BHL', 'UZH', 'WIT', 'ESPR', 'TATO', 'VDB', 'JHIK', 'SCO', 'KIP', 'JNG', 'SCHQ', 'DGI', 'RVC', 'PXZ', 'COLI', 'BOYT', 'JHG', 'YLL', 'OTPR', 'EBAN', 'CMSA', 'KBK', 'DOI', 'ERPA', 'ORE', 'MATP', 'RSM', 'WRAB', 'PCG', 'GKN', 'ORX', 'NKY', 'PSB1', 'SSY', 'MSU', 'JOB', 'HAKT', 'SALM', 'SOKR', 'JHS', 'VVLD', 'KHMM', 'BACM', 'CKE', 'KSK', 'TP2', 'LBCM', 'SLE', 'BRY', 'REB', 'TXAR', 'FUORN', 'DUG', 'LVP', 'KHET', 'DSHT', 'DRZ', 'LIBD', 'DIV', 'ICR', 'ACSO', 'SVIS', 'LSD', 'VSU', 'OJBR', 'RNI2', 'ZUR', 'BALT', 'NVSS', 'AYUS', 'PLAL', 'RYDS', 'BOLP', 'ZEA', 'NAO01', 'ASK', 'BGU', 'BSO1', 'TCF', 'HUMO', 'KBD', 'HFS', 'TIP', 'DAU', 'LCHF', 'JNY', 'AKAS', 'ZAK', 'PERS', 'GNI', 'GCG', 'RMW', 'LRDF', 'SUR', 'DWPF', 'HKC', 'JTS', 'LAJ', 'EKMR', 'EPOB', 'TELN', 'BIPH', 'HDMB', 'KMBO', 'KOD', 'NCB', 'FGMS', 'IXG', 'TUE', 'ARE0', 'SHAO', 'JNK', 'JFY', 'SRO2', 'DLBC', 'TOKT', 'EBIE', 'COLF', 'BLS5', 'YKA', 'HYB', 'AMBZ', 'SLTI', 'SGO', 'CMIG', 'LOR', 'ORO', 'FRU', 'THY', 'LOHW', 'RGRS', 'CRIN', 'HNR', 'HAF']\n"
     ]
    }
   ],
   "source": [
    "stations = [s for s in cat.station_dict.keys()]\n",
    "print(stations)"
   ]
  },
  {
   "cell_type": "code",
   "execution_count": 12,
   "metadata": {},
   "outputs": [],
   "source": [
    "# Compute a index from station code back to event id"
   ]
  }
 ],
 "metadata": {
  "kernelspec": {
   "display_name": "Python 3",
   "language": "python",
   "name": "python3"
  },
  "language_info": {
   "codemirror_mode": {
    "name": "ipython",
    "version": 3
   },
   "file_extension": ".py",
   "mimetype": "text/x-python",
   "name": "python",
   "nbconvert_exporter": "python",
   "pygments_lexer": "ipython3",
   "version": "3.5.2"
  }
 },
 "nbformat": 4,
 "nbformat_minor": 2
}
