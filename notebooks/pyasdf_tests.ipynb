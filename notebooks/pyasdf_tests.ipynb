{
 "cells": [
  {
   "cell_type": "markdown",
   "metadata": {},
   "source": [
    "# PyASDF IOI \n",
    "\n",
    "- http://seismicdata.github.io/pyasdf/\n",
    "- https://github.com/krischer/cig_all_hands_2016_obspy_and_python_tutorial/tree/master/ObsPy\n",
    "\n",
    "- https://gajira.atlassian.net/browse/PV-188"
   ]
  },
  {
   "cell_type": "markdown",
   "metadata": {},
   "source": [
    "## Create a new ASDF file"
   ]
  },
  {
   "cell_type": "code",
   "execution_count": 1,
   "metadata": {},
   "outputs": [],
   "source": [
    "import pyasdf\n"
   ]
  },
  {
   "cell_type": "code",
   "execution_count": 2,
   "metadata": {},
   "outputs": [],
   "source": [
    "ASDF_FILE=\"new_ASDF_file.h5\"\n",
    "\n",
    "ds = pyasdf.ASDFDataSet(ASDF_FILE, compression=\"gzip-3\") # default mode=\"a\"\n"
   ]
  },
  {
   "cell_type": "code",
   "execution_count": 3,
   "metadata": {
    "scrolled": true
   },
   "outputs": [
    {
     "name": "stdout",
     "output_type": "stream",
     "text": [
      "ASDF file [format version: 1.0.3]: 'new_ASDF_file.h5' (0.0 bytes)\n",
      "\tContains 0 event(s)\n",
      "\tContains waveform data from 0 station(s).\n"
     ]
    }
   ],
   "source": [
    "print(ds)"
   ]
  },
  {
   "cell_type": "code",
   "execution_count": 4,
   "metadata": {},
   "outputs": [],
   "source": [
    "import glob"
   ]
  },
  {
   "cell_type": "code",
   "execution_count": 5,
   "metadata": {},
   "outputs": [],
   "source": [
    "myfiles = glob.glob(\"/Datasets/tmp_demult_mseed/*.mseed\")"
   ]
  },
  {
   "cell_type": "code",
   "execution_count": 6,
   "metadata": {},
   "outputs": [],
   "source": [
    "for _i, filename in enumerate(myfiles):\n",
    "    print(\"Adding file %s:  %i of %i...\"%(filename,_i +1, len(myfiles)))\n",
    "    ds.add_waveforms(filename, tag=\"raw_recording\")"
   ]
  },
  {
   "cell_type": "code",
   "execution_count": 7,
   "metadata": {},
   "outputs": [
    {
     "name": "stdout",
     "output_type": "stream",
     "text": [
      "ASDF file [format version: 1.0.3]: 'new_ASDF_file.h5' (0.0 bytes)\n",
      "\tContains 0 event(s)\n",
      "\tContains waveform data from 0 station(s).\n"
     ]
    }
   ],
   "source": [
    "print (ds)"
   ]
  },
  {
   "cell_type": "code",
   "execution_count": 8,
   "metadata": {},
   "outputs": [],
   "source": [
    "#Adding Station Information\n",
    "# >>> files = glob.glob(\"/path/to/stations/*.xml\")\n",
    "# >>> for _i, filename in enumerate(files):\n",
    "# ...     print(\"Adding file %i of %i ...\" % (_i + 1, len(files)))\n",
    "# ...     ds.add_stationxml(filename)"
   ]
  },
  {
   "cell_type": "code",
   "execution_count": 9,
   "metadata": {},
   "outputs": [],
   "source": [
    "#ds.add_stationxml(\"/Datasets/networks_fdsnstationxml/inventory.xml\")\n",
    "#ds.add_stationxml(\"/g/data/ha3/Passive/_AusArray/OA/ASDF_cleaned/OA_stations_2017-2018.xml\")"
   ]
  },
  {
   "cell_type": "code",
   "execution_count": 10,
   "metadata": {},
   "outputs": [
    {
     "name": "stdout",
     "output_type": "stream",
     "text": [
      "ASDF file [format version: 1.0.3]: 'new_ASDF_file.h5' (0.0 bytes)\n",
      "\tContains 0 event(s)\n",
      "\tContains waveform data from 0 station(s).\n"
     ]
    }
   ],
   "source": [
    "print(ds)"
   ]
  },
  {
   "cell_type": "code",
   "execution_count": 11,
   "metadata": {},
   "outputs": [
    {
     "name": "stdout",
     "output_type": "stream",
     "text": [
      "['/g/data/ha3/Passive/SHARED_DATA/GPS_Clock/StationXML_with_time_corrections2/OA.BY22_station_inv_modified.xml', '/g/data/ha3/Passive/SHARED_DATA/GPS_Clock/StationXML_with_time_corrections2/OA.CE28_station_inv_modified.xml', '/g/data/ha3/Passive/SHARED_DATA/GPS_Clock/StationXML_with_time_corrections2/OA.CE22_station_inv_modified.xml', '/g/data/ha3/Passive/SHARED_DATA/GPS_Clock/StationXML_with_time_corrections2/OA.CF28_station_inv_modified.xml']\n",
      "Adding file /g/data/ha3/Passive/SHARED_DATA/GPS_Clock/StationXML_with_time_corrections2/OA.BY22_station_inv_modified.xml 1 of 4 ...\n",
      "Adding file /g/data/ha3/Passive/SHARED_DATA/GPS_Clock/StationXML_with_time_corrections2/OA.CE28_station_inv_modified.xml 2 of 4 ...\n",
      "Adding file /g/data/ha3/Passive/SHARED_DATA/GPS_Clock/StationXML_with_time_corrections2/OA.CE22_station_inv_modified.xml 3 of 4 ...\n",
      "Adding file /g/data/ha3/Passive/SHARED_DATA/GPS_Clock/StationXML_with_time_corrections2/OA.CF28_station_inv_modified.xml 4 of 4 ...\n"
     ]
    }
   ],
   "source": [
    "# adding individual stations\n",
    "files = glob.glob(\"/g/data/ha3/Passive/SHARED_DATA/GPS_Clock/StationXML_with_time_corrections2/OA*.xml\")\n",
    "print (files)\n",
    "for _i, filename in enumerate(files):\n",
    "    print(\"Adding file %s %i of %i ...\" % (filename, _i + 1, len(files)))\n",
    "    ds.add_stationxml(filename)"
   ]
  },
  {
   "cell_type": "code",
   "execution_count": 12,
   "metadata": {},
   "outputs": [
    {
     "name": "stdout",
     "output_type": "stream",
     "text": [
      "ASDF file [format version: 1.0.3]: 'new_ASDF_file.h5' (31.5 KB)\n",
      "\tContains 0 event(s)\n",
      "\tContains waveform data from 4 station(s).\n"
     ]
    }
   ],
   "source": [
    "print(ds)"
   ]
  },
  {
   "cell_type": "code",
   "execution_count": null,
   "metadata": {},
   "outputs": [],
   "source": []
  },
  {
   "cell_type": "code",
   "execution_count": null,
   "metadata": {},
   "outputs": [],
   "source": []
  },
  {
   "cell_type": "code",
   "execution_count": null,
   "metadata": {},
   "outputs": [],
   "source": []
  },
  {
   "cell_type": "markdown",
   "metadata": {},
   "source": [
    "## Look into the ASDF file"
   ]
  },
  {
   "cell_type": "code",
   "execution_count": 13,
   "metadata": {},
   "outputs": [
    {
     "name": "stdout",
     "output_type": "stream",
     "text": [
      "Contents of the data set for station OA.BY22:\n",
      "    - Has a StationXML file\n",
      "    - 0 Waveform Tag(s):\n",
      "        \n"
     ]
    }
   ],
   "source": [
    "print(ds.waveforms.OA_BY22)"
   ]
  },
  {
   "cell_type": "code",
   "execution_count": 14,
   "metadata": {},
   "outputs": [
    {
     "name": "stdout",
     "output_type": "stream",
     "text": [
      "Inventory created at 2019-02-02T18:42:45.000000Z\n",
      "\tCreated by: ObsPy 1.0.2\n",
      "\t\t    https://www.obspy.org\n",
      "\tSending institution: Geoscience Australia\n",
      "\tContains:\n",
      "\t\tNetworks (1):\n",
      "\t\t\tOA\n",
      "\t\tStations (1):\n",
      "\t\t\tOA.BY22 (BY22)\n",
      "\t\tChannels (3):\n",
      "\t\t\tOA.BY22.0M.HHZ, OA.BY22.0M.HHN, OA.BY22.0M.HHE\n"
     ]
    }
   ],
   "source": [
    "print(ds.waveforms.OA_BY22.StationXML)"
   ]
  },
  {
   "cell_type": "code",
   "execution_count": 15,
   "metadata": {},
   "outputs": [],
   "source": [
    "inv=ds.waveforms.OA_BY22.StationXML\n",
    "inv.write('test2_OA_BY22_inventory.xml', format='STATIONXML')\n",
    "#           nsmap={'my_ns': 'http://test.org/xmlns/0.1',\n",
    "#                  'somepage_ns': 'http://some-page.de/xmlns/1.0'})"
   ]
  },
  {
   "cell_type": "code",
   "execution_count": null,
   "metadata": {},
   "outputs": [],
   "source": []
  },
  {
   "cell_type": "code",
   "execution_count": null,
   "metadata": {},
   "outputs": [],
   "source": []
  },
  {
   "cell_type": "code",
   "execution_count": null,
   "metadata": {},
   "outputs": [],
   "source": []
  },
  {
   "cell_type": "code",
   "execution_count": 16,
   "metadata": {},
   "outputs": [
    {
     "ename": "SyntaxError",
     "evalue": "invalid syntax (<ipython-input-16-1f3fd7f7a4d5>, line 1)",
     "output_type": "error",
     "traceback": [
      "\u001b[0;36m  File \u001b[0;32m\"<ipython-input-16-1f3fd7f7a4d5>\"\u001b[0;36m, line \u001b[0;32m1\u001b[0m\n\u001b[0;31m    break point\u001b[0m\n\u001b[0m              ^\u001b[0m\n\u001b[0;31mSyntaxError\u001b[0m\u001b[0;31m:\u001b[0m invalid syntax\n"
     ]
    }
   ],
   "source": [
    "break point"
   ]
  },
  {
   "cell_type": "markdown",
   "metadata": {},
   "source": [
    "# Inspect an existing ASDF file"
   ]
  },
  {
   "cell_type": "code",
   "execution_count": null,
   "metadata": {},
   "outputs": [],
   "source": [
    "ASDF_FILE=\"/g/data/ha3/GASeisDataArchive/DevSpace/2020.h5\"\n",
    "ASDF_FILE=\"/g/data/ha3/Passive/STRIPED_DATA/TEMP/OA_AUSARRAY1_rev1.h5\"\n",
    "#ASDF_FILE=\"/g/data/ha3/Passive/STRIPED_DATA/TEMP/OA_AUSARRAY_Yr2_S1.h5\"  \n",
    "\n",
    "ds = pyasdf.ASDFDataSet(ASDF_FILE, mode=\"r\")"
   ]
  },
  {
   "cell_type": "code",
   "execution_count": null,
   "metadata": {},
   "outputs": [],
   "source": [
    "print(ds)"
   ]
  },
  {
   "cell_type": "code",
   "execution_count": null,
   "metadata": {},
   "outputs": [],
   "source": [
    "print(type(ds))"
   ]
  },
  {
   "cell_type": "code",
   "execution_count": null,
   "metadata": {},
   "outputs": [],
   "source": [
    "ds.waveforms.list()"
   ]
  },
  {
   "cell_type": "code",
   "execution_count": null,
   "metadata": {},
   "outputs": [],
   "source": [
    "# OA.BY22_station_inv_modified.xml  OA.CE28_station_inv_modified.xml\n",
    "# OA.CE22_station_inv_modified.xml  OA.CF28_station_inv_modified.xml\n",
    "\n",
    "print(ds.waveforms.OA_BY22)"
   ]
  },
  {
   "cell_type": "code",
   "execution_count": null,
   "metadata": {},
   "outputs": [],
   "source": [
    "print(ds.waveforms.OA_BY22.StationXML)"
   ]
  },
  {
   "cell_type": "code",
   "execution_count": null,
   "metadata": {},
   "outputs": [],
   "source": [
    "print (type(ds.waveforms.OA_BY22.StationXML) )"
   ]
  },
  {
   "cell_type": "code",
   "execution_count": null,
   "metadata": {},
   "outputs": [],
   "source": [
    "inv=ds.waveforms.OA_CF28.StationXML\n",
    "inv.write('OA_CF28_inventory.xml', format='STATIONXML')\n",
    "#           nsmap={'my_ns': 'http://test.org/xmlns/0.1',\n",
    "#                  'somepage_ns': 'http://some-page.de/xmlns/1.0'})"
   ]
  },
  {
   "cell_type": "code",
   "execution_count": null,
   "metadata": {},
   "outputs": [],
   "source": [
    "Break\n",
    "\n",
    "print(ds.waveforms.OA_CE22.raw_recording)\n",
    "\n",
    "#ASDFValueError: All waveforms for station 'OA.CE22' and item 'raw_recording' would require '56639.45 MB of memory. The current limit is 4096.00 MB. Adjust by setting 'ASDFDataSet.single_item_read_limit_in_mb' or use a different method to read the waveform data."
   ]
  },
  {
   "cell_type": "code",
   "execution_count": null,
   "metadata": {},
   "outputs": [],
   "source": [
    "for astation in ds.waveforms:  # takes a long time!!!\n",
    "    print(astation)"
   ]
  },
  {
   "cell_type": "code",
   "execution_count": null,
   "metadata": {},
   "outputs": [],
   "source": [
    "# inv=ds.waveforms.AU_FITZ.StationXML\n",
    "# inv.write('AU.FITZ_inventory.xml', format='STATIONXML')"
   ]
  },
  {
   "cell_type": "code",
   "execution_count": null,
   "metadata": {},
   "outputs": [],
   "source": []
  },
  {
   "cell_type": "code",
   "execution_count": null,
   "metadata": {},
   "outputs": [],
   "source": []
  },
  {
   "cell_type": "code",
   "execution_count": null,
   "metadata": {},
   "outputs": [],
   "source": []
  },
  {
   "cell_type": "code",
   "execution_count": null,
   "metadata": {},
   "outputs": [],
   "source": []
  }
 ],
 "metadata": {
  "kernelspec": {
   "display_name": "Python 3",
   "language": "python",
   "name": "python3"
  },
  "language_info": {
   "codemirror_mode": {
    "name": "ipython",
    "version": 3
   },
   "file_extension": ".py",
   "mimetype": "text/x-python",
   "name": "python",
   "nbconvert_exporter": "python",
   "pygments_lexer": "ipython3",
   "version": "3.6.7"
  }
 },
 "nbformat": 4,
 "nbformat_minor": 4
}
