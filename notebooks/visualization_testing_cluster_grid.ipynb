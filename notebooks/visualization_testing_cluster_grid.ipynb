{
 "cells": [
  {
   "cell_type": "markdown",
   "metadata": {},
   "source": [
    "# Testing and visualize regoinal-global cluster grid  \n",
    "\n",
    "\n",
    "##  Fei Zhang\n",
    "### 2018-09-24\n",
    "\n",
    "\n",
    "\n"
   ]
  },
  {
   "cell_type": "markdown",
   "metadata": {},
   "source": [
    "Read in a CSV files containing the cell center coordinates of a Grid Model\n",
    "\n",
    "Visualize the Grid centers to see if the Grid definition and spatial point mapping is correct"
   ]
  },
  {
   "cell_type": "code",
   "execution_count": null,
   "metadata": {},
   "outputs": [],
   "source": [
    "!which python"
   ]
  },
  {
   "cell_type": "code",
   "execution_count": null,
   "metadata": {},
   "outputs": [],
   "source": [
    "!python -V"
   ]
  },
  {
   "cell_type": "code",
   "execution_count": null,
   "metadata": {},
   "outputs": [],
   "source": [
    "import pandas as pd\n",
    "import geopandas as geopd\n",
    "\n",
    "import matplotlib.pyplot as plt\n",
    "\n",
    "# from IPython.display import display\n",
    "# %matplotlib inline"
   ]
  },
  {
   "cell_type": "code",
   "execution_count": null,
   "metadata": {},
   "outputs": [],
   "source": [
    "import sys\n",
    "# get the pst packages into PYTHONPATH \n",
    "sys.path.append(\"/Softlab/Githubz/passive-seismic\")  \n",
    "\n",
    "from seismic.traveltime.cluster_grid import Grid2 \n",
    "from seismic.traveltime.sort_rays import sort,sort2"
   ]
  },
  {
   "cell_type": "code",
   "execution_count": null,
   "metadata": {},
   "outputs": [],
   "source": [
    "def csv2pdf(csvfile):\n",
    "    \"\"\"\n",
    "    Read in a csv file into a pandas dataframe. \n",
    "    Make sure the column names match the csv files. \n",
    "    delimiter/separator is whitespace or comma\n",
    "    \"\"\"\n",
    "    \n",
    "    # read infile, tweek below\n",
    "    in_pdf =  pd.read_csv(csvfile, header='infer')   #  assume there is header line=0; separator = comma,\n",
    "    # finalpdf =  pd.read_csv(csvfile, header=None,  names=col_names ) #  no header line, separator = comma,\n",
    "    #finalpdf =  pd.read_csv(csvfile,  sep='\\s+', header=None,  names=col_names) # white space\n",
    "  \n",
    "    # columns you are interested?\n",
    "#     col_names=['source_block', 'station_block', 'residual', 'event_number', \n",
    "#             'source_longitude','source_latitude','source_depth',  \n",
    "#             'station_longitude','station_latitude', 'observed_tt', 'locations2degrees', 'station_code','SNR', 'P_or_S']   \n",
    "    \n",
    "    # finalpdf = in_pdf[col_names]  # take a subset of columns\n",
    "    \n",
    "    return in_pdf  #pandas_data_frame"
   ]
  },
  {
   "cell_type": "code",
   "execution_count": null,
   "metadata": {},
   "outputs": [],
   "source": [
    "# my_grid= Grid2()\n",
    "# mypdf = my_grid.generate_latlong_grid()\n",
    "\n",
    "# OR read in already created CSV file:\n",
    "\n",
    "mycsvfile='/g/data/ha3/fxz547/travel_time_tomography/Cluster_Grids/cluster_grid3D_v4.csv'\n",
    "\n",
    "# mycsvfile = '/Softlab/travel_time_tomography/CSV_Data/cluster_grid_3d.csv'\n",
    "\n",
    "mypdf= csv2pdf(mycsvfile)"
   ]
  },
  {
   "cell_type": "markdown",
   "metadata": {},
   "source": [
    " "
   ]
  },
  {
   "cell_type": "code",
   "execution_count": null,
   "metadata": {},
   "outputs": [],
   "source": [
    "\n",
    "pdf2=mypdf\n",
    "\n",
    "pdf2.columns\n"
   ]
  },
  {
   "cell_type": "code",
   "execution_count": null,
   "metadata": {},
   "outputs": [],
   "source": [
    "pdf2.shape"
   ]
  },
  {
   "cell_type": "code",
   "execution_count": null,
   "metadata": {},
   "outputs": [],
   "source": [
    "pdf2.blockn.nunique()  # number of unique values"
   ]
  },
  {
   "cell_type": "code",
   "execution_count": null,
   "metadata": {},
   "outputs": [],
   "source": [
    "pdf2.zc.nunique()"
   ]
  },
  {
   "cell_type": "code",
   "execution_count": null,
   "metadata": {},
   "outputs": [],
   "source": [
    "depth_list = pdf2.zc.unique()"
   ]
  },
  {
   "cell_type": "code",
   "execution_count": null,
   "metadata": {},
   "outputs": [],
   "source": [
    "depth_list.sort()"
   ]
  },
  {
   "cell_type": "code",
   "execution_count": null,
   "metadata": {},
   "outputs": [],
   "source": [
    "print(depth_list)"
   ]
  },
  {
   "cell_type": "code",
   "execution_count": null,
   "metadata": {},
   "outputs": [],
   "source": [
    "pdf2.groupby(['blockn']).count().shape"
   ]
  },
  {
   "cell_type": "code",
   "execution_count": null,
   "metadata": {},
   "outputs": [],
   "source": [
    "pdf2.groupby(['blockn']).count().head()"
   ]
  },
  {
   "cell_type": "code",
   "execution_count": null,
   "metadata": {},
   "outputs": [],
   "source": [
    "final_pdf = pdf2.drop_duplicates(subset=['blockn'], keep='first', inplace=False)"
   ]
  },
  {
   "cell_type": "code",
   "execution_count": null,
   "metadata": {},
   "outputs": [],
   "source": [
    "final_pdf.head()"
   ]
  },
  {
   "cell_type": "code",
   "execution_count": null,
   "metadata": {},
   "outputs": [],
   "source": [
    "final_pdf.shape"
   ]
  },
  {
   "cell_type": "code",
   "execution_count": null,
   "metadata": {},
   "outputs": [],
   "source": [
    "global_grid = final_pdf[final_pdf.zc > depth_list[-1] -1]"
   ]
  },
  {
   "cell_type": "code",
   "execution_count": null,
   "metadata": {},
   "outputs": [],
   "source": [
    "global_grid.shape"
   ]
  },
  {
   "cell_type": "code",
   "execution_count": null,
   "metadata": {},
   "outputs": [],
   "source": [
    "regional_grid = final_pdf[final_pdf.zc < depth_list[0] +1 ]"
   ]
  },
  {
   "cell_type": "code",
   "execution_count": null,
   "metadata": {},
   "outputs": [],
   "source": [
    "regional_grid.head()"
   ]
  },
  {
   "cell_type": "code",
   "execution_count": null,
   "metadata": {},
   "outputs": [],
   "source": [
    "regional_grid.shape"
   ]
  },
  {
   "cell_type": "code",
   "execution_count": null,
   "metadata": {},
   "outputs": [],
   "source": [
    "# stop break"
   ]
  },
  {
   "cell_type": "code",
   "execution_count": null,
   "metadata": {},
   "outputs": [],
   "source": [
    "final_pdf.xc.max()"
   ]
  },
  {
   "cell_type": "code",
   "execution_count": null,
   "metadata": {},
   "outputs": [],
   "source": [
    "final_pdf.xc.min()"
   ]
  },
  {
   "cell_type": "code",
   "execution_count": null,
   "metadata": {},
   "outputs": [],
   "source": [
    "final_pdf.yc.max()"
   ]
  },
  {
   "cell_type": "code",
   "execution_count": null,
   "metadata": {},
   "outputs": [],
   "source": [
    "final_pdf.yc.min()"
   ]
  },
  {
   "cell_type": "code",
   "execution_count": null,
   "metadata": {},
   "outputs": [],
   "source": [
    "# stop"
   ]
  },
  {
   "cell_type": "markdown",
   "metadata": {},
   "source": [
    "# Begin to Visualize the data"
   ]
  },
  {
   "cell_type": "markdown",
   "metadata": {},
   "source": [
    "# 1. Python Pandas package plot function (with basemap) "
   ]
  },
  {
   "cell_type": "code",
   "execution_count": null,
   "metadata": {},
   "outputs": [],
   "source": [
    "#plt.figure(); \n",
    "regional_grid.plot.scatter(x='xc', y='yc',  figsize=(12,8))"
   ]
  },
  {
   "cell_type": "code",
   "execution_count": null,
   "metadata": {},
   "outputs": [],
   "source": [
    "global_grid.plot.scatter(x='xc', y='yc', figsize=(12,8))"
   ]
  },
  {
   "cell_type": "code",
   "execution_count": null,
   "metadata": {},
   "outputs": [],
   "source": []
  },
  {
   "cell_type": "markdown",
   "metadata": {},
   "source": [
    "# 3. Geopandas and Maps"
   ]
  },
  {
   "cell_type": "code",
   "execution_count": null,
   "metadata": {},
   "outputs": [],
   "source": [
    "import geopandas as gpd\n",
    "\n",
    "from shapely.geometry import mapping\n",
    "from shapely.geometry import Point\n",
    "from shapely.geometry import Point, Polygon, LineString, LinearRing"
   ]
  },
  {
   "cell_type": "code",
   "execution_count": null,
   "metadata": {},
   "outputs": [],
   "source": [
    "event_locations = [Point(xy) for xy in zip(regional_grid.xc, regional_grid.yc)]\n",
    "#OR pdf['geometry'] = pdf.apply(lambda z: Point(z.lon, z.lat), axis=1)\n",
    "#if you want to df = df.drop(['Lon', 'Lat'], axis=1)\n",
    "mycrs = {'init': 'epsg:4326'}  # WGS84\n",
    "mycrs = {'init': 'epsg:4283'}  # GDA94\n",
    "reg_geopdf = gpd.GeoDataFrame(regional_grid, crs=mycrs, geometry=event_locations)"
   ]
  },
  {
   "cell_type": "code",
   "execution_count": null,
   "metadata": {},
   "outputs": [],
   "source": [
    "# myax = geopdf.plot(figsize=[20,10])\n",
    "\n",
    "\n",
    "# myax.set_xlabel('Longitude')\n",
    "# myax.set_ylabel('Latitude+\n",
    "# title_str= \"event locations\"\n",
    "# myax.set_title(title_str)"
   ]
  },
  {
   "cell_type": "code",
   "execution_count": null,
   "metadata": {
    "scrolled": false
   },
   "outputs": [],
   "source": [
    "# geopandas included shape datasets\n",
    "world = gpd.read_file(gpd.datasets.get_path('naturalearth_lowres'))\n",
    "myax=world.plot(alpha=0.5,  figsize=(20, 10))\n",
    "\n",
    "myax.set_xlim([90,200])\n",
    "myax.set_ylim([-70,10])\n",
    "              \n",
    "reg_geopdf.plot(ax=myax, marker='o', color='red', markersize=2);\n"
   ]
  },
  {
   "cell_type": "code",
   "execution_count": null,
   "metadata": {},
   "outputs": [],
   "source": [
    "# geopandas included shape datasets\n",
    "grid_locations = [Point(xy) for xy in zip(global_grid.xc, global_grid.yc)]\n",
    "#OR pdf['geometry'] = pdf.apply(lambda z: Point(z.lon, z.lat), axis=1)\n",
    "#if you want to df = df.drop(['Lon', 'Lat'], axis=1)\n",
    "mycrs = {'init': 'epsg:4326'}  # WGS84\n",
    "mycrs = {'init': 'epsg:4283'}  # GDA94\n",
    "glob_geopdf = gpd.GeoDataFrame(global_grid, crs=mycrs, geometry=grid_locations)\n"
   ]
  },
  {
   "cell_type": "code",
   "execution_count": null,
   "metadata": {},
   "outputs": [],
   "source": [
    "# geopandas included shape datasets\n",
    "world = gpd.read_file(gpd.datasets.get_path('naturalearth_lowres'))\n",
    "myax=world.plot(alpha=0.5,  figsize=(20, 10))\n",
    "\n",
    "myax.set_xlim([90,200])\n",
    "myax.set_ylim([-70,10])\n",
    "\n",
    "# myax.set_xlim([160,200])\n",
    "# myax.set_ylim([-10,10])\n",
    "\n",
    "\n",
    "myax.set_xlabel('Longitude')\n",
    "myax.set_ylabel('Latitude')\n",
    "title_str= \"Reginal Grid Centers (red) and Global Grid Centres (Blue) \"\n",
    "myax.set_title(title_str)\n",
    "\n",
    "glob_geopdf.plot(ax=myax, marker='*', color='blue', markersize=32);\n",
    "\n",
    "reg_geopdf.plot(ax=myax, marker='o', color='red', markersize=2);"
   ]
  },
  {
   "cell_type": "code",
   "execution_count": null,
   "metadata": {},
   "outputs": [],
   "source": [
    "# geopandas included shape datasets\n",
    "world = gpd.read_file(gpd.datasets.get_path('naturalearth_lowres'))\n",
    "myax=world.plot(alpha=0.5,  figsize=(20, 10))\n",
    "\n",
    "# myax.set_xlim([90,200])\n",
    "# myax.set_ylim([-70,10])\n",
    "\n",
    "\n",
    "myax.set_xlim([160,200])\n",
    "myax.set_ylim([-10,10])\n",
    "\n",
    "\n",
    "myax.set_xlabel('Longitude')\n",
    "myax.set_ylabel('Latitude')\n",
    "title_str= \"Reginal Grid Centers (red) and Global Grid Centres (Blue) \"\n",
    "myax.set_title(title_str)\n",
    "\n",
    "glob_geopdf.plot(ax=myax, marker='*', color='blue', markersize=32);\n",
    "\n",
    "reg_geopdf.plot(ax=myax, marker='o', color='red', markersize=8);"
   ]
  },
  {
   "cell_type": "code",
   "execution_count": null,
   "metadata": {},
   "outputs": [],
   "source": [
    "break"
   ]
  },
  {
   "cell_type": "raw",
   "metadata": {},
   "source": []
  },
  {
   "cell_type": "code",
   "execution_count": null,
   "metadata": {
    "scrolled": false
   },
   "outputs": [],
   "source": [
    "for adepth in depth_list:\n",
    "    hview_grid = final_pdf[final_pdf.zc == adepth]\n",
    "    \n",
    "    title_str=\"horizontal view grid at depth = %s, %s, %s, %s\"%(adepth, hview_grid.shape, hview_grid.blockn.min(), hview_grid.blockn.max())\n",
    "    print (title_str)\n",
    "    hview_grid.plot.scatter(x='xc', y='yc',  figsize=(12,8))"
   ]
  },
  {
   "cell_type": "code",
   "execution_count": null,
   "metadata": {},
   "outputs": [],
   "source": [
    "\n",
    "    "
   ]
  },
  {
   "cell_type": "code",
   "execution_count": null,
   "metadata": {},
   "outputs": [],
   "source": []
  },
  {
   "cell_type": "code",
   "execution_count": null,
   "metadata": {},
   "outputs": [],
   "source": []
  },
  {
   "cell_type": "markdown",
   "metadata": {},
   "source": [
    "# Grid properties"
   ]
  },
  {
   "cell_type": "code",
   "execution_count": null,
   "metadata": {},
   "outputs": [],
   "source": [
    "mygrid=Grid2()"
   ]
  },
  {
   "cell_type": "code",
   "execution_count": null,
   "metadata": {},
   "outputs": [],
   "source": [
    "mygrid.show_properties()"
   ]
  },
  {
   "cell_type": "code",
   "execution_count": null,
   "metadata": {},
   "outputs": [],
   "source": [
    "# border corner point mapping to the grid, \n",
    "# floating point errors, discontinuity\n",
    "# bugs in code \n",
    "\n",
    "# inside and at border of the ANZ region\n",
    "mygrid.find_block_number(-0.5,189.8, 2000.0)"
   ]
  },
  {
   "cell_type": "code",
   "execution_count": null,
   "metadata": {},
   "outputs": [],
   "source": [
    "# outside the ANZ region\n",
    "\n",
    "mygrid.find_block_number(10, 100, 2000.0)"
   ]
  },
  {
   "cell_type": "markdown",
   "metadata": {},
   "source": [
    "#  More"
   ]
  },
  {
   "cell_type": "code",
   "execution_count": null,
   "metadata": {},
   "outputs": [],
   "source": [
    "796754/53"
   ]
  },
  {
   "cell_type": "code",
   "execution_count": null,
   "metadata": {},
   "outputs": [],
   "source": [
    "587980/20\n",
    "\n"
   ]
  },
  {
   "cell_type": "code",
   "execution_count": null,
   "metadata": {},
   "outputs": [],
   "source": [
    "587980/29399"
   ]
  },
  {
   "cell_type": "code",
   "execution_count": null,
   "metadata": {},
   "outputs": [],
   "source": [
    "import numpy as np\n",
    "np.linspace(0, 360, num=360*5+1)"
   ]
  },
  {
   "cell_type": "code",
   "execution_count": null,
   "metadata": {},
   "outputs": [],
   "source": [
    "np.linspace(-90,90, num=180*5+1)"
   ]
  },
  {
   "cell_type": "code",
   "execution_count": null,
   "metadata": {},
   "outputs": [],
   "source": [
    "import matplotlib.pyplot as plt\n",
    "N = 8\n",
    "y=np.zeros(N)\n",
    "x1 = np.linspace(0, 10, N, endpoint=True)\n",
    "x2 = np.linspace(0, 10, N, endpoint=False)\n",
    "plt.plot(x1, y, 'o')\n",
    "\n",
    "plt.plot(x2, y + 0.2, 'o')\n",
    "\n",
    "plt.ylim([-0.4, 0.6])\n",
    "# (-0.5, 1)\n",
    "plt.show()"
   ]
  },
  {
   "cell_type": "code",
   "execution_count": null,
   "metadata": {},
   "outputs": [],
   "source": [
    "print (x1, x2)"
   ]
  },
  {
   "cell_type": "code",
   "execution_count": null,
   "metadata": {},
   "outputs": [],
   "source": [
    "x1 = np.linspace(0, 10, num=N+1)  # good grid\n",
    "x2 = np.linspace(0, 10, N+1, endpoint=False)  # no good"
   ]
  },
  {
   "cell_type": "code",
   "execution_count": null,
   "metadata": {},
   "outputs": [],
   "source": [
    "print (x1, x2)"
   ]
  }
 ],
 "metadata": {
  "kernelspec": {
   "display_name": "Python 3",
   "language": "python",
   "name": "python3"
  },
  "language_info": {
   "codemirror_mode": {
    "name": "ipython",
    "version": 3
   },
   "file_extension": ".py",
   "mimetype": "text/x-python",
   "name": "python",
   "nbconvert_exporter": "python",
   "pygments_lexer": "ipython3",
   "version": "3.6.6"
  }
 },
 "nbformat": 4,
 "nbformat_minor": 1
}
