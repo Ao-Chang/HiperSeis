{
 "cells": [
  {
   "cell_type": "code",
   "execution_count": 1,
   "metadata": {},
   "outputs": [],
   "source": [
    "import pandas as pd\n"
   ]
  },
  {
   "cell_type": "code",
   "execution_count": 2,
   "metadata": {},
   "outputs": [],
   "source": [
    "SOURCE_LATITUDE = 'source_latitude'\n",
    "SOURCE_LONGITUDE = 'source_longitude'\n",
    "STATION_LATITUDE = 'station_latitude'\n",
    "STATION_LONGITUDE = 'station_longitude'\n",
    "STATION_CODE = 'station_code'\n",
    "FREQUENCY = 'no_of_summary_rays'\n",
    "\n",
    "column_names = ['source_block', 'station_block',\n",
    "                'residual', 'event_number',\n",
    "                SOURCE_LONGITUDE, SOURCE_LATITUDE,\n",
    "                'source_depth', STATION_LONGITUDE, STATION_LATITUDE,\n",
    "                'observed_tt', 'locations2degrees', STATION_CODE, 'P_or_S']\n",
    "\n",
    "def sort(output_file, sorted_file, residual_cutoff):\n",
    "    \"\"\"\n",
    "    Sort and filter the arrivals.\n",
    "\n",
    "    Sort based on the source and station block number.\n",
    "    There are two stages of filtering:\n",
    "    1. Filter based on the time residual\n",
    "    2. Filter based on median of observed travel time.\n",
    "\n",
    "    If there are multiple source and station block combinations, we keep the\n",
    "    row corresponding to the median observed travel time (observed_tt).\n",
    "\n",
    "    cmdline usage:\n",
    "    cluster sort outfile_P.csv 5. -s sorted_P.csv\n",
    "    cluster sort outfile_S.csv 10. -s sorted_S.csv\n",
    "\n",
    "\n",
    "    :param output_file: output file from the gather stage (eg, outfile_P.csv)\n",
    "    :param sorted_file: str, optional\n",
    "        optional sorted output file path. Default: sorted.csv.\n",
    "    :param residual_cutoff: float\n",
    "        residual seconds above which arrivals are rejected.\n",
    "    :return: None\n",
    "    \"\"\"\n",
    "\n",
    "#     log.info('Filtering arrivals.')\n",
    "\n",
    "    cluster_data = pd.read_csv(output_file, header=None,\n",
    "                               names=column_names)\n",
    "    \n",
    "    cluster_data = cluster_data[abs(cluster_data['residual'])\n",
    "                                < residual_cutoff]\n",
    "    \n",
    "    #cluster_data['source_depth'] = cluster_data['source_depth'] / 1000.0  # convert to KM?\n",
    "    \n",
    "    # groupby sorts by default\n",
    "    # cluster_data.sort_values(by=['source_block', 'station_block'],\n",
    "    #                          inplace=True)\n",
    "\n",
    "#     log.info('Sorting arrivals.')\n",
    "\n",
    "    # groupby automatically sorts\n",
    "    med = cluster_data.groupby(by=['source_block',\n",
    "                                   'station_block'])[\n",
    "        'observed_tt'].quantile(q=.5, interpolation='lower').reset_index()\n",
    "\n",
    "    final_df = pd.merge(cluster_data, med, how='right',\n",
    "                        on=['source_block', 'station_block', 'observed_tt'],\n",
    "                        sort=True,\n",
    "                        right_index=True)\n",
    "\n",
    "    # Confirmed: drop_duplicates required due to possibly duplicated picks in\n",
    "    #  the original engdahl events\n",
    "    # refer: https://github.com/GeoscienceAustralia/passive-seismic/issues/51\n",
    "    # The subset is specified as we have some stations that are very close?\n",
    "    final_df.drop_duplicates(subset=['source_block', 'station_block',\n",
    "                                     'event_number', SOURCE_LONGITUDE,\n",
    "                                     SOURCE_LATITUDE, 'source_depth'],\n",
    "                             keep='first',\n",
    "                             inplace=True)\n",
    "\n",
    "    final_df.to_csv(sorted_file, header=False, index=False, sep=',')\n",
    "    \n",
    "    return final_df\n"
   ]
  },
  {
   "cell_type": "code",
   "execution_count": 3,
   "metadata": {},
   "outputs": [
    {
     "name": "stdout",
     "output_type": "stream",
     "text": [
      "/g/data1a/ha3/fxz547/Githubz/passive-seismic/notebooks\r\n"
     ]
    }
   ],
   "source": [
    "!pwd\n"
   ]
  },
  {
   "cell_type": "code",
   "execution_count": 4,
   "metadata": {},
   "outputs": [],
   "source": [
    "inputcsv='/g/data1a/ha3/fxz547/travel_time_tomography/run5_events_1deg/outfile_S.csv'\n",
    "residual_cutoff=10.0\n",
    "sortedfile='sortedfile.csv'"
   ]
  },
  {
   "cell_type": "code",
   "execution_count": 5,
   "metadata": {},
   "outputs": [],
   "source": [
    "finalpdf = sort(inputcsv,sortedfile,residual_cutoff)"
   ]
  },
  {
   "cell_type": "code",
   "execution_count": 6,
   "metadata": {},
   "outputs": [
    {
     "data": {
      "text/html": [
       "<div>\n",
       "<style scoped>\n",
       "    .dataframe tbody tr th:only-of-type {\n",
       "        vertical-align: middle;\n",
       "    }\n",
       "\n",
       "    .dataframe tbody tr th {\n",
       "        vertical-align: top;\n",
       "    }\n",
       "\n",
       "    .dataframe thead th {\n",
       "        text-align: right;\n",
       "    }\n",
       "</style>\n",
       "<table border=\"1\" class=\"dataframe\">\n",
       "  <thead>\n",
       "    <tr style=\"text-align: right;\">\n",
       "      <th></th>\n",
       "      <th>source_block</th>\n",
       "      <th>station_block</th>\n",
       "      <th>residual</th>\n",
       "      <th>event_number</th>\n",
       "      <th>source_longitude</th>\n",
       "      <th>source_latitude</th>\n",
       "      <th>source_depth</th>\n",
       "      <th>station_longitude</th>\n",
       "      <th>station_latitude</th>\n",
       "      <th>observed_tt</th>\n",
       "      <th>locations2degrees</th>\n",
       "      <th>station_code</th>\n",
       "      <th>P_or_S</th>\n",
       "    </tr>\n",
       "  </thead>\n",
       "  <tbody>\n",
       "    <tr>\n",
       "      <th>509950</th>\n",
       "      <td>1126</td>\n",
       "      <td>8087</td>\n",
       "      <td>-0.6</td>\n",
       "      <td>2281047</td>\n",
       "      <td>45.1696</td>\n",
       "      <td>86.5531</td>\n",
       "      <td>2259.2</td>\n",
       "      <td>166.271</td>\n",
       "      <td>68.0388</td>\n",
       "      <td>573.506289</td>\n",
       "      <td>23.915422</td>\n",
       "      <td>BILL</td>\n",
       "      <td>2</td>\n",
       "    </tr>\n",
       "    <tr>\n",
       "      <th>509947</th>\n",
       "      <td>1126</td>\n",
       "      <td>9047</td>\n",
       "      <td>-4.1</td>\n",
       "      <td>2281047</td>\n",
       "      <td>45.1696</td>\n",
       "      <td>86.5531</td>\n",
       "      <td>2259.2</td>\n",
       "      <td>45.734</td>\n",
       "      <td>64.8783</td>\n",
       "      <td>530.264143</td>\n",
       "      <td>21.674992</td>\n",
       "      <td>LSH</td>\n",
       "      <td>2</td>\n",
       "    </tr>\n",
       "    <tr>\n",
       "      <th>509948</th>\n",
       "      <td>1126</td>\n",
       "      <td>9399</td>\n",
       "      <td>-3.7</td>\n",
       "      <td>2281047</td>\n",
       "      <td>45.1696</td>\n",
       "      <td>86.5531</td>\n",
       "      <td>2259.2</td>\n",
       "      <td>38.035</td>\n",
       "      <td>64.1633</td>\n",
       "      <td>544.869565</td>\n",
       "      <td>22.420298</td>\n",
       "      <td>TMCR</td>\n",
       "      <td>2</td>\n",
       "    </tr>\n",
       "    <tr>\n",
       "      <th>509951</th>\n",
       "      <td>1126</td>\n",
       "      <td>12300</td>\n",
       "      <td>4.3</td>\n",
       "      <td>2281047</td>\n",
       "      <td>45.1696</td>\n",
       "      <td>86.5531</td>\n",
       "      <td>2259.2</td>\n",
       "      <td>58.562</td>\n",
       "      <td>56.4295</td>\n",
       "      <td>678.264426</td>\n",
       "      <td>30.226654</td>\n",
       "      <td>ARU</td>\n",
       "      <td>2</td>\n",
       "    </tr>\n",
       "    <tr>\n",
       "      <th>174303</th>\n",
       "      <td>1482</td>\n",
       "      <td>10127</td>\n",
       "      <td>1.0</td>\n",
       "      <td>1219016</td>\n",
       "      <td>40.7319</td>\n",
       "      <td>86.4428</td>\n",
       "      <td>2341.5</td>\n",
       "      <td>45.627</td>\n",
       "      <td>61.6352</td>\n",
       "      <td>589.379694</td>\n",
       "      <td>24.822278</td>\n",
       "      <td>PRGR</td>\n",
       "      <td>2</td>\n",
       "    </tr>\n",
       "  </tbody>\n",
       "</table>\n",
       "</div>"
      ],
      "text/plain": [
       "        source_block  station_block  residual  event_number  source_longitude  \\\n",
       "509950          1126           8087      -0.6       2281047           45.1696   \n",
       "509947          1126           9047      -4.1       2281047           45.1696   \n",
       "509948          1126           9399      -3.7       2281047           45.1696   \n",
       "509951          1126          12300       4.3       2281047           45.1696   \n",
       "174303          1482          10127       1.0       1219016           40.7319   \n",
       "\n",
       "        source_latitude  source_depth  station_longitude  station_latitude  \\\n",
       "509950          86.5531        2259.2            166.271           68.0388   \n",
       "509947          86.5531        2259.2             45.734           64.8783   \n",
       "509948          86.5531        2259.2             38.035           64.1633   \n",
       "509951          86.5531        2259.2             58.562           56.4295   \n",
       "174303          86.4428        2341.5             45.627           61.6352   \n",
       "\n",
       "        observed_tt  locations2degrees station_code  P_or_S  \n",
       "509950   573.506289          23.915422         BILL       2  \n",
       "509947   530.264143          21.674992          LSH       2  \n",
       "509948   544.869565          22.420298         TMCR       2  \n",
       "509951   678.264426          30.226654          ARU       2  \n",
       "174303   589.379694          24.822278         PRGR       2  "
      ]
     },
     "execution_count": 6,
     "metadata": {},
     "output_type": "execute_result"
    }
   ],
   "source": [
    "finalpdf.head()"
   ]
  },
  {
   "cell_type": "code",
   "execution_count": 7,
   "metadata": {},
   "outputs": [],
   "source": [
    "#sort again\n",
    "pdf2=sort(sortedfile, 'sortedfile2.csv',10.0)"
   ]
  },
  {
   "cell_type": "code",
   "execution_count": 8,
   "metadata": {},
   "outputs": [
    {
     "data": {
      "text/html": [
       "<div>\n",
       "<style scoped>\n",
       "    .dataframe tbody tr th:only-of-type {\n",
       "        vertical-align: middle;\n",
       "    }\n",
       "\n",
       "    .dataframe tbody tr th {\n",
       "        vertical-align: top;\n",
       "    }\n",
       "\n",
       "    .dataframe thead th {\n",
       "        text-align: right;\n",
       "    }\n",
       "</style>\n",
       "<table border=\"1\" class=\"dataframe\">\n",
       "  <thead>\n",
       "    <tr style=\"text-align: right;\">\n",
       "      <th></th>\n",
       "      <th>source_block</th>\n",
       "      <th>station_block</th>\n",
       "      <th>residual</th>\n",
       "      <th>event_number</th>\n",
       "      <th>source_longitude</th>\n",
       "      <th>source_latitude</th>\n",
       "      <th>source_depth</th>\n",
       "      <th>station_longitude</th>\n",
       "      <th>station_latitude</th>\n",
       "      <th>observed_tt</th>\n",
       "      <th>locations2degrees</th>\n",
       "      <th>station_code</th>\n",
       "      <th>P_or_S</th>\n",
       "    </tr>\n",
       "  </thead>\n",
       "  <tbody>\n",
       "    <tr>\n",
       "      <th>0</th>\n",
       "      <td>1126</td>\n",
       "      <td>8087</td>\n",
       "      <td>-0.6</td>\n",
       "      <td>2281047</td>\n",
       "      <td>45.1696</td>\n",
       "      <td>86.5531</td>\n",
       "      <td>2259.2</td>\n",
       "      <td>166.271</td>\n",
       "      <td>68.0388</td>\n",
       "      <td>573.506289</td>\n",
       "      <td>23.915422</td>\n",
       "      <td>BILL</td>\n",
       "      <td>2</td>\n",
       "    </tr>\n",
       "    <tr>\n",
       "      <th>1</th>\n",
       "      <td>1126</td>\n",
       "      <td>9047</td>\n",
       "      <td>-4.1</td>\n",
       "      <td>2281047</td>\n",
       "      <td>45.1696</td>\n",
       "      <td>86.5531</td>\n",
       "      <td>2259.2</td>\n",
       "      <td>45.734</td>\n",
       "      <td>64.8783</td>\n",
       "      <td>530.264143</td>\n",
       "      <td>21.674992</td>\n",
       "      <td>LSH</td>\n",
       "      <td>2</td>\n",
       "    </tr>\n",
       "    <tr>\n",
       "      <th>2</th>\n",
       "      <td>1126</td>\n",
       "      <td>9399</td>\n",
       "      <td>-3.7</td>\n",
       "      <td>2281047</td>\n",
       "      <td>45.1696</td>\n",
       "      <td>86.5531</td>\n",
       "      <td>2259.2</td>\n",
       "      <td>38.035</td>\n",
       "      <td>64.1633</td>\n",
       "      <td>544.869565</td>\n",
       "      <td>22.420298</td>\n",
       "      <td>TMCR</td>\n",
       "      <td>2</td>\n",
       "    </tr>\n",
       "    <tr>\n",
       "      <th>3</th>\n",
       "      <td>1126</td>\n",
       "      <td>12300</td>\n",
       "      <td>4.3</td>\n",
       "      <td>2281047</td>\n",
       "      <td>45.1696</td>\n",
       "      <td>86.5531</td>\n",
       "      <td>2259.2</td>\n",
       "      <td>58.562</td>\n",
       "      <td>56.4295</td>\n",
       "      <td>678.264426</td>\n",
       "      <td>30.226654</td>\n",
       "      <td>ARU</td>\n",
       "      <td>2</td>\n",
       "    </tr>\n",
       "    <tr>\n",
       "      <th>4</th>\n",
       "      <td>1482</td>\n",
       "      <td>10127</td>\n",
       "      <td>1.0</td>\n",
       "      <td>1219016</td>\n",
       "      <td>40.7319</td>\n",
       "      <td>86.4428</td>\n",
       "      <td>2341.5</td>\n",
       "      <td>45.627</td>\n",
       "      <td>61.6352</td>\n",
       "      <td>589.379694</td>\n",
       "      <td>24.822278</td>\n",
       "      <td>PRGR</td>\n",
       "      <td>2</td>\n",
       "    </tr>\n",
       "  </tbody>\n",
       "</table>\n",
       "</div>"
      ],
      "text/plain": [
       "   source_block  station_block  residual  event_number  source_longitude  \\\n",
       "0          1126           8087      -0.6       2281047           45.1696   \n",
       "1          1126           9047      -4.1       2281047           45.1696   \n",
       "2          1126           9399      -3.7       2281047           45.1696   \n",
       "3          1126          12300       4.3       2281047           45.1696   \n",
       "4          1482          10127       1.0       1219016           40.7319   \n",
       "\n",
       "   source_latitude  source_depth  station_longitude  station_latitude  \\\n",
       "0          86.5531        2259.2            166.271           68.0388   \n",
       "1          86.5531        2259.2             45.734           64.8783   \n",
       "2          86.5531        2259.2             38.035           64.1633   \n",
       "3          86.5531        2259.2             58.562           56.4295   \n",
       "4          86.4428        2341.5             45.627           61.6352   \n",
       "\n",
       "   observed_tt  locations2degrees station_code  P_or_S  \n",
       "0   573.506289          23.915422         BILL       2  \n",
       "1   530.264143          21.674992          LSH       2  \n",
       "2   544.869565          22.420298         TMCR       2  \n",
       "3   678.264426          30.226654          ARU       2  \n",
       "4   589.379694          24.822278         PRGR       2  "
      ]
     },
     "execution_count": 8,
     "metadata": {},
     "output_type": "execute_result"
    }
   ],
   "source": [
    "pdf2.head()"
   ]
  },
  {
   "cell_type": "code",
   "execution_count": 9,
   "metadata": {},
   "outputs": [
    {
     "data": {
      "text/plain": [
       "(290313, 13)"
      ]
     },
     "execution_count": 9,
     "metadata": {},
     "output_type": "execute_result"
    }
   ],
   "source": [
    "pdf2.shape"
   ]
  },
  {
   "cell_type": "code",
   "execution_count": 13,
   "metadata": {},
   "outputs": [],
   "source": [
    "import matplotlib.pyplot as plt\n"
   ]
  },
  {
   "cell_type": "code",
   "execution_count": 22,
   "metadata": {},
   "outputs": [
    {
     "data": {
      "text/plain": [
       "<matplotlib.axes._subplots.AxesSubplot at 0x7efbd2d7c128>"
      ]
     },
     "execution_count": 22,
     "metadata": {},
     "output_type": "execute_result"
    },
    {
     "data": {
      "text/plain": [
       "<Figure size 432x288 with 0 Axes>"
      ]
     },
     "metadata": {},
     "output_type": "display_data"
    },
    {
     "data": {
      "image/png": "[encoded data removed]",
      "text/plain": [
       "<Figure size 432x288 with 1 Axes>"
      ]
     },
     "metadata": {},
     "output_type": "display_data"
    }
   ],
   "source": [
    "plt.figure(); pdf2.plot(x='event_number', y='observed_tt')\n",
    "# plt.figure(); pdf2.plot(x='event_number', y='source_depth')\n",
    "# plt.figure(); pdf2.plot(x='event_number', y='locations2degrees')\n",
    "# plt.figure(); pdf2.plot(x='event_number', y='residual')  # less than +-10s\n",
    "\n"
   ]
  },
  {
   "cell_type": "code",
   "execution_count": 23,
   "metadata": {},
   "outputs": [
    {
     "data": {
      "text/plain": [
       "<matplotlib.axes._subplots.AxesSubplot at 0x7efb69656dd8>"
      ]
     },
     "execution_count": 23,
     "metadata": {},
     "output_type": "execute_result"
    },
    {
     "data": {
      "text/plain": [
       "<Figure size 432x288 with 0 Axes>"
      ]
     },
     "metadata": {},
     "output_type": "display_data"
    },
    {
     "data": {
      "image/png": "[encoded data removed]",
      "text/plain": [
       "<Figure size 432x288 with 1 Axes>"
      ]
     },
     "metadata": {},
     "output_type": "display_data"
    }
   ],
   "source": [
    "plt.figure(); pdf2.plot.scatter(x='source_block', y='station_block')"
   ]
  },
  {
   "cell_type": "code",
   "execution_count": 25,
   "metadata": {},
   "outputs": [
    {
     "data": {
      "text/plain": [
       "<matplotlib.axes._subplots.AxesSubplot at 0x7efbd2cf9ba8>"
      ]
     },
     "execution_count": 25,
     "metadata": {},
     "output_type": "execute_result"
    },
    {
     "data": {
      "text/plain": [
       "<Figure size 432x288 with 0 Axes>"
      ]
     },
     "metadata": {},
     "output_type": "display_data"
    },
    {
     "data": {
      "image/png": "[encoded data removed]",
      "text/plain": [
       "<Figure size 432x288 with 1 Axes>"
      ]
     },
     "metadata": {},
     "output_type": "display_data"
    }
   ],
   "source": [
    "plt.figure(); pdf2.plot.scatter(x='source_longitude', y='source_latitude')"
   ]
  },
  {
   "cell_type": "code",
   "execution_count": 26,
   "metadata": {},
   "outputs": [
    {
     "data": {
      "text/plain": [
       "<matplotlib.axes._subplots.AxesSubplot at 0x7efbd2c6e048>"
      ]
     },
     "execution_count": 26,
     "metadata": {},
     "output_type": "execute_result"
    },
    {
     "data": {
      "text/plain": [
       "<Figure size 432x288 with 0 Axes>"
      ]
     },
     "metadata": {},
     "output_type": "display_data"
    },
    {
     "data": {
      "image/png": "[encoded data removed]",
      "text/plain": [
       "<Figure size 432x288 with 1 Axes>"
      ]
     },
     "metadata": {},
     "output_type": "display_data"
    }
   ],
   "source": [
    "plt.figure(); pdf2.plot.scatter(x='station_longitude', y='station_latitude')"
   ]
  }
 ],
 "metadata": {
  "kernelspec": {
   "display_name": "Python 3",
   "language": "python",
   "name": "python3"
  },
  "language_info": {
   "codemirror_mode": {
    "name": "ipython",
    "version": 3
   },
   "file_extension": ".py",
   "mimetype": "text/x-python",
   "name": "python",
   "nbconvert_exporter": "python",
   "pygments_lexer": "ipython3",
   "version": "3.6.4"
  }
 },
 "nbformat": 4,
 "nbformat_minor": 2
}
