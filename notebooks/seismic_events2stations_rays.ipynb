{
 "cells": [
  {
   "cell_type": "markdown",
   "metadata": {},
   "source": [
    "# Use Pandas to Sort event arrivals csv files\n",
    "\n",
    "##  Fei Zhang\n",
    "### 2018-07-12"
   ]
  },
  {
   "cell_type": "code",
   "execution_count": null,
   "metadata": {},
   "outputs": [],
   "source": []
  },
  {
   "cell_type": "code",
   "execution_count": 1,
   "metadata": {},
   "outputs": [],
   "source": [
    "import pandas as pd\n",
    "import matplotlib.pyplot as plt"
   ]
  },
  {
   "cell_type": "code",
   "execution_count": 2,
   "metadata": {},
   "outputs": [],
   "source": [
    "SOURCE_LATITUDE = 'source_latitude'\n",
    "SOURCE_LONGITUDE = 'source_longitude'\n",
    "STATION_LATITUDE = 'station_latitude'\n",
    "STATION_LONGITUDE = 'station_longitude'\n",
    "STATION_CODE = 'station_code'\n",
    "FREQUENCY = 'no_of_summary_rays'\n",
    "\n",
    "column_names = ['source_block', 'station_block',\n",
    "                'residual', 'event_number',\n",
    "                SOURCE_LONGITUDE, SOURCE_LATITUDE,\n",
    "                'source_depth', STATION_LONGITUDE, STATION_LATITUDE,\n",
    "                'observed_tt', 'locations2degrees', STATION_CODE, 'P_or_S']\n",
    "\n",
    "def sort(output_file, sorted_file, residual_cutoff):\n",
    "    \"\"\"\n",
    "    Sort and filter the arrivals.\n",
    "\n",
    "    Sort based on the source and station block number.\n",
    "    There are two stages of filtering:\n",
    "    1. Filter based on the time residual\n",
    "    2. Filter based on median of observed travel time.\n",
    "\n",
    "    If there are multiple source and station block combinations, we keep the\n",
    "    row corresponding to the median observed travel time (observed_tt).\n",
    "\n",
    "    cmdline usage:\n",
    "    cluster sort outfile_P.csv 5. -s sorted_P.csv\n",
    "    cluster sort outfile_S.csv 10. -s sorted_S.csv\n",
    "\n",
    "\n",
    "    :param output_file: output file from the gather stage (eg, outfile_P.csv)\n",
    "    :param sorted_file: str, optional\n",
    "        optional sorted output file path. Default: sorted.csv.\n",
    "    :param residual_cutoff: float\n",
    "        residual seconds above which arrivals are rejected.\n",
    "    :return: None\n",
    "    \"\"\"\n",
    "\n",
    "#     log.info('Filtering arrivals.')\n",
    "\n",
    "    cluster_data = pd.read_csv(output_file, header=None,\n",
    "                               names=column_names)\n",
    "    \n",
    "    cluster_data = cluster_data[abs(cluster_data['residual'])\n",
    "                                < residual_cutoff]\n",
    "    \n",
    "    #cluster_data['source_depth'] = cluster_data['source_depth'] / 1000.0  # convert to KM?\n",
    "    \n",
    "    # groupby sorts by default\n",
    "    # cluster_data.sort_values(by=['source_block', 'station_block'],\n",
    "    #                          inplace=True)\n",
    "\n",
    "#     log.info('Sorting arrivals.')\n",
    "\n",
    "    # groupby automatically sorts\n",
    "    med = cluster_data.groupby(by=['source_block',\n",
    "                                   'station_block'])[\n",
    "        'observed_tt'].quantile(q=.5, interpolation='lower').reset_index()\n",
    "\n",
    "    final_df = pd.merge(cluster_data, med, how='right',\n",
    "                        on=['source_block', 'station_block', 'observed_tt'],\n",
    "                        sort=True,\n",
    "                        right_index=True)\n",
    "\n",
    "    # Confirmed: drop_duplicates required due to possibly duplicated picks in\n",
    "    #  the original engdahl events\n",
    "    # refer: https://github.com/GeoscienceAustralia/passive-seismic/issues/51\n",
    "    # The subset is specified as we have some stations that are very close?\n",
    "    final_df.drop_duplicates(subset=['source_block', 'station_block',\n",
    "                                     'event_number', SOURCE_LONGITUDE,\n",
    "                                     SOURCE_LATITUDE, 'source_depth'],\n",
    "                             keep='first',\n",
    "                             inplace=True)\n",
    "\n",
    "    final_df.to_csv(sorted_file, header=False, index=False, sep=',')\n",
    "    \n",
    "    return final_df\n"
   ]
  },
  {
   "cell_type": "code",
   "execution_count": 3,
   "metadata": {},
   "outputs": [
    {
     "name": "stdout",
     "output_type": "stream",
     "text": [
      "/g/data1a/ha3/fxz547/Githubz/passive-seismic/notebooks\r\n"
     ]
    }
   ],
   "source": [
    "!pwd\n"
   ]
  },
  {
   "cell_type": "code",
   "execution_count": 4,
   "metadata": {},
   "outputs": [],
   "source": [
    "\n",
    "# inputcsv='/g/data1a/ha3/fxz547/travel_time_tomography/run5_events_1deg/outfile_S.csv'\n",
    "# residual_cutoff=10.0\n",
    "# sortedfile='sortedfile_S.csv'\n",
    "# sortedfile2= 'sortedfile2_S.csv'\n",
    "\n",
    "inputcsv='/g/data1a/ha3/fxz547/travel_time_tomography/run5_events_1deg/outfile_P.csv'\n",
    "residual_cutoff=5.0\n",
    "sortedfile='sortedfile_P.csv'\n",
    "sortedfile2= 'sortedfile2_P.csv'\n"
   ]
  },
  {
   "cell_type": "code",
   "execution_count": 5,
   "metadata": {},
   "outputs": [],
   "source": [
    "finalpdf = sort(inputcsv,sortedfile,residual_cutoff)"
   ]
  },
  {
   "cell_type": "code",
   "execution_count": 6,
   "metadata": {},
   "outputs": [
    {
     "data": {
      "text/html": [
       "<div>\n",
       "<style scoped>\n",
       "    .dataframe tbody tr th:only-of-type {\n",
       "        vertical-align: middle;\n",
       "    }\n",
       "\n",
       "    .dataframe tbody tr th {\n",
       "        vertical-align: top;\n",
       "    }\n",
       "\n",
       "    .dataframe thead th {\n",
       "        text-align: right;\n",
       "    }\n",
       "</style>\n",
       "<table border=\"1\" class=\"dataframe\">\n",
       "  <thead>\n",
       "    <tr style=\"text-align: right;\">\n",
       "      <th></th>\n",
       "      <th>source_block</th>\n",
       "      <th>station_block</th>\n",
       "      <th>residual</th>\n",
       "      <th>event_number</th>\n",
       "      <th>source_longitude</th>\n",
       "      <th>source_latitude</th>\n",
       "      <th>source_depth</th>\n",
       "      <th>station_longitude</th>\n",
       "      <th>station_latitude</th>\n",
       "      <th>observed_tt</th>\n",
       "      <th>locations2degrees</th>\n",
       "      <th>station_code</th>\n",
       "      <th>P_or_S</th>\n",
       "    </tr>\n",
       "  </thead>\n",
       "  <tbody>\n",
       "    <tr>\n",
       "      <th>3975289</th>\n",
       "      <td>1122</td>\n",
       "      <td>9214</td>\n",
       "      <td>-0.9</td>\n",
       "      <td>4138020</td>\n",
       "      <td>40.8792</td>\n",
       "      <td>87.0653</td>\n",
       "      <td>0.0</td>\n",
       "      <td>-146.887</td>\n",
       "      <td>64.7707</td>\n",
       "      <td>353.972295</td>\n",
       "      <td>28.139693</td>\n",
       "      <td>ILAR</td>\n",
       "      <td>1</td>\n",
       "    </tr>\n",
       "    <tr>\n",
       "      <th>3975290</th>\n",
       "      <td>1122</td>\n",
       "      <td>15563</td>\n",
       "      <td>0.2</td>\n",
       "      <td>4138020</td>\n",
       "      <td>40.8792</td>\n",
       "      <td>87.0653</td>\n",
       "      <td>0.0</td>\n",
       "      <td>82.290</td>\n",
       "      <td>46.7931</td>\n",
       "      <td>466.488392</td>\n",
       "      <td>41.042857</td>\n",
       "      <td>MKAR</td>\n",
       "      <td>1</td>\n",
       "    </tr>\n",
       "    <tr>\n",
       "      <th>3975291</th>\n",
       "      <td>1122</td>\n",
       "      <td>18963</td>\n",
       "      <td>0.6</td>\n",
       "      <td>4138020</td>\n",
       "      <td>40.8792</td>\n",
       "      <td>87.0653</td>\n",
       "      <td>0.0</td>\n",
       "      <td>-118.304</td>\n",
       "      <td>38.4293</td>\n",
       "      <td>569.977076</td>\n",
       "      <td>54.320942</td>\n",
       "      <td>NVAR</td>\n",
       "      <td>1</td>\n",
       "    </tr>\n",
       "    <tr>\n",
       "      <th>3975292</th>\n",
       "      <td>1122</td>\n",
       "      <td>22217</td>\n",
       "      <td>0.3</td>\n",
       "      <td>4138020</td>\n",
       "      <td>40.8792</td>\n",
       "      <td>87.0653</td>\n",
       "      <td>0.0</td>\n",
       "      <td>-103.667</td>\n",
       "      <td>29.3331</td>\n",
       "      <td>630.227493</td>\n",
       "      <td>63.071005</td>\n",
       "      <td>TXAR</td>\n",
       "      <td>1</td>\n",
       "    </tr>\n",
       "    <tr>\n",
       "      <th>3975293</th>\n",
       "      <td>1122</td>\n",
       "      <td>27723</td>\n",
       "      <td>-0.6</td>\n",
       "      <td>4138020</td>\n",
       "      <td>40.8792</td>\n",
       "      <td>87.0653</td>\n",
       "      <td>0.0</td>\n",
       "      <td>1.695</td>\n",
       "      <td>13.1470</td>\n",
       "      <td>700.339917</td>\n",
       "      <td>74.585736</td>\n",
       "      <td>TORD</td>\n",
       "      <td>1</td>\n",
       "    </tr>\n",
       "  </tbody>\n",
       "</table>\n",
       "</div>"
      ],
      "text/plain": [
       "         source_block  station_block  residual  event_number  \\\n",
       "3975289          1122           9214      -0.9       4138020   \n",
       "3975290          1122          15563       0.2       4138020   \n",
       "3975291          1122          18963       0.6       4138020   \n",
       "3975292          1122          22217       0.3       4138020   \n",
       "3975293          1122          27723      -0.6       4138020   \n",
       "\n",
       "         source_longitude  source_latitude  source_depth  station_longitude  \\\n",
       "3975289           40.8792          87.0653           0.0           -146.887   \n",
       "3975290           40.8792          87.0653           0.0             82.290   \n",
       "3975291           40.8792          87.0653           0.0           -118.304   \n",
       "3975292           40.8792          87.0653           0.0           -103.667   \n",
       "3975293           40.8792          87.0653           0.0              1.695   \n",
       "\n",
       "         station_latitude  observed_tt  locations2degrees station_code  P_or_S  \n",
       "3975289           64.7707   353.972295          28.139693         ILAR       1  \n",
       "3975290           46.7931   466.488392          41.042857         MKAR       1  \n",
       "3975291           38.4293   569.977076          54.320942         NVAR       1  \n",
       "3975292           29.3331   630.227493          63.071005         TXAR       1  \n",
       "3975293           13.1470   700.339917          74.585736         TORD       1  "
      ]
     },
     "execution_count": 6,
     "metadata": {},
     "output_type": "execute_result"
    }
   ],
   "source": [
    "finalpdf.head()"
   ]
  },
  {
   "cell_type": "code",
   "execution_count": 7,
   "metadata": {},
   "outputs": [],
   "source": [
    "#sort again\n",
    "pdf2=sort(sortedfile, sortedfile2, residual_cutoff )"
   ]
  },
  {
   "cell_type": "code",
   "execution_count": 8,
   "metadata": {},
   "outputs": [
    {
     "data": {
      "text/html": [
       "<div>\n",
       "<style scoped>\n",
       "    .dataframe tbody tr th:only-of-type {\n",
       "        vertical-align: middle;\n",
       "    }\n",
       "\n",
       "    .dataframe tbody tr th {\n",
       "        vertical-align: top;\n",
       "    }\n",
       "\n",
       "    .dataframe thead th {\n",
       "        text-align: right;\n",
       "    }\n",
       "</style>\n",
       "<table border=\"1\" class=\"dataframe\">\n",
       "  <thead>\n",
       "    <tr style=\"text-align: right;\">\n",
       "      <th></th>\n",
       "      <th>source_block</th>\n",
       "      <th>station_block</th>\n",
       "      <th>residual</th>\n",
       "      <th>event_number</th>\n",
       "      <th>source_longitude</th>\n",
       "      <th>source_latitude</th>\n",
       "      <th>source_depth</th>\n",
       "      <th>station_longitude</th>\n",
       "      <th>station_latitude</th>\n",
       "      <th>observed_tt</th>\n",
       "      <th>locations2degrees</th>\n",
       "      <th>station_code</th>\n",
       "      <th>P_or_S</th>\n",
       "    </tr>\n",
       "  </thead>\n",
       "  <tbody>\n",
       "    <tr>\n",
       "      <th>0</th>\n",
       "      <td>1122</td>\n",
       "      <td>9214</td>\n",
       "      <td>-0.9</td>\n",
       "      <td>4138020</td>\n",
       "      <td>40.8792</td>\n",
       "      <td>87.0653</td>\n",
       "      <td>0.0</td>\n",
       "      <td>-146.887</td>\n",
       "      <td>64.7707</td>\n",
       "      <td>353.972295</td>\n",
       "      <td>28.139693</td>\n",
       "      <td>ILAR</td>\n",
       "      <td>1</td>\n",
       "    </tr>\n",
       "    <tr>\n",
       "      <th>1</th>\n",
       "      <td>1122</td>\n",
       "      <td>15563</td>\n",
       "      <td>0.2</td>\n",
       "      <td>4138020</td>\n",
       "      <td>40.8792</td>\n",
       "      <td>87.0653</td>\n",
       "      <td>0.0</td>\n",
       "      <td>82.290</td>\n",
       "      <td>46.7931</td>\n",
       "      <td>466.488392</td>\n",
       "      <td>41.042857</td>\n",
       "      <td>MKAR</td>\n",
       "      <td>1</td>\n",
       "    </tr>\n",
       "    <tr>\n",
       "      <th>2</th>\n",
       "      <td>1122</td>\n",
       "      <td>18963</td>\n",
       "      <td>0.6</td>\n",
       "      <td>4138020</td>\n",
       "      <td>40.8792</td>\n",
       "      <td>87.0653</td>\n",
       "      <td>0.0</td>\n",
       "      <td>-118.304</td>\n",
       "      <td>38.4293</td>\n",
       "      <td>569.977076</td>\n",
       "      <td>54.320942</td>\n",
       "      <td>NVAR</td>\n",
       "      <td>1</td>\n",
       "    </tr>\n",
       "    <tr>\n",
       "      <th>3</th>\n",
       "      <td>1122</td>\n",
       "      <td>22217</td>\n",
       "      <td>0.3</td>\n",
       "      <td>4138020</td>\n",
       "      <td>40.8792</td>\n",
       "      <td>87.0653</td>\n",
       "      <td>0.0</td>\n",
       "      <td>-103.667</td>\n",
       "      <td>29.3331</td>\n",
       "      <td>630.227493</td>\n",
       "      <td>63.071005</td>\n",
       "      <td>TXAR</td>\n",
       "      <td>1</td>\n",
       "    </tr>\n",
       "    <tr>\n",
       "      <th>4</th>\n",
       "      <td>1122</td>\n",
       "      <td>27723</td>\n",
       "      <td>-0.6</td>\n",
       "      <td>4138020</td>\n",
       "      <td>40.8792</td>\n",
       "      <td>87.0653</td>\n",
       "      <td>0.0</td>\n",
       "      <td>1.695</td>\n",
       "      <td>13.1470</td>\n",
       "      <td>700.339917</td>\n",
       "      <td>74.585736</td>\n",
       "      <td>TORD</td>\n",
       "      <td>1</td>\n",
       "    </tr>\n",
       "  </tbody>\n",
       "</table>\n",
       "</div>"
      ],
      "text/plain": [
       "   source_block  station_block  residual  event_number  source_longitude  \\\n",
       "0          1122           9214      -0.9       4138020           40.8792   \n",
       "1          1122          15563       0.2       4138020           40.8792   \n",
       "2          1122          18963       0.6       4138020           40.8792   \n",
       "3          1122          22217       0.3       4138020           40.8792   \n",
       "4          1122          27723      -0.6       4138020           40.8792   \n",
       "\n",
       "   source_latitude  source_depth  station_longitude  station_latitude  \\\n",
       "0          87.0653           0.0           -146.887           64.7707   \n",
       "1          87.0653           0.0             82.290           46.7931   \n",
       "2          87.0653           0.0           -118.304           38.4293   \n",
       "3          87.0653           0.0           -103.667           29.3331   \n",
       "4          87.0653           0.0              1.695           13.1470   \n",
       "\n",
       "   observed_tt  locations2degrees station_code  P_or_S  \n",
       "0   353.972295          28.139693         ILAR       1  \n",
       "1   466.488392          41.042857         MKAR       1  \n",
       "2   569.977076          54.320942         NVAR       1  \n",
       "3   630.227493          63.071005         TXAR       1  \n",
       "4   700.339917          74.585736         TORD       1  "
      ]
     },
     "execution_count": 8,
     "metadata": {},
     "output_type": "execute_result"
    }
   ],
   "source": [
    "pdf2.head()"
   ]
  },
  {
   "cell_type": "code",
   "execution_count": 9,
   "metadata": {},
   "outputs": [
    {
     "data": {
      "text/plain": [
       "(3278317, 13)"
      ]
     },
     "execution_count": 9,
     "metadata": {},
     "output_type": "execute_result"
    }
   ],
   "source": [
    "pdf2.shape"
   ]
  },
  {
   "cell_type": "code",
   "execution_count": null,
   "metadata": {},
   "outputs": [],
   "source": [
    "\n"
   ]
  },
  {
   "cell_type": "code",
   "execution_count": 10,
   "metadata": {},
   "outputs": [
    {
     "data": {
      "text/plain": [
       "<matplotlib.axes._subplots.AxesSubplot at 0x7f7537fff550>"
      ]
     },
     "execution_count": 10,
     "metadata": {},
     "output_type": "execute_result"
    },
    {
     "data": {
      "text/plain": [
       "<Figure size 432x288 with 0 Axes>"
      ]
     },
     "metadata": {},
     "output_type": "display_data"
    },
    {
     "data": {
      "image/png": "[encoded data removed]",
      "text/plain": [
       "<Figure size 432x288 with 1 Axes>"
      ]
     },
     "metadata": {},
     "output_type": "display_data"
    }
   ],
   "source": [
    "plt.figure(); pdf2.plot(x='event_number', y='observed_tt')\n",
    "# plt.figure(); pdf2.plot(x='event_number', y='source_depth')\n",
    "# plt.figure(); pdf2.plot(x='event_number', y='locations2degrees')\n",
    "# plt.figure(); pdf2.plot(x='event_number', y='residual')  # less than +-10s\n",
    "\n"
   ]
  },
  {
   "cell_type": "code",
   "execution_count": 11,
   "metadata": {},
   "outputs": [
    {
     "data": {
      "text/plain": [
       "<matplotlib.axes._subplots.AxesSubplot at 0x7f7431b29e48>"
      ]
     },
     "execution_count": 11,
     "metadata": {},
     "output_type": "execute_result"
    },
    {
     "data": {
      "text/plain": [
       "<Figure size 432x288 with 0 Axes>"
      ]
     },
     "metadata": {},
     "output_type": "display_data"
    },
    {
     "data": {
      "image/png": "[encoded data removed]",
      "text/plain": [
       "<Figure size 432x288 with 1 Axes>"
      ]
     },
     "metadata": {},
     "output_type": "display_data"
    }
   ],
   "source": [
    "plt.figure(); pdf2.plot.scatter(x='source_block', y='station_block')"
   ]
  },
  {
   "cell_type": "code",
   "execution_count": 12,
   "metadata": {},
   "outputs": [
    {
     "data": {
      "text/plain": [
       "<matplotlib.axes._subplots.AxesSubplot at 0x7f74b17d3710>"
      ]
     },
     "execution_count": 12,
     "metadata": {},
     "output_type": "execute_result"
    },
    {
     "data": {
      "text/plain": [
       "<Figure size 432x288 with 0 Axes>"
      ]
     },
     "metadata": {},
     "output_type": "display_data"
    },
    {
     "data": {
      "image/png": "[encoded data removed]",
      "text/plain": [
       "<Figure size 432x288 with 1 Axes>"
      ]
     },
     "metadata": {},
     "output_type": "display_data"
    }
   ],
   "source": [
    "plt.figure(); pdf2.plot.scatter(x='source_longitude', y='source_latitude')"
   ]
  },
  {
   "cell_type": "code",
   "execution_count": 13,
   "metadata": {},
   "outputs": [
    {
     "data": {
      "text/plain": [
       "<matplotlib.axes._subplots.AxesSubplot at 0x7f7528880550>"
      ]
     },
     "execution_count": 13,
     "metadata": {},
     "output_type": "execute_result"
    },
    {
     "data": {
      "text/plain": [
       "<Figure size 432x288 with 0 Axes>"
      ]
     },
     "metadata": {},
     "output_type": "display_data"
    },
    {
     "data": {
      "image/png": "[encoded data removed]",
      "text/plain": [
       "<Figure size 432x288 with 1 Axes>"
      ]
     },
     "metadata": {},
     "output_type": "display_data"
    }
   ],
   "source": [
    "plt.figure(); pdf2.plot.scatter(x='station_longitude', y='station_latitude')"
   ]
  },
  {
   "cell_type": "code",
   "execution_count": 14,
   "metadata": {},
   "outputs": [],
   "source": [
    " med = pdf2.groupby(by=['source_block', 'station_block'])[\n",
    "        'observed_tt'].quantile(q=.5, interpolation='lower').reset_index()"
   ]
  },
  {
   "cell_type": "code",
   "execution_count": 15,
   "metadata": {},
   "outputs": [
    {
     "data": {
      "text/html": [
       "<div>\n",
       "<style scoped>\n",
       "    .dataframe tbody tr th:only-of-type {\n",
       "        vertical-align: middle;\n",
       "    }\n",
       "\n",
       "    .dataframe tbody tr th {\n",
       "        vertical-align: top;\n",
       "    }\n",
       "\n",
       "    .dataframe thead th {\n",
       "        text-align: right;\n",
       "    }\n",
       "</style>\n",
       "<table border=\"1\" class=\"dataframe\">\n",
       "  <thead>\n",
       "    <tr style=\"text-align: right;\">\n",
       "      <th></th>\n",
       "      <th>source_block</th>\n",
       "      <th>station_block</th>\n",
       "      <th>observed_tt</th>\n",
       "    </tr>\n",
       "  </thead>\n",
       "  <tbody>\n",
       "    <tr>\n",
       "      <th>0</th>\n",
       "      <td>1122</td>\n",
       "      <td>9214</td>\n",
       "      <td>353.972295</td>\n",
       "    </tr>\n",
       "    <tr>\n",
       "      <th>1</th>\n",
       "      <td>1122</td>\n",
       "      <td>15563</td>\n",
       "      <td>466.488392</td>\n",
       "    </tr>\n",
       "    <tr>\n",
       "      <th>2</th>\n",
       "      <td>1122</td>\n",
       "      <td>18963</td>\n",
       "      <td>569.977076</td>\n",
       "    </tr>\n",
       "    <tr>\n",
       "      <th>3</th>\n",
       "      <td>1122</td>\n",
       "      <td>22217</td>\n",
       "      <td>630.227493</td>\n",
       "    </tr>\n",
       "    <tr>\n",
       "      <th>4</th>\n",
       "      <td>1122</td>\n",
       "      <td>27723</td>\n",
       "      <td>700.339917</td>\n",
       "    </tr>\n",
       "  </tbody>\n",
       "</table>\n",
       "</div>"
      ],
      "text/plain": [
       "   source_block  station_block  observed_tt\n",
       "0          1122           9214   353.972295\n",
       "1          1122          15563   466.488392\n",
       "2          1122          18963   569.977076\n",
       "3          1122          22217   630.227493\n",
       "4          1122          27723   700.339917"
      ]
     },
     "execution_count": 15,
     "metadata": {},
     "output_type": "execute_result"
    }
   ],
   "source": [
    "med.head()"
   ]
  },
  {
   "cell_type": "code",
   "execution_count": 16,
   "metadata": {},
   "outputs": [
    {
     "data": {
      "text/plain": [
       "(3162982, 3)"
      ]
     },
     "execution_count": 16,
     "metadata": {},
     "output_type": "execute_result"
    }
   ],
   "source": [
    "med.shape"
   ]
  },
  {
   "cell_type": "code",
   "execution_count": 17,
   "metadata": {},
   "outputs": [
    {
     "data": {
      "text/plain": [
       "(3278317, 13)"
      ]
     },
     "execution_count": 17,
     "metadata": {},
     "output_type": "execute_result"
    }
   ],
   "source": [
    "pdf2.shape"
   ]
  },
  {
   "cell_type": "code",
   "execution_count": 18,
   "metadata": {},
   "outputs": [],
   "source": [
    "pdf3=pdf2.groupby(by=['source_block', 'station_block']).count()"
   ]
  },
  {
   "cell_type": "code",
   "execution_count": 19,
   "metadata": {},
   "outputs": [
    {
     "data": {
      "text/plain": [
       "(3162982, 11)"
      ]
     },
     "execution_count": 19,
     "metadata": {},
     "output_type": "execute_result"
    }
   ],
   "source": [
    "pdf3.shape"
   ]
  },
  {
   "cell_type": "code",
   "execution_count": 20,
   "metadata": {},
   "outputs": [],
   "source": [
    "pdf4=pdf3[(pdf3['residual']>2)]"
   ]
  },
  {
   "cell_type": "code",
   "execution_count": 21,
   "metadata": {},
   "outputs": [
    {
     "data": {
      "text/plain": [
       "(152, 11)"
      ]
     },
     "execution_count": 21,
     "metadata": {},
     "output_type": "execute_result"
    }
   ],
   "source": [
    "pdf4.shape"
   ]
  },
  {
   "cell_type": "code",
   "execution_count": 22,
   "metadata": {},
   "outputs": [
    {
     "data": {
      "text/html": [
       "<div>\n",
       "<style scoped>\n",
       "    .dataframe tbody tr th:only-of-type {\n",
       "        vertical-align: middle;\n",
       "    }\n",
       "\n",
       "    .dataframe tbody tr th {\n",
       "        vertical-align: top;\n",
       "    }\n",
       "\n",
       "    .dataframe thead th {\n",
       "        text-align: right;\n",
       "    }\n",
       "</style>\n",
       "<table border=\"1\" class=\"dataframe\">\n",
       "  <thead>\n",
       "    <tr style=\"text-align: right;\">\n",
       "      <th></th>\n",
       "      <th></th>\n",
       "      <th>residual</th>\n",
       "      <th>event_number</th>\n",
       "      <th>source_longitude</th>\n",
       "      <th>source_latitude</th>\n",
       "      <th>source_depth</th>\n",
       "      <th>station_longitude</th>\n",
       "      <th>station_latitude</th>\n",
       "      <th>observed_tt</th>\n",
       "      <th>locations2degrees</th>\n",
       "      <th>station_code</th>\n",
       "      <th>P_or_S</th>\n",
       "    </tr>\n",
       "    <tr>\n",
       "      <th>source_block</th>\n",
       "      <th>station_block</th>\n",
       "      <th></th>\n",
       "      <th></th>\n",
       "      <th></th>\n",
       "      <th></th>\n",
       "      <th></th>\n",
       "      <th></th>\n",
       "      <th></th>\n",
       "      <th></th>\n",
       "      <th></th>\n",
       "      <th></th>\n",
       "      <th></th>\n",
       "    </tr>\n",
       "  </thead>\n",
       "  <tbody>\n",
       "    <tr>\n",
       "      <th rowspan=\"5\" valign=\"top\">149425</th>\n",
       "      <th>37829</th>\n",
       "      <td>3</td>\n",
       "      <td>3</td>\n",
       "      <td>3</td>\n",
       "      <td>3</td>\n",
       "      <td>3</td>\n",
       "      <td>3</td>\n",
       "      <td>3</td>\n",
       "      <td>3</td>\n",
       "      <td>3</td>\n",
       "      <td>3</td>\n",
       "      <td>3</td>\n",
       "    </tr>\n",
       "    <tr>\n",
       "      <th>38473</th>\n",
       "      <td>3</td>\n",
       "      <td>3</td>\n",
       "      <td>3</td>\n",
       "      <td>3</td>\n",
       "      <td>3</td>\n",
       "      <td>3</td>\n",
       "      <td>3</td>\n",
       "      <td>3</td>\n",
       "      <td>3</td>\n",
       "      <td>3</td>\n",
       "      <td>3</td>\n",
       "    </tr>\n",
       "    <tr>\n",
       "      <th>39259</th>\n",
       "      <td>3</td>\n",
       "      <td>3</td>\n",
       "      <td>3</td>\n",
       "      <td>3</td>\n",
       "      <td>3</td>\n",
       "      <td>3</td>\n",
       "      <td>3</td>\n",
       "      <td>3</td>\n",
       "      <td>3</td>\n",
       "      <td>3</td>\n",
       "      <td>3</td>\n",
       "    </tr>\n",
       "    <tr>\n",
       "      <th>41427</th>\n",
       "      <td>3</td>\n",
       "      <td>3</td>\n",
       "      <td>3</td>\n",
       "      <td>3</td>\n",
       "      <td>3</td>\n",
       "      <td>3</td>\n",
       "      <td>3</td>\n",
       "      <td>3</td>\n",
       "      <td>3</td>\n",
       "      <td>3</td>\n",
       "      <td>3</td>\n",
       "    </tr>\n",
       "    <tr>\n",
       "      <th>42866</th>\n",
       "      <td>3</td>\n",
       "      <td>3</td>\n",
       "      <td>3</td>\n",
       "      <td>3</td>\n",
       "      <td>3</td>\n",
       "      <td>3</td>\n",
       "      <td>3</td>\n",
       "      <td>3</td>\n",
       "      <td>3</td>\n",
       "      <td>3</td>\n",
       "      <td>3</td>\n",
       "    </tr>\n",
       "  </tbody>\n",
       "</table>\n",
       "</div>"
      ],
      "text/plain": [
       "                            residual  event_number  source_longitude  \\\n",
       "source_block station_block                                             \n",
       "149425       37829                 3             3                 3   \n",
       "             38473                 3             3                 3   \n",
       "             39259                 3             3                 3   \n",
       "             41427                 3             3                 3   \n",
       "             42866                 3             3                 3   \n",
       "\n",
       "                            source_latitude  source_depth  station_longitude  \\\n",
       "source_block station_block                                                     \n",
       "149425       37829                        3             3                  3   \n",
       "             38473                        3             3                  3   \n",
       "             39259                        3             3                  3   \n",
       "             41427                        3             3                  3   \n",
       "             42866                        3             3                  3   \n",
       "\n",
       "                            station_latitude  observed_tt  locations2degrees  \\\n",
       "source_block station_block                                                     \n",
       "149425       37829                         3            3                  3   \n",
       "             38473                         3            3                  3   \n",
       "             39259                         3            3                  3   \n",
       "             41427                         3            3                  3   \n",
       "             42866                         3            3                  3   \n",
       "\n",
       "                            station_code  P_or_S  \n",
       "source_block station_block                        \n",
       "149425       37829                     3       3  \n",
       "             38473                     3       3  \n",
       "             39259                     3       3  \n",
       "             41427                     3       3  \n",
       "             42866                     3       3  "
      ]
     },
     "execution_count": 22,
     "metadata": {},
     "output_type": "execute_result"
    }
   ],
   "source": [
    "pdf4.tail()"
   ]
  },
  {
   "cell_type": "code",
   "execution_count": 23,
   "metadata": {},
   "outputs": [],
   "source": [
    "# select rows\n",
    "rowmask= (pdf2['source_block'] == 9344) & (pdf2['station_block']==9037)  #select certain rows\n",
    "pdf5=pdf2.loc[ rowmask ]"
   ]
  },
  {
   "cell_type": "code",
   "execution_count": 24,
   "metadata": {},
   "outputs": [
    {
     "data": {
      "text/html": [
       "<div>\n",
       "<style scoped>\n",
       "    .dataframe tbody tr th:only-of-type {\n",
       "        vertical-align: middle;\n",
       "    }\n",
       "\n",
       "    .dataframe tbody tr th {\n",
       "        vertical-align: top;\n",
       "    }\n",
       "\n",
       "    .dataframe thead th {\n",
       "        text-align: right;\n",
       "    }\n",
       "</style>\n",
       "<table border=\"1\" class=\"dataframe\">\n",
       "  <thead>\n",
       "    <tr style=\"text-align: right;\">\n",
       "      <th></th>\n",
       "      <th>source_block</th>\n",
       "      <th>station_block</th>\n",
       "      <th>residual</th>\n",
       "      <th>event_number</th>\n",
       "      <th>source_longitude</th>\n",
       "      <th>source_latitude</th>\n",
       "      <th>source_depth</th>\n",
       "      <th>station_longitude</th>\n",
       "      <th>station_latitude</th>\n",
       "      <th>observed_tt</th>\n",
       "      <th>locations2degrees</th>\n",
       "      <th>station_code</th>\n",
       "      <th>P_or_S</th>\n",
       "    </tr>\n",
       "  </thead>\n",
       "  <tbody>\n",
       "    <tr>\n",
       "      <th>3879</th>\n",
       "      <td>9344</td>\n",
       "      <td>9037</td>\n",
       "      <td>-1.9</td>\n",
       "      <td>766042</td>\n",
       "      <td>-17.4868</td>\n",
       "      <td>64.6856</td>\n",
       "      <td>2156.0</td>\n",
       "      <td>35.702</td>\n",
       "      <td>65.0276</td>\n",
       "      <td>293.694471</td>\n",
       "      <td>21.932159</td>\n",
       "      <td>SLVR</td>\n",
       "      <td>1</td>\n",
       "    </tr>\n",
       "  </tbody>\n",
       "</table>\n",
       "</div>"
      ],
      "text/plain": [
       "      source_block  station_block  residual  event_number  source_longitude  \\\n",
       "3879          9344           9037      -1.9        766042          -17.4868   \n",
       "\n",
       "      source_latitude  source_depth  station_longitude  station_latitude  \\\n",
       "3879          64.6856        2156.0             35.702           65.0276   \n",
       "\n",
       "      observed_tt  locations2degrees station_code  P_or_S  \n",
       "3879   293.694471          21.932159         SLVR       1  "
      ]
     },
     "execution_count": 24,
     "metadata": {},
     "output_type": "execute_result"
    }
   ],
   "source": [
    "pdf5.head()"
   ]
  },
  {
   "cell_type": "code",
   "execution_count": 25,
   "metadata": {},
   "outputs": [
    {
     "data": {
      "text/html": [
       "<div>\n",
       "<style scoped>\n",
       "    .dataframe tbody tr th:only-of-type {\n",
       "        vertical-align: middle;\n",
       "    }\n",
       "\n",
       "    .dataframe tbody tr th {\n",
       "        vertical-align: top;\n",
       "    }\n",
       "\n",
       "    .dataframe thead th {\n",
       "        text-align: right;\n",
       "    }\n",
       "</style>\n",
       "<table border=\"1\" class=\"dataframe\">\n",
       "  <thead>\n",
       "    <tr style=\"text-align: right;\">\n",
       "      <th></th>\n",
       "      <th>source_block</th>\n",
       "      <th>station_block</th>\n",
       "      <th>residual</th>\n",
       "      <th>event_number</th>\n",
       "      <th>source_longitude</th>\n",
       "      <th>source_latitude</th>\n",
       "      <th>source_depth</th>\n",
       "      <th>station_longitude</th>\n",
       "      <th>station_latitude</th>\n",
       "      <th>observed_tt</th>\n",
       "      <th>locations2degrees</th>\n",
       "      <th>station_code</th>\n",
       "      <th>P_or_S</th>\n",
       "    </tr>\n",
       "  </thead>\n",
       "  <tbody>\n",
       "    <tr>\n",
       "      <th>824132</th>\n",
       "      <td>149425</td>\n",
       "      <td>18461</td>\n",
       "      <td>-0.5</td>\n",
       "      <td>3501026</td>\n",
       "      <td>24.4912</td>\n",
       "      <td>34.8541</td>\n",
       "      <td>23565.0</td>\n",
       "      <td>99.814</td>\n",
       "      <td>39.4097</td>\n",
       "      <td>594.248068</td>\n",
       "      <td>58.435318</td>\n",
       "      <td>GTA</td>\n",
       "      <td>1</td>\n",
       "    </tr>\n",
       "    <tr>\n",
       "      <th>824133</th>\n",
       "      <td>149425</td>\n",
       "      <td>18461</td>\n",
       "      <td>-0.5</td>\n",
       "      <td>3220032</td>\n",
       "      <td>24.4912</td>\n",
       "      <td>34.8541</td>\n",
       "      <td>23565.0</td>\n",
       "      <td>99.814</td>\n",
       "      <td>39.4097</td>\n",
       "      <td>594.248068</td>\n",
       "      <td>58.435318</td>\n",
       "      <td>GTA</td>\n",
       "      <td>1</td>\n",
       "    </tr>\n",
       "    <tr>\n",
       "      <th>824134</th>\n",
       "      <td>149425</td>\n",
       "      <td>18461</td>\n",
       "      <td>-0.5</td>\n",
       "      <td>4196052</td>\n",
       "      <td>24.4912</td>\n",
       "      <td>34.8541</td>\n",
       "      <td>23565.0</td>\n",
       "      <td>99.814</td>\n",
       "      <td>39.4097</td>\n",
       "      <td>594.248068</td>\n",
       "      <td>58.435318</td>\n",
       "      <td>GTA</td>\n",
       "      <td>1</td>\n",
       "    </tr>\n",
       "  </tbody>\n",
       "</table>\n",
       "</div>"
      ],
      "text/plain": [
       "        source_block  station_block  residual  event_number  source_longitude  \\\n",
       "824132        149425          18461      -0.5       3501026           24.4912   \n",
       "824133        149425          18461      -0.5       3220032           24.4912   \n",
       "824134        149425          18461      -0.5       4196052           24.4912   \n",
       "\n",
       "        source_latitude  source_depth  station_longitude  station_latitude  \\\n",
       "824132          34.8541       23565.0             99.814           39.4097   \n",
       "824133          34.8541       23565.0             99.814           39.4097   \n",
       "824134          34.8541       23565.0             99.814           39.4097   \n",
       "\n",
       "        observed_tt  locations2degrees station_code  P_or_S  \n",
       "824132   594.248068          58.435318          GTA       1  \n",
       "824133   594.248068          58.435318          GTA       1  \n",
       "824134   594.248068          58.435318          GTA       1  "
      ]
     },
     "execution_count": 25,
     "metadata": {},
     "output_type": "execute_result"
    }
   ],
   "source": [
    "rowmask = (pdf2['source_block'] ==149425) & (pdf2['station_block']==18461)  #select rows where cond\n",
    "pdf2.loc[ rowmask ].head()"
   ]
  },
  {
   "cell_type": "code",
   "execution_count": 26,
   "metadata": {},
   "outputs": [],
   "source": [
    "unikpdf2=pdf2.drop_duplicates(subset=['source_block', 'station_block'], keep='first')"
   ]
  },
  {
   "cell_type": "code",
   "execution_count": 27,
   "metadata": {},
   "outputs": [
    {
     "data": {
      "text/plain": [
       "(3162982, 13)"
      ]
     },
     "execution_count": 27,
     "metadata": {},
     "output_type": "execute_result"
    }
   ],
   "source": [
    "unikpdf2.shape"
   ]
  },
  {
   "cell_type": "code",
   "execution_count": 28,
   "metadata": {},
   "outputs": [
    {
     "data": {
      "text/plain": [
       "(3278317, 13)"
      ]
     },
     "execution_count": 28,
     "metadata": {},
     "output_type": "execute_result"
    }
   ],
   "source": [
    "pdf2.shape"
   ]
  },
  {
   "cell_type": "markdown",
   "metadata": {},
   "source": [
    "#  Modify the sort function"
   ]
  },
  {
   "cell_type": "code",
   "execution_count": 29,
   "metadata": {},
   "outputs": [],
   "source": [
    "import logging\n",
    "\n",
    "log = logging.getLogger(__name__)\n",
    "\n",
    "# def sort(output_file, sorted_file, residual_cutoff):\n",
    "def sort2(output_file, sorted_file, residual_cutoff):\n",
    "    \"\"\"\n",
    "    Sort and filter the arrivals.\n",
    "\n",
    "    Sort based on the source and station block number.\n",
    "    There are two stages of filtering:\n",
    "    1. Filter based on the time residual\n",
    "    2. Filter based on best Signal_to_Noise-Ratio seismic wave: If there are multiple source and station block combinations, we keep the\n",
    "    row corresponding to the highest SNR value\n",
    "\n",
    "    cmdline usage:\n",
    "    cluster sort outfile_P.csv 5. -s sorted_P.csv\n",
    "    cluster sort outfile_S.csv 10. -s sorted_S.csv\n",
    "\n",
    "\n",
    "    :param output_file: output file from the gather stage (eg, outfile_P.csv)\n",
    "    :param sorted_file: str, optional\n",
    "        optional sorted output file path. Default: sorted.csv.\n",
    "    :param residual_cutoff: float\n",
    "        residual seconds above which arrivals are rejected.\n",
    "    :return: pandas_df\n",
    "    \"\"\"\n",
    "\n",
    "    log.info('Filtering arrivals.')\n",
    "\n",
    "    cluster_data = pd.read_csv(output_file, header=None,\n",
    "                               names=column_names)\n",
    "    \n",
    "    cluster_data = cluster_data[abs(cluster_data['residual'])\n",
    "                                < residual_cutoff]\n",
    "    \n",
    "    #cluster_data['source_depth'] = cluster_data['source_depth'] / 1000.0  # convert to KM?\n",
    "    \n",
    "    # groupby sorts by default\n",
    "    # cluster_data.sort_values(by=['source_block', 'station_block'],\n",
    "    #                          inplace=True)\n",
    "\n",
    "    log.info('Sorting arrivals.')\n",
    "\n",
    "    # groupby automatically sorts\n",
    "    med = cluster_data.groupby(\n",
    "        by=['source_block', 'station_block']\n",
    "        )['observed_tt'].quantile(q=.5, interpolation='lower').reset_index() # use a seq index:0,1,2,....\n",
    "\n",
    "    # med dataframe has three columns:  [source_block, station_block ,observed_tt]\n",
    "    \n",
    "    final_df = pd.merge(cluster_data, med, how='right',\n",
    "                        on=['source_block', 'station_block', 'observed_tt'],\n",
    "                        sort=True,\n",
    "                        right_index=True)\n",
    "\n",
    "    # Confirmed: drop_duplicates required due to possibly duplicated picks in\n",
    "    #  the original engdahl events\n",
    "    # refer: https://github.com/GeoscienceAustralia/passive-seismic/issues/51\n",
    "    # The subset is specified as we have some stations that are very close?\n",
    "    final_df.drop_duplicates(subset=['source_block', 'station_block'],\n",
    "                             keep='first',  inplace=True)\n",
    "\n",
    "    final_df.to_csv(sorted_file, header=False, index=False, sep=',')\n",
    "    \n",
    "    return final_df"
   ]
  },
  {
   "cell_type": "code",
   "execution_count": 30,
   "metadata": {},
   "outputs": [],
   "source": [
    "mypdf = sort2(inputcsv,sortedfile,residual_cutoff)"
   ]
  },
  {
   "cell_type": "code",
   "execution_count": 31,
   "metadata": {},
   "outputs": [
    {
     "data": {
      "text/plain": [
       "(3162982, 13)"
      ]
     },
     "execution_count": 31,
     "metadata": {},
     "output_type": "execute_result"
    }
   ],
   "source": [
    "mypdf.shape"
   ]
  },
  {
   "cell_type": "code",
   "execution_count": 32,
   "metadata": {},
   "outputs": [
    {
     "data": {
      "text/html": [
       "<div>\n",
       "<style scoped>\n",
       "    .dataframe tbody tr th:only-of-type {\n",
       "        vertical-align: middle;\n",
       "    }\n",
       "\n",
       "    .dataframe tbody tr th {\n",
       "        vertical-align: top;\n",
       "    }\n",
       "\n",
       "    .dataframe thead th {\n",
       "        text-align: right;\n",
       "    }\n",
       "</style>\n",
       "<table border=\"1\" class=\"dataframe\">\n",
       "  <thead>\n",
       "    <tr style=\"text-align: right;\">\n",
       "      <th></th>\n",
       "      <th>source_block</th>\n",
       "      <th>station_block</th>\n",
       "      <th>residual</th>\n",
       "      <th>event_number</th>\n",
       "      <th>source_longitude</th>\n",
       "      <th>source_latitude</th>\n",
       "      <th>source_depth</th>\n",
       "      <th>station_longitude</th>\n",
       "      <th>station_latitude</th>\n",
       "      <th>observed_tt</th>\n",
       "      <th>locations2degrees</th>\n",
       "      <th>station_code</th>\n",
       "      <th>P_or_S</th>\n",
       "    </tr>\n",
       "  </thead>\n",
       "  <tbody>\n",
       "    <tr>\n",
       "      <th>3975289</th>\n",
       "      <td>1122</td>\n",
       "      <td>9214</td>\n",
       "      <td>-0.9</td>\n",
       "      <td>4138020</td>\n",
       "      <td>40.8792</td>\n",
       "      <td>87.0653</td>\n",
       "      <td>0.0</td>\n",
       "      <td>-146.887</td>\n",
       "      <td>64.7707</td>\n",
       "      <td>353.972295</td>\n",
       "      <td>28.139693</td>\n",
       "      <td>ILAR</td>\n",
       "      <td>1</td>\n",
       "    </tr>\n",
       "    <tr>\n",
       "      <th>3975290</th>\n",
       "      <td>1122</td>\n",
       "      <td>15563</td>\n",
       "      <td>0.2</td>\n",
       "      <td>4138020</td>\n",
       "      <td>40.8792</td>\n",
       "      <td>87.0653</td>\n",
       "      <td>0.0</td>\n",
       "      <td>82.290</td>\n",
       "      <td>46.7931</td>\n",
       "      <td>466.488392</td>\n",
       "      <td>41.042857</td>\n",
       "      <td>MKAR</td>\n",
       "      <td>1</td>\n",
       "    </tr>\n",
       "    <tr>\n",
       "      <th>3975291</th>\n",
       "      <td>1122</td>\n",
       "      <td>18963</td>\n",
       "      <td>0.6</td>\n",
       "      <td>4138020</td>\n",
       "      <td>40.8792</td>\n",
       "      <td>87.0653</td>\n",
       "      <td>0.0</td>\n",
       "      <td>-118.304</td>\n",
       "      <td>38.4293</td>\n",
       "      <td>569.977076</td>\n",
       "      <td>54.320942</td>\n",
       "      <td>NVAR</td>\n",
       "      <td>1</td>\n",
       "    </tr>\n",
       "    <tr>\n",
       "      <th>3975292</th>\n",
       "      <td>1122</td>\n",
       "      <td>22217</td>\n",
       "      <td>0.3</td>\n",
       "      <td>4138020</td>\n",
       "      <td>40.8792</td>\n",
       "      <td>87.0653</td>\n",
       "      <td>0.0</td>\n",
       "      <td>-103.667</td>\n",
       "      <td>29.3331</td>\n",
       "      <td>630.227493</td>\n",
       "      <td>63.071005</td>\n",
       "      <td>TXAR</td>\n",
       "      <td>1</td>\n",
       "    </tr>\n",
       "    <tr>\n",
       "      <th>3975293</th>\n",
       "      <td>1122</td>\n",
       "      <td>27723</td>\n",
       "      <td>-0.6</td>\n",
       "      <td>4138020</td>\n",
       "      <td>40.8792</td>\n",
       "      <td>87.0653</td>\n",
       "      <td>0.0</td>\n",
       "      <td>1.695</td>\n",
       "      <td>13.1470</td>\n",
       "      <td>700.339917</td>\n",
       "      <td>74.585736</td>\n",
       "      <td>TORD</td>\n",
       "      <td>1</td>\n",
       "    </tr>\n",
       "  </tbody>\n",
       "</table>\n",
       "</div>"
      ],
      "text/plain": [
       "         source_block  station_block  residual  event_number  \\\n",
       "3975289          1122           9214      -0.9       4138020   \n",
       "3975290          1122          15563       0.2       4138020   \n",
       "3975291          1122          18963       0.6       4138020   \n",
       "3975292          1122          22217       0.3       4138020   \n",
       "3975293          1122          27723      -0.6       4138020   \n",
       "\n",
       "         source_longitude  source_latitude  source_depth  station_longitude  \\\n",
       "3975289           40.8792          87.0653           0.0           -146.887   \n",
       "3975290           40.8792          87.0653           0.0             82.290   \n",
       "3975291           40.8792          87.0653           0.0           -118.304   \n",
       "3975292           40.8792          87.0653           0.0           -103.667   \n",
       "3975293           40.8792          87.0653           0.0              1.695   \n",
       "\n",
       "         station_latitude  observed_tt  locations2degrees station_code  P_or_S  \n",
       "3975289           64.7707   353.972295          28.139693         ILAR       1  \n",
       "3975290           46.7931   466.488392          41.042857         MKAR       1  \n",
       "3975291           38.4293   569.977076          54.320942         NVAR       1  \n",
       "3975292           29.3331   630.227493          63.071005         TXAR       1  \n",
       "3975293           13.1470   700.339917          74.585736         TORD       1  "
      ]
     },
     "execution_count": 32,
     "metadata": {},
     "output_type": "execute_result"
    }
   ],
   "source": [
    "mypdf.head()"
   ]
  },
  {
   "cell_type": "code",
   "execution_count": 33,
   "metadata": {},
   "outputs": [],
   "source": [
    "# check if any duplicate (source_block,station_block) in the dataframe?  primkey\n",
    "mypdf3=mypdf.groupby(by=['source_block', 'station_block']).count()"
   ]
  },
  {
   "cell_type": "code",
   "execution_count": 34,
   "metadata": {},
   "outputs": [
    {
     "data": {
      "text/html": [
       "<div>\n",
       "<style scoped>\n",
       "    .dataframe tbody tr th:only-of-type {\n",
       "        vertical-align: middle;\n",
       "    }\n",
       "\n",
       "    .dataframe tbody tr th {\n",
       "        vertical-align: top;\n",
       "    }\n",
       "\n",
       "    .dataframe thead th {\n",
       "        text-align: right;\n",
       "    }\n",
       "</style>\n",
       "<table border=\"1\" class=\"dataframe\">\n",
       "  <thead>\n",
       "    <tr style=\"text-align: right;\">\n",
       "      <th></th>\n",
       "      <th></th>\n",
       "      <th>residual</th>\n",
       "      <th>event_number</th>\n",
       "      <th>source_longitude</th>\n",
       "      <th>source_latitude</th>\n",
       "      <th>source_depth</th>\n",
       "      <th>station_longitude</th>\n",
       "      <th>station_latitude</th>\n",
       "      <th>observed_tt</th>\n",
       "      <th>locations2degrees</th>\n",
       "      <th>station_code</th>\n",
       "      <th>P_or_S</th>\n",
       "    </tr>\n",
       "    <tr>\n",
       "      <th>source_block</th>\n",
       "      <th>station_block</th>\n",
       "      <th></th>\n",
       "      <th></th>\n",
       "      <th></th>\n",
       "      <th></th>\n",
       "      <th></th>\n",
       "      <th></th>\n",
       "      <th></th>\n",
       "      <th></th>\n",
       "      <th></th>\n",
       "      <th></th>\n",
       "      <th></th>\n",
       "    </tr>\n",
       "  </thead>\n",
       "  <tbody>\n",
       "    <tr>\n",
       "      <th rowspan=\"5\" valign=\"top\">1122</th>\n",
       "      <th>9214</th>\n",
       "      <td>1</td>\n",
       "      <td>1</td>\n",
       "      <td>1</td>\n",
       "      <td>1</td>\n",
       "      <td>1</td>\n",
       "      <td>1</td>\n",
       "      <td>1</td>\n",
       "      <td>1</td>\n",
       "      <td>1</td>\n",
       "      <td>1</td>\n",
       "      <td>1</td>\n",
       "    </tr>\n",
       "    <tr>\n",
       "      <th>15563</th>\n",
       "      <td>1</td>\n",
       "      <td>1</td>\n",
       "      <td>1</td>\n",
       "      <td>1</td>\n",
       "      <td>1</td>\n",
       "      <td>1</td>\n",
       "      <td>1</td>\n",
       "      <td>1</td>\n",
       "      <td>1</td>\n",
       "      <td>1</td>\n",
       "      <td>1</td>\n",
       "    </tr>\n",
       "    <tr>\n",
       "      <th>18963</th>\n",
       "      <td>1</td>\n",
       "      <td>1</td>\n",
       "      <td>1</td>\n",
       "      <td>1</td>\n",
       "      <td>1</td>\n",
       "      <td>1</td>\n",
       "      <td>1</td>\n",
       "      <td>1</td>\n",
       "      <td>1</td>\n",
       "      <td>1</td>\n",
       "      <td>1</td>\n",
       "    </tr>\n",
       "    <tr>\n",
       "      <th>22217</th>\n",
       "      <td>1</td>\n",
       "      <td>1</td>\n",
       "      <td>1</td>\n",
       "      <td>1</td>\n",
       "      <td>1</td>\n",
       "      <td>1</td>\n",
       "      <td>1</td>\n",
       "      <td>1</td>\n",
       "      <td>1</td>\n",
       "      <td>1</td>\n",
       "      <td>1</td>\n",
       "    </tr>\n",
       "    <tr>\n",
       "      <th>27723</th>\n",
       "      <td>1</td>\n",
       "      <td>1</td>\n",
       "      <td>1</td>\n",
       "      <td>1</td>\n",
       "      <td>1</td>\n",
       "      <td>1</td>\n",
       "      <td>1</td>\n",
       "      <td>1</td>\n",
       "      <td>1</td>\n",
       "      <td>1</td>\n",
       "      <td>1</td>\n",
       "    </tr>\n",
       "  </tbody>\n",
       "</table>\n",
       "</div>"
      ],
      "text/plain": [
       "                            residual  event_number  source_longitude  \\\n",
       "source_block station_block                                             \n",
       "1122         9214                  1             1                 1   \n",
       "             15563                 1             1                 1   \n",
       "             18963                 1             1                 1   \n",
       "             22217                 1             1                 1   \n",
       "             27723                 1             1                 1   \n",
       "\n",
       "                            source_latitude  source_depth  station_longitude  \\\n",
       "source_block station_block                                                     \n",
       "1122         9214                         1             1                  1   \n",
       "             15563                        1             1                  1   \n",
       "             18963                        1             1                  1   \n",
       "             22217                        1             1                  1   \n",
       "             27723                        1             1                  1   \n",
       "\n",
       "                            station_latitude  observed_tt  locations2degrees  \\\n",
       "source_block station_block                                                     \n",
       "1122         9214                          1            1                  1   \n",
       "             15563                         1            1                  1   \n",
       "             18963                         1            1                  1   \n",
       "             22217                         1            1                  1   \n",
       "             27723                         1            1                  1   \n",
       "\n",
       "                            station_code  P_or_S  \n",
       "source_block station_block                        \n",
       "1122         9214                      1       1  \n",
       "             15563                     1       1  \n",
       "             18963                     1       1  \n",
       "             22217                     1       1  \n",
       "             27723                     1       1  "
      ]
     },
     "execution_count": 34,
     "metadata": {},
     "output_type": "execute_result"
    }
   ],
   "source": [
    "mypdf3.head()"
   ]
  },
  {
   "cell_type": "code",
   "execution_count": 35,
   "metadata": {},
   "outputs": [],
   "source": [
    "mypdf4 = mypdf3[(mypdf3['residual']>1)]"
   ]
  },
  {
   "cell_type": "code",
   "execution_count": 36,
   "metadata": {},
   "outputs": [
    {
     "data": {
      "text/plain": [
       "(0, 11)"
      ]
     },
     "execution_count": 36,
     "metadata": {},
     "output_type": "execute_result"
    }
   ],
   "source": [
    "# check if any duplicate (source_block,station_block)\n",
    "mypdf4.shape  # no rows now  \n"
   ]
  },
  {
   "cell_type": "code",
   "execution_count": null,
   "metadata": {},
   "outputs": [],
   "source": []
  },
  {
   "cell_type": "code",
   "execution_count": null,
   "metadata": {},
   "outputs": [],
   "source": []
  }
 ],
 "metadata": {
  "kernelspec": {
   "display_name": "Python 3",
   "language": "python",
   "name": "python3"
  },
  "language_info": {
   "codemirror_mode": {
    "name": "ipython",
    "version": 3
   },
   "file_extension": ".py",
   "mimetype": "text/x-python",
   "name": "python",
   "nbconvert_exporter": "python",
   "pygments_lexer": "ipython3",
   "version": "3.6.4"
  }
 },
 "nbformat": 4,
 "nbformat_minor": 2
}
