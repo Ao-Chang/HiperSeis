{
 "cells": [
  {
   "cell_type": "markdown",
   "metadata": {},
   "source": [
    "# Use Pandas to Sort event arrivals csv files\n",
    "\n",
    "##  Fei Zhang\n",
    "### 2018-07-12"
   ]
  },
  {
   "cell_type": "code",
   "execution_count": null,
   "metadata": {},
   "outputs": [],
   "source": []
  },
  {
   "cell_type": "code",
   "execution_count": 1,
   "metadata": {},
   "outputs": [],
   "source": [
    "import pandas as pd\n",
    "import matplotlib.pyplot as plt"
   ]
  },
  {
   "cell_type": "code",
   "execution_count": 2,
   "metadata": {
    "code_folding": []
   },
   "outputs": [],
   "source": [
    "SOURCE_LATITUDE = 'source_latitude'\n",
    "SOURCE_LONGITUDE = 'source_longitude'\n",
    "STATION_LATITUDE = 'station_latitude'\n",
    "STATION_LONGITUDE = 'station_longitude'\n",
    "STATION_CODE = 'station_code'\n",
    "FREQUENCY = 'no_of_summary_rays'\n",
    "\n",
    "column_names = ['source_block', 'station_block',\n",
    "                'residual', 'event_number',\n",
    "                SOURCE_LONGITUDE, SOURCE_LATITUDE,\n",
    "                'source_depth', STATION_LONGITUDE, STATION_LATITUDE,\n",
    "                'observed_tt', 'locations2degrees', STATION_CODE, 'SNR', 'P_or_S']\n",
    "\n",
    "def sort(output_file, sorted_file, residual_cutoff):\n",
    "    \"\"\"\n",
    "    Sort and filter the arrivals.\n",
    "\n",
    "    Sort based on the source and station block number.\n",
    "    There are two stages of filtering:\n",
    "    1. Filter based on the time residual\n",
    "    2. Filter based on median of observed travel time.\n",
    "\n",
    "    If there are multiple source and station block combinations, we keep the\n",
    "    row corresponding to the median observed travel time (observed_tt).\n",
    "\n",
    "    cmdline usage:\n",
    "    cluster sort outfile_P.csv 5. -s sorted_P.csv\n",
    "    cluster sort outfile_S.csv 10. -s sorted_S.csv\n",
    "\n",
    "\n",
    "    :param output_file: output file from the gather stage (eg, outfile_P.csv)\n",
    "    :param sorted_file: str, optional\n",
    "        optional sorted output file path. Default: sorted.csv.\n",
    "    :param residual_cutoff: float\n",
    "        residual seconds above which arrivals are rejected.\n",
    "    :return: None\n",
    "    \"\"\"\n",
    "\n",
    "#     log.info('Filtering arrivals.')\n",
    "\n",
    "    cluster_data = pd.read_csv(output_file, header=None,\n",
    "                               names=column_names)\n",
    "    \n",
    "    cluster_data = cluster_data[abs(cluster_data['residual'])\n",
    "                                < residual_cutoff]\n",
    "    \n",
    "    #cluster_data['source_depth'] = cluster_data['source_depth'] / 1000.0  # convert to KM?\n",
    "    \n",
    "    # groupby sorts by default\n",
    "    # cluster_data.sort_values(by=['source_block', 'station_block'],\n",
    "    #                          inplace=True)\n",
    "\n",
    "#     log.info('Sorting arrivals.')\n",
    "\n",
    "    # groupby automatically sorts\n",
    "    med = cluster_data.groupby(by=['source_block',\n",
    "                                   'station_block'])[\n",
    "        'observed_tt'].quantile(q=.5, interpolation='lower').reset_index()\n",
    "\n",
    "    final_df = pd.merge(cluster_data, med, how='right',\n",
    "                        on=['source_block', 'station_block', 'observed_tt'],\n",
    "                        sort=True,\n",
    "                        right_index=True)\n",
    "\n",
    "    # Confirmed: drop_duplicates required due to possibly duplicated picks in\n",
    "    #  the original engdahl events\n",
    "    # refer: https://github.com/GeoscienceAustralia/passive-seismic/issues/51\n",
    "    # The subset is specified as we have some stations that are very close?\n",
    "    final_df.drop_duplicates(subset=['source_block', 'station_block',\n",
    "                                     'event_number', SOURCE_LONGITUDE,\n",
    "                                     SOURCE_LATITUDE, 'source_depth'],\n",
    "                             keep='first',\n",
    "                             inplace=True)\n",
    "\n",
    "    final_df.to_csv(sorted_file, header=False, index=False, sep=',')\n",
    "    \n",
    "    return final_df\n"
   ]
  },
  {
   "cell_type": "code",
   "execution_count": 3,
   "metadata": {},
   "outputs": [
    {
     "name": "stdout",
     "output_type": "stream",
     "text": [
      "/g/data1a/ha3/fxz547/Githubz/passive-seismic/notebooks\r\n"
     ]
    }
   ],
   "source": [
    "!pwd\n"
   ]
  },
  {
   "cell_type": "code",
   "execution_count": 4,
   "metadata": {},
   "outputs": [],
   "source": [
    "inputcsv='/g/data1a/ha3/fxz547/travel_time_tomography/run5_events_1deg/outfile_S.csv'\n",
    "\n",
    "residual_cutoff=10.0\n",
    "sortedfile='sortedfile_S.csv'\n",
    "sortedfile2= 'sortedfile2_S.csv'\n",
    "\n",
    "inputcsv='/g/data/ha3/fxz547/Githubz/passive-seismic/seismic_events_arrivals_P_0.csv'\n",
    "inputcsv='/g/data/ha3/fxz547/Githubz/passive-seismic/tempworks/outfile_P.csv'\n",
    "residual_cutoff=5.0\n",
    "sortedfile='sortedfile_P.csv'\n",
    "sortedfile2= 'sortedfile2_P.csv'\n"
   ]
  },
  {
   "cell_type": "code",
   "execution_count": 5,
   "metadata": {},
   "outputs": [],
   "source": [
    "finalpdf = sort(inputcsv,sortedfile,residual_cutoff)"
   ]
  },
  {
   "cell_type": "code",
   "execution_count": 6,
   "metadata": {},
   "outputs": [
    {
     "data": {
      "text/html": [
       "<div>\n",
       "<style scoped>\n",
       "    .dataframe tbody tr th:only-of-type {\n",
       "        vertical-align: middle;\n",
       "    }\n",
       "\n",
       "    .dataframe tbody tr th {\n",
       "        vertical-align: top;\n",
       "    }\n",
       "\n",
       "    .dataframe thead th {\n",
       "        text-align: right;\n",
       "    }\n",
       "</style>\n",
       "<table border=\"1\" class=\"dataframe\">\n",
       "  <thead>\n",
       "    <tr style=\"text-align: right;\">\n",
       "      <th></th>\n",
       "      <th>source_block</th>\n",
       "      <th>station_block</th>\n",
       "      <th>residual</th>\n",
       "      <th>event_number</th>\n",
       "      <th>source_longitude</th>\n",
       "      <th>source_latitude</th>\n",
       "      <th>source_depth</th>\n",
       "      <th>station_longitude</th>\n",
       "      <th>station_latitude</th>\n",
       "      <th>observed_tt</th>\n",
       "      <th>locations2degrees</th>\n",
       "      <th>station_code</th>\n",
       "      <th>SNR</th>\n",
       "      <th>P_or_S</th>\n",
       "    </tr>\n",
       "  </thead>\n",
       "  <tbody>\n",
       "    <tr>\n",
       "      <th>28</th>\n",
       "      <td>543424</td>\n",
       "      <td>626937</td>\n",
       "      <td>-4.594806</td>\n",
       "      <td>7000</td>\n",
       "      <td>135.782</td>\n",
       "      <td>-4.301</td>\n",
       "      <td>4900.0</td>\n",
       "      <td>134.0455</td>\n",
       "      <td>-18.8731</td>\n",
       "      <td>205.740091</td>\n",
       "      <td>14.670456</td>\n",
       "      <td>BL06</td>\n",
       "      <td>7.199925</td>\n",
       "      <td>1</td>\n",
       "    </tr>\n",
       "    <tr>\n",
       "      <th>1324</th>\n",
       "      <td>543424</td>\n",
       "      <td>626937</td>\n",
       "      <td>-4.594806</td>\n",
       "      <td>171000</td>\n",
       "      <td>135.782</td>\n",
       "      <td>-4.301</td>\n",
       "      <td>4900.0</td>\n",
       "      <td>134.0455</td>\n",
       "      <td>-18.8731</td>\n",
       "      <td>205.740091</td>\n",
       "      <td>14.670456</td>\n",
       "      <td>BL06</td>\n",
       "      <td>7.199925</td>\n",
       "      <td>1</td>\n",
       "    </tr>\n",
       "    <tr>\n",
       "      <th>25</th>\n",
       "      <td>1378415</td>\n",
       "      <td>647095</td>\n",
       "      <td>0.050000</td>\n",
       "      <td>5000</td>\n",
       "      <td>83.516</td>\n",
       "      <td>30.839</td>\n",
       "      <td>10000.0</td>\n",
       "      <td>133.4898</td>\n",
       "      <td>-22.1527</td>\n",
       "      <td>680.498927</td>\n",
       "      <td>71.449337</td>\n",
       "      <td>BL11</td>\n",
       "      <td>4.268246</td>\n",
       "      <td>1</td>\n",
       "    </tr>\n",
       "    <tr>\n",
       "      <th>1355</th>\n",
       "      <td>1378415</td>\n",
       "      <td>647095</td>\n",
       "      <td>0.050000</td>\n",
       "      <td>177000</td>\n",
       "      <td>83.516</td>\n",
       "      <td>30.839</td>\n",
       "      <td>10000.0</td>\n",
       "      <td>133.4898</td>\n",
       "      <td>-22.1527</td>\n",
       "      <td>680.498927</td>\n",
       "      <td>71.449337</td>\n",
       "      <td>BL11</td>\n",
       "      <td>4.268246</td>\n",
       "      <td>1</td>\n",
       "    </tr>\n",
       "    <tr>\n",
       "      <th>1757</th>\n",
       "      <td>1401344</td>\n",
       "      <td>637018</td>\n",
       "      <td>0.950000</td>\n",
       "      <td>231000</td>\n",
       "      <td>55.814</td>\n",
       "      <td>26.804</td>\n",
       "      <td>12000.0</td>\n",
       "      <td>134.2961</td>\n",
       "      <td>-20.5914</td>\n",
       "      <td>777.797851</td>\n",
       "      <td>89.528001</td>\n",
       "      <td>BL08</td>\n",
       "      <td>4.523065</td>\n",
       "      <td>1</td>\n",
       "    </tr>\n",
       "  </tbody>\n",
       "</table>\n",
       "</div>"
      ],
      "text/plain": [
       "      source_block  station_block  residual  event_number  source_longitude  \\\n",
       "28          543424         626937 -4.594806          7000           135.782   \n",
       "1324        543424         626937 -4.594806        171000           135.782   \n",
       "25         1378415         647095  0.050000          5000            83.516   \n",
       "1355       1378415         647095  0.050000        177000            83.516   \n",
       "1757       1401344         637018  0.950000        231000            55.814   \n",
       "\n",
       "      source_latitude  source_depth  station_longitude  station_latitude  \\\n",
       "28             -4.301        4900.0           134.0455          -18.8731   \n",
       "1324           -4.301        4900.0           134.0455          -18.8731   \n",
       "25             30.839       10000.0           133.4898          -22.1527   \n",
       "1355           30.839       10000.0           133.4898          -22.1527   \n",
       "1757           26.804       12000.0           134.2961          -20.5914   \n",
       "\n",
       "      observed_tt  locations2degrees station_code       SNR  P_or_S  \n",
       "28     205.740091          14.670456         BL06  7.199925       1  \n",
       "1324   205.740091          14.670456         BL06  7.199925       1  \n",
       "25     680.498927          71.449337         BL11  4.268246       1  \n",
       "1355   680.498927          71.449337         BL11  4.268246       1  \n",
       "1757   777.797851          89.528001         BL08  4.523065       1  "
      ]
     },
     "execution_count": 6,
     "metadata": {},
     "output_type": "execute_result"
    }
   ],
   "source": [
    "finalpdf.head()"
   ]
  },
  {
   "cell_type": "code",
   "execution_count": 7,
   "metadata": {},
   "outputs": [],
   "source": [
    "#sort again\n",
    "pdf2=sort(sortedfile, sortedfile2, residual_cutoff )"
   ]
  },
  {
   "cell_type": "code",
   "execution_count": 8,
   "metadata": {},
   "outputs": [
    {
     "data": {
      "text/html": [
       "<div>\n",
       "<style scoped>\n",
       "    .dataframe tbody tr th:only-of-type {\n",
       "        vertical-align: middle;\n",
       "    }\n",
       "\n",
       "    .dataframe tbody tr th {\n",
       "        vertical-align: top;\n",
       "    }\n",
       "\n",
       "    .dataframe thead th {\n",
       "        text-align: right;\n",
       "    }\n",
       "</style>\n",
       "<table border=\"1\" class=\"dataframe\">\n",
       "  <thead>\n",
       "    <tr style=\"text-align: right;\">\n",
       "      <th></th>\n",
       "      <th>source_block</th>\n",
       "      <th>station_block</th>\n",
       "      <th>residual</th>\n",
       "      <th>event_number</th>\n",
       "      <th>source_longitude</th>\n",
       "      <th>source_latitude</th>\n",
       "      <th>source_depth</th>\n",
       "      <th>station_longitude</th>\n",
       "      <th>station_latitude</th>\n",
       "      <th>observed_tt</th>\n",
       "      <th>locations2degrees</th>\n",
       "      <th>station_code</th>\n",
       "      <th>SNR</th>\n",
       "      <th>P_or_S</th>\n",
       "    </tr>\n",
       "  </thead>\n",
       "  <tbody>\n",
       "    <tr>\n",
       "      <th>0</th>\n",
       "      <td>543424</td>\n",
       "      <td>626937</td>\n",
       "      <td>-4.594806</td>\n",
       "      <td>7000</td>\n",
       "      <td>135.782</td>\n",
       "      <td>-4.301</td>\n",
       "      <td>4900.0</td>\n",
       "      <td>134.0455</td>\n",
       "      <td>-18.8731</td>\n",
       "      <td>205.740091</td>\n",
       "      <td>14.670456</td>\n",
       "      <td>BL06</td>\n",
       "      <td>7.199925</td>\n",
       "      <td>1</td>\n",
       "    </tr>\n",
       "    <tr>\n",
       "      <th>1</th>\n",
       "      <td>543424</td>\n",
       "      <td>626937</td>\n",
       "      <td>-4.594806</td>\n",
       "      <td>171000</td>\n",
       "      <td>135.782</td>\n",
       "      <td>-4.301</td>\n",
       "      <td>4900.0</td>\n",
       "      <td>134.0455</td>\n",
       "      <td>-18.8731</td>\n",
       "      <td>205.740091</td>\n",
       "      <td>14.670456</td>\n",
       "      <td>BL06</td>\n",
       "      <td>7.199925</td>\n",
       "      <td>1</td>\n",
       "    </tr>\n",
       "    <tr>\n",
       "      <th>2</th>\n",
       "      <td>1378415</td>\n",
       "      <td>647095</td>\n",
       "      <td>0.050000</td>\n",
       "      <td>5000</td>\n",
       "      <td>83.516</td>\n",
       "      <td>30.839</td>\n",
       "      <td>10000.0</td>\n",
       "      <td>133.4898</td>\n",
       "      <td>-22.1527</td>\n",
       "      <td>680.498927</td>\n",
       "      <td>71.449337</td>\n",
       "      <td>BL11</td>\n",
       "      <td>4.268246</td>\n",
       "      <td>1</td>\n",
       "    </tr>\n",
       "    <tr>\n",
       "      <th>3</th>\n",
       "      <td>1378415</td>\n",
       "      <td>647095</td>\n",
       "      <td>0.050000</td>\n",
       "      <td>177000</td>\n",
       "      <td>83.516</td>\n",
       "      <td>30.839</td>\n",
       "      <td>10000.0</td>\n",
       "      <td>133.4898</td>\n",
       "      <td>-22.1527</td>\n",
       "      <td>680.498927</td>\n",
       "      <td>71.449337</td>\n",
       "      <td>BL11</td>\n",
       "      <td>4.268246</td>\n",
       "      <td>1</td>\n",
       "    </tr>\n",
       "    <tr>\n",
       "      <th>4</th>\n",
       "      <td>1401344</td>\n",
       "      <td>637018</td>\n",
       "      <td>0.950000</td>\n",
       "      <td>231000</td>\n",
       "      <td>55.814</td>\n",
       "      <td>26.804</td>\n",
       "      <td>12000.0</td>\n",
       "      <td>134.2961</td>\n",
       "      <td>-20.5914</td>\n",
       "      <td>777.797851</td>\n",
       "      <td>89.528001</td>\n",
       "      <td>BL08</td>\n",
       "      <td>4.523065</td>\n",
       "      <td>1</td>\n",
       "    </tr>\n",
       "  </tbody>\n",
       "</table>\n",
       "</div>"
      ],
      "text/plain": [
       "   source_block  station_block  residual  event_number  source_longitude  \\\n",
       "0        543424         626937 -4.594806          7000           135.782   \n",
       "1        543424         626937 -4.594806        171000           135.782   \n",
       "2       1378415         647095  0.050000          5000            83.516   \n",
       "3       1378415         647095  0.050000        177000            83.516   \n",
       "4       1401344         637018  0.950000        231000            55.814   \n",
       "\n",
       "   source_latitude  source_depth  station_longitude  station_latitude  \\\n",
       "0           -4.301        4900.0           134.0455          -18.8731   \n",
       "1           -4.301        4900.0           134.0455          -18.8731   \n",
       "2           30.839       10000.0           133.4898          -22.1527   \n",
       "3           30.839       10000.0           133.4898          -22.1527   \n",
       "4           26.804       12000.0           134.2961          -20.5914   \n",
       "\n",
       "   observed_tt  locations2degrees station_code       SNR  P_or_S  \n",
       "0   205.740091          14.670456         BL06  7.199925       1  \n",
       "1   205.740091          14.670456         BL06  7.199925       1  \n",
       "2   680.498927          71.449337         BL11  4.268246       1  \n",
       "3   680.498927          71.449337         BL11  4.268246       1  \n",
       "4   777.797851          89.528001         BL08  4.523065       1  "
      ]
     },
     "execution_count": 8,
     "metadata": {},
     "output_type": "execute_result"
    }
   ],
   "source": [
    "pdf2.head()"
   ]
  },
  {
   "cell_type": "code",
   "execution_count": 9,
   "metadata": {},
   "outputs": [
    {
     "data": {
      "text/plain": [
       "(1455, 14)"
      ]
     },
     "execution_count": 9,
     "metadata": {},
     "output_type": "execute_result"
    }
   ],
   "source": [
    "pdf2.shape"
   ]
  },
  {
   "cell_type": "code",
   "execution_count": 10,
   "metadata": {},
   "outputs": [
    {
     "data": {
      "text/plain": [
       "(1455, 14)"
      ]
     },
     "execution_count": 10,
     "metadata": {},
     "output_type": "execute_result"
    }
   ],
   "source": [
    "finalpdf.shape\n"
   ]
  },
  {
   "cell_type": "code",
   "execution_count": 11,
   "metadata": {},
   "outputs": [
    {
     "data": {
      "text/plain": [
       "<matplotlib.axes._subplots.AxesSubplot at 0x7f5dbbf67cf8>"
      ]
     },
     "execution_count": 11,
     "metadata": {},
     "output_type": "execute_result"
    },
    {
     "data": {
      "text/plain": [
       "<Figure size 432x288 with 0 Axes>"
      ]
     },
     "metadata": {},
     "output_type": "display_data"
    },
    {
     "data": {
      "image/png": "[encoded data removed]",
      "text/plain": [
       "<Figure size 432x288 with 1 Axes>"
      ]
     },
     "metadata": {},
     "output_type": "display_data"
    }
   ],
   "source": [
    "plt.figure(); pdf2.plot(x='event_number', y='observed_tt')\n",
    "# plt.figure(); pdf2.plot(x='event_number', y='source_depth')\n",
    "# plt.figure(); pdf2.plot(x='event_number', y='locations2degrees')\n",
    "# plt.figure(); pdf2.plot(x='event_number', y='residual')  # less than +-10s\n",
    "\n"
   ]
  },
  {
   "cell_type": "code",
   "execution_count": 12,
   "metadata": {},
   "outputs": [
    {
     "data": {
      "text/plain": [
       "<matplotlib.axes._subplots.AxesSubplot at 0x7f5dbbf67390>"
      ]
     },
     "execution_count": 12,
     "metadata": {},
     "output_type": "execute_result"
    },
    {
     "data": {
      "text/plain": [
       "<Figure size 432x288 with 0 Axes>"
      ]
     },
     "metadata": {},
     "output_type": "display_data"
    },
    {
     "data": {
      "image/png": "[encoded data removed]",
      "text/plain": [
       "<Figure size 432x288 with 1 Axes>"
      ]
     },
     "metadata": {},
     "output_type": "display_data"
    }
   ],
   "source": [
    "plt.figure(); pdf2.plot.scatter(x='source_block', y='station_block')"
   ]
  },
  {
   "cell_type": "code",
   "execution_count": 13,
   "metadata": {},
   "outputs": [
    {
     "data": {
      "text/plain": [
       "<matplotlib.axes._subplots.AxesSubplot at 0x7f5da5d72dd8>"
      ]
     },
     "execution_count": 13,
     "metadata": {},
     "output_type": "execute_result"
    },
    {
     "data": {
      "text/plain": [
       "<Figure size 432x288 with 0 Axes>"
      ]
     },
     "metadata": {},
     "output_type": "display_data"
    },
    {
     "data": {
      "image/png": "[encoded data removed]",
      "text/plain": [
       "<Figure size 432x288 with 1 Axes>"
      ]
     },
     "metadata": {},
     "output_type": "display_data"
    }
   ],
   "source": [
    "plt.figure(); pdf2.plot.scatter(x='source_longitude', y='source_latitude')"
   ]
  },
  {
   "cell_type": "code",
   "execution_count": 14,
   "metadata": {},
   "outputs": [
    {
     "data": {
      "text/plain": [
       "<matplotlib.axes._subplots.AxesSubplot at 0x7f5da5ced3c8>"
      ]
     },
     "execution_count": 14,
     "metadata": {},
     "output_type": "execute_result"
    },
    {
     "data": {
      "text/plain": [
       "<Figure size 432x288 with 0 Axes>"
      ]
     },
     "metadata": {},
     "output_type": "display_data"
    },
    {
     "data": {
      "image/png": "[encoded data removed]",
      "text/plain": [
       "<Figure size 432x288 with 1 Axes>"
      ]
     },
     "metadata": {},
     "output_type": "display_data"
    }
   ],
   "source": [
    "plt.figure(); pdf2.plot.scatter(x='station_longitude', y='station_latitude')"
   ]
  },
  {
   "cell_type": "code",
   "execution_count": 15,
   "metadata": {},
   "outputs": [],
   "source": [
    " med = pdf2.groupby(by=['source_block', 'station_block'])[\n",
    "        'observed_tt'].quantile(q=.5, interpolation='lower').reset_index()"
   ]
  },
  {
   "cell_type": "code",
   "execution_count": 16,
   "metadata": {},
   "outputs": [
    {
     "data": {
      "text/html": [
       "<div>\n",
       "<style scoped>\n",
       "    .dataframe tbody tr th:only-of-type {\n",
       "        vertical-align: middle;\n",
       "    }\n",
       "\n",
       "    .dataframe tbody tr th {\n",
       "        vertical-align: top;\n",
       "    }\n",
       "\n",
       "    .dataframe thead th {\n",
       "        text-align: right;\n",
       "    }\n",
       "</style>\n",
       "<table border=\"1\" class=\"dataframe\">\n",
       "  <thead>\n",
       "    <tr style=\"text-align: right;\">\n",
       "      <th></th>\n",
       "      <th>source_block</th>\n",
       "      <th>station_block</th>\n",
       "      <th>observed_tt</th>\n",
       "    </tr>\n",
       "  </thead>\n",
       "  <tbody>\n",
       "    <tr>\n",
       "      <th>0</th>\n",
       "      <td>543424</td>\n",
       "      <td>626937</td>\n",
       "      <td>205.740091</td>\n",
       "    </tr>\n",
       "    <tr>\n",
       "      <th>1</th>\n",
       "      <td>1378415</td>\n",
       "      <td>647095</td>\n",
       "      <td>680.498927</td>\n",
       "    </tr>\n",
       "    <tr>\n",
       "      <th>2</th>\n",
       "      <td>1401344</td>\n",
       "      <td>637018</td>\n",
       "      <td>777.797851</td>\n",
       "    </tr>\n",
       "    <tr>\n",
       "      <th>3</th>\n",
       "      <td>1401344</td>\n",
       "      <td>639897</td>\n",
       "      <td>778.094573</td>\n",
       "    </tr>\n",
       "    <tr>\n",
       "      <th>4</th>\n",
       "      <td>1401344</td>\n",
       "      <td>647095</td>\n",
       "      <td>778.522459</td>\n",
       "    </tr>\n",
       "  </tbody>\n",
       "</table>\n",
       "</div>"
      ],
      "text/plain": [
       "   source_block  station_block  observed_tt\n",
       "0        543424         626937   205.740091\n",
       "1       1378415         647095   680.498927\n",
       "2       1401344         637018   777.797851\n",
       "3       1401344         639897   778.094573\n",
       "4       1401344         647095   778.522459"
      ]
     },
     "execution_count": 16,
     "metadata": {},
     "output_type": "execute_result"
    }
   ],
   "source": [
    "med.head()"
   ]
  },
  {
   "cell_type": "code",
   "execution_count": 48,
   "metadata": {},
   "outputs": [
    {
     "data": {
      "text/plain": [
       "(841, 3)"
      ]
     },
     "execution_count": 48,
     "metadata": {},
     "output_type": "execute_result"
    }
   ],
   "source": [
    "med.shape"
   ]
  },
  {
   "cell_type": "code",
   "execution_count": 50,
   "metadata": {},
   "outputs": [],
   "source": [
    "med2 = pdf2.groupby(\n",
    "        by=['source_block', 'station_block'] )['SNR'].max().reset_index() # use a seq index:0,1,2,."
   ]
  },
  {
   "cell_type": "code",
   "execution_count": 52,
   "metadata": {},
   "outputs": [
    {
     "data": {
      "text/html": [
       "<div>\n",
       "<style scoped>\n",
       "    .dataframe tbody tr th:only-of-type {\n",
       "        vertical-align: middle;\n",
       "    }\n",
       "\n",
       "    .dataframe tbody tr th {\n",
       "        vertical-align: top;\n",
       "    }\n",
       "\n",
       "    .dataframe thead th {\n",
       "        text-align: right;\n",
       "    }\n",
       "</style>\n",
       "<table border=\"1\" class=\"dataframe\">\n",
       "  <thead>\n",
       "    <tr style=\"text-align: right;\">\n",
       "      <th></th>\n",
       "      <th>source_block</th>\n",
       "      <th>station_block</th>\n",
       "      <th>SNR</th>\n",
       "    </tr>\n",
       "  </thead>\n",
       "  <tbody>\n",
       "    <tr>\n",
       "      <th>0</th>\n",
       "      <td>543424</td>\n",
       "      <td>626937</td>\n",
       "      <td>7.199925</td>\n",
       "    </tr>\n",
       "    <tr>\n",
       "      <th>1</th>\n",
       "      <td>1378415</td>\n",
       "      <td>647095</td>\n",
       "      <td>4.268246</td>\n",
       "    </tr>\n",
       "    <tr>\n",
       "      <th>2</th>\n",
       "      <td>1401344</td>\n",
       "      <td>637018</td>\n",
       "      <td>4.523065</td>\n",
       "    </tr>\n",
       "    <tr>\n",
       "      <th>3</th>\n",
       "      <td>1401344</td>\n",
       "      <td>639897</td>\n",
       "      <td>4.783324</td>\n",
       "    </tr>\n",
       "    <tr>\n",
       "      <th>4</th>\n",
       "      <td>1401344</td>\n",
       "      <td>647095</td>\n",
       "      <td>5.139861</td>\n",
       "    </tr>\n",
       "  </tbody>\n",
       "</table>\n",
       "</div>"
      ],
      "text/plain": [
       "   source_block  station_block       SNR\n",
       "0        543424         626937  7.199925\n",
       "1       1378415         647095  4.268246\n",
       "2       1401344         637018  4.523065\n",
       "3       1401344         639897  4.783324\n",
       "4       1401344         647095  5.139861"
      ]
     },
     "execution_count": 52,
     "metadata": {},
     "output_type": "execute_result"
    }
   ],
   "source": [
    "med2.head()"
   ]
  },
  {
   "cell_type": "code",
   "execution_count": 54,
   "metadata": {},
   "outputs": [
    {
     "data": {
      "text/plain": [
       "(841, 3)"
      ]
     },
     "execution_count": 54,
     "metadata": {},
     "output_type": "execute_result"
    }
   ],
   "source": [
    "med2.shape"
   ]
  },
  {
   "cell_type": "code",
   "execution_count": 18,
   "metadata": {},
   "outputs": [
    {
     "data": {
      "text/plain": [
       "(1455, 14)"
      ]
     },
     "execution_count": 18,
     "metadata": {},
     "output_type": "execute_result"
    }
   ],
   "source": [
    "pdf2.shape"
   ]
  },
  {
   "cell_type": "code",
   "execution_count": 19,
   "metadata": {},
   "outputs": [],
   "source": [
    "pdf3=pdf2.groupby(by=['source_block', 'station_block']).count()"
   ]
  },
  {
   "cell_type": "code",
   "execution_count": 20,
   "metadata": {},
   "outputs": [
    {
     "data": {
      "text/plain": [
       "(841, 12)"
      ]
     },
     "execution_count": 20,
     "metadata": {},
     "output_type": "execute_result"
    }
   ],
   "source": [
    "pdf3.shape"
   ]
  },
  {
   "cell_type": "code",
   "execution_count": 21,
   "metadata": {},
   "outputs": [],
   "source": [
    "pdf4=pdf3[(pdf3['residual']>2)]"
   ]
  },
  {
   "cell_type": "code",
   "execution_count": 22,
   "metadata": {},
   "outputs": [
    {
     "data": {
      "text/plain": [
       "(0, 12)"
      ]
     },
     "execution_count": 22,
     "metadata": {},
     "output_type": "execute_result"
    }
   ],
   "source": [
    "pdf4.shape"
   ]
  },
  {
   "cell_type": "code",
   "execution_count": 23,
   "metadata": {},
   "outputs": [
    {
     "data": {
      "text/html": [
       "<div>\n",
       "<style scoped>\n",
       "    .dataframe tbody tr th:only-of-type {\n",
       "        vertical-align: middle;\n",
       "    }\n",
       "\n",
       "    .dataframe tbody tr th {\n",
       "        vertical-align: top;\n",
       "    }\n",
       "\n",
       "    .dataframe thead th {\n",
       "        text-align: right;\n",
       "    }\n",
       "</style>\n",
       "<table border=\"1\" class=\"dataframe\">\n",
       "  <thead>\n",
       "    <tr style=\"text-align: right;\">\n",
       "      <th></th>\n",
       "      <th></th>\n",
       "      <th>residual</th>\n",
       "      <th>event_number</th>\n",
       "      <th>source_longitude</th>\n",
       "      <th>source_latitude</th>\n",
       "      <th>source_depth</th>\n",
       "      <th>station_longitude</th>\n",
       "      <th>station_latitude</th>\n",
       "      <th>observed_tt</th>\n",
       "      <th>locations2degrees</th>\n",
       "      <th>station_code</th>\n",
       "      <th>SNR</th>\n",
       "      <th>P_or_S</th>\n",
       "    </tr>\n",
       "    <tr>\n",
       "      <th>source_block</th>\n",
       "      <th>station_block</th>\n",
       "      <th></th>\n",
       "      <th></th>\n",
       "      <th></th>\n",
       "      <th></th>\n",
       "      <th></th>\n",
       "      <th></th>\n",
       "      <th></th>\n",
       "      <th></th>\n",
       "      <th></th>\n",
       "      <th></th>\n",
       "      <th></th>\n",
       "      <th></th>\n",
       "    </tr>\n",
       "  </thead>\n",
       "  <tbody>\n",
       "  </tbody>\n",
       "</table>\n",
       "</div>"
      ],
      "text/plain": [
       "Empty DataFrame\n",
       "Columns: [residual, event_number, source_longitude, source_latitude, source_depth, station_longitude, station_latitude, observed_tt, locations2degrees, station_code, SNR, P_or_S]\n",
       "Index: []"
      ]
     },
     "execution_count": 23,
     "metadata": {},
     "output_type": "execute_result"
    }
   ],
   "source": [
    "pdf4.tail()"
   ]
  },
  {
   "cell_type": "code",
   "execution_count": 24,
   "metadata": {},
   "outputs": [],
   "source": [
    "# select rows\n",
    "rowmask= (pdf2['source_block'] == 9344) & (pdf2['station_block']==9037)  #select certain rows\n",
    "pdf5=pdf2.loc[ rowmask ]"
   ]
  },
  {
   "cell_type": "code",
   "execution_count": 25,
   "metadata": {},
   "outputs": [
    {
     "data": {
      "text/html": [
       "<div>\n",
       "<style scoped>\n",
       "    .dataframe tbody tr th:only-of-type {\n",
       "        vertical-align: middle;\n",
       "    }\n",
       "\n",
       "    .dataframe tbody tr th {\n",
       "        vertical-align: top;\n",
       "    }\n",
       "\n",
       "    .dataframe thead th {\n",
       "        text-align: right;\n",
       "    }\n",
       "</style>\n",
       "<table border=\"1\" class=\"dataframe\">\n",
       "  <thead>\n",
       "    <tr style=\"text-align: right;\">\n",
       "      <th></th>\n",
       "      <th>source_block</th>\n",
       "      <th>station_block</th>\n",
       "      <th>residual</th>\n",
       "      <th>event_number</th>\n",
       "      <th>source_longitude</th>\n",
       "      <th>source_latitude</th>\n",
       "      <th>source_depth</th>\n",
       "      <th>station_longitude</th>\n",
       "      <th>station_latitude</th>\n",
       "      <th>observed_tt</th>\n",
       "      <th>locations2degrees</th>\n",
       "      <th>station_code</th>\n",
       "      <th>SNR</th>\n",
       "      <th>P_or_S</th>\n",
       "    </tr>\n",
       "  </thead>\n",
       "  <tbody>\n",
       "  </tbody>\n",
       "</table>\n",
       "</div>"
      ],
      "text/plain": [
       "Empty DataFrame\n",
       "Columns: [source_block, station_block, residual, event_number, source_longitude, source_latitude, source_depth, station_longitude, station_latitude, observed_tt, locations2degrees, station_code, SNR, P_or_S]\n",
       "Index: []"
      ]
     },
     "execution_count": 25,
     "metadata": {},
     "output_type": "execute_result"
    }
   ],
   "source": [
    "pdf5.head()"
   ]
  },
  {
   "cell_type": "code",
   "execution_count": 26,
   "metadata": {},
   "outputs": [
    {
     "data": {
      "text/html": [
       "<div>\n",
       "<style scoped>\n",
       "    .dataframe tbody tr th:only-of-type {\n",
       "        vertical-align: middle;\n",
       "    }\n",
       "\n",
       "    .dataframe tbody tr th {\n",
       "        vertical-align: top;\n",
       "    }\n",
       "\n",
       "    .dataframe thead th {\n",
       "        text-align: right;\n",
       "    }\n",
       "</style>\n",
       "<table border=\"1\" class=\"dataframe\">\n",
       "  <thead>\n",
       "    <tr style=\"text-align: right;\">\n",
       "      <th></th>\n",
       "      <th>source_block</th>\n",
       "      <th>station_block</th>\n",
       "      <th>residual</th>\n",
       "      <th>event_number</th>\n",
       "      <th>source_longitude</th>\n",
       "      <th>source_latitude</th>\n",
       "      <th>source_depth</th>\n",
       "      <th>station_longitude</th>\n",
       "      <th>station_latitude</th>\n",
       "      <th>observed_tt</th>\n",
       "      <th>locations2degrees</th>\n",
       "      <th>station_code</th>\n",
       "      <th>SNR</th>\n",
       "      <th>P_or_S</th>\n",
       "    </tr>\n",
       "  </thead>\n",
       "  <tbody>\n",
       "  </tbody>\n",
       "</table>\n",
       "</div>"
      ],
      "text/plain": [
       "Empty DataFrame\n",
       "Columns: [source_block, station_block, residual, event_number, source_longitude, source_latitude, source_depth, station_longitude, station_latitude, observed_tt, locations2degrees, station_code, SNR, P_or_S]\n",
       "Index: []"
      ]
     },
     "execution_count": 26,
     "metadata": {},
     "output_type": "execute_result"
    }
   ],
   "source": [
    "rowmask = (pdf2['source_block'] ==149425) & (pdf2['station_block']==18461)  #select rows where cond\n",
    "pdf2.loc[ rowmask ].head()"
   ]
  },
  {
   "cell_type": "code",
   "execution_count": 27,
   "metadata": {},
   "outputs": [],
   "source": [
    "unikpdf2=pdf2.drop_duplicates(subset=['source_block', 'station_block'], keep='first')"
   ]
  },
  {
   "cell_type": "code",
   "execution_count": 28,
   "metadata": {},
   "outputs": [
    {
     "data": {
      "text/plain": [
       "(841, 14)"
      ]
     },
     "execution_count": 28,
     "metadata": {},
     "output_type": "execute_result"
    }
   ],
   "source": [
    "unikpdf2.shape"
   ]
  },
  {
   "cell_type": "code",
   "execution_count": 29,
   "metadata": {},
   "outputs": [
    {
     "data": {
      "text/plain": [
       "(1455, 14)"
      ]
     },
     "execution_count": 29,
     "metadata": {},
     "output_type": "execute_result"
    }
   ],
   "source": [
    "pdf2.shape"
   ]
  },
  {
   "cell_type": "markdown",
   "metadata": {},
   "source": [
    "#  Modify the sort function"
   ]
  },
  {
   "cell_type": "code",
   "execution_count": 58,
   "metadata": {},
   "outputs": [],
   "source": [
    "import logging\n",
    "import sys\n",
    "logging.basicConfig(format='%(asctime)s | %(levelname)s : %(message)s',\n",
    "                     level=logging.DEBUG, stream=sys.stdout)\n",
    "\n",
    "log =logging.getLogger()\n",
    "log.info('Hello world!')\n",
    "\n",
    "\n",
    "# def sort(output_file, sorted_file, residual_cutoff):\n",
    "def sort2(output_file, sorted_file, residual_cutoff):\n",
    "    \"\"\"\n",
    "    Sort and filter the arrivals.\n",
    "\n",
    "    Sort based on the source and station block number.\n",
    "    There are two stages of filtering:\n",
    "    1. Filter based on the time residual\n",
    "    2. Filter based on best Signal_to_Noise-Ratio seismic wave: If there are multiple source and station block combinations, we keep the\n",
    "    row corresponding to the highest SNR value\n",
    "\n",
    "    cmdline usage:\n",
    "    cluster sort outfile_P.csv 5. -s sorted_P.csv\n",
    "    cluster sort outfile_S.csv 10. -s sorted_S.csv\n",
    "\n",
    "\n",
    "    :param output_file: output file from the gather stage (eg, outfile_P.csv)\n",
    "    :param sorted_file: str, optional\n",
    "        optional sorted output file path. Default: sorted.csv.\n",
    "    :param residual_cutoff: float\n",
    "        residual seconds above which arrivals are rejected.\n",
    "    :return: pandas_df\n",
    "    \"\"\"\n",
    "\n",
    "    log.info('Filtering arrivals.')\n",
    "\n",
    "    cluster_data = pd.read_csv(output_file, header=None,\n",
    "                               names=column_names)\n",
    "    \n",
    "    cluster_data = cluster_data[abs(cluster_data['residual'])\n",
    "                                < residual_cutoff]\n",
    "    \n",
    "    cluster_data['source_depth'] = cluster_data['source_depth'] / 1000.0  # convert to KM?\n",
    "    \n",
    "    # groupby sorts by default\n",
    "    # cluster_data.sort_values(by=['source_block', 'station_block'],\n",
    "    #                          inplace=True)\n",
    "\n",
    "    log.info('Sorting arrivals.')\n",
    "\n",
    "    # groupby automatically sorts\n",
    "#     med = cluster_data.groupby(\n",
    "#         by=['source_block', 'station_block']\n",
    "#         )['observed_tt'].quantile(q=.5, interpolation='lower').reset_index() # use a seq index:0,1,2,....\n",
    "\n",
    "#  SNR value max\n",
    "    med = cluster_data.groupby(\n",
    "        by=['source_block', 'station_block']\n",
    "        )['SNR'].max().reset_index() # use a seq index:0,1,2,.\n",
    "    \n",
    "    # med dataframe has three columns:  [source_block, station_block ,observed_tt]\n",
    "    \n",
    "    final_df = pd.merge(cluster_data, med, how='right',\n",
    "                        on=['source_block', 'station_block', 'SNR'],\n",
    "                        sort=True,\n",
    "                        right_index=True)\n",
    "\n",
    "    # Confirmed: drop_duplicates required due to possibly duplicated picks in\n",
    "    #  the original engdahl events\n",
    "    # refer: https://github.com/GeoscienceAustralia/passive-seismic/issues/51\n",
    "    # The subset is specified as we have some stations that are very close?\n",
    "    final_df.drop_duplicates(subset=['source_block', 'station_block'],\n",
    "                             keep='first',  inplace=True)\n",
    "\n",
    "    final_df.to_csv(sorted_file, header=False, index=False, sep=',')\n",
    "    \n",
    "    return final_df"
   ]
  },
  {
   "cell_type": "code",
   "execution_count": 60,
   "metadata": {},
   "outputs": [],
   "source": [
    "mypdf2 = sort2(inputcsv,sortedfile,residual_cutoff)"
   ]
  },
  {
   "cell_type": "code",
   "execution_count": 62,
   "metadata": {},
   "outputs": [
    {
     "data": {
      "text/plain": [
       "(841, 14)"
      ]
     },
     "execution_count": 62,
     "metadata": {},
     "output_type": "execute_result"
    }
   ],
   "source": [
    "mypdf2.shape"
   ]
  },
  {
   "cell_type": "code",
   "execution_count": 63,
   "metadata": {},
   "outputs": [
    {
     "data": {
      "text/html": [
       "<div>\n",
       "<style scoped>\n",
       "    .dataframe tbody tr th:only-of-type {\n",
       "        vertical-align: middle;\n",
       "    }\n",
       "\n",
       "    .dataframe tbody tr th {\n",
       "        vertical-align: top;\n",
       "    }\n",
       "\n",
       "    .dataframe thead th {\n",
       "        text-align: right;\n",
       "    }\n",
       "</style>\n",
       "<table border=\"1\" class=\"dataframe\">\n",
       "  <thead>\n",
       "    <tr style=\"text-align: right;\">\n",
       "      <th></th>\n",
       "      <th>source_block</th>\n",
       "      <th>station_block</th>\n",
       "      <th>residual</th>\n",
       "      <th>event_number</th>\n",
       "      <th>source_longitude</th>\n",
       "      <th>source_latitude</th>\n",
       "      <th>source_depth</th>\n",
       "      <th>station_longitude</th>\n",
       "      <th>station_latitude</th>\n",
       "      <th>observed_tt</th>\n",
       "      <th>locations2degrees</th>\n",
       "      <th>station_code</th>\n",
       "      <th>SNR</th>\n",
       "      <th>P_or_S</th>\n",
       "    </tr>\n",
       "  </thead>\n",
       "  <tbody>\n",
       "    <tr>\n",
       "      <th>28</th>\n",
       "      <td>543424</td>\n",
       "      <td>626937</td>\n",
       "      <td>-4.594806</td>\n",
       "      <td>7000</td>\n",
       "      <td>135.7820</td>\n",
       "      <td>-4.3010</td>\n",
       "      <td>4.9</td>\n",
       "      <td>134.0455</td>\n",
       "      <td>-18.8731</td>\n",
       "      <td>205.740091</td>\n",
       "      <td>14.670456</td>\n",
       "      <td>BL06</td>\n",
       "      <td>7.199925</td>\n",
       "      <td>1</td>\n",
       "    </tr>\n",
       "    <tr>\n",
       "      <th>25</th>\n",
       "      <td>1378415</td>\n",
       "      <td>647095</td>\n",
       "      <td>0.050000</td>\n",
       "      <td>5000</td>\n",
       "      <td>83.5160</td>\n",
       "      <td>30.8390</td>\n",
       "      <td>10.0</td>\n",
       "      <td>133.4898</td>\n",
       "      <td>-22.1527</td>\n",
       "      <td>680.498927</td>\n",
       "      <td>71.449337</td>\n",
       "      <td>BL11</td>\n",
       "      <td>4.268246</td>\n",
       "      <td>1</td>\n",
       "    </tr>\n",
       "    <tr>\n",
       "      <th>798</th>\n",
       "      <td>1401344</td>\n",
       "      <td>637018</td>\n",
       "      <td>0.600000</td>\n",
       "      <td>102000</td>\n",
       "      <td>55.8332</td>\n",
       "      <td>26.7723</td>\n",
       "      <td>12.0</td>\n",
       "      <td>134.2961</td>\n",
       "      <td>-20.5914</td>\n",
       "      <td>777.315861</td>\n",
       "      <td>89.499655</td>\n",
       "      <td>BL08</td>\n",
       "      <td>4.523065</td>\n",
       "      <td>1</td>\n",
       "    </tr>\n",
       "    <tr>\n",
       "      <th>799</th>\n",
       "      <td>1401344</td>\n",
       "      <td>639897</td>\n",
       "      <td>0.700000</td>\n",
       "      <td>102000</td>\n",
       "      <td>55.8332</td>\n",
       "      <td>26.7723</td>\n",
       "      <td>12.0</td>\n",
       "      <td>134.0250</td>\n",
       "      <td>-21.1143</td>\n",
       "      <td>777.561630</td>\n",
       "      <td>89.531882</td>\n",
       "      <td>BL09</td>\n",
       "      <td>4.783324</td>\n",
       "      <td>1</td>\n",
       "    </tr>\n",
       "    <tr>\n",
       "      <th>800</th>\n",
       "      <td>1401344</td>\n",
       "      <td>647095</td>\n",
       "      <td>0.750000</td>\n",
       "      <td>102000</td>\n",
       "      <td>55.8332</td>\n",
       "      <td>26.7723</td>\n",
       "      <td>12.0</td>\n",
       "      <td>133.4898</td>\n",
       "      <td>-22.1527</td>\n",
       "      <td>777.937657</td>\n",
       "      <td>89.603853</td>\n",
       "      <td>BL11</td>\n",
       "      <td>5.784889</td>\n",
       "      <td>1</td>\n",
       "    </tr>\n",
       "  </tbody>\n",
       "</table>\n",
       "</div>"
      ],
      "text/plain": [
       "     source_block  station_block  residual  event_number  source_longitude  \\\n",
       "28         543424         626937 -4.594806          7000          135.7820   \n",
       "25        1378415         647095  0.050000          5000           83.5160   \n",
       "798       1401344         637018  0.600000        102000           55.8332   \n",
       "799       1401344         639897  0.700000        102000           55.8332   \n",
       "800       1401344         647095  0.750000        102000           55.8332   \n",
       "\n",
       "     source_latitude  source_depth  station_longitude  station_latitude  \\\n",
       "28           -4.3010           4.9           134.0455          -18.8731   \n",
       "25           30.8390          10.0           133.4898          -22.1527   \n",
       "798          26.7723          12.0           134.2961          -20.5914   \n",
       "799          26.7723          12.0           134.0250          -21.1143   \n",
       "800          26.7723          12.0           133.4898          -22.1527   \n",
       "\n",
       "     observed_tt  locations2degrees station_code       SNR  P_or_S  \n",
       "28    205.740091          14.670456         BL06  7.199925       1  \n",
       "25    680.498927          71.449337         BL11  4.268246       1  \n",
       "798   777.315861          89.499655         BL08  4.523065       1  \n",
       "799   777.561630          89.531882         BL09  4.783324       1  \n",
       "800   777.937657          89.603853         BL11  5.784889       1  "
      ]
     },
     "execution_count": 63,
     "metadata": {},
     "output_type": "execute_result"
    }
   ],
   "source": [
    "mypdf2.head()"
   ]
  },
  {
   "cell_type": "code",
   "execution_count": 31,
   "metadata": {},
   "outputs": [],
   "source": [
    "mypdf = sort2(inputcsv,sortedfile,residual_cutoff)"
   ]
  },
  {
   "cell_type": "code",
   "execution_count": 32,
   "metadata": {},
   "outputs": [
    {
     "data": {
      "text/plain": [
       "(841, 14)"
      ]
     },
     "execution_count": 32,
     "metadata": {},
     "output_type": "execute_result"
    }
   ],
   "source": [
    "mypdf.shape"
   ]
  },
  {
   "cell_type": "code",
   "execution_count": 33,
   "metadata": {},
   "outputs": [
    {
     "data": {
      "text/html": [
       "<div>\n",
       "<style scoped>\n",
       "    .dataframe tbody tr th:only-of-type {\n",
       "        vertical-align: middle;\n",
       "    }\n",
       "\n",
       "    .dataframe tbody tr th {\n",
       "        vertical-align: top;\n",
       "    }\n",
       "\n",
       "    .dataframe thead th {\n",
       "        text-align: right;\n",
       "    }\n",
       "</style>\n",
       "<table border=\"1\" class=\"dataframe\">\n",
       "  <thead>\n",
       "    <tr style=\"text-align: right;\">\n",
       "      <th></th>\n",
       "      <th>source_block</th>\n",
       "      <th>station_block</th>\n",
       "      <th>residual</th>\n",
       "      <th>event_number</th>\n",
       "      <th>source_longitude</th>\n",
       "      <th>source_latitude</th>\n",
       "      <th>source_depth</th>\n",
       "      <th>station_longitude</th>\n",
       "      <th>station_latitude</th>\n",
       "      <th>observed_tt</th>\n",
       "      <th>locations2degrees</th>\n",
       "      <th>station_code</th>\n",
       "      <th>SNR</th>\n",
       "      <th>P_or_S</th>\n",
       "    </tr>\n",
       "  </thead>\n",
       "  <tbody>\n",
       "    <tr>\n",
       "      <th>28</th>\n",
       "      <td>543424</td>\n",
       "      <td>626937</td>\n",
       "      <td>-4.594806</td>\n",
       "      <td>7000</td>\n",
       "      <td>135.782</td>\n",
       "      <td>-4.301</td>\n",
       "      <td>4900.0</td>\n",
       "      <td>134.0455</td>\n",
       "      <td>-18.8731</td>\n",
       "      <td>205.740091</td>\n",
       "      <td>14.670456</td>\n",
       "      <td>BL06</td>\n",
       "      <td>7.199925</td>\n",
       "      <td>1</td>\n",
       "    </tr>\n",
       "    <tr>\n",
       "      <th>25</th>\n",
       "      <td>1378415</td>\n",
       "      <td>647095</td>\n",
       "      <td>0.050000</td>\n",
       "      <td>5000</td>\n",
       "      <td>83.516</td>\n",
       "      <td>30.839</td>\n",
       "      <td>10000.0</td>\n",
       "      <td>133.4898</td>\n",
       "      <td>-22.1527</td>\n",
       "      <td>680.498927</td>\n",
       "      <td>71.449337</td>\n",
       "      <td>BL11</td>\n",
       "      <td>4.268246</td>\n",
       "      <td>1</td>\n",
       "    </tr>\n",
       "    <tr>\n",
       "      <th>1757</th>\n",
       "      <td>1401344</td>\n",
       "      <td>637018</td>\n",
       "      <td>0.950000</td>\n",
       "      <td>231000</td>\n",
       "      <td>55.814</td>\n",
       "      <td>26.804</td>\n",
       "      <td>12000.0</td>\n",
       "      <td>134.2961</td>\n",
       "      <td>-20.5914</td>\n",
       "      <td>777.797851</td>\n",
       "      <td>89.528001</td>\n",
       "      <td>BL08</td>\n",
       "      <td>4.523065</td>\n",
       "      <td>1</td>\n",
       "    </tr>\n",
       "    <tr>\n",
       "      <th>1758</th>\n",
       "      <td>1401344</td>\n",
       "      <td>639897</td>\n",
       "      <td>1.100000</td>\n",
       "      <td>231000</td>\n",
       "      <td>55.814</td>\n",
       "      <td>26.804</td>\n",
       "      <td>12000.0</td>\n",
       "      <td>134.0250</td>\n",
       "      <td>-21.1143</td>\n",
       "      <td>778.094573</td>\n",
       "      <td>89.560453</td>\n",
       "      <td>BL09</td>\n",
       "      <td>4.783324</td>\n",
       "      <td>1</td>\n",
       "    </tr>\n",
       "    <tr>\n",
       "      <th>1759</th>\n",
       "      <td>1401344</td>\n",
       "      <td>647095</td>\n",
       "      <td>1.200000</td>\n",
       "      <td>231000</td>\n",
       "      <td>55.814</td>\n",
       "      <td>26.804</td>\n",
       "      <td>12000.0</td>\n",
       "      <td>133.4898</td>\n",
       "      <td>-22.1527</td>\n",
       "      <td>778.522459</td>\n",
       "      <td>89.632859</td>\n",
       "      <td>BL11</td>\n",
       "      <td>5.139861</td>\n",
       "      <td>1</td>\n",
       "    </tr>\n",
       "  </tbody>\n",
       "</table>\n",
       "</div>"
      ],
      "text/plain": [
       "      source_block  station_block  residual  event_number  source_longitude  \\\n",
       "28          543424         626937 -4.594806          7000           135.782   \n",
       "25         1378415         647095  0.050000          5000            83.516   \n",
       "1757       1401344         637018  0.950000        231000            55.814   \n",
       "1758       1401344         639897  1.100000        231000            55.814   \n",
       "1759       1401344         647095  1.200000        231000            55.814   \n",
       "\n",
       "      source_latitude  source_depth  station_longitude  station_latitude  \\\n",
       "28             -4.301        4900.0           134.0455          -18.8731   \n",
       "25             30.839       10000.0           133.4898          -22.1527   \n",
       "1757           26.804       12000.0           134.2961          -20.5914   \n",
       "1758           26.804       12000.0           134.0250          -21.1143   \n",
       "1759           26.804       12000.0           133.4898          -22.1527   \n",
       "\n",
       "      observed_tt  locations2degrees station_code       SNR  P_or_S  \n",
       "28     205.740091          14.670456         BL06  7.199925       1  \n",
       "25     680.498927          71.449337         BL11  4.268246       1  \n",
       "1757   777.797851          89.528001         BL08  4.523065       1  \n",
       "1758   778.094573          89.560453         BL09  4.783324       1  \n",
       "1759   778.522459          89.632859         BL11  5.139861       1  "
      ]
     },
     "execution_count": 33,
     "metadata": {},
     "output_type": "execute_result"
    }
   ],
   "source": [
    "mypdf.head()"
   ]
  },
  {
   "cell_type": "code",
   "execution_count": 34,
   "metadata": {},
   "outputs": [],
   "source": [
    "# check if any duplicate (source_block,station_block) in the dataframe?  primkey\n",
    "mypdf3=mypdf.groupby(by=['source_block', 'station_block']).count()"
   ]
  },
  {
   "cell_type": "code",
   "execution_count": 35,
   "metadata": {},
   "outputs": [
    {
     "data": {
      "text/html": [
       "<div>\n",
       "<style scoped>\n",
       "    .dataframe tbody tr th:only-of-type {\n",
       "        vertical-align: middle;\n",
       "    }\n",
       "\n",
       "    .dataframe tbody tr th {\n",
       "        vertical-align: top;\n",
       "    }\n",
       "\n",
       "    .dataframe thead th {\n",
       "        text-align: right;\n",
       "    }\n",
       "</style>\n",
       "<table border=\"1\" class=\"dataframe\">\n",
       "  <thead>\n",
       "    <tr style=\"text-align: right;\">\n",
       "      <th></th>\n",
       "      <th></th>\n",
       "      <th>residual</th>\n",
       "      <th>event_number</th>\n",
       "      <th>source_longitude</th>\n",
       "      <th>source_latitude</th>\n",
       "      <th>source_depth</th>\n",
       "      <th>station_longitude</th>\n",
       "      <th>station_latitude</th>\n",
       "      <th>observed_tt</th>\n",
       "      <th>locations2degrees</th>\n",
       "      <th>station_code</th>\n",
       "      <th>SNR</th>\n",
       "      <th>P_or_S</th>\n",
       "    </tr>\n",
       "    <tr>\n",
       "      <th>source_block</th>\n",
       "      <th>station_block</th>\n",
       "      <th></th>\n",
       "      <th></th>\n",
       "      <th></th>\n",
       "      <th></th>\n",
       "      <th></th>\n",
       "      <th></th>\n",
       "      <th></th>\n",
       "      <th></th>\n",
       "      <th></th>\n",
       "      <th></th>\n",
       "      <th></th>\n",
       "      <th></th>\n",
       "    </tr>\n",
       "  </thead>\n",
       "  <tbody>\n",
       "    <tr>\n",
       "      <th>543424</th>\n",
       "      <th>626937</th>\n",
       "      <td>1</td>\n",
       "      <td>1</td>\n",
       "      <td>1</td>\n",
       "      <td>1</td>\n",
       "      <td>1</td>\n",
       "      <td>1</td>\n",
       "      <td>1</td>\n",
       "      <td>1</td>\n",
       "      <td>1</td>\n",
       "      <td>1</td>\n",
       "      <td>1</td>\n",
       "      <td>1</td>\n",
       "    </tr>\n",
       "    <tr>\n",
       "      <th>1378415</th>\n",
       "      <th>647095</th>\n",
       "      <td>1</td>\n",
       "      <td>1</td>\n",
       "      <td>1</td>\n",
       "      <td>1</td>\n",
       "      <td>1</td>\n",
       "      <td>1</td>\n",
       "      <td>1</td>\n",
       "      <td>1</td>\n",
       "      <td>1</td>\n",
       "      <td>1</td>\n",
       "      <td>1</td>\n",
       "      <td>1</td>\n",
       "    </tr>\n",
       "    <tr>\n",
       "      <th rowspan=\"3\" valign=\"top\">1401344</th>\n",
       "      <th>637018</th>\n",
       "      <td>1</td>\n",
       "      <td>1</td>\n",
       "      <td>1</td>\n",
       "      <td>1</td>\n",
       "      <td>1</td>\n",
       "      <td>1</td>\n",
       "      <td>1</td>\n",
       "      <td>1</td>\n",
       "      <td>1</td>\n",
       "      <td>1</td>\n",
       "      <td>1</td>\n",
       "      <td>1</td>\n",
       "    </tr>\n",
       "    <tr>\n",
       "      <th>639897</th>\n",
       "      <td>1</td>\n",
       "      <td>1</td>\n",
       "      <td>1</td>\n",
       "      <td>1</td>\n",
       "      <td>1</td>\n",
       "      <td>1</td>\n",
       "      <td>1</td>\n",
       "      <td>1</td>\n",
       "      <td>1</td>\n",
       "      <td>1</td>\n",
       "      <td>1</td>\n",
       "      <td>1</td>\n",
       "    </tr>\n",
       "    <tr>\n",
       "      <th>647095</th>\n",
       "      <td>1</td>\n",
       "      <td>1</td>\n",
       "      <td>1</td>\n",
       "      <td>1</td>\n",
       "      <td>1</td>\n",
       "      <td>1</td>\n",
       "      <td>1</td>\n",
       "      <td>1</td>\n",
       "      <td>1</td>\n",
       "      <td>1</td>\n",
       "      <td>1</td>\n",
       "      <td>1</td>\n",
       "    </tr>\n",
       "  </tbody>\n",
       "</table>\n",
       "</div>"
      ],
      "text/plain": [
       "                            residual  event_number  source_longitude  \\\n",
       "source_block station_block                                             \n",
       "543424       626937                1             1                 1   \n",
       "1378415      647095                1             1                 1   \n",
       "1401344      637018                1             1                 1   \n",
       "             639897                1             1                 1   \n",
       "             647095                1             1                 1   \n",
       "\n",
       "                            source_latitude  source_depth  station_longitude  \\\n",
       "source_block station_block                                                     \n",
       "543424       626937                       1             1                  1   \n",
       "1378415      647095                       1             1                  1   \n",
       "1401344      637018                       1             1                  1   \n",
       "             639897                       1             1                  1   \n",
       "             647095                       1             1                  1   \n",
       "\n",
       "                            station_latitude  observed_tt  locations2degrees  \\\n",
       "source_block station_block                                                     \n",
       "543424       626937                        1            1                  1   \n",
       "1378415      647095                        1            1                  1   \n",
       "1401344      637018                        1            1                  1   \n",
       "             639897                        1            1                  1   \n",
       "             647095                        1            1                  1   \n",
       "\n",
       "                            station_code  SNR  P_or_S  \n",
       "source_block station_block                             \n",
       "543424       626937                    1    1       1  \n",
       "1378415      647095                    1    1       1  \n",
       "1401344      637018                    1    1       1  \n",
       "             639897                    1    1       1  \n",
       "             647095                    1    1       1  "
      ]
     },
     "execution_count": 35,
     "metadata": {},
     "output_type": "execute_result"
    }
   ],
   "source": [
    "mypdf3.head()"
   ]
  },
  {
   "cell_type": "code",
   "execution_count": 36,
   "metadata": {},
   "outputs": [],
   "source": [
    "mypdf4 = mypdf3[(mypdf3['residual']>1)]"
   ]
  },
  {
   "cell_type": "code",
   "execution_count": 37,
   "metadata": {},
   "outputs": [
    {
     "data": {
      "text/plain": [
       "(0, 12)"
      ]
     },
     "execution_count": 37,
     "metadata": {},
     "output_type": "execute_result"
    }
   ],
   "source": [
    "# check if any duplicate (source_block,station_block)\n",
    "mypdf4.shape  # no rows now  \n"
   ]
  },
  {
   "cell_type": "code",
   "execution_count": 38,
   "metadata": {},
   "outputs": [
    {
     "data": {
      "text/plain": [
       "source_block           1378415\n",
       "station_block           647095\n",
       "residual             0.0499996\n",
       "event_number              5000\n",
       "source_longitude        83.516\n",
       "source_latitude         30.839\n",
       "source_depth             10000\n",
       "station_longitude       133.49\n",
       "station_latitude      -22.1527\n",
       "observed_tt            680.499\n",
       "locations2degrees      71.4493\n",
       "station_code              BL11\n",
       "SNR                    4.26825\n",
       "P_or_S                       1\n",
       "Name: 2, dtype: object"
      ]
     },
     "execution_count": 38,
     "metadata": {},
     "output_type": "execute_result"
    }
   ],
   "source": [
    "pdf2.loc[2]"
   ]
  },
  {
   "cell_type": "code",
   "execution_count": 39,
   "metadata": {},
   "outputs": [
    {
     "data": {
      "text/plain": [
       "source_block          543424\n",
       "station_block         626937\n",
       "residual            -4.59481\n",
       "event_number          171000\n",
       "source_longitude     135.782\n",
       "source_latitude       -4.301\n",
       "source_depth            4900\n",
       "station_longitude    134.046\n",
       "station_latitude    -18.8731\n",
       "observed_tt           205.74\n",
       "locations2degrees    14.6705\n",
       "station_code            BL06\n",
       "SNR                  7.19992\n",
       "P_or_S                     1\n",
       "Name: 1, dtype: object"
      ]
     },
     "execution_count": 39,
     "metadata": {},
     "output_type": "execute_result"
    }
   ],
   "source": [
    "pdf2.iloc[1]"
   ]
  },
  {
   "cell_type": "code",
   "execution_count": 40,
   "metadata": {},
   "outputs": [
    {
     "data": {
      "text/html": [
       "<div>\n",
       "<style scoped>\n",
       "    .dataframe tbody tr th:only-of-type {\n",
       "        vertical-align: middle;\n",
       "    }\n",
       "\n",
       "    .dataframe tbody tr th {\n",
       "        vertical-align: top;\n",
       "    }\n",
       "\n",
       "    .dataframe thead th {\n",
       "        text-align: right;\n",
       "    }\n",
       "</style>\n",
       "<table border=\"1\" class=\"dataframe\">\n",
       "  <thead>\n",
       "    <tr style=\"text-align: right;\">\n",
       "      <th></th>\n",
       "      <th>source_block</th>\n",
       "      <th>station_block</th>\n",
       "      <th>residual</th>\n",
       "      <th>event_number</th>\n",
       "      <th>source_longitude</th>\n",
       "      <th>source_latitude</th>\n",
       "      <th>source_depth</th>\n",
       "      <th>station_longitude</th>\n",
       "      <th>station_latitude</th>\n",
       "      <th>observed_tt</th>\n",
       "      <th>locations2degrees</th>\n",
       "      <th>SNR</th>\n",
       "      <th>P_or_S</th>\n",
       "    </tr>\n",
       "  </thead>\n",
       "  <tbody>\n",
       "    <tr>\n",
       "      <th>count</th>\n",
       "      <td>1.455000e+03</td>\n",
       "      <td>1455.000000</td>\n",
       "      <td>1455.000000</td>\n",
       "      <td>1455.000000</td>\n",
       "      <td>1455.000000</td>\n",
       "      <td>1455.000000</td>\n",
       "      <td>1455.000000</td>\n",
       "      <td>1455.000000</td>\n",
       "      <td>1455.000000</td>\n",
       "      <td>1455.000000</td>\n",
       "      <td>1455.000000</td>\n",
       "      <td>1455.000000</td>\n",
       "      <td>1455.0</td>\n",
       "    </tr>\n",
       "    <tr>\n",
       "      <th>mean</th>\n",
       "      <td>2.122692e+07</td>\n",
       "      <td>657124.637801</td>\n",
       "      <td>0.133579</td>\n",
       "      <td>114696.907216</td>\n",
       "      <td>39.621849</td>\n",
       "      <td>-5.640275</td>\n",
       "      <td>199298.457113</td>\n",
       "      <td>134.040589</td>\n",
       "      <td>-23.980667</td>\n",
       "      <td>422.317732</td>\n",
       "      <td>39.529013</td>\n",
       "      <td>12.636316</td>\n",
       "      <td>1.0</td>\n",
       "    </tr>\n",
       "    <tr>\n",
       "      <th>std</th>\n",
       "      <td>2.014550e+07</td>\n",
       "      <td>20782.562491</td>\n",
       "      <td>1.898514</td>\n",
       "      <td>69173.939683</td>\n",
       "      <td>146.792066</td>\n",
       "      <td>20.583684</td>\n",
       "      <td>193910.844772</td>\n",
       "      <td>0.929494</td>\n",
       "      <td>3.582858</td>\n",
       "      <td>130.369280</td>\n",
       "      <td>16.981754</td>\n",
       "      <td>23.152381</td>\n",
       "      <td>0.0</td>\n",
       "    </tr>\n",
       "    <tr>\n",
       "      <th>min</th>\n",
       "      <td>5.434240e+05</td>\n",
       "      <td>626937.000000</td>\n",
       "      <td>-4.977433</td>\n",
       "      <td>2000.000000</td>\n",
       "      <td>-179.927200</td>\n",
       "      <td>-42.273000</td>\n",
       "      <td>4900.000000</td>\n",
       "      <td>133.111100</td>\n",
       "      <td>-32.146000</td>\n",
       "      <td>166.210173</td>\n",
       "      <td>12.050276</td>\n",
       "      <td>1.856297</td>\n",
       "      <td>1.0</td>\n",
       "    </tr>\n",
       "    <tr>\n",
       "      <th>25%</th>\n",
       "      <td>4.839131e+06</td>\n",
       "      <td>637018.000000</td>\n",
       "      <td>-1.185357</td>\n",
       "      <td>52000.000000</td>\n",
       "      <td>-177.538000</td>\n",
       "      <td>-19.863000</td>\n",
       "      <td>43100.000000</td>\n",
       "      <td>133.367700</td>\n",
       "      <td>-26.671800</td>\n",
       "      <td>322.950435</td>\n",
       "      <td>25.769206</td>\n",
       "      <td>4.976747</td>\n",
       "      <td>1.0</td>\n",
       "    </tr>\n",
       "    <tr>\n",
       "      <th>50%</th>\n",
       "      <td>1.281793e+07</td>\n",
       "      <td>657174.000000</td>\n",
       "      <td>0.318299</td>\n",
       "      <td>105000.000000</td>\n",
       "      <td>126.161000</td>\n",
       "      <td>-8.368000</td>\n",
       "      <td>115300.000000</td>\n",
       "      <td>133.712800</td>\n",
       "      <td>-23.929900</td>\n",
       "      <td>429.520272</td>\n",
       "      <td>39.866534</td>\n",
       "      <td>6.728480</td>\n",
       "      <td>1.0</td>\n",
       "    </tr>\n",
       "    <tr>\n",
       "      <th>75%</th>\n",
       "      <td>2.858323e+07</td>\n",
       "      <td>673014.000000</td>\n",
       "      <td>1.650000</td>\n",
       "      <td>172000.000000</td>\n",
       "      <td>145.691000</td>\n",
       "      <td>1.889000</td>\n",
       "      <td>272300.000000</td>\n",
       "      <td>134.330100</td>\n",
       "      <td>-20.591400</td>\n",
       "      <td>475.891778</td>\n",
       "      <td>44.976974</td>\n",
       "      <td>10.168939</td>\n",
       "      <td>1.0</td>\n",
       "    </tr>\n",
       "    <tr>\n",
       "      <th>max</th>\n",
       "      <td>6.594265e+07</td>\n",
       "      <td>704701.000000</td>\n",
       "      <td>4.150000</td>\n",
       "      <td>241000.000000</td>\n",
       "      <td>179.920500</td>\n",
       "      <td>51.952000</td>\n",
       "      <td>634700.000000</td>\n",
       "      <td>137.781500</td>\n",
       "      <td>-18.873100</td>\n",
       "      <td>779.562631</td>\n",
       "      <td>89.912268</td>\n",
       "      <td>331.442255</td>\n",
       "      <td>1.0</td>\n",
       "    </tr>\n",
       "  </tbody>\n",
       "</table>\n",
       "</div>"
      ],
      "text/plain": [
       "       source_block  station_block     residual   event_number  \\\n",
       "count  1.455000e+03    1455.000000  1455.000000    1455.000000   \n",
       "mean   2.122692e+07  657124.637801     0.133579  114696.907216   \n",
       "std    2.014550e+07   20782.562491     1.898514   69173.939683   \n",
       "min    5.434240e+05  626937.000000    -4.977433    2000.000000   \n",
       "25%    4.839131e+06  637018.000000    -1.185357   52000.000000   \n",
       "50%    1.281793e+07  657174.000000     0.318299  105000.000000   \n",
       "75%    2.858323e+07  673014.000000     1.650000  172000.000000   \n",
       "max    6.594265e+07  704701.000000     4.150000  241000.000000   \n",
       "\n",
       "       source_longitude  source_latitude   source_depth  station_longitude  \\\n",
       "count       1455.000000      1455.000000    1455.000000        1455.000000   \n",
       "mean          39.621849        -5.640275  199298.457113         134.040589   \n",
       "std          146.792066        20.583684  193910.844772           0.929494   \n",
       "min         -179.927200       -42.273000    4900.000000         133.111100   \n",
       "25%         -177.538000       -19.863000   43100.000000         133.367700   \n",
       "50%          126.161000        -8.368000  115300.000000         133.712800   \n",
       "75%          145.691000         1.889000  272300.000000         134.330100   \n",
       "max          179.920500        51.952000  634700.000000         137.781500   \n",
       "\n",
       "       station_latitude  observed_tt  locations2degrees          SNR  P_or_S  \n",
       "count       1455.000000  1455.000000        1455.000000  1455.000000  1455.0  \n",
       "mean         -23.980667   422.317732          39.529013    12.636316     1.0  \n",
       "std            3.582858   130.369280          16.981754    23.152381     0.0  \n",
       "min          -32.146000   166.210173          12.050276     1.856297     1.0  \n",
       "25%          -26.671800   322.950435          25.769206     4.976747     1.0  \n",
       "50%          -23.929900   429.520272          39.866534     6.728480     1.0  \n",
       "75%          -20.591400   475.891778          44.976974    10.168939     1.0  \n",
       "max          -18.873100   779.562631          89.912268   331.442255     1.0  "
      ]
     },
     "execution_count": 40,
     "metadata": {},
     "output_type": "execute_result"
    }
   ],
   "source": [
    "pdf2.describe()"
   ]
  },
  {
   "cell_type": "code",
   "execution_count": 41,
   "metadata": {},
   "outputs": [
    {
     "data": {
      "text/plain": [
       "Int64Index([   0,    1,    2,    3,    4,    5,    6,    7,    8,    9,\n",
       "            ...\n",
       "            1445, 1446, 1447, 1448, 1449, 1450, 1451, 1452, 1453, 1454],\n",
       "           dtype='int64', length=1455)"
      ]
     },
     "execution_count": 41,
     "metadata": {},
     "output_type": "execute_result"
    }
   ],
   "source": [
    "pdf2.index"
   ]
  },
  {
   "cell_type": "code",
   "execution_count": 42,
   "metadata": {},
   "outputs": [],
   "source": [
    "pdf2.index=pdf2.event_number"
   ]
  },
  {
   "cell_type": "code",
   "execution_count": 43,
   "metadata": {},
   "outputs": [
    {
     "data": {
      "text/plain": [
       "Int64Index([  7000, 171000,   5000, 177000, 231000, 237000, 231000, 237000,\n",
       "            231000, 237000,\n",
       "            ...\n",
       "             83000,  85000,  83000,  85000,  60000, 221000,  60000, 221000,\n",
       "             60000, 221000],\n",
       "           dtype='int64', name='event_number', length=1455)"
      ]
     },
     "execution_count": 43,
     "metadata": {},
     "output_type": "execute_result"
    }
   ],
   "source": [
    "pdf2.index"
   ]
  },
  {
   "cell_type": "code",
   "execution_count": 44,
   "metadata": {},
   "outputs": [
    {
     "data": {
      "text/html": [
       "<div>\n",
       "<style scoped>\n",
       "    .dataframe tbody tr th:only-of-type {\n",
       "        vertical-align: middle;\n",
       "    }\n",
       "\n",
       "    .dataframe tbody tr th {\n",
       "        vertical-align: top;\n",
       "    }\n",
       "\n",
       "    .dataframe thead th {\n",
       "        text-align: right;\n",
       "    }\n",
       "</style>\n",
       "<table border=\"1\" class=\"dataframe\">\n",
       "  <thead>\n",
       "    <tr style=\"text-align: right;\">\n",
       "      <th></th>\n",
       "      <th>source_block</th>\n",
       "      <th>station_block</th>\n",
       "      <th>residual</th>\n",
       "      <th>event_number</th>\n",
       "      <th>source_longitude</th>\n",
       "      <th>source_latitude</th>\n",
       "      <th>source_depth</th>\n",
       "      <th>station_longitude</th>\n",
       "      <th>station_latitude</th>\n",
       "      <th>observed_tt</th>\n",
       "      <th>locations2degrees</th>\n",
       "      <th>station_code</th>\n",
       "      <th>SNR</th>\n",
       "      <th>P_or_S</th>\n",
       "    </tr>\n",
       "    <tr>\n",
       "      <th>event_number</th>\n",
       "      <th></th>\n",
       "      <th></th>\n",
       "      <th></th>\n",
       "      <th></th>\n",
       "      <th></th>\n",
       "      <th></th>\n",
       "      <th></th>\n",
       "      <th></th>\n",
       "      <th></th>\n",
       "      <th></th>\n",
       "      <th></th>\n",
       "      <th></th>\n",
       "      <th></th>\n",
       "      <th></th>\n",
       "    </tr>\n",
       "  </thead>\n",
       "  <tbody>\n",
       "    <tr>\n",
       "      <th>221000</th>\n",
       "      <td>65942646</td>\n",
       "      <td>631259</td>\n",
       "      <td>-2.45</td>\n",
       "      <td>221000</td>\n",
       "      <td>-178.645</td>\n",
       "      <td>-18.235</td>\n",
       "      <td>634700.0</td>\n",
       "      <td>134.5445</td>\n",
       "      <td>-19.4320</td>\n",
       "      <td>431.846438</td>\n",
       "      <td>44.182980</td>\n",
       "      <td>BL05</td>\n",
       "      <td>5.145639</td>\n",
       "      <td>1</td>\n",
       "    </tr>\n",
       "    <tr>\n",
       "      <th>60000</th>\n",
       "      <td>65942646</td>\n",
       "      <td>634138</td>\n",
       "      <td>1.30</td>\n",
       "      <td>60000</td>\n",
       "      <td>-178.645</td>\n",
       "      <td>-18.235</td>\n",
       "      <td>634700.0</td>\n",
       "      <td>134.3301</td>\n",
       "      <td>-19.9213</td>\n",
       "      <td>436.719426</td>\n",
       "      <td>44.330221</td>\n",
       "      <td>BL07</td>\n",
       "      <td>4.220760</td>\n",
       "      <td>1</td>\n",
       "    </tr>\n",
       "    <tr>\n",
       "      <th>221000</th>\n",
       "      <td>65942646</td>\n",
       "      <td>634138</td>\n",
       "      <td>1.30</td>\n",
       "      <td>221000</td>\n",
       "      <td>-178.645</td>\n",
       "      <td>-18.235</td>\n",
       "      <td>634700.0</td>\n",
       "      <td>134.3301</td>\n",
       "      <td>-19.9213</td>\n",
       "      <td>436.719426</td>\n",
       "      <td>44.330221</td>\n",
       "      <td>BL07</td>\n",
       "      <td>4.220760</td>\n",
       "      <td>1</td>\n",
       "    </tr>\n",
       "    <tr>\n",
       "      <th>60000</th>\n",
       "      <td>65942646</td>\n",
       "      <td>649975</td>\n",
       "      <td>1.85</td>\n",
       "      <td>60000</td>\n",
       "      <td>-178.645</td>\n",
       "      <td>-18.235</td>\n",
       "      <td>634700.0</td>\n",
       "      <td>133.4806</td>\n",
       "      <td>-22.7386</td>\n",
       "      <td>441.490709</td>\n",
       "      <td>44.886271</td>\n",
       "      <td>BL12</td>\n",
       "      <td>4.723372</td>\n",
       "      <td>1</td>\n",
       "    </tr>\n",
       "    <tr>\n",
       "      <th>221000</th>\n",
       "      <td>65942646</td>\n",
       "      <td>649975</td>\n",
       "      <td>1.85</td>\n",
       "      <td>221000</td>\n",
       "      <td>-178.645</td>\n",
       "      <td>-18.235</td>\n",
       "      <td>634700.0</td>\n",
       "      <td>133.4806</td>\n",
       "      <td>-22.7386</td>\n",
       "      <td>441.490709</td>\n",
       "      <td>44.886271</td>\n",
       "      <td>BL12</td>\n",
       "      <td>4.723372</td>\n",
       "      <td>1</td>\n",
       "    </tr>\n",
       "  </tbody>\n",
       "</table>\n",
       "</div>"
      ],
      "text/plain": [
       "              source_block  station_block  residual  event_number  \\\n",
       "event_number                                                        \n",
       "221000            65942646         631259     -2.45        221000   \n",
       "60000             65942646         634138      1.30         60000   \n",
       "221000            65942646         634138      1.30        221000   \n",
       "60000             65942646         649975      1.85         60000   \n",
       "221000            65942646         649975      1.85        221000   \n",
       "\n",
       "              source_longitude  source_latitude  source_depth  \\\n",
       "event_number                                                    \n",
       "221000                -178.645          -18.235      634700.0   \n",
       "60000                 -178.645          -18.235      634700.0   \n",
       "221000                -178.645          -18.235      634700.0   \n",
       "60000                 -178.645          -18.235      634700.0   \n",
       "221000                -178.645          -18.235      634700.0   \n",
       "\n",
       "              station_longitude  station_latitude  observed_tt  \\\n",
       "event_number                                                     \n",
       "221000                 134.5445          -19.4320   431.846438   \n",
       "60000                  134.3301          -19.9213   436.719426   \n",
       "221000                 134.3301          -19.9213   436.719426   \n",
       "60000                  133.4806          -22.7386   441.490709   \n",
       "221000                 133.4806          -22.7386   441.490709   \n",
       "\n",
       "              locations2degrees station_code       SNR  P_or_S  \n",
       "event_number                                                    \n",
       "221000                44.182980         BL05  5.145639       1  \n",
       "60000                 44.330221         BL07  4.220760       1  \n",
       "221000                44.330221         BL07  4.220760       1  \n",
       "60000                 44.886271         BL12  4.723372       1  \n",
       "221000                44.886271         BL12  4.723372       1  "
      ]
     },
     "execution_count": 44,
     "metadata": {},
     "output_type": "execute_result"
    }
   ],
   "source": [
    "pdf2.tail(n=5)"
   ]
  },
  {
   "cell_type": "code",
   "execution_count": 45,
   "metadata": {},
   "outputs": [
    {
     "data": {
      "text/plain": [
       "source_block          543424\n",
       "station_block         626937\n",
       "residual            -4.59481\n",
       "event_number          171000\n",
       "source_longitude     135.782\n",
       "source_latitude       -4.301\n",
       "source_depth            4900\n",
       "station_longitude    134.046\n",
       "station_latitude    -18.8731\n",
       "observed_tt           205.74\n",
       "locations2degrees    14.6705\n",
       "station_code            BL06\n",
       "SNR                  7.19992\n",
       "P_or_S                     1\n",
       "Name: 171000, dtype: object"
      ]
     },
     "execution_count": 45,
     "metadata": {},
     "output_type": "execute_result"
    }
   ],
   "source": [
    "pdf2.iloc[1]  # now .loc[2] does not work"
   ]
  },
  {
   "cell_type": "code",
   "execution_count": 47,
   "metadata": {},
   "outputs": [],
   "source": [
    "#pdf2.loc[215]"
   ]
  },
  {
   "cell_type": "code",
   "execution_count": null,
   "metadata": {},
   "outputs": [],
   "source": []
  },
  {
   "cell_type": "code",
   "execution_count": null,
   "metadata": {},
   "outputs": [],
   "source": []
  },
  {
   "cell_type": "code",
   "execution_count": null,
   "metadata": {},
   "outputs": [],
   "source": []
  }
 ],
 "metadata": {
  "kernelspec": {
   "display_name": "Python 3",
   "language": "python",
   "name": "python3"
  },
  "language_info": {
   "codemirror_mode": {
    "name": "ipython",
    "version": 3
   },
   "file_extension": ".py",
   "mimetype": "text/x-python",
   "name": "python",
   "nbconvert_exporter": "python",
   "pygments_lexer": "ipython3",
   "version": "3.6.4"
  }
 },
 "nbformat": 4,
 "nbformat_minor": 2
}
