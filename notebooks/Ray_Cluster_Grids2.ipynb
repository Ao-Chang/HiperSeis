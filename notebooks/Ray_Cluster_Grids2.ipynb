{
 "cells": [
  {
   "cell_type": "markdown",
   "metadata": {},
   "source": [
    "# Use Pandas to Sort event arrivals csv files \n",
    "## according to max SNR value\n",
    "\n",
    "##  Fei Zhang\n",
    "### 2018-07-26"
   ]
  },
  {
   "cell_type": "code",
   "execution_count": 1,
   "metadata": {},
   "outputs": [],
   "source": [
    "SOURCE_LATITUDE = 'source_latitude'\n",
    "SOURCE_LONGITUDE = 'source_longitude'\n",
    "STATION_LATITUDE = 'station_latitude'\n",
    "STATION_LONGITUDE = 'station_longitude'\n",
    "STATION_CODE = 'station_code'\n",
    "FREQUENCY = 'no_of_summary_rays'\n",
    "\n",
    "column_names = ['source_block', 'station_block',\n",
    "                'residual', 'event_number',\n",
    "                SOURCE_LONGITUDE, SOURCE_LATITUDE,\n",
    "                'source_depth', STATION_LONGITUDE, STATION_LATITUDE,\n",
    "                'observed_tt', 'station_arrive_time', 'event_origin_time', 'ellipcorr','locations2degrees', STATION_CODE, 'SNR', 'P_or_S']"
   ]
  },
  {
   "cell_type": "code",
   "execution_count": 2,
   "metadata": {},
   "outputs": [
    {
     "name": "stderr",
     "output_type": "stream",
     "text": [
      "/g/data1a/ha3/fxz547/Githubz/passive-seismic/seismic/cluster/cluster.py:22: UserWarning: \n",
      "This call to matplotlib.use() has no effect because the backend has already\n",
      "been chosen; matplotlib.use() must be called *before* pylab, matplotlib.pyplot,\n",
      "or matplotlib.backends is imported for the first time.\n",
      "\n",
      "The backend was *originally* set to 'module://ipykernel.pylab.backend_inline' by the following code:\n",
      "  File \"/g/data1a/ha3/fxz547/miniconda3/lib/python3.6/runpy.py\", line 193, in _run_module_as_main\n",
      "    \"__main__\", mod_spec)\n",
      "  File \"/g/data1a/ha3/fxz547/miniconda3/lib/python3.6/runpy.py\", line 85, in _run_code\n",
      "    exec(code, run_globals)\n",
      "  File \"/g/data1a/ha3/fxz547/miniconda3/lib/python3.6/site-packages/ipykernel_launcher.py\", line 16, in <module>\n",
      "    app.launch_new_instance()\n",
      "  File \"/g/data1a/ha3/fxz547/miniconda3/lib/python3.6/site-packages/traitlets/config/application.py\", line 658, in launch_instance\n",
      "    app.start()\n",
      "  File \"/g/data1a/ha3/fxz547/miniconda3/lib/python3.6/site-packages/ipykernel/kernelapp.py\", line 486, in start\n",
      "    self.io_loop.start()\n",
      "  File \"/g/data1a/ha3/fxz547/miniconda3/lib/python3.6/site-packages/tornado/platform/asyncio.py\", line 127, in start\n",
      "    self.asyncio_loop.run_forever()\n",
      "  File \"/g/data1a/ha3/fxz547/miniconda3/lib/python3.6/asyncio/base_events.py\", line 421, in run_forever\n",
      "    self._run_once()\n",
      "  File \"/g/data1a/ha3/fxz547/miniconda3/lib/python3.6/asyncio/base_events.py\", line 1431, in _run_once\n",
      "    handle._run()\n",
      "  File \"/g/data1a/ha3/fxz547/miniconda3/lib/python3.6/asyncio/events.py\", line 145, in _run\n",
      "    self._callback(*self._args)\n",
      "  File \"/g/data1a/ha3/fxz547/miniconda3/lib/python3.6/site-packages/tornado/ioloop.py\", line 759, in _run_callback\n",
      "    ret = callback()\n",
      "  File \"/g/data1a/ha3/fxz547/miniconda3/lib/python3.6/site-packages/tornado/stack_context.py\", line 276, in null_wrapper\n",
      "    return fn(*args, **kwargs)\n",
      "  File \"/g/data1a/ha3/fxz547/miniconda3/lib/python3.6/site-packages/zmq/eventloop/zmqstream.py\", line 536, in <lambda>\n",
      "    self.io_loop.add_callback(lambda : self._handle_events(self.socket, 0))\n",
      "  File \"/g/data1a/ha3/fxz547/miniconda3/lib/python3.6/site-packages/zmq/eventloop/zmqstream.py\", line 450, in _handle_events\n",
      "    self._handle_recv()\n",
      "  File \"/g/data1a/ha3/fxz547/miniconda3/lib/python3.6/site-packages/zmq/eventloop/zmqstream.py\", line 480, in _handle_recv\n",
      "    self._run_callback(callback, msg)\n",
      "  File \"/g/data1a/ha3/fxz547/miniconda3/lib/python3.6/site-packages/zmq/eventloop/zmqstream.py\", line 432, in _run_callback\n",
      "    callback(*args, **kwargs)\n",
      "  File \"/g/data1a/ha3/fxz547/miniconda3/lib/python3.6/site-packages/tornado/stack_context.py\", line 276, in null_wrapper\n",
      "    return fn(*args, **kwargs)\n",
      "  File \"/g/data1a/ha3/fxz547/miniconda3/lib/python3.6/site-packages/ipykernel/kernelbase.py\", line 283, in dispatcher\n",
      "    return self.dispatch_shell(stream, msg)\n",
      "  File \"/g/data1a/ha3/fxz547/miniconda3/lib/python3.6/site-packages/ipykernel/kernelbase.py\", line 233, in dispatch_shell\n",
      "    handler(stream, idents, msg)\n",
      "  File \"/g/data1a/ha3/fxz547/miniconda3/lib/python3.6/site-packages/ipykernel/kernelbase.py\", line 399, in execute_request\n",
      "    user_expressions, allow_stdin)\n",
      "  File \"/g/data1a/ha3/fxz547/miniconda3/lib/python3.6/site-packages/ipykernel/ipkernel.py\", line 208, in do_execute\n",
      "    res = shell.run_cell(code, store_history=store_history, silent=silent)\n",
      "  File \"/g/data1a/ha3/fxz547/miniconda3/lib/python3.6/site-packages/ipykernel/zmqshell.py\", line 537, in run_cell\n",
      "    return super(ZMQInteractiveShell, self).run_cell(*args, **kwargs)\n",
      "  File \"/g/data1a/ha3/fxz547/miniconda3/lib/python3.6/site-packages/IPython/core/interactiveshell.py\", line 2662, in run_cell\n",
      "    raw_cell, store_history, silent, shell_futures)\n",
      "  File \"/g/data1a/ha3/fxz547/miniconda3/lib/python3.6/site-packages/IPython/core/interactiveshell.py\", line 2785, in _run_cell\n",
      "    interactivity=interactivity, compiler=compiler, result=result)\n",
      "  File \"/g/data1a/ha3/fxz547/miniconda3/lib/python3.6/site-packages/IPython/core/interactiveshell.py\", line 2903, in run_ast_nodes\n",
      "    if self.run_code(code, result):\n",
      "  File \"/g/data1a/ha3/fxz547/miniconda3/lib/python3.6/site-packages/IPython/core/interactiveshell.py\", line 2963, in run_code\n",
      "    exec(code_obj, self.user_global_ns, self.user_ns)\n",
      "  File \"<ipython-input-2-c8751ea22bfe>\", line 2, in <module>\n",
      "    import matplotlib.pyplot as plt\n",
      "  File \"/g/data1a/ha3/fxz547/miniconda3/lib/python3.6/site-packages/matplotlib/pyplot.py\", line 71, in <module>\n",
      "    from matplotlib.backends import pylab_setup\n",
      "  File \"/g/data1a/ha3/fxz547/miniconda3/lib/python3.6/site-packages/matplotlib/backends/__init__.py\", line 16, in <module>\n",
      "    line for line in traceback.format_stack()\n",
      "\n",
      "\n",
      "  matplotlib.use('Agg')\n"
     ]
    }
   ],
   "source": [
    "import pandas as pd\n",
    "import matplotlib.pyplot as plt\n",
    "from seismic.cluster.cluster import Grid2 "
   ]
  },
  {
   "cell_type": "code",
   "execution_count": 3,
   "metadata": {},
   "outputs": [
    {
     "name": "stdout",
     "output_type": "stream",
     "text": [
      "/g/data1a/ha3/fxz547/Githubz/passive-seismic/notebooks\r\n"
     ]
    }
   ],
   "source": [
    "!pwd\n"
   ]
  },
  {
   "cell_type": "code",
   "execution_count": 4,
   "metadata": {},
   "outputs": [],
   "source": [
    "grid=Grid2()\n"
   ]
  },
  {
   "cell_type": "code",
   "execution_count": 5,
   "metadata": {},
   "outputs": [
    {
     "data": {
      "text/plain": [
       "31181761"
      ]
     },
     "execution_count": 5,
     "metadata": {},
     "output_type": "execute_result"
    }
   ],
   "source": [
    "grid.REGION_MAX_BN"
   ]
  },
  {
   "cell_type": "code",
   "execution_count": 6,
   "metadata": {},
   "outputs": [
    {
     "data": {
      "text/plain": [
       "array([      0,   10000,   35000,   70000,  110000,  160000,  210000,\n",
       "        260000,  310000,  360000,  410000,  460000,  510000,  560000,\n",
       "        610000,  660000,  710000,  810000,  910000, 1010000, 1110000,\n",
       "       1250000, 1400000, 1600000])"
      ]
     },
     "execution_count": 6,
     "metadata": {},
     "output_type": "execute_result"
    }
   ],
   "source": [
    "grid.rmeters"
   ]
  },
  {
   "cell_type": "code",
   "execution_count": 7,
   "metadata": {},
   "outputs": [
    {
     "data": {
      "text/plain": [
       "array([      0,  110000,  280000,  410000,  660000,  840000, 1020000,\n",
       "       1250000, 1400000, 1600000, 1850000, 2050000, 2250000, 2450000,\n",
       "       2600000, 2750000, 2889000])"
      ]
     },
     "execution_count": 7,
     "metadata": {},
     "output_type": "execute_result"
    }
   ],
   "source": [
    "grid.gmeters"
   ]
  },
  {
   "cell_type": "code",
   "execution_count": 8,
   "metadata": {},
   "outputs": [
    {
     "data": {
      "text/plain": [
       "True"
      ]
     },
     "execution_count": 8,
     "metadata": {},
     "output_type": "execute_result"
    }
   ],
   "source": [
    "grid.is_point_in_region(-53.2, -171)"
   ]
  },
  {
   "cell_type": "code",
   "execution_count": 9,
   "metadata": {},
   "outputs": [
    {
     "data": {
      "text/plain": [
       "True"
      ]
     },
     "execution_count": 9,
     "metadata": {},
     "output_type": "execute_result"
    }
   ],
   "source": [
    "grid.is_point_in_region(-53.2, -171+360)"
   ]
  },
  {
   "cell_type": "code",
   "execution_count": 10,
   "metadata": {},
   "outputs": [
    {
     "data": {
      "text/plain": [
       "189"
      ]
     },
     "execution_count": 10,
     "metadata": {},
     "output_type": "execute_result"
    }
   ],
   "source": [
    "-171+360"
   ]
  },
  {
   "cell_type": "code",
   "execution_count": 11,
   "metadata": {},
   "outputs": [
    {
     "data": {
      "text/plain": [
       "True"
      ]
     },
     "execution_count": 11,
     "metadata": {},
     "output_type": "execute_result"
    }
   ],
   "source": [
    "grid.is_point_in_region(-0.01, 100)"
   ]
  },
  {
   "cell_type": "code",
   "execution_count": 12,
   "metadata": {},
   "outputs": [
    {
     "name": "stdout",
     "output_type": "stream",
     "text": [
      "361\n"
     ]
    }
   ],
   "source": [
    "print (round(90.0 /0.25) + 1)  # (90/0.25)"
   ]
  },
  {
   "cell_type": "code",
   "execution_count": 13,
   "metadata": {},
   "outputs": [
    {
     "name": "stdout",
     "output_type": "stream",
     "text": [
      "217\n"
     ]
    }
   ],
   "source": [
    "print (round(54.0 /0.25) + 1)  # 54/0.25"
   ]
  },
  {
   "cell_type": "code",
   "execution_count": 14,
   "metadata": {},
   "outputs": [
    {
     "data": {
      "text/plain": [
       "77760"
      ]
     },
     "execution_count": 14,
     "metadata": {},
     "output_type": "execute_result"
    }
   ],
   "source": [
    "360*216"
   ]
  },
  {
   "cell_type": "code",
   "execution_count": 15,
   "metadata": {},
   "outputs": [
    {
     "data": {
      "text/plain": [
       "401.0"
      ]
     },
     "execution_count": 15,
     "metadata": {},
     "output_type": "execute_result"
    }
   ],
   "source": [
    "(31181761-1)/77760"
   ]
  },
  {
   "cell_type": "code",
   "execution_count": null,
   "metadata": {},
   "outputs": [],
   "source": []
  },
  {
   "cell_type": "code",
   "execution_count": null,
   "metadata": {},
   "outputs": [],
   "source": [
    "\n"
   ]
  },
  {
   "cell_type": "code",
   "execution_count": 16,
   "metadata": {},
   "outputs": [
    {
     "name": "stdout",
     "output_type": "stream",
     "text": [
      "401\n"
     ]
    }
   ],
   "source": [
    "k = round(2000000.0 / grid.dz) + 1  # assume 2000KM max depth\n",
    "print(k)"
   ]
  },
  {
   "cell_type": "code",
   "execution_count": null,
   "metadata": {},
   "outputs": [],
   "source": []
  },
  {
   "cell_type": "code",
   "execution_count": null,
   "metadata": {},
   "outputs": [],
   "source": []
  },
  {
   "cell_type": "code",
   "execution_count": 17,
   "metadata": {},
   "outputs": [
    {
     "data": {
      "text/plain": [
       "0.44"
      ]
     },
     "execution_count": 17,
     "metadata": {},
     "output_type": "execute_result"
    }
   ],
   "source": [
    "round(2/4.5,2)"
   ]
  },
  {
   "cell_type": "code",
   "execution_count": null,
   "metadata": {},
   "outputs": [],
   "source": []
  },
  {
   "cell_type": "code",
   "execution_count": null,
   "metadata": {},
   "outputs": [],
   "source": []
  },
  {
   "cell_type": "code",
   "execution_count": null,
   "metadata": {},
   "outputs": [],
   "source": []
  },
  {
   "cell_type": "code",
   "execution_count": null,
   "metadata": {},
   "outputs": [],
   "source": []
  },
  {
   "cell_type": "code",
   "execution_count": null,
   "metadata": {},
   "outputs": [],
   "source": []
  },
  {
   "cell_type": "code",
   "execution_count": 50,
   "metadata": {},
   "outputs": [],
   "source": [
    "\n",
    "# P wave\n",
    "#inputcsv='/g/data/ha3/fxz547/Githubz/passive-seismic/seismic_events_arrivals_P_0.csv'\n",
    "#inputcsv='/g/data/ha3/fxz547/Githubz/passive-seismic/tempworks/outfile_P.csv'\n",
    "inputcsv='/g/data/ha3/fxz547/travel_time_tomography/CSV_NewFormatAug10/FZ01-pst-cluster2/run3/P.csv'\n",
    "residual_cutoff=5.0\n",
    "sortedfile='sortedfile_P.csv'\n",
    "sortedfile2= 'sortedfile2_P.csv'\n",
    "\n",
    "# for S wave\n",
    "#inputcsv='/g/data1a/ha3/fxz547/travel_time_tomography/run5_events_1deg/outfile_S.csv'\n",
    "inputcsv='/g/data/ha3/fxz547/travel_time_tomography/CSV_NewFormatAug10/FZ01-pst-cluster2/run3/S.csv'\n",
    "residual_cutoff=10.0\n",
    "sortedfile='sortedfile_S.csv'\n",
    "sortedfile2= 'sortedfile2_S.csv'"
   ]
  },
  {
   "cell_type": "code",
   "execution_count": null,
   "metadata": {},
   "outputs": [],
   "source": [
    "import logging\n",
    "import sys\n",
    "logging.basicConfig(format='%(asctime)s | %(levelname)s : %(message)s',\n",
    "                     level=logging.DEBUG, stream=sys.stdout)\n",
    "\n",
    "log =logging.getLogger()\n",
    "log.info('Hello world!')\n",
    "\n",
    "# def sort(output_file, sorted_file, residual_cutoff):\n",
    "def sort2(output_file, sorted_file, residual_cutoff):\n",
    "    \"\"\"\n",
    "    Sort and filter the arrivals.\n",
    "\n",
    "    Sort based on the source and station block number.\n",
    "    There are two stages of filtering:\n",
    "    1. Filter based on the time residual\n",
    "    2. Filter based on best Signal_to_Noise-Ratio seismic wave: If there are multiple source and station block combinations, we keep the\n",
    "    row corresponding to the highest SNR value\n",
    "\n",
    "    cmdline usage:\n",
    "    cluster sort outfile_P.csv 5. -s sorted_P.csv\n",
    "    cluster sort outfile_S.csv 10. -s sorted_S.csv\n",
    "\n",
    "\n",
    "    :param output_file: output file from the gather stage (eg, outfile_P.csv)\n",
    "    :param sorted_file: str, optional\n",
    "        optional sorted output file path. Default: sorted.csv.\n",
    "    :param residual_cutoff: float\n",
    "        residual seconds above which arrivals are rejected.\n",
    "    :return: pandas_df\n",
    "    \"\"\"\n",
    "\n",
    "    print('Filtering arrivals.')\n",
    "\n",
    "    cluster_data = pd.read_csv(output_file, header=None,  names=column_names)\n",
    "    ##cluster_data = pd.read_csv(output_file, header=1)\n",
    "    \n",
    "    log.debug(\"Number of records in initial CSV file = %s\", cluster_data.shape[0])\n",
    "    \n",
    "    cluster_data = cluster_data[abs(cluster_data['residual'])\n",
    "                                < residual_cutoff]\n",
    "    \n",
    "    log.debug(\"Number of records after residual cutoff = %s\", cluster_data.shape[0])\n",
    "    \n",
    "    cluster_data['source_depth'] = cluster_data['source_depth'] / 1000.0  # convert to KM?\n",
    "    \n",
    "    # groupby sorts by default\n",
    "    # cluster_data.sort_values(by=['source_block', 'station_block'],\n",
    "    #                          inplace=True)\n",
    "\n",
    "    log.info('Sorting arrivals.')\n",
    "\n",
    "    # groupby automatically sorts\n",
    "#     med = cluster_data.groupby(\n",
    "#         by=['source_block', 'station_block']\n",
    "#         )['observed_tt'].quantile(q=.5, interpolation='lower').reset_index() # use a seq index:0,1,2,....\n",
    "\n",
    "#  SNR value max\n",
    "    med = cluster_data.groupby(\n",
    "        by=['source_block', 'station_block']\n",
    "        )['SNR'].max().reset_index() # use a seq index:0,1,2,.\n",
    "    \n",
    "    # med dataframe has three columns:  [source_block, station_block ,observed_tt]\n",
    "    \n",
    "    final_df = pd.merge(cluster_data, med, how='right',\n",
    "                        on=['source_block', 'station_block', 'SNR'],\n",
    "                        sort=True,\n",
    "                        right_index=True)\n",
    "\n",
    "    # Confirmed: drop_duplicates required due to possibly duplicated picks in\n",
    "    #  the original engdahl events\n",
    "    # refer: https://github.com/GeoscienceAustralia/passive-seismic/issues/51\n",
    "    # The subset is specified as we have some stations that are very close?\n",
    "    \n",
    "    log.debug(\"Number of records before drop_duplicates = %s\", final_df.shape[0])\n",
    "    \n",
    "    final_df.drop_duplicates(subset=['source_block', 'station_block'],\n",
    "                             keep='first',  inplace=True)\n",
    "\n",
    "    final_df.to_csv(sorted_file, header=False, index=False, sep=',')\n",
    "    \n",
    "    log.debug(\"Number of records in final pdf = %s\", final_df.shape[0])\n",
    "    return final_df\n"
   ]
  },
  {
   "cell_type": "code",
   "execution_count": 51,
   "metadata": {},
   "outputs": [
    {
     "name": "stdout",
     "output_type": "stream",
     "text": [
      "Filtering arrivals.\n",
      "2018-08-21 10:01:59,313 | DEBUG : Number of records in initial CSV file = 44542\n",
      "2018-08-21 10:01:59,318 | DEBUG : Number of records after residual cutoff = 39077\n",
      "2018-08-21 10:01:59,381 | INFO : Sorting arrivals.\n",
      "2018-08-21 10:01:59,503 | DEBUG : Number of records before drop_duplicates = 32617\n",
      "2018-08-21 10:02:00,237 | DEBUG : Number of records in final pdf = 32267\n"
     ]
    }
   ],
   "source": [
    "finalpdf = sort2(inputcsv,sortedfile,residual_cutoff)"
   ]
  },
  {
   "cell_type": "code",
   "execution_count": 52,
   "metadata": {},
   "outputs": [
    {
     "data": {
      "text/plain": [
       "(32267, 17)"
      ]
     },
     "execution_count": 52,
     "metadata": {},
     "output_type": "execute_result"
    }
   ],
   "source": [
    "finalpdf.shape"
   ]
  },
  {
   "cell_type": "code",
   "execution_count": 53,
   "metadata": {},
   "outputs": [
    {
     "data": {
      "text/html": [
       "<div>\n",
       "<style scoped>\n",
       "    .dataframe tbody tr th:only-of-type {\n",
       "        vertical-align: middle;\n",
       "    }\n",
       "\n",
       "    .dataframe tbody tr th {\n",
       "        vertical-align: top;\n",
       "    }\n",
       "\n",
       "    .dataframe thead th {\n",
       "        text-align: right;\n",
       "    }\n",
       "</style>\n",
       "<table border=\"1\" class=\"dataframe\">\n",
       "  <thead>\n",
       "    <tr style=\"text-align: right;\">\n",
       "      <th></th>\n",
       "      <th>source_block</th>\n",
       "      <th>station_block</th>\n",
       "      <th>residual</th>\n",
       "      <th>event_number</th>\n",
       "      <th>source_longitude</th>\n",
       "      <th>source_latitude</th>\n",
       "      <th>source_depth</th>\n",
       "      <th>station_longitude</th>\n",
       "      <th>station_latitude</th>\n",
       "      <th>observed_tt</th>\n",
       "      <th>station_arrive_time</th>\n",
       "      <th>event_origin_time</th>\n",
       "      <th>ellipcorr</th>\n",
       "      <th>locations2degrees</th>\n",
       "      <th>station_code</th>\n",
       "      <th>SNR</th>\n",
       "      <th>P_or_S</th>\n",
       "    </tr>\n",
       "  </thead>\n",
       "  <tbody>\n",
       "    <tr>\n",
       "      <th>27315</th>\n",
       "      <td>130849</td>\n",
       "      <td>148486</td>\n",
       "      <td>2.300000</td>\n",
       "      <td>1232063914</td>\n",
       "      <td>131.9911</td>\n",
       "      <td>-0.4827</td>\n",
       "      <td>0.0</td>\n",
       "      <td>131.1327</td>\n",
       "      <td>-12.8436</td>\n",
       "      <td>319.303314</td>\n",
       "      <td>2009-01-16T00:03:54.896683Z</td>\n",
       "      <td>2009-01-15T23:58:34.910000Z</td>\n",
       "      <td>-0.683369</td>\n",
       "      <td>12.390151</td>\n",
       "      <td>MTN</td>\n",
       "      <td>3.171184</td>\n",
       "      <td>2</td>\n",
       "    </tr>\n",
       "    <tr>\n",
       "      <th>26931</th>\n",
       "      <td>130852</td>\n",
       "      <td>148491</td>\n",
       "      <td>-4.650000</td>\n",
       "      <td>1246259593</td>\n",
       "      <td>132.7981</td>\n",
       "      <td>-0.5568</td>\n",
       "      <td>0.0</td>\n",
       "      <td>132.4727</td>\n",
       "      <td>-12.6869</td>\n",
       "      <td>306.108754</td>\n",
       "      <td>2009-06-29T07:18:20.010137Z</td>\n",
       "      <td>2009-06-29T07:13:13.230000Z</td>\n",
       "      <td>-0.671383</td>\n",
       "      <td>12.134389</td>\n",
       "      <td>KDU</td>\n",
       "      <td>1.654873</td>\n",
       "      <td>2</td>\n",
       "    </tr>\n",
       "    <tr>\n",
       "      <th>42750</th>\n",
       "      <td>131214</td>\n",
       "      <td>148491</td>\n",
       "      <td>-5.600000</td>\n",
       "      <td>1295024131</td>\n",
       "      <td>133.1753</td>\n",
       "      <td>-0.6986</td>\n",
       "      <td>0.0</td>\n",
       "      <td>132.4727</td>\n",
       "      <td>-12.6869</td>\n",
       "      <td>302.083978</td>\n",
       "      <td>2011-01-14T17:00:33.944804Z</td>\n",
       "      <td>2011-01-14T16:55:31.195000Z</td>\n",
       "      <td>-0.665826</td>\n",
       "      <td>12.008515</td>\n",
       "      <td>KDU</td>\n",
       "      <td>4.199065</td>\n",
       "      <td>2</td>\n",
       "    </tr>\n",
       "    <tr>\n",
       "      <th>37820</th>\n",
       "      <td>131534</td>\n",
       "      <td>31205455</td>\n",
       "      <td>-1.400000</td>\n",
       "      <td>1426242394</td>\n",
       "      <td>123.2911</td>\n",
       "      <td>-1.0046</td>\n",
       "      <td>0.0</td>\n",
       "      <td>96.8349</td>\n",
       "      <td>-12.1901</td>\n",
       "      <td>644.439879</td>\n",
       "      <td>2015-03-13T10:37:20.309378Z</td>\n",
       "      <td>2015-03-13T10:26:34.690000Z</td>\n",
       "      <td>-1.179499</td>\n",
       "      <td>28.519279</td>\n",
       "      <td>COCO</td>\n",
       "      <td>4.052341</td>\n",
       "      <td>2</td>\n",
       "    </tr>\n",
       "    <tr>\n",
       "      <th>19374</th>\n",
       "      <td>131999</td>\n",
       "      <td>158986</td>\n",
       "      <td>5.978535</td>\n",
       "      <td>846819149</td>\n",
       "      <td>149.5629</td>\n",
       "      <td>-1.3062</td>\n",
       "      <td>0.4</td>\n",
       "      <td>146.2500</td>\n",
       "      <td>-20.0876</td>\n",
       "      <td>491.677017</td>\n",
       "      <td>1996-11-01T03:40:42.271567Z</td>\n",
       "      <td>1996-11-01T03:32:29.610000Z</td>\n",
       "      <td>-0.984550</td>\n",
       "      <td>19.058666</td>\n",
       "      <td>CTA</td>\n",
       "      <td>2.132021</td>\n",
       "      <td>2</td>\n",
       "    </tr>\n",
       "  </tbody>\n",
       "</table>\n",
       "</div>"
      ],
      "text/plain": [
       "       source_block  station_block  residual  event_number  source_longitude  \\\n",
       "27315        130849         148486  2.300000    1232063914          131.9911   \n",
       "26931        130852         148491 -4.650000    1246259593          132.7981   \n",
       "42750        131214         148491 -5.600000    1295024131          133.1753   \n",
       "37820        131534       31205455 -1.400000    1426242394          123.2911   \n",
       "19374        131999         158986  5.978535     846819149          149.5629   \n",
       "\n",
       "       source_latitude  source_depth  station_longitude  station_latitude  \\\n",
       "27315          -0.4827           0.0           131.1327          -12.8436   \n",
       "26931          -0.5568           0.0           132.4727          -12.6869   \n",
       "42750          -0.6986           0.0           132.4727          -12.6869   \n",
       "37820          -1.0046           0.0            96.8349          -12.1901   \n",
       "19374          -1.3062           0.4           146.2500          -20.0876   \n",
       "\n",
       "       observed_tt          station_arrive_time            event_origin_time  \\\n",
       "27315   319.303314  2009-01-16T00:03:54.896683Z  2009-01-15T23:58:34.910000Z   \n",
       "26931   306.108754  2009-06-29T07:18:20.010137Z  2009-06-29T07:13:13.230000Z   \n",
       "42750   302.083978  2011-01-14T17:00:33.944804Z  2011-01-14T16:55:31.195000Z   \n",
       "37820   644.439879  2015-03-13T10:37:20.309378Z  2015-03-13T10:26:34.690000Z   \n",
       "19374   491.677017  1996-11-01T03:40:42.271567Z  1996-11-01T03:32:29.610000Z   \n",
       "\n",
       "       ellipcorr  locations2degrees station_code       SNR  P_or_S  \n",
       "27315  -0.683369          12.390151          MTN  3.171184       2  \n",
       "26931  -0.671383          12.134389          KDU  1.654873       2  \n",
       "42750  -0.665826          12.008515          KDU  4.199065       2  \n",
       "37820  -1.179499          28.519279         COCO  4.052341       2  \n",
       "19374  -0.984550          19.058666          CTA  2.132021       2  "
      ]
     },
     "execution_count": 53,
     "metadata": {},
     "output_type": "execute_result"
    }
   ],
   "source": [
    "finalpdf.head()"
   ]
  },
  {
   "cell_type": "code",
   "execution_count": 54,
   "metadata": {},
   "outputs": [
    {
     "name": "stdout",
     "output_type": "stream",
     "text": [
      "2018-08-21 10:02:00,280 | DEBUG : (0.3262, 101.04) NOT in the region \n"
     ]
    },
    {
     "data": {
      "text/plain": [
       "31202579"
      ]
     },
     "execution_count": 54,
     "metadata": {},
     "output_type": "execute_result"
    }
   ],
   "source": [
    "grid.find_block_number(0.3262,101.04,0)"
   ]
  },
  {
   "cell_type": "code",
   "execution_count": 55,
   "metadata": {},
   "outputs": [
    {
     "name": "stdout",
     "output_type": "stream",
     "text": [
      "2018-08-21 10:02:00,288 | DEBUG : (-0.1757, 100.7719) in the region\n"
     ]
    },
    {
     "data": {
      "text/plain": [
       "130364"
      ]
     },
     "execution_count": 55,
     "metadata": {},
     "output_type": "execute_result"
    }
   ],
   "source": [
    "grid.find_block_number(-0.1757,100.7719,0)"
   ]
  },
  {
   "cell_type": "code",
   "execution_count": null,
   "metadata": {},
   "outputs": [],
   "source": []
  },
  {
   "cell_type": "code",
   "execution_count": 56,
   "metadata": {},
   "outputs": [
    {
     "name": "stdout",
     "output_type": "stream",
     "text": [
      "Filtering arrivals.\n",
      "2018-08-21 10:02:00,434 | DEBUG : Number of records in initial CSV file = 32267\n",
      "2018-08-21 10:02:00,441 | DEBUG : Number of records after residual cutoff = 32267\n",
      "2018-08-21 10:02:00,442 | INFO : Sorting arrivals.\n",
      "2018-08-21 10:02:00,548 | DEBUG : Number of records before drop_duplicates = 32267\n",
      "2018-08-21 10:02:01,263 | DEBUG : Number of records in final pdf = 32267\n"
     ]
    }
   ],
   "source": [
    "#sort again\n",
    "pdf2=sort2(sortedfile, sortedfile2, residual_cutoff )"
   ]
  },
  {
   "cell_type": "code",
   "execution_count": 57,
   "metadata": {},
   "outputs": [
    {
     "data": {
      "text/html": [
       "<div>\n",
       "<style scoped>\n",
       "    .dataframe tbody tr th:only-of-type {\n",
       "        vertical-align: middle;\n",
       "    }\n",
       "\n",
       "    .dataframe tbody tr th {\n",
       "        vertical-align: top;\n",
       "    }\n",
       "\n",
       "    .dataframe thead th {\n",
       "        text-align: right;\n",
       "    }\n",
       "</style>\n",
       "<table border=\"1\" class=\"dataframe\">\n",
       "  <thead>\n",
       "    <tr style=\"text-align: right;\">\n",
       "      <th></th>\n",
       "      <th>source_block</th>\n",
       "      <th>station_block</th>\n",
       "      <th>residual</th>\n",
       "      <th>event_number</th>\n",
       "      <th>source_longitude</th>\n",
       "      <th>source_latitude</th>\n",
       "      <th>source_depth</th>\n",
       "      <th>station_longitude</th>\n",
       "      <th>station_latitude</th>\n",
       "      <th>observed_tt</th>\n",
       "      <th>station_arrive_time</th>\n",
       "      <th>event_origin_time</th>\n",
       "      <th>ellipcorr</th>\n",
       "      <th>locations2degrees</th>\n",
       "      <th>station_code</th>\n",
       "      <th>SNR</th>\n",
       "      <th>P_or_S</th>\n",
       "    </tr>\n",
       "  </thead>\n",
       "  <tbody>\n",
       "    <tr>\n",
       "      <th>0</th>\n",
       "      <td>130849</td>\n",
       "      <td>148486</td>\n",
       "      <td>2.300000</td>\n",
       "      <td>1232063914</td>\n",
       "      <td>131.9911</td>\n",
       "      <td>-0.4827</td>\n",
       "      <td>0.0000</td>\n",
       "      <td>131.1327</td>\n",
       "      <td>-12.8436</td>\n",
       "      <td>319.303314</td>\n",
       "      <td>2009-01-16T00:03:54.896683Z</td>\n",
       "      <td>2009-01-15T23:58:34.910000Z</td>\n",
       "      <td>-0.683369</td>\n",
       "      <td>12.390151</td>\n",
       "      <td>MTN</td>\n",
       "      <td>3.171184</td>\n",
       "      <td>2</td>\n",
       "    </tr>\n",
       "    <tr>\n",
       "      <th>1</th>\n",
       "      <td>130852</td>\n",
       "      <td>148491</td>\n",
       "      <td>-4.650000</td>\n",
       "      <td>1246259593</td>\n",
       "      <td>132.7981</td>\n",
       "      <td>-0.5568</td>\n",
       "      <td>0.0000</td>\n",
       "      <td>132.4727</td>\n",
       "      <td>-12.6869</td>\n",
       "      <td>306.108754</td>\n",
       "      <td>2009-06-29T07:18:20.010137Z</td>\n",
       "      <td>2009-06-29T07:13:13.230000Z</td>\n",
       "      <td>-0.671383</td>\n",
       "      <td>12.134389</td>\n",
       "      <td>KDU</td>\n",
       "      <td>1.654873</td>\n",
       "      <td>2</td>\n",
       "    </tr>\n",
       "    <tr>\n",
       "      <th>2</th>\n",
       "      <td>131214</td>\n",
       "      <td>148491</td>\n",
       "      <td>-5.600000</td>\n",
       "      <td>1295024131</td>\n",
       "      <td>133.1753</td>\n",
       "      <td>-0.6986</td>\n",
       "      <td>0.0000</td>\n",
       "      <td>132.4727</td>\n",
       "      <td>-12.6869</td>\n",
       "      <td>302.083978</td>\n",
       "      <td>2011-01-14T17:00:33.944804Z</td>\n",
       "      <td>2011-01-14T16:55:31.195000Z</td>\n",
       "      <td>-0.665826</td>\n",
       "      <td>12.008515</td>\n",
       "      <td>KDU</td>\n",
       "      <td>4.199065</td>\n",
       "      <td>2</td>\n",
       "    </tr>\n",
       "    <tr>\n",
       "      <th>3</th>\n",
       "      <td>131534</td>\n",
       "      <td>31205455</td>\n",
       "      <td>-1.400000</td>\n",
       "      <td>1426242394</td>\n",
       "      <td>123.2911</td>\n",
       "      <td>-1.0046</td>\n",
       "      <td>0.0000</td>\n",
       "      <td>96.8349</td>\n",
       "      <td>-12.1901</td>\n",
       "      <td>644.439879</td>\n",
       "      <td>2015-03-13T10:37:20.309378Z</td>\n",
       "      <td>2015-03-13T10:26:34.690000Z</td>\n",
       "      <td>-1.179499</td>\n",
       "      <td>28.519279</td>\n",
       "      <td>COCO</td>\n",
       "      <td>4.052341</td>\n",
       "      <td>2</td>\n",
       "    </tr>\n",
       "    <tr>\n",
       "      <th>4</th>\n",
       "      <td>131999</td>\n",
       "      <td>158986</td>\n",
       "      <td>5.978535</td>\n",
       "      <td>846819149</td>\n",
       "      <td>149.5629</td>\n",
       "      <td>-1.3062</td>\n",
       "      <td>0.0004</td>\n",
       "      <td>146.2500</td>\n",
       "      <td>-20.0876</td>\n",
       "      <td>491.677017</td>\n",
       "      <td>1996-11-01T03:40:42.271567Z</td>\n",
       "      <td>1996-11-01T03:32:29.610000Z</td>\n",
       "      <td>-0.984550</td>\n",
       "      <td>19.058666</td>\n",
       "      <td>CTA</td>\n",
       "      <td>2.132021</td>\n",
       "      <td>2</td>\n",
       "    </tr>\n",
       "  </tbody>\n",
       "</table>\n",
       "</div>"
      ],
      "text/plain": [
       "   source_block  station_block  residual  event_number  source_longitude  \\\n",
       "0        130849         148486  2.300000    1232063914          131.9911   \n",
       "1        130852         148491 -4.650000    1246259593          132.7981   \n",
       "2        131214         148491 -5.600000    1295024131          133.1753   \n",
       "3        131534       31205455 -1.400000    1426242394          123.2911   \n",
       "4        131999         158986  5.978535     846819149          149.5629   \n",
       "\n",
       "   source_latitude  source_depth  station_longitude  station_latitude  \\\n",
       "0          -0.4827        0.0000           131.1327          -12.8436   \n",
       "1          -0.5568        0.0000           132.4727          -12.6869   \n",
       "2          -0.6986        0.0000           132.4727          -12.6869   \n",
       "3          -1.0046        0.0000            96.8349          -12.1901   \n",
       "4          -1.3062        0.0004           146.2500          -20.0876   \n",
       "\n",
       "   observed_tt          station_arrive_time            event_origin_time  \\\n",
       "0   319.303314  2009-01-16T00:03:54.896683Z  2009-01-15T23:58:34.910000Z   \n",
       "1   306.108754  2009-06-29T07:18:20.010137Z  2009-06-29T07:13:13.230000Z   \n",
       "2   302.083978  2011-01-14T17:00:33.944804Z  2011-01-14T16:55:31.195000Z   \n",
       "3   644.439879  2015-03-13T10:37:20.309378Z  2015-03-13T10:26:34.690000Z   \n",
       "4   491.677017  1996-11-01T03:40:42.271567Z  1996-11-01T03:32:29.610000Z   \n",
       "\n",
       "   ellipcorr  locations2degrees station_code       SNR  P_or_S  \n",
       "0  -0.683369          12.390151          MTN  3.171184       2  \n",
       "1  -0.671383          12.134389          KDU  1.654873       2  \n",
       "2  -0.665826          12.008515          KDU  4.199065       2  \n",
       "3  -1.179499          28.519279         COCO  4.052341       2  \n",
       "4  -0.984550          19.058666          CTA  2.132021       2  "
      ]
     },
     "execution_count": 57,
     "metadata": {},
     "output_type": "execute_result"
    }
   ],
   "source": [
    "pdf2.head()"
   ]
  },
  {
   "cell_type": "code",
   "execution_count": 58,
   "metadata": {},
   "outputs": [
    {
     "data": {
      "text/plain": [
       "(32267, 17)"
      ]
     },
     "execution_count": 58,
     "metadata": {},
     "output_type": "execute_result"
    }
   ],
   "source": [
    "pdf2.shape"
   ]
  },
  {
   "cell_type": "code",
   "execution_count": 59,
   "metadata": {},
   "outputs": [
    {
     "data": {
      "text/plain": [
       "<matplotlib.axes._subplots.AxesSubplot at 0x7fe5ad1e4550>"
      ]
     },
     "execution_count": 59,
     "metadata": {},
     "output_type": "execute_result"
    },
    {
     "data": {
      "text/plain": [
       "<Figure size 432x288 with 0 Axes>"
      ]
     },
     "metadata": {},
     "output_type": "display_data"
    },
    {
     "data": {
      "image/png": "[encoded data removed]",
      "text/plain": [
       "<Figure size 432x288 with 1 Axes>"
      ]
     },
     "metadata": {},
     "output_type": "display_data"
    }
   ],
   "source": [
    "plt.figure(); pdf2.plot(x='event_number', y='observed_tt')\n",
    "# plt.figure(); pdf2.plot(x='event_number', y='source_depth')\n",
    "# plt.figure(); pdf2.plot(x='event_number', y='locations2degrees')\n",
    "# plt.figure(); pdf2.plot(x='event_number', y='residual')  # less than +-10s\n",
    "\n"
   ]
  },
  {
   "cell_type": "code",
   "execution_count": 60,
   "metadata": {},
   "outputs": [
    {
     "data": {
      "text/plain": [
       "<matplotlib.axes._subplots.AxesSubplot at 0x7fe5b4974390>"
      ]
     },
     "execution_count": 60,
     "metadata": {},
     "output_type": "execute_result"
    },
    {
     "data": {
      "text/plain": [
       "<Figure size 432x288 with 0 Axes>"
      ]
     },
     "metadata": {},
     "output_type": "display_data"
    },
    {
     "data": {
      "image/png": "[encoded data removed]",
      "text/plain": [
       "<Figure size 432x288 with 1 Axes>"
      ]
     },
     "metadata": {},
     "output_type": "display_data"
    }
   ],
   "source": [
    "plt.figure(); pdf2.plot.scatter(x='source_block', y='station_block')"
   ]
  },
  {
   "cell_type": "code",
   "execution_count": 61,
   "metadata": {},
   "outputs": [
    {
     "data": {
      "text/plain": [
       "<matplotlib.axes._subplots.AxesSubplot at 0x7fe5b4916748>"
      ]
     },
     "execution_count": 61,
     "metadata": {},
     "output_type": "execute_result"
    },
    {
     "data": {
      "text/plain": [
       "<Figure size 432x288 with 0 Axes>"
      ]
     },
     "metadata": {},
     "output_type": "display_data"
    },
    {
     "data": {
      "image/png": "[encoded data removed]",
      "text/plain": [
       "<Figure size 432x288 with 1 Axes>"
      ]
     },
     "metadata": {},
     "output_type": "display_data"
    }
   ],
   "source": [
    "plt.figure(); pdf2.plot.scatter(x='source_longitude', y='source_latitude')"
   ]
  },
  {
   "cell_type": "code",
   "execution_count": 62,
   "metadata": {},
   "outputs": [
    {
     "data": {
      "text/plain": [
       "<matplotlib.axes._subplots.AxesSubplot at 0x7fe5b4883550>"
      ]
     },
     "execution_count": 62,
     "metadata": {},
     "output_type": "execute_result"
    },
    {
     "data": {
      "text/plain": [
       "<Figure size 432x288 with 0 Axes>"
      ]
     },
     "metadata": {},
     "output_type": "display_data"
    },
    {
     "data": {
      "image/png": "[encoded data removed]",
      "text/plain": [
       "<Figure size 432x288 with 1 Axes>"
      ]
     },
     "metadata": {},
     "output_type": "display_data"
    }
   ],
   "source": [
    "plt.figure(); pdf2.plot.scatter(x='station_longitude', y='station_latitude')"
   ]
  },
  {
   "cell_type": "code",
   "execution_count": 63,
   "metadata": {},
   "outputs": [
    {
     "data": {
      "text/plain": [
       "<matplotlib.axes._subplots.AxesSubplot at 0x7fe5b49061d0>"
      ]
     },
     "execution_count": 63,
     "metadata": {},
     "output_type": "execute_result"
    },
    {
     "data": {
      "text/plain": [
       "<Figure size 432x288 with 0 Axes>"
      ]
     },
     "metadata": {},
     "output_type": "display_data"
    },
    {
     "data": {
      "image/png": "[encoded data removed]",
      "text/plain": [
       "<Figure size 432x288 with 1 Axes>"
      ]
     },
     "metadata": {},
     "output_type": "display_data"
    }
   ],
   "source": [
    "plt.figure(); pdf2.plot.scatter(x='locations2degrees', y='observed_tt')"
   ]
  },
  {
   "cell_type": "code",
   "execution_count": 64,
   "metadata": {},
   "outputs": [
    {
     "data": {
      "text/plain": [
       "<matplotlib.axes._subplots.AxesSubplot at 0x7fe5b4839c50>"
      ]
     },
     "execution_count": 64,
     "metadata": {},
     "output_type": "execute_result"
    },
    {
     "data": {
      "text/plain": [
       "<Figure size 432x288 with 0 Axes>"
      ]
     },
     "metadata": {},
     "output_type": "display_data"
    },
    {
     "data": {
      "image/png": "[encoded data removed]",
      "text/plain": [
       "<Figure size 432x288 with 1 Axes>"
      ]
     },
     "metadata": {},
     "output_type": "display_data"
    }
   ],
   "source": [
    "plt.figure(); pdf2.plot.scatter(x='locations2degrees', y='SNR')"
   ]
  },
  {
   "cell_type": "code",
   "execution_count": 65,
   "metadata": {},
   "outputs": [],
   "source": [
    " med = pdf2.groupby(by=['source_block', 'station_block'])[\n",
    "        'observed_tt'].quantile(q=.5, interpolation='lower').reset_index()"
   ]
  },
  {
   "cell_type": "code",
   "execution_count": 66,
   "metadata": {},
   "outputs": [
    {
     "data": {
      "text/html": [
       "<div>\n",
       "<style scoped>\n",
       "    .dataframe tbody tr th:only-of-type {\n",
       "        vertical-align: middle;\n",
       "    }\n",
       "\n",
       "    .dataframe tbody tr th {\n",
       "        vertical-align: top;\n",
       "    }\n",
       "\n",
       "    .dataframe thead th {\n",
       "        text-align: right;\n",
       "    }\n",
       "</style>\n",
       "<table border=\"1\" class=\"dataframe\">\n",
       "  <thead>\n",
       "    <tr style=\"text-align: right;\">\n",
       "      <th></th>\n",
       "      <th>source_block</th>\n",
       "      <th>station_block</th>\n",
       "      <th>observed_tt</th>\n",
       "    </tr>\n",
       "  </thead>\n",
       "  <tbody>\n",
       "    <tr>\n",
       "      <th>0</th>\n",
       "      <td>130849</td>\n",
       "      <td>148486</td>\n",
       "      <td>319.303314</td>\n",
       "    </tr>\n",
       "    <tr>\n",
       "      <th>1</th>\n",
       "      <td>130852</td>\n",
       "      <td>148491</td>\n",
       "      <td>306.108754</td>\n",
       "    </tr>\n",
       "    <tr>\n",
       "      <th>2</th>\n",
       "      <td>131214</td>\n",
       "      <td>148491</td>\n",
       "      <td>302.083978</td>\n",
       "    </tr>\n",
       "    <tr>\n",
       "      <th>3</th>\n",
       "      <td>131534</td>\n",
       "      <td>31205455</td>\n",
       "      <td>644.439879</td>\n",
       "    </tr>\n",
       "    <tr>\n",
       "      <th>4</th>\n",
       "      <td>131999</td>\n",
       "      <td>158986</td>\n",
       "      <td>491.677017</td>\n",
       "    </tr>\n",
       "  </tbody>\n",
       "</table>\n",
       "</div>"
      ],
      "text/plain": [
       "   source_block  station_block  observed_tt\n",
       "0        130849         148486   319.303314\n",
       "1        130852         148491   306.108754\n",
       "2        131214         148491   302.083978\n",
       "3        131534       31205455   644.439879\n",
       "4        131999         158986   491.677017"
      ]
     },
     "execution_count": 66,
     "metadata": {},
     "output_type": "execute_result"
    }
   ],
   "source": [
    "med.head()"
   ]
  },
  {
   "cell_type": "code",
   "execution_count": 67,
   "metadata": {},
   "outputs": [
    {
     "data": {
      "text/plain": [
       "(32267, 3)"
      ]
     },
     "execution_count": 67,
     "metadata": {},
     "output_type": "execute_result"
    }
   ],
   "source": [
    "med.shape"
   ]
  },
  {
   "cell_type": "code",
   "execution_count": 68,
   "metadata": {},
   "outputs": [],
   "source": [
    "med2 = pdf2.groupby(\n",
    "        by=['source_block', 'station_block'] )['SNR'].max().reset_index() # use a seq index:0,1,2,."
   ]
  },
  {
   "cell_type": "code",
   "execution_count": 69,
   "metadata": {},
   "outputs": [
    {
     "data": {
      "text/html": [
       "<div>\n",
       "<style scoped>\n",
       "    .dataframe tbody tr th:only-of-type {\n",
       "        vertical-align: middle;\n",
       "    }\n",
       "\n",
       "    .dataframe tbody tr th {\n",
       "        vertical-align: top;\n",
       "    }\n",
       "\n",
       "    .dataframe thead th {\n",
       "        text-align: right;\n",
       "    }\n",
       "</style>\n",
       "<table border=\"1\" class=\"dataframe\">\n",
       "  <thead>\n",
       "    <tr style=\"text-align: right;\">\n",
       "      <th></th>\n",
       "      <th>source_block</th>\n",
       "      <th>station_block</th>\n",
       "      <th>SNR</th>\n",
       "    </tr>\n",
       "  </thead>\n",
       "  <tbody>\n",
       "    <tr>\n",
       "      <th>0</th>\n",
       "      <td>130849</td>\n",
       "      <td>148486</td>\n",
       "      <td>3.171184</td>\n",
       "    </tr>\n",
       "    <tr>\n",
       "      <th>1</th>\n",
       "      <td>130852</td>\n",
       "      <td>148491</td>\n",
       "      <td>1.654873</td>\n",
       "    </tr>\n",
       "    <tr>\n",
       "      <th>2</th>\n",
       "      <td>131214</td>\n",
       "      <td>148491</td>\n",
       "      <td>4.199065</td>\n",
       "    </tr>\n",
       "    <tr>\n",
       "      <th>3</th>\n",
       "      <td>131534</td>\n",
       "      <td>31205455</td>\n",
       "      <td>4.052341</td>\n",
       "    </tr>\n",
       "    <tr>\n",
       "      <th>4</th>\n",
       "      <td>131999</td>\n",
       "      <td>158986</td>\n",
       "      <td>2.132021</td>\n",
       "    </tr>\n",
       "  </tbody>\n",
       "</table>\n",
       "</div>"
      ],
      "text/plain": [
       "   source_block  station_block       SNR\n",
       "0        130849         148486  3.171184\n",
       "1        130852         148491  1.654873\n",
       "2        131214         148491  4.199065\n",
       "3        131534       31205455  4.052341\n",
       "4        131999         158986  2.132021"
      ]
     },
     "execution_count": 69,
     "metadata": {},
     "output_type": "execute_result"
    }
   ],
   "source": [
    "med2.head()"
   ]
  },
  {
   "cell_type": "code",
   "execution_count": 70,
   "metadata": {},
   "outputs": [
    {
     "data": {
      "text/plain": [
       "(32267, 3)"
      ]
     },
     "execution_count": 70,
     "metadata": {},
     "output_type": "execute_result"
    }
   ],
   "source": [
    "med2.shape"
   ]
  },
  {
   "cell_type": "code",
   "execution_count": 71,
   "metadata": {},
   "outputs": [
    {
     "data": {
      "text/plain": [
       "source_block                                131214\n",
       "station_block                               148491\n",
       "residual                                      -5.6\n",
       "event_number                            1295024131\n",
       "source_longitude                           133.175\n",
       "source_latitude                            -0.6986\n",
       "source_depth                                     0\n",
       "station_longitude                          132.473\n",
       "station_latitude                          -12.6869\n",
       "observed_tt                                302.084\n",
       "station_arrive_time    2011-01-14T17:00:33.944804Z\n",
       "event_origin_time      2011-01-14T16:55:31.195000Z\n",
       "ellipcorr                                -0.665826\n",
       "locations2degrees                          12.0085\n",
       "station_code                                   KDU\n",
       "SNR                                        4.19906\n",
       "P_or_S                                           2\n",
       "Name: 2, dtype: object"
      ]
     },
     "execution_count": 71,
     "metadata": {},
     "output_type": "execute_result"
    }
   ],
   "source": [
    "pdf2.loc[2]"
   ]
  },
  {
   "cell_type": "code",
   "execution_count": 72,
   "metadata": {},
   "outputs": [
    {
     "data": {
      "text/plain": [
       "source_block                                130852\n",
       "station_block                               148491\n",
       "residual                                     -4.65\n",
       "event_number                            1246259593\n",
       "source_longitude                           132.798\n",
       "source_latitude                            -0.5568\n",
       "source_depth                                     0\n",
       "station_longitude                          132.473\n",
       "station_latitude                          -12.6869\n",
       "observed_tt                                306.109\n",
       "station_arrive_time    2009-06-29T07:18:20.010137Z\n",
       "event_origin_time      2009-06-29T07:13:13.230000Z\n",
       "ellipcorr                                -0.671383\n",
       "locations2degrees                          12.1344\n",
       "station_code                                   KDU\n",
       "SNR                                        1.65487\n",
       "P_or_S                                           2\n",
       "Name: 1, dtype: object"
      ]
     },
     "execution_count": 72,
     "metadata": {},
     "output_type": "execute_result"
    }
   ],
   "source": [
    "pdf2.iloc[1]"
   ]
  },
  {
   "cell_type": "code",
   "execution_count": 73,
   "metadata": {},
   "outputs": [
    {
     "data": {
      "text/html": [
       "<div>\n",
       "<style scoped>\n",
       "    .dataframe tbody tr th:only-of-type {\n",
       "        vertical-align: middle;\n",
       "    }\n",
       "\n",
       "    .dataframe tbody tr th {\n",
       "        vertical-align: top;\n",
       "    }\n",
       "\n",
       "    .dataframe thead th {\n",
       "        text-align: right;\n",
       "    }\n",
       "</style>\n",
       "<table border=\"1\" class=\"dataframe\">\n",
       "  <thead>\n",
       "    <tr style=\"text-align: right;\">\n",
       "      <th></th>\n",
       "      <th>source_block</th>\n",
       "      <th>station_block</th>\n",
       "      <th>residual</th>\n",
       "      <th>event_number</th>\n",
       "      <th>source_longitude</th>\n",
       "      <th>source_latitude</th>\n",
       "      <th>source_depth</th>\n",
       "      <th>station_longitude</th>\n",
       "      <th>station_latitude</th>\n",
       "      <th>observed_tt</th>\n",
       "      <th>ellipcorr</th>\n",
       "      <th>locations2degrees</th>\n",
       "      <th>SNR</th>\n",
       "      <th>P_or_S</th>\n",
       "    </tr>\n",
       "  </thead>\n",
       "  <tbody>\n",
       "    <tr>\n",
       "      <th>count</th>\n",
       "      <td>3.226700e+04</td>\n",
       "      <td>3.226700e+04</td>\n",
       "      <td>32267.000000</td>\n",
       "      <td>3.226700e+04</td>\n",
       "      <td>32267.000000</td>\n",
       "      <td>32267.000000</td>\n",
       "      <td>32267.000000</td>\n",
       "      <td>32267.000000</td>\n",
       "      <td>32267.000000</td>\n",
       "      <td>32267.000000</td>\n",
       "      <td>32267.000000</td>\n",
       "      <td>32267.000000</td>\n",
       "      <td>32267.000000</td>\n",
       "      <td>32267.0</td>\n",
       "    </tr>\n",
       "    <tr>\n",
       "      <th>mean</th>\n",
       "      <td>1.106498e+07</td>\n",
       "      <td>3.757193e+06</td>\n",
       "      <td>0.688082</td>\n",
       "      <td>1.322701e+09</td>\n",
       "      <td>98.077423</td>\n",
       "      <td>-3.160349</td>\n",
       "      <td>0.158156</td>\n",
       "      <td>131.608327</td>\n",
       "      <td>-17.414775</td>\n",
       "      <td>675.343709</td>\n",
       "      <td>-0.693454</td>\n",
       "      <td>34.156261</td>\n",
       "      <td>3.746247</td>\n",
       "      <td>2.0</td>\n",
       "    </tr>\n",
       "    <tr>\n",
       "      <th>std</th>\n",
       "      <td>1.327823e+07</td>\n",
       "      <td>9.937413e+06</td>\n",
       "      <td>4.074176</td>\n",
       "      <td>9.584563e+07</td>\n",
       "      <td>108.591285</td>\n",
       "      <td>20.063262</td>\n",
       "      <td>0.188440</td>\n",
       "      <td>15.034712</td>\n",
       "      <td>12.100339</td>\n",
       "      <td>322.625837</td>\n",
       "      <td>0.403331</td>\n",
       "      <td>20.420453</td>\n",
       "      <td>2.967938</td>\n",
       "      <td>0.0</td>\n",
       "    </tr>\n",
       "    <tr>\n",
       "      <th>min</th>\n",
       "      <td>1.308490e+05</td>\n",
       "      <td>1.315090e+05</td>\n",
       "      <td>-9.999674</td>\n",
       "      <td>7.889878e+08</td>\n",
       "      <td>-179.996200</td>\n",
       "      <td>-65.693000</td>\n",
       "      <td>0.000000</td>\n",
       "      <td>96.834900</td>\n",
       "      <td>-54.498600</td>\n",
       "      <td>20.267607</td>\n",
       "      <td>-1.336219</td>\n",
       "      <td>0.068615</td>\n",
       "      <td>1.500009</td>\n",
       "      <td>2.0</td>\n",
       "    </tr>\n",
       "    <tr>\n",
       "      <th>25%</th>\n",
       "      <td>8.397530e+05</td>\n",
       "      <td>1.503340e+05</td>\n",
       "      <td>-1.950000</td>\n",
       "      <td>1.275336e+09</td>\n",
       "      <td>118.856050</td>\n",
       "      <td>-14.656700</td>\n",
       "      <td>0.031134</td>\n",
       "      <td>122.237602</td>\n",
       "      <td>-26.489000</td>\n",
       "      <td>489.939182</td>\n",
       "      <td>-1.034990</td>\n",
       "      <td>20.049792</td>\n",
       "      <td>2.382607</td>\n",
       "      <td>2.0</td>\n",
       "    </tr>\n",
       "    <tr>\n",
       "      <th>50%</th>\n",
       "      <td>2.873470e+06</td>\n",
       "      <td>1.614000e+05</td>\n",
       "      <td>0.450000</td>\n",
       "      <td>1.338925e+09</td>\n",
       "      <td>132.519900</td>\n",
       "      <td>-6.359200</td>\n",
       "      <td>0.064861</td>\n",
       "      <td>133.111100</td>\n",
       "      <td>-19.942753</td>\n",
       "      <td>666.845196</td>\n",
       "      <td>-0.805774</td>\n",
       "      <td>31.899990</td>\n",
       "      <td>3.142472</td>\n",
       "      <td>2.0</td>\n",
       "    </tr>\n",
       "    <tr>\n",
       "      <th>75%</th>\n",
       "      <td>3.123573e+07</td>\n",
       "      <td>1.750890e+05</td>\n",
       "      <td>3.450000</td>\n",
       "      <td>1.391762e+09</td>\n",
       "      <td>154.213400</td>\n",
       "      <td>1.722000</td>\n",
       "      <td>0.198402</td>\n",
       "      <td>143.174900</td>\n",
       "      <td>-8.470200</td>\n",
       "      <td>896.525450</td>\n",
       "      <td>-0.374668</td>\n",
       "      <td>47.156539</td>\n",
       "      <td>4.336026</td>\n",
       "      <td>2.0</td>\n",
       "    </tr>\n",
       "    <tr>\n",
       "      <th>max</th>\n",
       "      <td>3.260632e+07</td>\n",
       "      <td>3.121530e+07</td>\n",
       "      <td>10.000000</td>\n",
       "      <td>1.450741e+09</td>\n",
       "      <td>179.994500</td>\n",
       "      <td>77.398500</td>\n",
       "      <td>0.692061</td>\n",
       "      <td>174.704300</td>\n",
       "      <td>19.029100</td>\n",
       "      <td>1437.094900</td>\n",
       "      <td>0.968138</td>\n",
       "      <td>89.977257</td>\n",
       "      <td>235.808165</td>\n",
       "      <td>2.0</td>\n",
       "    </tr>\n",
       "  </tbody>\n",
       "</table>\n",
       "</div>"
      ],
      "text/plain": [
       "       source_block  station_block      residual  event_number  \\\n",
       "count  3.226700e+04   3.226700e+04  32267.000000  3.226700e+04   \n",
       "mean   1.106498e+07   3.757193e+06      0.688082  1.322701e+09   \n",
       "std    1.327823e+07   9.937413e+06      4.074176  9.584563e+07   \n",
       "min    1.308490e+05   1.315090e+05     -9.999674  7.889878e+08   \n",
       "25%    8.397530e+05   1.503340e+05     -1.950000  1.275336e+09   \n",
       "50%    2.873470e+06   1.614000e+05      0.450000  1.338925e+09   \n",
       "75%    3.123573e+07   1.750890e+05      3.450000  1.391762e+09   \n",
       "max    3.260632e+07   3.121530e+07     10.000000  1.450741e+09   \n",
       "\n",
       "       source_longitude  source_latitude  source_depth  station_longitude  \\\n",
       "count      32267.000000     32267.000000  32267.000000       32267.000000   \n",
       "mean          98.077423        -3.160349      0.158156         131.608327   \n",
       "std          108.591285        20.063262      0.188440          15.034712   \n",
       "min         -179.996200       -65.693000      0.000000          96.834900   \n",
       "25%          118.856050       -14.656700      0.031134         122.237602   \n",
       "50%          132.519900        -6.359200      0.064861         133.111100   \n",
       "75%          154.213400         1.722000      0.198402         143.174900   \n",
       "max          179.994500        77.398500      0.692061         174.704300   \n",
       "\n",
       "       station_latitude   observed_tt     ellipcorr  locations2degrees  \\\n",
       "count      32267.000000  32267.000000  32267.000000       32267.000000   \n",
       "mean         -17.414775    675.343709     -0.693454          34.156261   \n",
       "std           12.100339    322.625837      0.403331          20.420453   \n",
       "min          -54.498600     20.267607     -1.336219           0.068615   \n",
       "25%          -26.489000    489.939182     -1.034990          20.049792   \n",
       "50%          -19.942753    666.845196     -0.805774          31.899990   \n",
       "75%           -8.470200    896.525450     -0.374668          47.156539   \n",
       "max           19.029100   1437.094900      0.968138          89.977257   \n",
       "\n",
       "                SNR   P_or_S  \n",
       "count  32267.000000  32267.0  \n",
       "mean       3.746247      2.0  \n",
       "std        2.967938      0.0  \n",
       "min        1.500009      2.0  \n",
       "25%        2.382607      2.0  \n",
       "50%        3.142472      2.0  \n",
       "75%        4.336026      2.0  \n",
       "max      235.808165      2.0  "
      ]
     },
     "execution_count": 73,
     "metadata": {},
     "output_type": "execute_result"
    }
   ],
   "source": [
    "pdf2.describe()"
   ]
  },
  {
   "cell_type": "code",
   "execution_count": 74,
   "metadata": {},
   "outputs": [
    {
     "data": {
      "text/plain": [
       "Int64Index([    0,     1,     2,     3,     4,     5,     6,     7,     8,\n",
       "                9,\n",
       "            ...\n",
       "            32257, 32258, 32259, 32260, 32261, 32262, 32263, 32264, 32265,\n",
       "            32266],\n",
       "           dtype='int64', length=32267)"
      ]
     },
     "execution_count": 74,
     "metadata": {},
     "output_type": "execute_result"
    }
   ],
   "source": [
    "pdf2.index"
   ]
  },
  {
   "cell_type": "code",
   "execution_count": 75,
   "metadata": {},
   "outputs": [],
   "source": [
    "pdf2.index=pdf2.event_number"
   ]
  },
  {
   "cell_type": "code",
   "execution_count": 76,
   "metadata": {},
   "outputs": [
    {
     "data": {
      "text/plain": [
       "Int64Index([1232063914, 1246259593, 1295024131, 1426242394,  846819149,\n",
       "            1317320470, 1370006517, 1375911843, 1378218601, 1343002924,\n",
       "            ...\n",
       "            1432984982, 1432984982, 1432984982, 1432984982, 1432984982,\n",
       "            1432984982, 1432984982, 1432984982, 1432984982, 1432984982],\n",
       "           dtype='int64', name='event_number', length=32267)"
      ]
     },
     "execution_count": 76,
     "metadata": {},
     "output_type": "execute_result"
    }
   ],
   "source": [
    "pdf2.index"
   ]
  },
  {
   "cell_type": "code",
   "execution_count": 77,
   "metadata": {},
   "outputs": [
    {
     "data": {
      "text/html": [
       "<div>\n",
       "<style scoped>\n",
       "    .dataframe tbody tr th:only-of-type {\n",
       "        vertical-align: middle;\n",
       "    }\n",
       "\n",
       "    .dataframe tbody tr th {\n",
       "        vertical-align: top;\n",
       "    }\n",
       "\n",
       "    .dataframe thead th {\n",
       "        text-align: right;\n",
       "    }\n",
       "</style>\n",
       "<table border=\"1\" class=\"dataframe\">\n",
       "  <thead>\n",
       "    <tr style=\"text-align: right;\">\n",
       "      <th></th>\n",
       "      <th>source_block</th>\n",
       "      <th>station_block</th>\n",
       "      <th>residual</th>\n",
       "      <th>event_number</th>\n",
       "      <th>source_longitude</th>\n",
       "      <th>source_latitude</th>\n",
       "      <th>source_depth</th>\n",
       "      <th>station_longitude</th>\n",
       "      <th>station_latitude</th>\n",
       "      <th>observed_tt</th>\n",
       "      <th>station_arrive_time</th>\n",
       "      <th>event_origin_time</th>\n",
       "      <th>ellipcorr</th>\n",
       "      <th>locations2degrees</th>\n",
       "      <th>station_code</th>\n",
       "      <th>SNR</th>\n",
       "      <th>P_or_S</th>\n",
       "    </tr>\n",
       "    <tr>\n",
       "      <th>event_number</th>\n",
       "      <th></th>\n",
       "      <th></th>\n",
       "      <th></th>\n",
       "      <th></th>\n",
       "      <th></th>\n",
       "      <th></th>\n",
       "      <th></th>\n",
       "      <th></th>\n",
       "      <th></th>\n",
       "      <th></th>\n",
       "      <th></th>\n",
       "      <th></th>\n",
       "      <th></th>\n",
       "      <th></th>\n",
       "      <th></th>\n",
       "      <th></th>\n",
       "      <th></th>\n",
       "    </tr>\n",
       "  </thead>\n",
       "  <tbody>\n",
       "    <tr>\n",
       "      <th>1432984982</th>\n",
       "      <td>32606322</td>\n",
       "      <td>31202001</td>\n",
       "      <td>2.90</td>\n",
       "      <td>1432984982</td>\n",
       "      <td>140.4939</td>\n",
       "      <td>27.8281</td>\n",
       "      <td>0.685455</td>\n",
       "      <td>98.923700</td>\n",
       "      <td>2.6938</td>\n",
       "      <td>819.746399</td>\n",
       "      <td>2015-05-30T11:36:42.687217Z</td>\n",
       "      <td>2015-05-30T11:23:02.850000Z</td>\n",
       "      <td>-0.090818</td>\n",
       "      <td>46.934750</td>\n",
       "      <td>PSI</td>\n",
       "      <td>8.959045</td>\n",
       "      <td>2</td>\n",
       "    </tr>\n",
       "    <tr>\n",
       "      <th>1432984982</th>\n",
       "      <td>32606322</td>\n",
       "      <td>31202288</td>\n",
       "      <td>1.25</td>\n",
       "      <td>1432984982</td>\n",
       "      <td>140.4939</td>\n",
       "      <td>27.8281</td>\n",
       "      <td>0.685455</td>\n",
       "      <td>97.575500</td>\n",
       "      <td>1.3039</td>\n",
       "      <td>844.099789</td>\n",
       "      <td>2015-05-30T11:37:07.016591Z</td>\n",
       "      <td>2015-05-30T11:23:02.850000Z</td>\n",
       "      <td>-0.066802</td>\n",
       "      <td>48.845823</td>\n",
       "      <td>GSI</td>\n",
       "      <td>2.992600</td>\n",
       "      <td>2</td>\n",
       "    </tr>\n",
       "    <tr>\n",
       "      <th>1432984982</th>\n",
       "      <td>32606322</td>\n",
       "      <td>31202312</td>\n",
       "      <td>-1.10</td>\n",
       "      <td>1432984982</td>\n",
       "      <td>140.4939</td>\n",
       "      <td>27.8281</td>\n",
       "      <td>0.685455</td>\n",
       "      <td>127.366699</td>\n",
       "      <td>0.7718</td>\n",
       "      <td>568.003507</td>\n",
       "      <td>2015-05-30T11:32:30.885531Z</td>\n",
       "      <td>2015-05-30T11:23:02.850000Z</td>\n",
       "      <td>-0.032025</td>\n",
       "      <td>29.836069</td>\n",
       "      <td>TNTI</td>\n",
       "      <td>6.134965</td>\n",
       "      <td>2</td>\n",
       "    </tr>\n",
       "    <tr>\n",
       "      <th>1432984982</th>\n",
       "      <td>32606322</td>\n",
       "      <td>31202579</td>\n",
       "      <td>3.40</td>\n",
       "      <td>1432984982</td>\n",
       "      <td>140.4939</td>\n",
       "      <td>27.8281</td>\n",
       "      <td>0.685455</td>\n",
       "      <td>101.039597</td>\n",
       "      <td>0.3262</td>\n",
       "      <td>817.421657</td>\n",
       "      <td>2015-05-30T11:36:40.332916Z</td>\n",
       "      <td>2015-05-30T11:23:02.850000Z</td>\n",
       "      <td>-0.061259</td>\n",
       "      <td>46.726402</td>\n",
       "      <td>BKNI</td>\n",
       "      <td>3.142516</td>\n",
       "      <td>2</td>\n",
       "    </tr>\n",
       "    <tr>\n",
       "      <th>1432984982</th>\n",
       "      <td>32606322</td>\n",
       "      <td>31215297</td>\n",
       "      <td>-0.05</td>\n",
       "      <td>1432984982</td>\n",
       "      <td>140.4939</td>\n",
       "      <td>27.8281</td>\n",
       "      <td>0.685455</td>\n",
       "      <td>158.956100</td>\n",
       "      <td>-54.4986</td>\n",
       "      <td>1249.037451</td>\n",
       "      <td>2015-05-30T11:43:52.365012Z</td>\n",
       "      <td>2015-05-30T11:23:02.850000Z</td>\n",
       "      <td>-0.477561</td>\n",
       "      <td>83.852251</td>\n",
       "      <td>MCQ</td>\n",
       "      <td>10.657603</td>\n",
       "      <td>2</td>\n",
       "    </tr>\n",
       "  </tbody>\n",
       "</table>\n",
       "</div>"
      ],
      "text/plain": [
       "              source_block  station_block  residual  event_number  \\\n",
       "event_number                                                        \n",
       "1432984982        32606322       31202001      2.90    1432984982   \n",
       "1432984982        32606322       31202288      1.25    1432984982   \n",
       "1432984982        32606322       31202312     -1.10    1432984982   \n",
       "1432984982        32606322       31202579      3.40    1432984982   \n",
       "1432984982        32606322       31215297     -0.05    1432984982   \n",
       "\n",
       "              source_longitude  source_latitude  source_depth  \\\n",
       "event_number                                                    \n",
       "1432984982            140.4939          27.8281      0.685455   \n",
       "1432984982            140.4939          27.8281      0.685455   \n",
       "1432984982            140.4939          27.8281      0.685455   \n",
       "1432984982            140.4939          27.8281      0.685455   \n",
       "1432984982            140.4939          27.8281      0.685455   \n",
       "\n",
       "              station_longitude  station_latitude  observed_tt  \\\n",
       "event_number                                                     \n",
       "1432984982            98.923700            2.6938   819.746399   \n",
       "1432984982            97.575500            1.3039   844.099789   \n",
       "1432984982           127.366699            0.7718   568.003507   \n",
       "1432984982           101.039597            0.3262   817.421657   \n",
       "1432984982           158.956100          -54.4986  1249.037451   \n",
       "\n",
       "                      station_arrive_time            event_origin_time  \\\n",
       "event_number                                                             \n",
       "1432984982    2015-05-30T11:36:42.687217Z  2015-05-30T11:23:02.850000Z   \n",
       "1432984982    2015-05-30T11:37:07.016591Z  2015-05-30T11:23:02.850000Z   \n",
       "1432984982    2015-05-30T11:32:30.885531Z  2015-05-30T11:23:02.850000Z   \n",
       "1432984982    2015-05-30T11:36:40.332916Z  2015-05-30T11:23:02.850000Z   \n",
       "1432984982    2015-05-30T11:43:52.365012Z  2015-05-30T11:23:02.850000Z   \n",
       "\n",
       "              ellipcorr  locations2degrees station_code        SNR  P_or_S  \n",
       "event_number                                                                \n",
       "1432984982    -0.090818          46.934750          PSI   8.959045       2  \n",
       "1432984982    -0.066802          48.845823          GSI   2.992600       2  \n",
       "1432984982    -0.032025          29.836069         TNTI   6.134965       2  \n",
       "1432984982    -0.061259          46.726402         BKNI   3.142516       2  \n",
       "1432984982    -0.477561          83.852251          MCQ  10.657603       2  "
      ]
     },
     "execution_count": 77,
     "metadata": {},
     "output_type": "execute_result"
    }
   ],
   "source": [
    "pdf2.tail(n=5)"
   ]
  },
  {
   "cell_type": "code",
   "execution_count": 78,
   "metadata": {},
   "outputs": [
    {
     "data": {
      "text/plain": [
       "source_block                                130852\n",
       "station_block                               148491\n",
       "residual                                     -4.65\n",
       "event_number                            1246259593\n",
       "source_longitude                           132.798\n",
       "source_latitude                            -0.5568\n",
       "source_depth                                     0\n",
       "station_longitude                          132.473\n",
       "station_latitude                          -12.6869\n",
       "observed_tt                                306.109\n",
       "station_arrive_time    2009-06-29T07:18:20.010137Z\n",
       "event_origin_time      2009-06-29T07:13:13.230000Z\n",
       "ellipcorr                                -0.671383\n",
       "locations2degrees                          12.1344\n",
       "station_code                                   KDU\n",
       "SNR                                        1.65487\n",
       "P_or_S                                           2\n",
       "Name: 1246259593, dtype: object"
      ]
     },
     "execution_count": 78,
     "metadata": {},
     "output_type": "execute_result"
    }
   ],
   "source": [
    "pdf2.iloc[1]  # now .loc[2] does not work"
   ]
  },
  {
   "cell_type": "code",
   "execution_count": 79,
   "metadata": {},
   "outputs": [],
   "source": [
    "#pdf2.loc[215]"
   ]
  },
  {
   "cell_type": "code",
   "execution_count": null,
   "metadata": {},
   "outputs": [],
   "source": []
  },
  {
   "cell_type": "code",
   "execution_count": null,
   "metadata": {},
   "outputs": [],
   "source": []
  },
  {
   "cell_type": "code",
   "execution_count": null,
   "metadata": {},
   "outputs": [],
   "source": []
  }
 ],
 "metadata": {
  "kernelspec": {
   "display_name": "Python 3",
   "language": "python",
   "name": "python3"
  },
  "language_info": {
   "codemirror_mode": {
    "name": "ipython",
    "version": 3
   },
   "file_extension": ".py",
   "mimetype": "text/x-python",
   "name": "python",
   "nbconvert_exporter": "python",
   "pygments_lexer": "ipython3",
   "version": "3.6.4"
  }
 },
 "nbformat": 4,
 "nbformat_minor": 2
}
