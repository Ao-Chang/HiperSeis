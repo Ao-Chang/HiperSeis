{
 "cells": [
  {
   "cell_type": "markdown",
   "metadata": {},
   "source": [
    "# Use Pandas to Sort event arrivals csv files \n",
    "## according to max SNR value\n",
    "\n",
    "##  Fei Zhang\n",
    "### 2018-07-26"
   ]
  },
  {
   "cell_type": "code",
   "execution_count": 1,
   "metadata": {},
   "outputs": [],
   "source": [
    "SOURCE_LATITUDE = 'source_latitude'\n",
    "SOURCE_LONGITUDE = 'source_longitude'\n",
    "STATION_LATITUDE = 'station_latitude'\n",
    "STATION_LONGITUDE = 'station_longitude'\n",
    "STATION_CODE = 'station_code'\n",
    "FREQUENCY = 'no_of_summary_rays'\n",
    "\n",
    "column_names = ['source_block', 'station_block',\n",
    "                'residual', 'event_number',\n",
    "                SOURCE_LONGITUDE, SOURCE_LATITUDE,\n",
    "                'source_depth', STATION_LONGITUDE, STATION_LATITUDE,\n",
    "                'observed_tt', 'locations2degrees', STATION_CODE, 'SNR', 'P_or_S']"
   ]
  },
  {
   "cell_type": "code",
   "execution_count": 2,
   "metadata": {},
   "outputs": [],
   "source": [
    "import pandas as pd\n",
    "import matplotlib.pyplot as plt"
   ]
  },
  {
   "cell_type": "code",
   "execution_count": 3,
   "metadata": {},
   "outputs": [
    {
     "name": "stdout",
     "output_type": "stream",
     "text": [
      "/g/data1a/ha3/fxz547/Githubz/passive-seismic/notebooks\r\n"
     ]
    }
   ],
   "source": [
    "!pwd\n"
   ]
  },
  {
   "cell_type": "code",
   "execution_count": 4,
   "metadata": {},
   "outputs": [],
   "source": [
    "inputcsv='/g/data1a/ha3/fxz547/travel_time_tomography/run5_events_1deg/outfile_S.csv'\n",
    "\n",
    "residual_cutoff=10.0\n",
    "sortedfile='sortedfile_S.csv'\n",
    "sortedfile2= 'sortedfile2_S.csv'\n",
    "\n",
    "inputcsv='/g/data/ha3/fxz547/Githubz/passive-seismic/seismic_events_arrivals_P_0.csv'\n",
    "#inputcsv='/g/data/ha3/fxz547/Githubz/passive-seismic/tempworks/outfile_P.csv'\n",
    "residual_cutoff=5.0\n",
    "sortedfile='sortedfile_P.csv'\n",
    "sortedfile2= 'sortedfile2_P.csv'\n"
   ]
  },
  {
   "cell_type": "code",
   "execution_count": 5,
   "metadata": {},
   "outputs": [
    {
     "name": "stdout",
     "output_type": "stream",
     "text": [
      "2018-07-26 16:22:57,757 | INFO : Hello world!\n"
     ]
    }
   ],
   "source": [
    "import logging\n",
    "import sys\n",
    "logging.basicConfig(format='%(asctime)s | %(levelname)s : %(message)s',\n",
    "                     level=logging.DEBUG, stream=sys.stdout)\n",
    "\n",
    "log =logging.getLogger()\n",
    "log.info('Hello world!')\n",
    "\n",
    "# def sort(output_file, sorted_file, residual_cutoff):\n",
    "def sort2(output_file, sorted_file, residual_cutoff):\n",
    "    \"\"\"\n",
    "    Sort and filter the arrivals.\n",
    "\n",
    "    Sort based on the source and station block number.\n",
    "    There are two stages of filtering:\n",
    "    1. Filter based on the time residual\n",
    "    2. Filter based on best Signal_to_Noise-Ratio seismic wave: If there are multiple source and station block combinations, we keep the\n",
    "    row corresponding to the highest SNR value\n",
    "\n",
    "    cmdline usage:\n",
    "    cluster sort outfile_P.csv 5. -s sorted_P.csv\n",
    "    cluster sort outfile_S.csv 10. -s sorted_S.csv\n",
    "\n",
    "\n",
    "    :param output_file: output file from the gather stage (eg, outfile_P.csv)\n",
    "    :param sorted_file: str, optional\n",
    "        optional sorted output file path. Default: sorted.csv.\n",
    "    :param residual_cutoff: float\n",
    "        residual seconds above which arrivals are rejected.\n",
    "    :return: pandas_df\n",
    "    \"\"\"\n",
    "\n",
    "    print('Filtering arrivals.')\n",
    "\n",
    "    cluster_data = pd.read_csv(output_file, header=None,\n",
    "                               names=column_names)\n",
    "    \n",
    "    log.debug(\"Number of records in initial CSV file = %s\", cluster_data.shape[0])\n",
    "    \n",
    "    cluster_data = cluster_data[abs(cluster_data['residual'])\n",
    "                                < residual_cutoff]\n",
    "    \n",
    "    log.debug(\"Number of records after residual cutoff = %s\", cluster_data.shape[0])\n",
    "    \n",
    "    cluster_data['source_depth'] = cluster_data['source_depth'] / 1000.0  # convert to KM?\n",
    "    \n",
    "    # groupby sorts by default\n",
    "    # cluster_data.sort_values(by=['source_block', 'station_block'],\n",
    "    #                          inplace=True)\n",
    "\n",
    "    log.info('Sorting arrivals.')\n",
    "\n",
    "    # groupby automatically sorts\n",
    "#     med = cluster_data.groupby(\n",
    "#         by=['source_block', 'station_block']\n",
    "#         )['observed_tt'].quantile(q=.5, interpolation='lower').reset_index() # use a seq index:0,1,2,....\n",
    "\n",
    "#  SNR value max\n",
    "    med = cluster_data.groupby(\n",
    "        by=['source_block', 'station_block']\n",
    "        )['SNR'].max().reset_index() # use a seq index:0,1,2,.\n",
    "    \n",
    "    # med dataframe has three columns:  [source_block, station_block ,observed_tt]\n",
    "    \n",
    "    final_df = pd.merge(cluster_data, med, how='right',\n",
    "                        on=['source_block', 'station_block', 'SNR'],\n",
    "                        sort=True,\n",
    "                        right_index=True)\n",
    "\n",
    "    # Confirmed: drop_duplicates required due to possibly duplicated picks in\n",
    "    #  the original engdahl events\n",
    "    # refer: https://github.com/GeoscienceAustralia/passive-seismic/issues/51\n",
    "    # The subset is specified as we have some stations that are very close?\n",
    "    \n",
    "    log.debug(\"Number of records before drop_duplicates = %s\", final_df.shape[0])\n",
    "    \n",
    "    final_df.drop_duplicates(subset=['source_block', 'station_block'],\n",
    "                             keep='first',  inplace=True)\n",
    "\n",
    "    final_df.to_csv(sorted_file, header=False, index=False, sep=',')\n",
    "    \n",
    "    log.debug(\"Number of records in final pdf = %s\", final_df.shape[0])\n",
    "    return final_df\n"
   ]
  },
  {
   "cell_type": "code",
   "execution_count": 6,
   "metadata": {},
   "outputs": [
    {
     "name": "stdout",
     "output_type": "stream",
     "text": [
      "Filtering arrivals.\n",
      "2018-07-26 16:22:57,974 | DEBUG : Number of records in initial CSV file = 61721\n",
      "2018-07-26 16:22:57,983 | DEBUG : Number of records after residual cutoff = 55208\n",
      "2018-07-26 16:22:58,051 | INFO : Sorting arrivals.\n",
      "2018-07-26 16:22:58,228 | DEBUG : Number of records before drop_duplicates = 21015\n",
      "2018-07-26 16:22:58,687 | DEBUG : Number of records in final pdf = 20217\n"
     ]
    }
   ],
   "source": [
    "finalpdf = sort2(inputcsv,sortedfile,residual_cutoff)"
   ]
  },
  {
   "cell_type": "code",
   "execution_count": 7,
   "metadata": {},
   "outputs": [
    {
     "data": {
      "text/html": [
       "<div>\n",
       "<style scoped>\n",
       "    .dataframe tbody tr th:only-of-type {\n",
       "        vertical-align: middle;\n",
       "    }\n",
       "\n",
       "    .dataframe tbody tr th {\n",
       "        vertical-align: top;\n",
       "    }\n",
       "\n",
       "    .dataframe thead th {\n",
       "        text-align: right;\n",
       "    }\n",
       "</style>\n",
       "<table border=\"1\" class=\"dataframe\">\n",
       "  <thead>\n",
       "    <tr style=\"text-align: right;\">\n",
       "      <th></th>\n",
       "      <th>source_block</th>\n",
       "      <th>station_block</th>\n",
       "      <th>residual</th>\n",
       "      <th>event_number</th>\n",
       "      <th>source_longitude</th>\n",
       "      <th>source_latitude</th>\n",
       "      <th>source_depth</th>\n",
       "      <th>station_longitude</th>\n",
       "      <th>station_latitude</th>\n",
       "      <th>observed_tt</th>\n",
       "      <th>locations2degrees</th>\n",
       "      <th>station_code</th>\n",
       "      <th>SNR</th>\n",
       "      <th>P_or_S</th>\n",
       "    </tr>\n",
       "  </thead>\n",
       "  <tbody>\n",
       "    <tr>\n",
       "      <th>59635</th>\n",
       "      <td>11724</td>\n",
       "      <td>33247</td>\n",
       "      <td>-0.65</td>\n",
       "      <td>1000000</td>\n",
       "      <td>-156.7609</td>\n",
       "      <td>57.8058</td>\n",
       "      <td>0.8516</td>\n",
       "      <td>125.9880</td>\n",
       "      <td>-2.0497</td>\n",
       "      <td>756.913111</td>\n",
       "      <td>84.995550</td>\n",
       "      <td>SANI</td>\n",
       "      <td>7.998570</td>\n",
       "      <td>1</td>\n",
       "    </tr>\n",
       "    <tr>\n",
       "      <th>36014</th>\n",
       "      <td>12404</td>\n",
       "      <td>41192</td>\n",
       "      <td>-3.60</td>\n",
       "      <td>1000000</td>\n",
       "      <td>163.1160</td>\n",
       "      <td>55.8446</td>\n",
       "      <td>4.9000</td>\n",
       "      <td>151.1690</td>\n",
       "      <td>-23.8421</td>\n",
       "      <td>728.187172</td>\n",
       "      <td>80.333831</td>\n",
       "      <td>GD1S</td>\n",
       "      <td>45.106867</td>\n",
       "      <td>1</td>\n",
       "    </tr>\n",
       "    <tr>\n",
       "      <th>22255</th>\n",
       "      <td>12687</td>\n",
       "      <td>41529</td>\n",
       "      <td>-0.85</td>\n",
       "      <td>1000000</td>\n",
       "      <td>86.3612</td>\n",
       "      <td>54.5181</td>\n",
       "      <td>0.0000</td>\n",
       "      <td>128.2960</td>\n",
       "      <td>-25.0362</td>\n",
       "      <td>767.631732</td>\n",
       "      <td>87.327802</td>\n",
       "      <td>WRKA</td>\n",
       "      <td>5.338475</td>\n",
       "      <td>1</td>\n",
       "    </tr>\n",
       "    <tr>\n",
       "      <th>48388</th>\n",
       "      <td>13047</td>\n",
       "      <td>39735</td>\n",
       "      <td>-3.45</td>\n",
       "      <td>1000000</td>\n",
       "      <td>85.9557</td>\n",
       "      <td>54.3016</td>\n",
       "      <td>0.0000</td>\n",
       "      <td>134.3650</td>\n",
       "      <td>-19.9250</td>\n",
       "      <td>753.668826</td>\n",
       "      <td>84.985918</td>\n",
       "      <td>WC2</td>\n",
       "      <td>18.897711</td>\n",
       "      <td>1</td>\n",
       "    </tr>\n",
       "    <tr>\n",
       "      <th>25845</th>\n",
       "      <td>13048</td>\n",
       "      <td>36852</td>\n",
       "      <td>-0.25</td>\n",
       "      <td>1000000</td>\n",
       "      <td>87.3762</td>\n",
       "      <td>54.1473</td>\n",
       "      <td>0.0000</td>\n",
       "      <td>130.8423</td>\n",
       "      <td>-12.4667</td>\n",
       "      <td>709.382878</td>\n",
       "      <td>76.107566</td>\n",
       "      <td>DPH</td>\n",
       "      <td>10.647652</td>\n",
       "      <td>1</td>\n",
       "    </tr>\n",
       "  </tbody>\n",
       "</table>\n",
       "</div>"
      ],
      "text/plain": [
       "       source_block  station_block  residual  event_number  source_longitude  \\\n",
       "59635         11724          33247     -0.65       1000000         -156.7609   \n",
       "36014         12404          41192     -3.60       1000000          163.1160   \n",
       "22255         12687          41529     -0.85       1000000           86.3612   \n",
       "48388         13047          39735     -3.45       1000000           85.9557   \n",
       "25845         13048          36852     -0.25       1000000           87.3762   \n",
       "\n",
       "       source_latitude  source_depth  station_longitude  station_latitude  \\\n",
       "59635          57.8058        0.8516           125.9880           -2.0497   \n",
       "36014          55.8446        4.9000           151.1690          -23.8421   \n",
       "22255          54.5181        0.0000           128.2960          -25.0362   \n",
       "48388          54.3016        0.0000           134.3650          -19.9250   \n",
       "25845          54.1473        0.0000           130.8423          -12.4667   \n",
       "\n",
       "       observed_tt  locations2degrees station_code        SNR  P_or_S  \n",
       "59635   756.913111          84.995550         SANI   7.998570       1  \n",
       "36014   728.187172          80.333831         GD1S  45.106867       1  \n",
       "22255   767.631732          87.327802         WRKA   5.338475       1  \n",
       "48388   753.668826          84.985918          WC2  18.897711       1  \n",
       "25845   709.382878          76.107566          DPH  10.647652       1  "
      ]
     },
     "execution_count": 7,
     "metadata": {},
     "output_type": "execute_result"
    }
   ],
   "source": [
    "finalpdf.head()"
   ]
  },
  {
   "cell_type": "code",
   "execution_count": 8,
   "metadata": {},
   "outputs": [
    {
     "data": {
      "text/plain": [
       "(20217, 14)"
      ]
     },
     "execution_count": 8,
     "metadata": {},
     "output_type": "execute_result"
    }
   ],
   "source": [
    "finalpdf.shape"
   ]
  },
  {
   "cell_type": "code",
   "execution_count": null,
   "metadata": {},
   "outputs": [],
   "source": []
  },
  {
   "cell_type": "code",
   "execution_count": null,
   "metadata": {},
   "outputs": [],
   "source": []
  },
  {
   "cell_type": "code",
   "execution_count": null,
   "metadata": {},
   "outputs": [],
   "source": []
  },
  {
   "cell_type": "code",
   "execution_count": 9,
   "metadata": {},
   "outputs": [
    {
     "name": "stdout",
     "output_type": "stream",
     "text": [
      "Filtering arrivals.\n",
      "2018-07-26 16:22:58,807 | DEBUG : Number of records in initial CSV file = 20217\n",
      "2018-07-26 16:22:58,812 | DEBUG : Number of records after residual cutoff = 20217\n",
      "2018-07-26 16:22:58,814 | INFO : Sorting arrivals.\n",
      "2018-07-26 16:22:58,883 | DEBUG : Number of records before drop_duplicates = 20217\n",
      "2018-07-26 16:22:59,249 | DEBUG : Number of records in final pdf = 20217\n"
     ]
    }
   ],
   "source": [
    "#sort again\n",
    "pdf2=sort2(sortedfile, sortedfile2, residual_cutoff )"
   ]
  },
  {
   "cell_type": "code",
   "execution_count": 10,
   "metadata": {},
   "outputs": [
    {
     "data": {
      "text/html": [
       "<div>\n",
       "<style scoped>\n",
       "    .dataframe tbody tr th:only-of-type {\n",
       "        vertical-align: middle;\n",
       "    }\n",
       "\n",
       "    .dataframe tbody tr th {\n",
       "        vertical-align: top;\n",
       "    }\n",
       "\n",
       "    .dataframe thead th {\n",
       "        text-align: right;\n",
       "    }\n",
       "</style>\n",
       "<table border=\"1\" class=\"dataframe\">\n",
       "  <thead>\n",
       "    <tr style=\"text-align: right;\">\n",
       "      <th></th>\n",
       "      <th>source_block</th>\n",
       "      <th>station_block</th>\n",
       "      <th>residual</th>\n",
       "      <th>event_number</th>\n",
       "      <th>source_longitude</th>\n",
       "      <th>source_latitude</th>\n",
       "      <th>source_depth</th>\n",
       "      <th>station_longitude</th>\n",
       "      <th>station_latitude</th>\n",
       "      <th>observed_tt</th>\n",
       "      <th>locations2degrees</th>\n",
       "      <th>station_code</th>\n",
       "      <th>SNR</th>\n",
       "      <th>P_or_S</th>\n",
       "    </tr>\n",
       "  </thead>\n",
       "  <tbody>\n",
       "    <tr>\n",
       "      <th>0</th>\n",
       "      <td>11724</td>\n",
       "      <td>33247</td>\n",
       "      <td>-0.65</td>\n",
       "      <td>1000000</td>\n",
       "      <td>-156.7609</td>\n",
       "      <td>57.8058</td>\n",
       "      <td>0.000852</td>\n",
       "      <td>125.9880</td>\n",
       "      <td>-2.0497</td>\n",
       "      <td>756.913111</td>\n",
       "      <td>84.995550</td>\n",
       "      <td>SANI</td>\n",
       "      <td>7.998570</td>\n",
       "      <td>1</td>\n",
       "    </tr>\n",
       "    <tr>\n",
       "      <th>1</th>\n",
       "      <td>12404</td>\n",
       "      <td>41192</td>\n",
       "      <td>-3.60</td>\n",
       "      <td>1000000</td>\n",
       "      <td>163.1160</td>\n",
       "      <td>55.8446</td>\n",
       "      <td>0.004900</td>\n",
       "      <td>151.1690</td>\n",
       "      <td>-23.8421</td>\n",
       "      <td>728.187172</td>\n",
       "      <td>80.333831</td>\n",
       "      <td>GD1S</td>\n",
       "      <td>45.106867</td>\n",
       "      <td>1</td>\n",
       "    </tr>\n",
       "    <tr>\n",
       "      <th>2</th>\n",
       "      <td>12687</td>\n",
       "      <td>41529</td>\n",
       "      <td>-0.85</td>\n",
       "      <td>1000000</td>\n",
       "      <td>86.3612</td>\n",
       "      <td>54.5181</td>\n",
       "      <td>0.000000</td>\n",
       "      <td>128.2960</td>\n",
       "      <td>-25.0362</td>\n",
       "      <td>767.631732</td>\n",
       "      <td>87.327802</td>\n",
       "      <td>WRKA</td>\n",
       "      <td>5.338475</td>\n",
       "      <td>1</td>\n",
       "    </tr>\n",
       "    <tr>\n",
       "      <th>3</th>\n",
       "      <td>13047</td>\n",
       "      <td>39735</td>\n",
       "      <td>-3.45</td>\n",
       "      <td>1000000</td>\n",
       "      <td>85.9557</td>\n",
       "      <td>54.3016</td>\n",
       "      <td>0.000000</td>\n",
       "      <td>134.3650</td>\n",
       "      <td>-19.9250</td>\n",
       "      <td>753.668826</td>\n",
       "      <td>84.985918</td>\n",
       "      <td>WC2</td>\n",
       "      <td>18.897711</td>\n",
       "      <td>1</td>\n",
       "    </tr>\n",
       "    <tr>\n",
       "      <th>4</th>\n",
       "      <td>13048</td>\n",
       "      <td>36852</td>\n",
       "      <td>-0.25</td>\n",
       "      <td>1000000</td>\n",
       "      <td>87.3762</td>\n",
       "      <td>54.1473</td>\n",
       "      <td>0.000000</td>\n",
       "      <td>130.8423</td>\n",
       "      <td>-12.4667</td>\n",
       "      <td>709.382878</td>\n",
       "      <td>76.107566</td>\n",
       "      <td>DPH</td>\n",
       "      <td>10.647652</td>\n",
       "      <td>1</td>\n",
       "    </tr>\n",
       "  </tbody>\n",
       "</table>\n",
       "</div>"
      ],
      "text/plain": [
       "   source_block  station_block  residual  event_number  source_longitude  \\\n",
       "0         11724          33247     -0.65       1000000         -156.7609   \n",
       "1         12404          41192     -3.60       1000000          163.1160   \n",
       "2         12687          41529     -0.85       1000000           86.3612   \n",
       "3         13047          39735     -3.45       1000000           85.9557   \n",
       "4         13048          36852     -0.25       1000000           87.3762   \n",
       "\n",
       "   source_latitude  source_depth  station_longitude  station_latitude  \\\n",
       "0          57.8058      0.000852           125.9880           -2.0497   \n",
       "1          55.8446      0.004900           151.1690          -23.8421   \n",
       "2          54.5181      0.000000           128.2960          -25.0362   \n",
       "3          54.3016      0.000000           134.3650          -19.9250   \n",
       "4          54.1473      0.000000           130.8423          -12.4667   \n",
       "\n",
       "   observed_tt  locations2degrees station_code        SNR  P_or_S  \n",
       "0   756.913111          84.995550         SANI   7.998570       1  \n",
       "1   728.187172          80.333831         GD1S  45.106867       1  \n",
       "2   767.631732          87.327802         WRKA   5.338475       1  \n",
       "3   753.668826          84.985918          WC2  18.897711       1  \n",
       "4   709.382878          76.107566          DPH  10.647652       1  "
      ]
     },
     "execution_count": 10,
     "metadata": {},
     "output_type": "execute_result"
    }
   ],
   "source": [
    "pdf2.head()"
   ]
  },
  {
   "cell_type": "code",
   "execution_count": 11,
   "metadata": {},
   "outputs": [
    {
     "data": {
      "text/plain": [
       "(20217, 14)"
      ]
     },
     "execution_count": 11,
     "metadata": {},
     "output_type": "execute_result"
    }
   ],
   "source": [
    "pdf2.shape"
   ]
  },
  {
   "cell_type": "code",
   "execution_count": 12,
   "metadata": {},
   "outputs": [
    {
     "data": {
      "text/plain": [
       "<matplotlib.axes._subplots.AxesSubplot at 0x7f367c466320>"
      ]
     },
     "execution_count": 12,
     "metadata": {},
     "output_type": "execute_result"
    },
    {
     "name": "stdout",
     "output_type": "stream",
     "text": [
      "2018-07-26 16:22:59,376 | DEBUG : findfont: Matching :family=sans-serif:style=normal:variant=normal:weight=normal:stretch=normal:size=10.0 to DejaVu Sans ('/g/data/ha3/fxz547/anaconda2/lib/python2.7/site-packages/matplotlib/mpl-data/fonts/ttf/DejaVuSans.ttf') with score of 0.050000\n"
     ]
    },
    {
     "data": {
      "text/plain": [
       "<Figure size 432x288 with 0 Axes>"
      ]
     },
     "metadata": {},
     "output_type": "display_data"
    },
    {
     "data": {
      "image/png": "[encoded data removed]",
      "text/plain": [
       "<Figure size 432x288 with 1 Axes>"
      ]
     },
     "metadata": {},
     "output_type": "display_data"
    }
   ],
   "source": [
    "plt.figure(); pdf2.plot(x='event_number', y='observed_tt')\n",
    "# plt.figure(); pdf2.plot(x='event_number', y='source_depth')\n",
    "# plt.figure(); pdf2.plot(x='event_number', y='locations2degrees')\n",
    "# plt.figure(); pdf2.plot(x='event_number', y='residual')  # less than +-10s\n",
    "\n"
   ]
  },
  {
   "cell_type": "code",
   "execution_count": 13,
   "metadata": {},
   "outputs": [
    {
     "data": {
      "text/plain": [
       "<matplotlib.axes._subplots.AxesSubplot at 0x7f367c3f2f98>"
      ]
     },
     "execution_count": 13,
     "metadata": {},
     "output_type": "execute_result"
    },
    {
     "data": {
      "text/plain": [
       "<Figure size 432x288 with 0 Axes>"
      ]
     },
     "metadata": {},
     "output_type": "display_data"
    },
    {
     "data": {
      "image/png": "[encoded data removed]",
      "text/plain": [
       "<Figure size 432x288 with 1 Axes>"
      ]
     },
     "metadata": {},
     "output_type": "display_data"
    }
   ],
   "source": [
    "plt.figure(); pdf2.plot.scatter(x='source_block', y='station_block')"
   ]
  },
  {
   "cell_type": "code",
   "execution_count": 14,
   "metadata": {},
   "outputs": [
    {
     "data": {
      "text/plain": [
       "<matplotlib.axes._subplots.AxesSubplot at 0x7f3653eedf98>"
      ]
     },
     "execution_count": 14,
     "metadata": {},
     "output_type": "execute_result"
    },
    {
     "data": {
      "text/plain": [
       "<Figure size 432x288 with 0 Axes>"
      ]
     },
     "metadata": {},
     "output_type": "display_data"
    },
    {
     "data": {
      "image/png": "[encoded data removed]",
      "text/plain": [
       "<Figure size 432x288 with 1 Axes>"
      ]
     },
     "metadata": {},
     "output_type": "display_data"
    }
   ],
   "source": [
    "plt.figure(); pdf2.plot.scatter(x='source_longitude', y='source_latitude')"
   ]
  },
  {
   "cell_type": "code",
   "execution_count": 15,
   "metadata": {},
   "outputs": [
    {
     "data": {
      "text/plain": [
       "<matplotlib.axes._subplots.AxesSubplot at 0x7f3653e8c400>"
      ]
     },
     "execution_count": 15,
     "metadata": {},
     "output_type": "execute_result"
    },
    {
     "data": {
      "text/plain": [
       "<Figure size 432x288 with 0 Axes>"
      ]
     },
     "metadata": {},
     "output_type": "display_data"
    },
    {
     "data": {
      "image/png": "[encoded data removed]",
      "text/plain": [
       "<Figure size 432x288 with 1 Axes>"
      ]
     },
     "metadata": {},
     "output_type": "display_data"
    }
   ],
   "source": [
    "plt.figure(); pdf2.plot.scatter(x='station_longitude', y='station_latitude')"
   ]
  },
  {
   "cell_type": "code",
   "execution_count": 16,
   "metadata": {},
   "outputs": [],
   "source": [
    " med = pdf2.groupby(by=['source_block', 'station_block'])[\n",
    "        'observed_tt'].quantile(q=.5, interpolation='lower').reset_index()"
   ]
  },
  {
   "cell_type": "code",
   "execution_count": 17,
   "metadata": {},
   "outputs": [
    {
     "data": {
      "text/html": [
       "<div>\n",
       "<style scoped>\n",
       "    .dataframe tbody tr th:only-of-type {\n",
       "        vertical-align: middle;\n",
       "    }\n",
       "\n",
       "    .dataframe tbody tr th {\n",
       "        vertical-align: top;\n",
       "    }\n",
       "\n",
       "    .dataframe thead th {\n",
       "        text-align: right;\n",
       "    }\n",
       "</style>\n",
       "<table border=\"1\" class=\"dataframe\">\n",
       "  <thead>\n",
       "    <tr style=\"text-align: right;\">\n",
       "      <th></th>\n",
       "      <th>source_block</th>\n",
       "      <th>station_block</th>\n",
       "      <th>observed_tt</th>\n",
       "    </tr>\n",
       "  </thead>\n",
       "  <tbody>\n",
       "    <tr>\n",
       "      <th>0</th>\n",
       "      <td>11724</td>\n",
       "      <td>33247</td>\n",
       "      <td>756.913111</td>\n",
       "    </tr>\n",
       "    <tr>\n",
       "      <th>1</th>\n",
       "      <td>12404</td>\n",
       "      <td>41192</td>\n",
       "      <td>728.187172</td>\n",
       "    </tr>\n",
       "    <tr>\n",
       "      <th>2</th>\n",
       "      <td>12687</td>\n",
       "      <td>41529</td>\n",
       "      <td>767.631732</td>\n",
       "    </tr>\n",
       "    <tr>\n",
       "      <th>3</th>\n",
       "      <td>13047</td>\n",
       "      <td>39735</td>\n",
       "      <td>753.668826</td>\n",
       "    </tr>\n",
       "    <tr>\n",
       "      <th>4</th>\n",
       "      <td>13048</td>\n",
       "      <td>36852</td>\n",
       "      <td>709.382878</td>\n",
       "    </tr>\n",
       "  </tbody>\n",
       "</table>\n",
       "</div>"
      ],
      "text/plain": [
       "   source_block  station_block  observed_tt\n",
       "0         11724          33247   756.913111\n",
       "1         12404          41192   728.187172\n",
       "2         12687          41529   767.631732\n",
       "3         13047          39735   753.668826\n",
       "4         13048          36852   709.382878"
      ]
     },
     "execution_count": 17,
     "metadata": {},
     "output_type": "execute_result"
    }
   ],
   "source": [
    "med.head()"
   ]
  },
  {
   "cell_type": "code",
   "execution_count": 18,
   "metadata": {},
   "outputs": [
    {
     "data": {
      "text/plain": [
       "(20217, 3)"
      ]
     },
     "execution_count": 18,
     "metadata": {},
     "output_type": "execute_result"
    }
   ],
   "source": [
    "med.shape"
   ]
  },
  {
   "cell_type": "code",
   "execution_count": 19,
   "metadata": {},
   "outputs": [],
   "source": [
    "med2 = pdf2.groupby(\n",
    "        by=['source_block', 'station_block'] )['SNR'].max().reset_index() # use a seq index:0,1,2,."
   ]
  },
  {
   "cell_type": "code",
   "execution_count": 20,
   "metadata": {},
   "outputs": [
    {
     "data": {
      "text/html": [
       "<div>\n",
       "<style scoped>\n",
       "    .dataframe tbody tr th:only-of-type {\n",
       "        vertical-align: middle;\n",
       "    }\n",
       "\n",
       "    .dataframe tbody tr th {\n",
       "        vertical-align: top;\n",
       "    }\n",
       "\n",
       "    .dataframe thead th {\n",
       "        text-align: right;\n",
       "    }\n",
       "</style>\n",
       "<table border=\"1\" class=\"dataframe\">\n",
       "  <thead>\n",
       "    <tr style=\"text-align: right;\">\n",
       "      <th></th>\n",
       "      <th>source_block</th>\n",
       "      <th>station_block</th>\n",
       "      <th>SNR</th>\n",
       "    </tr>\n",
       "  </thead>\n",
       "  <tbody>\n",
       "    <tr>\n",
       "      <th>0</th>\n",
       "      <td>11724</td>\n",
       "      <td>33247</td>\n",
       "      <td>7.998570</td>\n",
       "    </tr>\n",
       "    <tr>\n",
       "      <th>1</th>\n",
       "      <td>12404</td>\n",
       "      <td>41192</td>\n",
       "      <td>45.106867</td>\n",
       "    </tr>\n",
       "    <tr>\n",
       "      <th>2</th>\n",
       "      <td>12687</td>\n",
       "      <td>41529</td>\n",
       "      <td>5.338475</td>\n",
       "    </tr>\n",
       "    <tr>\n",
       "      <th>3</th>\n",
       "      <td>13047</td>\n",
       "      <td>39735</td>\n",
       "      <td>18.897711</td>\n",
       "    </tr>\n",
       "    <tr>\n",
       "      <th>4</th>\n",
       "      <td>13048</td>\n",
       "      <td>36852</td>\n",
       "      <td>10.647652</td>\n",
       "    </tr>\n",
       "  </tbody>\n",
       "</table>\n",
       "</div>"
      ],
      "text/plain": [
       "   source_block  station_block        SNR\n",
       "0         11724          33247   7.998570\n",
       "1         12404          41192  45.106867\n",
       "2         12687          41529   5.338475\n",
       "3         13047          39735  18.897711\n",
       "4         13048          36852  10.647652"
      ]
     },
     "execution_count": 20,
     "metadata": {},
     "output_type": "execute_result"
    }
   ],
   "source": [
    "med2.head()"
   ]
  },
  {
   "cell_type": "code",
   "execution_count": 21,
   "metadata": {},
   "outputs": [
    {
     "data": {
      "text/plain": [
       "(20217, 3)"
      ]
     },
     "execution_count": 21,
     "metadata": {},
     "output_type": "execute_result"
    }
   ],
   "source": [
    "med2.shape"
   ]
  },
  {
   "cell_type": "code",
   "execution_count": 22,
   "metadata": {},
   "outputs": [
    {
     "data": {
      "text/plain": [
       "source_block           12687\n",
       "station_block          41529\n",
       "residual               -0.85\n",
       "event_number         1000000\n",
       "source_longitude     86.3612\n",
       "source_latitude      54.5181\n",
       "source_depth               0\n",
       "station_longitude    128.296\n",
       "station_latitude    -25.0362\n",
       "observed_tt          767.632\n",
       "locations2degrees    87.3278\n",
       "station_code            WRKA\n",
       "SNR                  5.33848\n",
       "P_or_S                     1\n",
       "Name: 2, dtype: object"
      ]
     },
     "execution_count": 22,
     "metadata": {},
     "output_type": "execute_result"
    }
   ],
   "source": [
    "pdf2.loc[2]"
   ]
  },
  {
   "cell_type": "code",
   "execution_count": 23,
   "metadata": {},
   "outputs": [
    {
     "data": {
      "text/plain": [
       "source_block           12404\n",
       "station_block          41192\n",
       "residual                -3.6\n",
       "event_number         1000000\n",
       "source_longitude     163.116\n",
       "source_latitude      55.8446\n",
       "source_depth          0.0049\n",
       "station_longitude    151.169\n",
       "station_latitude    -23.8421\n",
       "observed_tt          728.187\n",
       "locations2degrees    80.3338\n",
       "station_code            GD1S\n",
       "SNR                  45.1069\n",
       "P_or_S                     1\n",
       "Name: 1, dtype: object"
      ]
     },
     "execution_count": 23,
     "metadata": {},
     "output_type": "execute_result"
    }
   ],
   "source": [
    "pdf2.iloc[1]"
   ]
  },
  {
   "cell_type": "code",
   "execution_count": 24,
   "metadata": {},
   "outputs": [
    {
     "data": {
      "text/html": [
       "<div>\n",
       "<style scoped>\n",
       "    .dataframe tbody tr th:only-of-type {\n",
       "        vertical-align: middle;\n",
       "    }\n",
       "\n",
       "    .dataframe tbody tr th {\n",
       "        vertical-align: top;\n",
       "    }\n",
       "\n",
       "    .dataframe thead th {\n",
       "        text-align: right;\n",
       "    }\n",
       "</style>\n",
       "<table border=\"1\" class=\"dataframe\">\n",
       "  <thead>\n",
       "    <tr style=\"text-align: right;\">\n",
       "      <th></th>\n",
       "      <th>source_block</th>\n",
       "      <th>station_block</th>\n",
       "      <th>residual</th>\n",
       "      <th>event_number</th>\n",
       "      <th>source_longitude</th>\n",
       "      <th>source_latitude</th>\n",
       "      <th>source_depth</th>\n",
       "      <th>station_longitude</th>\n",
       "      <th>station_latitude</th>\n",
       "      <th>observed_tt</th>\n",
       "      <th>locations2degrees</th>\n",
       "      <th>SNR</th>\n",
       "      <th>P_or_S</th>\n",
       "    </tr>\n",
       "  </thead>\n",
       "  <tbody>\n",
       "    <tr>\n",
       "      <th>count</th>\n",
       "      <td>2.021700e+04</td>\n",
       "      <td>20217.000000</td>\n",
       "      <td>20217.000000</td>\n",
       "      <td>20217.0</td>\n",
       "      <td>20217.000000</td>\n",
       "      <td>20217.000000</td>\n",
       "      <td>20217.000000</td>\n",
       "      <td>20217.000000</td>\n",
       "      <td>20217.000000</td>\n",
       "      <td>20217.000000</td>\n",
       "      <td>20217.000000</td>\n",
       "      <td>20217.000000</td>\n",
       "      <td>20217.0</td>\n",
       "    </tr>\n",
       "    <tr>\n",
       "      <th>mean</th>\n",
       "      <td>1.025126e+06</td>\n",
       "      <td>39479.035663</td>\n",
       "      <td>0.100183</td>\n",
       "      <td>1000000.0</td>\n",
       "      <td>74.338275</td>\n",
       "      <td>-4.403576</td>\n",
       "      <td>0.152888</td>\n",
       "      <td>134.931952</td>\n",
       "      <td>-19.241482</td>\n",
       "      <td>378.989894</td>\n",
       "      <td>34.759751</td>\n",
       "      <td>12.589794</td>\n",
       "      <td>1.0</td>\n",
       "    </tr>\n",
       "    <tr>\n",
       "      <th>std</th>\n",
       "      <td>1.175646e+06</td>\n",
       "      <td>4374.404155</td>\n",
       "      <td>1.743226</td>\n",
       "      <td>0.0</td>\n",
       "      <td>126.745451</td>\n",
       "      <td>20.655543</td>\n",
       "      <td>0.181127</td>\n",
       "      <td>13.855362</td>\n",
       "      <td>12.117398</td>\n",
       "      <td>168.493896</td>\n",
       "      <td>19.414958</td>\n",
       "      <td>29.405383</td>\n",
       "      <td>0.0</td>\n",
       "    </tr>\n",
       "    <tr>\n",
       "      <th>min</th>\n",
       "      <td>1.172400e+04</td>\n",
       "      <td>20652.000000</td>\n",
       "      <td>-5.000000</td>\n",
       "      <td>1000000.0</td>\n",
       "      <td>-179.995400</td>\n",
       "      <td>-77.188300</td>\n",
       "      <td>0.000000</td>\n",
       "      <td>96.835000</td>\n",
       "      <td>-54.498200</td>\n",
       "      <td>1.299029</td>\n",
       "      <td>0.048722</td>\n",
       "      <td>1.501894</td>\n",
       "      <td>1.0</td>\n",
       "    </tr>\n",
       "    <tr>\n",
       "      <th>25%</th>\n",
       "      <td>2.287350e+05</td>\n",
       "      <td>37212.000000</td>\n",
       "      <td>-1.000000</td>\n",
       "      <td>1000000.0</td>\n",
       "      <td>95.765500</td>\n",
       "      <td>-18.159400</td>\n",
       "      <td>0.031130</td>\n",
       "      <td>128.059000</td>\n",
       "      <td>-26.636900</td>\n",
       "      <td>272.284353</td>\n",
       "      <td>20.596656</td>\n",
       "      <td>5.117718</td>\n",
       "      <td>1.0</td>\n",
       "    </tr>\n",
       "    <tr>\n",
       "      <th>50%</th>\n",
       "      <td>4.875810e+05</td>\n",
       "      <td>40081.000000</td>\n",
       "      <td>0.250000</td>\n",
       "      <td>1000000.0</td>\n",
       "      <td>127.165000</td>\n",
       "      <td>-6.174000</td>\n",
       "      <td>0.070841</td>\n",
       "      <td>134.387000</td>\n",
       "      <td>-20.557200</td>\n",
       "      <td>377.550082</td>\n",
       "      <td>32.993765</td>\n",
       "      <td>7.079041</td>\n",
       "      <td>1.0</td>\n",
       "    </tr>\n",
       "    <tr>\n",
       "      <th>75%</th>\n",
       "      <td>1.277457e+06</td>\n",
       "      <td>42265.000000</td>\n",
       "      <td>1.250000</td>\n",
       "      <td>1000000.0</td>\n",
       "      <td>147.847200</td>\n",
       "      <td>2.625500</td>\n",
       "      <td>0.193268</td>\n",
       "      <td>145.692000</td>\n",
       "      <td>-12.686200</td>\n",
       "      <td>489.041211</td>\n",
       "      <td>46.509515</td>\n",
       "      <td>11.448977</td>\n",
       "      <td>1.0</td>\n",
       "    </tr>\n",
       "    <tr>\n",
       "      <th>max</th>\n",
       "      <td>4.381382e+06</td>\n",
       "      <td>52000.000000</td>\n",
       "      <td>5.000000</td>\n",
       "      <td>1000000.0</td>\n",
       "      <td>179.988600</td>\n",
       "      <td>80.800000</td>\n",
       "      <td>0.668000</td>\n",
       "      <td>174.705000</td>\n",
       "      <td>32.809000</td>\n",
       "      <td>779.922265</td>\n",
       "      <td>89.988315</td>\n",
       "      <td>1307.319956</td>\n",
       "      <td>1.0</td>\n",
       "    </tr>\n",
       "  </tbody>\n",
       "</table>\n",
       "</div>"
      ],
      "text/plain": [
       "       source_block  station_block      residual  event_number  \\\n",
       "count  2.021700e+04   20217.000000  20217.000000       20217.0   \n",
       "mean   1.025126e+06   39479.035663      0.100183     1000000.0   \n",
       "std    1.175646e+06    4374.404155      1.743226           0.0   \n",
       "min    1.172400e+04   20652.000000     -5.000000     1000000.0   \n",
       "25%    2.287350e+05   37212.000000     -1.000000     1000000.0   \n",
       "50%    4.875810e+05   40081.000000      0.250000     1000000.0   \n",
       "75%    1.277457e+06   42265.000000      1.250000     1000000.0   \n",
       "max    4.381382e+06   52000.000000      5.000000     1000000.0   \n",
       "\n",
       "       source_longitude  source_latitude  source_depth  station_longitude  \\\n",
       "count      20217.000000     20217.000000  20217.000000       20217.000000   \n",
       "mean          74.338275        -4.403576      0.152888         134.931952   \n",
       "std          126.745451        20.655543      0.181127          13.855362   \n",
       "min         -179.995400       -77.188300      0.000000          96.835000   \n",
       "25%           95.765500       -18.159400      0.031130         128.059000   \n",
       "50%          127.165000        -6.174000      0.070841         134.387000   \n",
       "75%          147.847200         2.625500      0.193268         145.692000   \n",
       "max          179.988600        80.800000      0.668000         174.705000   \n",
       "\n",
       "       station_latitude   observed_tt  locations2degrees           SNR  \\\n",
       "count      20217.000000  20217.000000       20217.000000  20217.000000   \n",
       "mean         -19.241482    378.989894          34.759751     12.589794   \n",
       "std           12.117398    168.493896          19.414958     29.405383   \n",
       "min          -54.498200      1.299029           0.048722      1.501894   \n",
       "25%          -26.636900    272.284353          20.596656      5.117718   \n",
       "50%          -20.557200    377.550082          32.993765      7.079041   \n",
       "75%          -12.686200    489.041211          46.509515     11.448977   \n",
       "max           32.809000    779.922265          89.988315   1307.319956   \n",
       "\n",
       "        P_or_S  \n",
       "count  20217.0  \n",
       "mean       1.0  \n",
       "std        0.0  \n",
       "min        1.0  \n",
       "25%        1.0  \n",
       "50%        1.0  \n",
       "75%        1.0  \n",
       "max        1.0  "
      ]
     },
     "execution_count": 24,
     "metadata": {},
     "output_type": "execute_result"
    }
   ],
   "source": [
    "pdf2.describe()"
   ]
  },
  {
   "cell_type": "code",
   "execution_count": 25,
   "metadata": {},
   "outputs": [
    {
     "data": {
      "text/plain": [
       "Int64Index([    0,     1,     2,     3,     4,     5,     6,     7,     8,\n",
       "                9,\n",
       "            ...\n",
       "            20207, 20208, 20209, 20210, 20211, 20212, 20213, 20214, 20215,\n",
       "            20216],\n",
       "           dtype='int64', length=20217)"
      ]
     },
     "execution_count": 25,
     "metadata": {},
     "output_type": "execute_result"
    }
   ],
   "source": [
    "pdf2.index"
   ]
  },
  {
   "cell_type": "code",
   "execution_count": 26,
   "metadata": {},
   "outputs": [],
   "source": [
    "pdf2.index=pdf2.event_number"
   ]
  },
  {
   "cell_type": "code",
   "execution_count": 27,
   "metadata": {},
   "outputs": [
    {
     "data": {
      "text/plain": [
       "Int64Index([1000000, 1000000, 1000000, 1000000, 1000000, 1000000, 1000000,\n",
       "            1000000, 1000000, 1000000,\n",
       "            ...\n",
       "            1000000, 1000000, 1000000, 1000000, 1000000, 1000000, 1000000,\n",
       "            1000000, 1000000, 1000000],\n",
       "           dtype='int64', name='event_number', length=20217)"
      ]
     },
     "execution_count": 27,
     "metadata": {},
     "output_type": "execute_result"
    }
   ],
   "source": [
    "pdf2.index"
   ]
  },
  {
   "cell_type": "code",
   "execution_count": 28,
   "metadata": {},
   "outputs": [
    {
     "data": {
      "text/html": [
       "<div>\n",
       "<style scoped>\n",
       "    .dataframe tbody tr th:only-of-type {\n",
       "        vertical-align: middle;\n",
       "    }\n",
       "\n",
       "    .dataframe tbody tr th {\n",
       "        vertical-align: top;\n",
       "    }\n",
       "\n",
       "    .dataframe thead th {\n",
       "        text-align: right;\n",
       "    }\n",
       "</style>\n",
       "<table border=\"1\" class=\"dataframe\">\n",
       "  <thead>\n",
       "    <tr style=\"text-align: right;\">\n",
       "      <th></th>\n",
       "      <th>source_block</th>\n",
       "      <th>station_block</th>\n",
       "      <th>residual</th>\n",
       "      <th>event_number</th>\n",
       "      <th>source_longitude</th>\n",
       "      <th>source_latitude</th>\n",
       "      <th>source_depth</th>\n",
       "      <th>station_longitude</th>\n",
       "      <th>station_latitude</th>\n",
       "      <th>observed_tt</th>\n",
       "      <th>locations2degrees</th>\n",
       "      <th>station_code</th>\n",
       "      <th>SNR</th>\n",
       "      <th>P_or_S</th>\n",
       "    </tr>\n",
       "    <tr>\n",
       "      <th>event_number</th>\n",
       "      <th></th>\n",
       "      <th></th>\n",
       "      <th></th>\n",
       "      <th></th>\n",
       "      <th></th>\n",
       "      <th></th>\n",
       "      <th></th>\n",
       "      <th></th>\n",
       "      <th></th>\n",
       "      <th></th>\n",
       "      <th></th>\n",
       "      <th></th>\n",
       "      <th></th>\n",
       "      <th></th>\n",
       "    </tr>\n",
       "  </thead>\n",
       "  <tbody>\n",
       "    <tr>\n",
       "      <th>1000000</th>\n",
       "      <td>4252142</td>\n",
       "      <td>41175</td>\n",
       "      <td>1.70</td>\n",
       "      <td>1000000</td>\n",
       "      <td>-179.2167</td>\n",
       "      <td>-21.3814</td>\n",
       "      <td>0.650</td>\n",
       "      <td>133.970</td>\n",
       "      <td>-23.6652</td>\n",
       "      <td>426.822943</td>\n",
       "      <td>43.111803</td>\n",
       "      <td>AS07</td>\n",
       "      <td>3.690084</td>\n",
       "      <td>1</td>\n",
       "    </tr>\n",
       "    <tr>\n",
       "      <th>1000000</th>\n",
       "      <td>4253939</td>\n",
       "      <td>44792</td>\n",
       "      <td>-2.60</td>\n",
       "      <td>1000000</td>\n",
       "      <td>178.3830</td>\n",
       "      <td>-25.6856</td>\n",
       "      <td>0.650</td>\n",
       "      <td>150.874</td>\n",
       "      <td>-34.4070</td>\n",
       "      <td>275.011179</td>\n",
       "      <td>25.260917</td>\n",
       "      <td>WOLH</td>\n",
       "      <td>12.666174</td>\n",
       "      <td>1</td>\n",
       "    </tr>\n",
       "    <tr>\n",
       "      <th>1000000</th>\n",
       "      <td>4317660</td>\n",
       "      <td>41192</td>\n",
       "      <td>-0.15</td>\n",
       "      <td>1000000</td>\n",
       "      <td>178.7000</td>\n",
       "      <td>-23.4676</td>\n",
       "      <td>0.662</td>\n",
       "      <td>151.169</td>\n",
       "      <td>-23.8421</td>\n",
       "      <td>276.342134</td>\n",
       "      <td>25.180727</td>\n",
       "      <td>GD1S</td>\n",
       "      <td>30.381803</td>\n",
       "      <td>1</td>\n",
       "    </tr>\n",
       "    <tr>\n",
       "      <th>1000000</th>\n",
       "      <td>4381382</td>\n",
       "      <td>41175</td>\n",
       "      <td>1.10</td>\n",
       "      <td>1000000</td>\n",
       "      <td>-179.0704</td>\n",
       "      <td>-19.6998</td>\n",
       "      <td>0.668</td>\n",
       "      <td>133.970</td>\n",
       "      <td>-23.6652</td>\n",
       "      <td>429.152508</td>\n",
       "      <td>43.627759</td>\n",
       "      <td>AS07</td>\n",
       "      <td>7.415461</td>\n",
       "      <td>1</td>\n",
       "    </tr>\n",
       "    <tr>\n",
       "      <th>1000000</th>\n",
       "      <td>4381382</td>\n",
       "      <td>41910</td>\n",
       "      <td>-1.30</td>\n",
       "      <td>1000000</td>\n",
       "      <td>-179.0704</td>\n",
       "      <td>-19.6998</td>\n",
       "      <td>0.668</td>\n",
       "      <td>148.758</td>\n",
       "      <td>-26.4853</td>\n",
       "      <td>318.822995</td>\n",
       "      <td>30.275572</td>\n",
       "      <td>RMQ</td>\n",
       "      <td>5.494720</td>\n",
       "      <td>1</td>\n",
       "    </tr>\n",
       "  </tbody>\n",
       "</table>\n",
       "</div>"
      ],
      "text/plain": [
       "              source_block  station_block  residual  event_number  \\\n",
       "event_number                                                        \n",
       "1000000            4252142          41175      1.70       1000000   \n",
       "1000000            4253939          44792     -2.60       1000000   \n",
       "1000000            4317660          41192     -0.15       1000000   \n",
       "1000000            4381382          41175      1.10       1000000   \n",
       "1000000            4381382          41910     -1.30       1000000   \n",
       "\n",
       "              source_longitude  source_latitude  source_depth  \\\n",
       "event_number                                                    \n",
       "1000000              -179.2167         -21.3814         0.650   \n",
       "1000000               178.3830         -25.6856         0.650   \n",
       "1000000               178.7000         -23.4676         0.662   \n",
       "1000000              -179.0704         -19.6998         0.668   \n",
       "1000000              -179.0704         -19.6998         0.668   \n",
       "\n",
       "              station_longitude  station_latitude  observed_tt  \\\n",
       "event_number                                                     \n",
       "1000000                 133.970          -23.6652   426.822943   \n",
       "1000000                 150.874          -34.4070   275.011179   \n",
       "1000000                 151.169          -23.8421   276.342134   \n",
       "1000000                 133.970          -23.6652   429.152508   \n",
       "1000000                 148.758          -26.4853   318.822995   \n",
       "\n",
       "              locations2degrees station_code        SNR  P_or_S  \n",
       "event_number                                                     \n",
       "1000000               43.111803         AS07   3.690084       1  \n",
       "1000000               25.260917         WOLH  12.666174       1  \n",
       "1000000               25.180727         GD1S  30.381803       1  \n",
       "1000000               43.627759         AS07   7.415461       1  \n",
       "1000000               30.275572          RMQ   5.494720       1  "
      ]
     },
     "execution_count": 28,
     "metadata": {},
     "output_type": "execute_result"
    }
   ],
   "source": [
    "pdf2.tail(n=5)"
   ]
  },
  {
   "cell_type": "code",
   "execution_count": 29,
   "metadata": {},
   "outputs": [
    {
     "data": {
      "text/plain": [
       "source_block           12404\n",
       "station_block          41192\n",
       "residual                -3.6\n",
       "event_number         1000000\n",
       "source_longitude     163.116\n",
       "source_latitude      55.8446\n",
       "source_depth          0.0049\n",
       "station_longitude    151.169\n",
       "station_latitude    -23.8421\n",
       "observed_tt          728.187\n",
       "locations2degrees    80.3338\n",
       "station_code            GD1S\n",
       "SNR                  45.1069\n",
       "P_or_S                     1\n",
       "Name: 1000000, dtype: object"
      ]
     },
     "execution_count": 29,
     "metadata": {},
     "output_type": "execute_result"
    }
   ],
   "source": [
    "pdf2.iloc[1]  # now .loc[2] does not work"
   ]
  },
  {
   "cell_type": "code",
   "execution_count": 30,
   "metadata": {},
   "outputs": [],
   "source": [
    "#pdf2.loc[215]"
   ]
  },
  {
   "cell_type": "code",
   "execution_count": null,
   "metadata": {},
   "outputs": [],
   "source": []
  },
  {
   "cell_type": "code",
   "execution_count": null,
   "metadata": {},
   "outputs": [],
   "source": []
  },
  {
   "cell_type": "code",
   "execution_count": null,
   "metadata": {},
   "outputs": [],
   "source": []
  }
 ],
 "metadata": {
  "kernelspec": {
   "display_name": "Python 3",
   "language": "python",
   "name": "python3"
  },
  "language_info": {
   "codemirror_mode": {
    "name": "ipython",
    "version": 3
   },
   "file_extension": ".py",
   "mimetype": "text/x-python",
   "name": "python",
   "nbconvert_exporter": "python",
   "pygments_lexer": "ipython3",
   "version": "3.6.4"
  }
 },
 "nbformat": 4,
 "nbformat_minor": 2
}
