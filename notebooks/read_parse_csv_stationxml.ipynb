{
 "cells": [
  {
   "cell_type": "markdown",
   "metadata": {},
   "source": [
    "# Read modified station XML files and pandas-parse CSV data\n",
    "\n",
    "\n",
    "## Fei Zhang\n",
    "\n",
    "2020-03-13"
   ]
  },
  {
   "cell_type": "markdown",
   "metadata": {},
   "source": [
    "## How to build a stationxml file (with extra elements) from scratch"
   ]
  },
  {
   "cell_type": "code",
   "execution_count": 1,
   "metadata": {},
   "outputs": [],
   "source": [
    "from obspy import read_inventory\n",
    "\n",
    "our_new_station_xml =\"/g/data/ha3/Passive/SHARED_DATA/GPS_Clock/StationXML_with_time_corrections2/OA.CF28_station_inv_modified.xml\"\n",
    "\n",
    "\n",
    "our_inv = read_inventory(our_new_station_xml)\n",
    "# print(our_inv.networks[0].stations[0].extra)\n",
    "\n",
    "csv_str = our_inv.networks[0].stations[0].extra.gpsclockcorrection.value"
   ]
  },
  {
   "cell_type": "code",
   "execution_count": 2,
   "metadata": {},
   "outputs": [
    {
     "name": "stdout",
     "output_type": "stream",
     "text": [
      "<class 'str'>\n"
     ]
    }
   ],
   "source": [
    "print(type(csv_str))"
   ]
  },
  {
   "cell_type": "code",
   "execution_count": 3,
   "metadata": {},
   "outputs": [
    {
     "name": "stdout",
     "output_type": "stream",
     "text": [
      "    net   sta        date  clock_correction\n",
      "0    OA  CF28  2018-01-04         -1.337581\n",
      "1    OA  CF28  2018-01-05         -1.110450\n",
      "2    OA  CF28  2018-01-06         -0.903248\n",
      "3    OA  CF28  2018-01-07         -0.715187\n",
      "4    OA  CF28  2018-01-08         -0.545490\n",
      "5    OA  CF28  2018-01-09         -0.393391\n",
      "6    OA  CF28  2018-01-10         -0.258134\n",
      "7    OA  CF28  2018-01-11         -0.138975\n",
      "8    OA  CF28  2018-01-12         -0.035181\n",
      "9    OA  CF28  2018-01-13          0.053971\n",
      "10   OA  CF28  2018-01-14          0.129191\n",
      "11   OA  CF28  2018-01-15          0.191179\n",
      "12   OA  CF28  2018-01-16          0.240624\n",
      "13   OA  CF28  2018-01-17          0.278204\n",
      "14   OA  CF28  2018-01-18          0.304586\n",
      "15   OA  CF28  2018-01-19          0.320424\n",
      "16   OA  CF28  2018-01-20          0.326364\n",
      "17   OA  CF28  2018-01-21          0.323039\n",
      "18   OA  CF28  2018-01-22          0.311071\n",
      "19   OA  CF28  2018-01-23          0.291072\n",
      "20   OA  CF28  2018-01-24          0.263641\n",
      "21   OA  CF28  2018-01-25          0.229369\n",
      "22   OA  CF28  2018-01-26          0.188832\n",
      "23   OA  CF28  2018-01-27          0.142597\n",
      "24   OA  CF28  2018-01-28          0.091221\n",
      "25   OA  CF28  2018-01-29          0.035249\n",
      "26   OA  CF28  2018-01-30         -0.024787\n",
      "27   OA  CF28  2018-01-31         -0.088363\n",
      "28   OA  CF28  2018-02-01         -0.154967\n",
      "29   OA  CF28  2018-02-02         -0.224101\n",
      "..   ..   ...         ...               ...\n",
      "202  OA  CF28  2018-07-26         -0.326506\n",
      "203  OA  CF28  2018-07-27         -0.329813\n",
      "204  OA  CF28  2018-07-28         -0.333120\n",
      "205  OA  CF28  2018-07-29         -0.336427\n",
      "206  OA  CF28  2018-07-30         -0.339733\n",
      "207  OA  CF28  2018-07-31         -0.343040\n",
      "208  OA  CF28  2018-08-01         -0.346347\n",
      "209  OA  CF28  2018-08-02         -0.349654\n",
      "210  OA  CF28  2018-08-03         -0.352961\n",
      "211  OA  CF28  2018-08-04         -0.356267\n",
      "212  OA  CF28  2018-08-05         -0.359574\n",
      "213  OA  CF28  2018-08-06         -0.362881\n",
      "214  OA  CF28  2018-08-07         -0.366188\n",
      "215  OA  CF28  2018-08-08         -0.369494\n",
      "216  OA  CF28  2018-08-09         -0.372801\n",
      "217  OA  CF28  2018-08-10         -0.376108\n",
      "218  OA  CF28  2018-08-11         -0.379415\n",
      "219  OA  CF28  2018-08-12         -0.382722\n",
      "220  OA  CF28  2018-08-13         -0.386028\n",
      "221  OA  CF28  2018-08-14         -0.389335\n",
      "222  OA  CF28  2018-08-15         -0.392642\n",
      "223  OA  CF28  2018-08-16         -0.395949\n",
      "224  OA  CF28  2018-08-17         -0.399255\n",
      "225  OA  CF28  2018-08-18         -0.402562\n",
      "226  OA  CF28  2018-08-19         -0.405869\n",
      "227  OA  CF28  2018-08-20         -0.409176\n",
      "228  OA  CF28  2018-08-21         -0.412483\n",
      "229  OA  CF28  2018-08-22         -0.415789\n",
      "230  OA  CF28  2018-08-23         -0.419096\n",
      "231  OA  CF28  2018-08-24         -0.422403\n",
      "\n",
      "[232 rows x 4 columns]\n"
     ]
    }
   ],
   "source": [
    "import io\n",
    "import pandas as pd\n",
    "\n",
    "df_clock_correction = pd.read_csv(io.StringIO(csv_str))\n",
    "\n",
    "\n",
    "print(df_clock_correction)"
   ]
  },
  {
   "cell_type": "code",
   "execution_count": 4,
   "metadata": {},
   "outputs": [
    {
     "name": "stdout",
     "output_type": "stream",
     "text": [
      "net,sta,date,clock_correction\n"
     ]
    }
   ],
   "source": [
    "header_line =csv_str.split('\\n')[0]\n",
    "print (header_line)"
   ]
  },
  {
   "cell_type": "code",
   "execution_count": null,
   "metadata": {},
   "outputs": [],
   "source": []
  },
  {
   "cell_type": "code",
   "execution_count": null,
   "metadata": {},
   "outputs": [],
   "source": []
  },
  {
   "cell_type": "code",
   "execution_count": 5,
   "metadata": {},
   "outputs": [
    {
     "name": "stdout",
     "output_type": "stream",
     "text": [
      "  net   sta        date  clock_correction\n",
      "0  OA  CF28  2018-01-04         -1.337581\n",
      "1  OA  CF28  2018-01-05         -1.110450\n",
      "2  OA  CF28  2018-01-06         -0.903248\n",
      "3  OA  CF28  2018-01-07         -0.715187\n",
      "4  OA  CF28  2018-01-08         -0.545490\n"
     ]
    }
   ],
   "source": [
    "print (df_clock_correction.head())"
   ]
  },
  {
   "cell_type": "code",
   "execution_count": 6,
   "metadata": {},
   "outputs": [
    {
     "name": "stdout",
     "output_type": "stream",
     "text": [
      "    net   sta        date  clock_correction\n",
      "227  OA  CF28  2018-08-20         -0.409176\n",
      "228  OA  CF28  2018-08-21         -0.412483\n",
      "229  OA  CF28  2018-08-22         -0.415789\n",
      "230  OA  CF28  2018-08-23         -0.419096\n",
      "231  OA  CF28  2018-08-24         -0.422403\n"
     ]
    }
   ],
   "source": [
    "print (df_clock_correction.tail())"
   ]
  },
  {
   "cell_type": "code",
   "execution_count": 7,
   "metadata": {},
   "outputs": [
    {
     "data": {
      "text/html": [
       "<div>\n",
       "<style scoped>\n",
       "    .dataframe tbody tr th:only-of-type {\n",
       "        vertical-align: middle;\n",
       "    }\n",
       "\n",
       "    .dataframe tbody tr th {\n",
       "        vertical-align: top;\n",
       "    }\n",
       "\n",
       "    .dataframe thead th {\n",
       "        text-align: right;\n",
       "    }\n",
       "</style>\n",
       "<table border=\"1\" class=\"dataframe\">\n",
       "  <thead>\n",
       "    <tr style=\"text-align: right;\">\n",
       "      <th></th>\n",
       "      <th>clock_correction</th>\n",
       "    </tr>\n",
       "  </thead>\n",
       "  <tbody>\n",
       "    <tr>\n",
       "      <th>count</th>\n",
       "      <td>232.000000</td>\n",
       "    </tr>\n",
       "    <tr>\n",
       "      <th>mean</th>\n",
       "      <td>5.270700</td>\n",
       "    </tr>\n",
       "    <tr>\n",
       "      <th>std</th>\n",
       "      <td>10.680244</td>\n",
       "    </tr>\n",
       "    <tr>\n",
       "      <th>min</th>\n",
       "      <td>-1.537359</td>\n",
       "    </tr>\n",
       "    <tr>\n",
       "      <th>25%</th>\n",
       "      <td>-0.383548</td>\n",
       "    </tr>\n",
       "    <tr>\n",
       "      <th>50%</th>\n",
       "      <td>-0.209116</td>\n",
       "    </tr>\n",
       "    <tr>\n",
       "      <th>75%</th>\n",
       "      <td>5.945104</td>\n",
       "    </tr>\n",
       "    <tr>\n",
       "      <th>max</th>\n",
       "      <td>41.845951</td>\n",
       "    </tr>\n",
       "  </tbody>\n",
       "</table>\n",
       "</div>"
      ],
      "text/plain": [
       "       clock_correction\n",
       "count        232.000000\n",
       "mean           5.270700\n",
       "std           10.680244\n",
       "min           -1.537359\n",
       "25%           -0.383548\n",
       "50%           -0.209116\n",
       "75%            5.945104\n",
       "max           41.845951"
      ]
     },
     "execution_count": 7,
     "metadata": {},
     "output_type": "execute_result"
    }
   ],
   "source": [
    "df_clock_correction.describe()\n"
   ]
  },
  {
   "cell_type": "code",
   "execution_count": 8,
   "metadata": {},
   "outputs": [
    {
     "data": {
      "text/plain": [
       "net                  object\n",
       "sta                  object\n",
       "date                 object\n",
       "clock_correction    float64\n",
       "dtype: object"
      ]
     },
     "execution_count": 8,
     "metadata": {},
     "output_type": "execute_result"
    }
   ],
   "source": [
    "df_clock_correction.dtypes"
   ]
  },
  {
   "cell_type": "code",
   "execution_count": null,
   "metadata": {},
   "outputs": [],
   "source": []
  },
  {
   "cell_type": "code",
   "execution_count": null,
   "metadata": {},
   "outputs": [],
   "source": []
  },
  {
   "cell_type": "code",
   "execution_count": null,
   "metadata": {},
   "outputs": [],
   "source": []
  },
  {
   "cell_type": "code",
   "execution_count": null,
   "metadata": {},
   "outputs": [],
   "source": []
  },
  {
   "cell_type": "code",
   "execution_count": null,
   "metadata": {},
   "outputs": [],
   "source": []
  }
 ],
 "metadata": {
  "kernelspec": {
   "display_name": "Python 3",
   "language": "python",
   "name": "python3"
  },
  "language_info": {
   "codemirror_mode": {
    "name": "ipython",
    "version": 3
   },
   "file_extension": ".py",
   "mimetype": "text/x-python",
   "name": "python",
   "nbconvert_exporter": "python",
   "pygments_lexer": "ipython3",
   "version": "3.5.2"
  }
 },
 "nbformat": 4,
 "nbformat_minor": 4
}
